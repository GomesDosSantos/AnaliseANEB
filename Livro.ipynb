{
 "cells": [
  {
   "cell_type": "code",
   "execution_count": 1,
   "metadata": {
    "pycharm": {
     "is_executing": false
    }
   },
   "outputs": [],
   "source": [
    "import pandas as pd\n",
    "import matplotlib as mplot"
   ]
  },
  {
   "cell_type": "code",
   "execution_count": 2,
   "metadata": {
    "pycharm": {
     "is_executing": false
    }
   },
   "outputs": [],
   "source": [
    "%matplotlib inline"
   ]
  },
  {
   "cell_type": "code",
   "execution_count": 3,
   "metadata": {
    "pycharm": {
     "is_executing": false
    }
   },
   "outputs": [],
   "source": [
    "pd.options.display.max_columns = 25\n",
    "pd.options.display.max_rows = 10"
   ]
  },
  {
   "cell_type": "markdown",
   "metadata": {},
   "source": [
    "### Arquivos extraídos do Microdados INEP"
   ]
  },
  {
   "cell_type": "code",
   "execution_count": 4,
   "metadata": {
    "pycharm": {
     "is_executing": false
    }
   },
   "outputs": [],
   "source": [
    "file_resp = '../dados/TS_ITEM.csv'\n",
    "file_alunos_3EM_ESC = '../dados/TS_ALUNO_3EM_ESC.csv'\n",
    "# file_alunos_3EM_AG = '../dados/TS_ALUNO_3EM_AG.csv'\n",
    "file_alunos_9EF = '../dados/TS_ALUNO_9EF.csv'\n",
    "file_alunos_5EF = '../dados/TS_ALUNO_5EF.csv'"
   ]
  },
  {
   "cell_type": "markdown",
   "metadata": {},
   "source": [
    "### Conjunto Definido de Colunas à Serem Utilizadas"
   ]
  },
  {
   "cell_type": "code",
   "execution_count": 5,
   "metadata": {},
   "outputs": [],
   "source": [
    "RESPOSTAS_INVALIDAS = ['X', '.', '*', ' ', '']"
   ]
  },
  {
   "cell_type": "markdown",
   "metadata": {
    "pycharm": {
     "name": "#%% md\n"
    }
   },
   "source": [
    "##### Identificadores das Colunas"
   ]
  },
  {
   "cell_type": "code",
   "execution_count": 6,
   "metadata": {
    "pycharm": {
     "is_executing": false,
     "name": "#%%\n"
    }
   },
   "outputs": [],
   "source": [
    "ID_SERIE = 'ID_SERIE'\n",
    "TIPO_PROVA = 'TIPO_PROVA'\n",
    "DISCIPLINA = 'DISCIPLINA'\n",
    "ID_SERIE_ITEM = 'ID_SERIE_ITEM'\n",
    "ID_BLOCO = 'ID_BLOCO'\n",
    "ID_POSICAO = 'ID_POSICAO'\n",
    "GABARITO = 'GABARITO'\n",
    "ID_PROVA_BRASIL = 'ID_PROVA_BRASIL' # Ano da Prova, pode ser ignorado, pois os arquivos são baixados por ano\n",
    "ID_UF = 'ID_UF'\n",
    "ID_MUNICIPIO = 'ID_MUNICIPIO'"
   ]
  },
  {
   "cell_type": "markdown",
   "metadata": {},
   "source": [
    "##### Preenchimento Prova"
   ]
  },
  {
   "cell_type": "code",
   "execution_count": 7,
   "metadata": {},
   "outputs": [],
   "source": [
    "ID_ALUNO = 'ID_ALUNO'\n",
    "IN_PREENCHIMENTO_PROVA = 'IN_PREENCHIMENTO_PROVA'\n",
    "IN_PRESENCA_PROVA = 'IN_PRESENCA_PROVA'\n",
    "ID_REGIAO = 'ID_REGIAO'\n",
    "ID_AREA = 'ID_AREA'"
   ]
  },
  {
   "cell_type": "markdown",
   "metadata": {},
   "source": [
    "##### Respostas da Prova"
   ]
  },
  {
   "cell_type": "code",
   "execution_count": 8,
   "metadata": {},
   "outputs": [],
   "source": [
    "ID_BLOCO_1 = 'ID_BLOCO_1'\n",
    "ID_BLOCO_2 = 'ID_BLOCO_2'\n",
    "TX_RESP_BLOCO_1_LP = 'TX_RESP_BLOCO_1_LP'\n",
    "TX_RESP_BLOCO_2_LP = 'TX_RESP_BLOCO_2_LP'\n",
    "TX_RESP_BLOCO_1_MT = 'TX_RESP_BLOCO_1_MT'\n",
    "TX_RESP_BLOCO_2_MT = 'TX_RESP_BLOCO_2_MT'"
   ]
  },
  {
   "cell_type": "markdown",
   "metadata": {},
   "source": [
    "##### Proeficiência do ALuno"
   ]
  },
  {
   "cell_type": "code",
   "execution_count": 9,
   "metadata": {},
   "outputs": [],
   "source": [
    "PESO_ALUNO_LP = 'PESO_ALUNO_LP'\n",
    "PESO_ALUNO_MT = 'PESO_ALUNO_MT'\n",
    "PROFICIENCIA_LP = 'PROFICIENCIA_LP'\n",
    "ERRO_PADRAO_LP = 'ERRO_PADRAO_LP'\n",
    "PROFICIENCIA_LP_SAEB = 'PROFICIENCIA_LP_SAEB'\n",
    "ERRO_PADRAO_LP_SAEB = 'ERRO_PADRAO_LP_SAEB'\n",
    "PROFICIENCIA_MT = 'PROFICIENCIA_MT'\n",
    "ERRO_PADRAO_MT = 'ERRO_PADRAO_MT'\n",
    "PROFICIENCIA_MT_SAEB = 'PROFICIENCIA_MT_SAEB'\n",
    "ERRO_PADRAO_MT_SAEB = 'ERRO_PADRAO_MT_SAEB'"
   ]
  },
  {
   "cell_type": "markdown",
   "metadata": {},
   "source": [
    "##### Questionário Socioeconômico"
   ]
  },
  {
   "cell_type": "code",
   "execution_count": 10,
   "metadata": {},
   "outputs": [],
   "source": [
    "IN_PREENCHIMENTO_QUESTIONARIO = 'IN_PREENCHIMENTO_QUESTIONARIO'\n",
    "TX_RESP_Q001 = 'TX_RESP_Q001' # Sexo\n",
    "TX_RESP_Q002 = 'TX_RESP_Q002' # Cor/Raça"
   ]
  },
  {
   "cell_type": "code",
   "execution_count": 11,
   "metadata": {
    "pycharm": {
     "is_executing": false
    }
   },
   "outputs": [],
   "source": [
    "colunas_resp = [\n",
    "    ID_SERIE, TIPO_PROVA, DISCIPLINA,\n",
    "    ID_SERIE_ITEM, ID_BLOCO, ID_POSICAO,\n",
    "    GABARITO\n",
    "]"
   ]
  },
  {
   "cell_type": "code",
   "execution_count": 12,
   "metadata": {
    "pycharm": {
     "is_executing": false
    }
   },
   "outputs": [],
   "source": [
    "colunas_aluno = [\n",
    "    ID_UF, ID_MUNICIPIO, ID_REGIAO, ID_AREA,\n",
    "    ID_SERIE, IN_PREENCHIMENTO_PROVA,\n",
    "    ID_BLOCO_1, ID_BLOCO_2,\n",
    "    TX_RESP_BLOCO_1_LP, TX_RESP_BLOCO_2_LP,\n",
    "    TX_RESP_BLOCO_1_MT, TX_RESP_BLOCO_2_MT,\n",
    "    PROFICIENCIA_LP,\n",
    "    PROFICIENCIA_MT,\n",
    "    TX_RESP_Q001,\n",
    "    TX_RESP_Q002\n",
    "]"
   ]
  },
  {
   "cell_type": "markdown",
   "metadata": {},
   "source": [
    "### Arquivos"
   ]
  },
  {
   "cell_type": "markdown",
   "metadata": {},
   "source": [
    "#### Gabarito, 666 itens corrigidos (+36KB)\n",
    "\n",
    "#### 5SEM,     2.624.019 provas (+360MB)\n",
    "#### 9SEM,     2.341.459 provas (+321MB)\n",
    "#### 3SEMAG,   1.966.507 provas (+270MB)\n",
    "###### 3SEMESC,  1.456.325 provas (+200MB)"
   ]
  },
  {
   "cell_type": "code",
   "execution_count": 13,
   "metadata": {
    "pycharm": {
     "is_executing": false
    }
   },
   "outputs": [],
   "source": [
    "df_gabarito = pd.read_csv(\n",
    "    file_resp,\n",
    "    delimiter=';', encoding='iso-8859-1',\n",
    "    usecols=colunas_resp,\n",
    "    # low_memory=True\n",
    ")"
   ]
  },
  {
   "cell_type": "code",
   "execution_count": 14,
   "metadata": {
    "pycharm": {
     "is_executing": false
    }
   },
   "outputs": [
    {
     "data": {
      "text/html": [
       "<div>\n",
       "<style scoped>\n",
       "    .dataframe tbody tr th:only-of-type {\n",
       "        vertical-align: middle;\n",
       "    }\n",
       "\n",
       "    .dataframe tbody tr th {\n",
       "        vertical-align: top;\n",
       "    }\n",
       "\n",
       "    .dataframe thead th {\n",
       "        text-align: right;\n",
       "    }\n",
       "</style>\n",
       "<table border=\"1\" class=\"dataframe\">\n",
       "  <thead>\n",
       "    <tr style=\"text-align: right;\">\n",
       "      <th></th>\n",
       "      <th>ID_SERIE</th>\n",
       "      <th>TIPO_PROVA</th>\n",
       "      <th>DISCIPLINA</th>\n",
       "      <th>ID_SERIE_ITEM</th>\n",
       "      <th>ID_BLOCO</th>\n",
       "      <th>ID_POSICAO</th>\n",
       "      <th>GABARITO</th>\n",
       "    </tr>\n",
       "  </thead>\n",
       "  <tbody>\n",
       "    <tr>\n",
       "      <th>315</th>\n",
       "      <td>5</td>\n",
       "      <td>Macrotipo 18 e 24</td>\n",
       "      <td>LP</td>\n",
       "      <td>5</td>\n",
       "      <td>1</td>\n",
       "      <td>5</td>\n",
       "      <td>B</td>\n",
       "    </tr>\n",
       "    <tr>\n",
       "      <th>584</th>\n",
       "      <td>9</td>\n",
       "      <td>Prova Regular</td>\n",
       "      <td>MT</td>\n",
       "      <td>9</td>\n",
       "      <td>3</td>\n",
       "      <td>10</td>\n",
       "      <td>C</td>\n",
       "    </tr>\n",
       "    <tr>\n",
       "      <th>201</th>\n",
       "      <td>3</td>\n",
       "      <td>Prova Regular</td>\n",
       "      <td>MT</td>\n",
       "      <td>9</td>\n",
       "      <td>7</td>\n",
       "      <td>7</td>\n",
       "      <td>C</td>\n",
       "    </tr>\n",
       "    <tr>\n",
       "      <th>2</th>\n",
       "      <td>3</td>\n",
       "      <td>Prova Regular</td>\n",
       "      <td>LP</td>\n",
       "      <td>3</td>\n",
       "      <td>1</td>\n",
       "      <td>3</td>\n",
       "      <td>E</td>\n",
       "    </tr>\n",
       "    <tr>\n",
       "      <th>116</th>\n",
       "      <td>3</td>\n",
       "      <td>Macrotipo 18 e 24</td>\n",
       "      <td>LP</td>\n",
       "      <td>3</td>\n",
       "      <td>2</td>\n",
       "      <td>13</td>\n",
       "      <td>C</td>\n",
       "    </tr>\n",
       "    <tr>\n",
       "      <th>419</th>\n",
       "      <td>5</td>\n",
       "      <td>Macrotipo 18 e 24</td>\n",
       "      <td>MT</td>\n",
       "      <td>5</td>\n",
       "      <td>1</td>\n",
       "      <td>5</td>\n",
       "      <td>A</td>\n",
       "    </tr>\n",
       "    <tr>\n",
       "      <th>232</th>\n",
       "      <td>3</td>\n",
       "      <td>Macrotipo 18 e 24</td>\n",
       "      <td>MT</td>\n",
       "      <td>3</td>\n",
       "      <td>2</td>\n",
       "      <td>12</td>\n",
       "      <td>E</td>\n",
       "    </tr>\n",
       "    <tr>\n",
       "      <th>361</th>\n",
       "      <td>5</td>\n",
       "      <td>Prova Regular</td>\n",
       "      <td>MT</td>\n",
       "      <td>5</td>\n",
       "      <td>3</td>\n",
       "      <td>7</td>\n",
       "      <td>B</td>\n",
       "    </tr>\n",
       "    <tr>\n",
       "      <th>486</th>\n",
       "      <td>9</td>\n",
       "      <td>Prova Regular</td>\n",
       "      <td>LP</td>\n",
       "      <td>9</td>\n",
       "      <td>5</td>\n",
       "      <td>3</td>\n",
       "      <td>D</td>\n",
       "    </tr>\n",
       "    <tr>\n",
       "      <th>618</th>\n",
       "      <td>9</td>\n",
       "      <td>Prova Regular</td>\n",
       "      <td>MT</td>\n",
       "      <td>9</td>\n",
       "      <td>6</td>\n",
       "      <td>5</td>\n",
       "      <td>D</td>\n",
       "    </tr>\n",
       "  </tbody>\n",
       "</table>\n",
       "</div>"
      ],
      "text/plain": [
       "     ID_SERIE         TIPO_PROVA DISCIPLINA  ID_SERIE_ITEM  ID_BLOCO  \\\n",
       "315         5  Macrotipo 18 e 24         LP              5         1   \n",
       "584         9      Prova Regular         MT              9         3   \n",
       "201         3      Prova Regular         MT              9         7   \n",
       "2           3      Prova Regular         LP              3         1   \n",
       "116         3  Macrotipo 18 e 24         LP              3         2   \n",
       "419         5  Macrotipo 18 e 24         MT              5         1   \n",
       "232         3  Macrotipo 18 e 24         MT              3         2   \n",
       "361         5      Prova Regular         MT              5         3   \n",
       "486         9      Prova Regular         LP              9         5   \n",
       "618         9      Prova Regular         MT              9         6   \n",
       "\n",
       "     ID_POSICAO GABARITO  \n",
       "315           5        B  \n",
       "584          10        C  \n",
       "201           7        C  \n",
       "2             3        E  \n",
       "116          13        C  \n",
       "419           5        A  \n",
       "232          12        E  \n",
       "361           7        B  \n",
       "486           3        D  \n",
       "618           5        D  "
      ]
     },
     "execution_count": 14,
     "metadata": {},
     "output_type": "execute_result"
    }
   ],
   "source": [
    "df_gabarito.sample(10)"
   ]
  },
  {
   "cell_type": "code",
   "execution_count": 15,
   "metadata": {
    "pycharm": {
     "is_executing": false
    }
   },
   "outputs": [
    {
     "name": "stdout",
     "output_type": "stream",
     "text": [
      "<class 'pandas.core.frame.DataFrame'>\n",
      "RangeIndex: 666 entries, 0 to 665\n",
      "Data columns (total 7 columns):\n",
      "ID_SERIE         666 non-null int64\n",
      "TIPO_PROVA       666 non-null object\n",
      "DISCIPLINA       666 non-null object\n",
      "ID_SERIE_ITEM    666 non-null int64\n",
      "ID_BLOCO         666 non-null int64\n",
      "ID_POSICAO       666 non-null int64\n",
      "GABARITO         666 non-null object\n",
      "dtypes: int64(4), object(3)\n",
      "memory usage: 36.5+ KB\n"
     ]
    }
   ],
   "source": [
    "df_gabarito.info()"
   ]
  },
  {
   "cell_type": "markdown",
   "metadata": {},
   "source": [
    "Geralmente 15 segundos para carregar o conjunto de dados selecionado"
   ]
  },
  {
   "cell_type": "code",
   "execution_count": 16,
   "metadata": {},
   "outputs": [],
   "source": [
    "sampling_number = None"
   ]
  },
  {
   "cell_type": "code",
   "execution_count": 17,
   "metadata": {
    "pycharm": {
     "is_executing": false
    }
   },
   "outputs": [],
   "source": [
    "df_aluno_5EF = pd.read_csv(\n",
    "    file_alunos_5EF,\n",
    "    delimiter=',', encoding='iso-8859-1',\n",
    "    usecols=colunas_aluno,\n",
    "    low_memory=True, \n",
    "    nrows=sampling_number  # Para fazer testes com os dados\n",
    ")"
   ]
  },
  {
   "cell_type": "code",
   "execution_count": 18,
   "metadata": {
    "pycharm": {
     "is_executing": false,
     "name": "#%%\n"
    }
   },
   "outputs": [],
   "source": [
    "df_aluno_9EF = pd.read_csv(\n",
    "    file_alunos_9EF,\n",
    "    delimiter=',', encoding='iso-8859-1',\n",
    "    usecols=colunas_aluno,\n",
    "    low_memory=True,\n",
    "    nrows=sampling_number  # Para fazer testes com os dados\n",
    ")"
   ]
  },
  {
   "cell_type": "code",
   "execution_count": 19,
   "metadata": {
    "pycharm": {
     "is_executing": false,
     "name": "#%%\n"
    }
   },
   "outputs": [],
   "source": [
    "# df_aluno_3EM_AG = pd.read_csv(\n",
    "#     file_alunos_3EM_AG,\n",
    "#     delimiter=',', encoding='iso-8859-1',\n",
    "#     usecols=colunas_aluno,\n",
    "#     low_memory=True, \n",
    "# )"
   ]
  },
  {
   "cell_type": "code",
   "execution_count": 20,
   "metadata": {
    "pycharm": {
     "is_executing": false,
     "name": "#%%\n"
    }
   },
   "outputs": [],
   "source": [
    "df_aluno_3EM = pd.read_csv(\n",
    "    file_alunos_3EM_ESC,\n",
    "    delimiter=',', encoding='iso-8859-1',\n",
    "    usecols=colunas_aluno,\n",
    "    low_memory=True,\n",
    "    nrows=sampling_number  # Para fazer testes com os dados\n",
    ")"
   ]
  },
  {
   "cell_type": "code",
   "execution_count": 21,
   "metadata": {
    "pycharm": {
     "is_executing": false
    },
    "scrolled": true
   },
   "outputs": [
    {
     "data": {
      "text/html": [
       "<div>\n",
       "<style scoped>\n",
       "    .dataframe tbody tr th:only-of-type {\n",
       "        vertical-align: middle;\n",
       "    }\n",
       "\n",
       "    .dataframe tbody tr th {\n",
       "        vertical-align: top;\n",
       "    }\n",
       "\n",
       "    .dataframe thead th {\n",
       "        text-align: right;\n",
       "    }\n",
       "</style>\n",
       "<table border=\"1\" class=\"dataframe\">\n",
       "  <thead>\n",
       "    <tr style=\"text-align: right;\">\n",
       "      <th></th>\n",
       "      <th>ID_REGIAO</th>\n",
       "      <th>ID_UF</th>\n",
       "      <th>ID_MUNICIPIO</th>\n",
       "      <th>ID_AREA</th>\n",
       "      <th>ID_SERIE</th>\n",
       "      <th>IN_PREENCHIMENTO_PROVA</th>\n",
       "      <th>ID_BLOCO_1</th>\n",
       "      <th>ID_BLOCO_2</th>\n",
       "      <th>TX_RESP_BLOCO_1_LP</th>\n",
       "      <th>TX_RESP_BLOCO_2_LP</th>\n",
       "      <th>TX_RESP_BLOCO_1_MT</th>\n",
       "      <th>TX_RESP_BLOCO_2_MT</th>\n",
       "      <th>PROFICIENCIA_LP</th>\n",
       "      <th>PROFICIENCIA_MT</th>\n",
       "      <th>TX_RESP_Q001</th>\n",
       "      <th>TX_RESP_Q002</th>\n",
       "    </tr>\n",
       "  </thead>\n",
       "  <tbody>\n",
       "    <tr>\n",
       "      <th>2458627</th>\n",
       "      <td>5</td>\n",
       "      <td>51</td>\n",
       "      <td>5100102</td>\n",
       "      <td>2</td>\n",
       "      <td>5</td>\n",
       "      <td>1</td>\n",
       "      <td>3.0</td>\n",
       "      <td>4.0</td>\n",
       "      <td>DAABCABDDBA</td>\n",
       "      <td>ADDAADBAABB</td>\n",
       "      <td>BDCBCDDBDDC</td>\n",
       "      <td>BDAADDDCDDC</td>\n",
       "      <td>-2.114975</td>\n",
       "      <td>-1.715279</td>\n",
       "      <td>A</td>\n",
       "      <td>D</td>\n",
       "    </tr>\n",
       "    <tr>\n",
       "      <th>2564432</th>\n",
       "      <td>5</td>\n",
       "      <td>52</td>\n",
       "      <td>5214606</td>\n",
       "      <td>2</td>\n",
       "      <td>5</td>\n",
       "      <td>1</td>\n",
       "      <td>2.0</td>\n",
       "      <td>4.0</td>\n",
       "      <td>DAADDDDBBCC</td>\n",
       "      <td>BCCBCADDDAC</td>\n",
       "      <td>BBAACBCCBAB</td>\n",
       "      <td>BDACCABDABD</td>\n",
       "      <td>0.539748</td>\n",
       "      <td>0.524141</td>\n",
       "      <td>A</td>\n",
       "      <td>A</td>\n",
       "    </tr>\n",
       "    <tr>\n",
       "      <th>1940295</th>\n",
       "      <td>3</td>\n",
       "      <td>35</td>\n",
       "      <td>3550308</td>\n",
       "      <td>1</td>\n",
       "      <td>5</td>\n",
       "      <td>1</td>\n",
       "      <td>5.0</td>\n",
       "      <td>7.0</td>\n",
       "      <td>DBACDACDDBD</td>\n",
       "      <td>BBDCDDBABCB</td>\n",
       "      <td>ACDDDABCCCA</td>\n",
       "      <td>CCBDBDBDCCB</td>\n",
       "      <td>0.079159</td>\n",
       "      <td>1.223646</td>\n",
       "      <td>A</td>\n",
       "      <td>A</td>\n",
       "    </tr>\n",
       "    <tr>\n",
       "      <th>1344199</th>\n",
       "      <td>3</td>\n",
       "      <td>32</td>\n",
       "      <td>3202454</td>\n",
       "      <td>2</td>\n",
       "      <td>5</td>\n",
       "      <td>1</td>\n",
       "      <td>2.0</td>\n",
       "      <td>3.0</td>\n",
       "      <td>DAABDCDBBCC</td>\n",
       "      <td>DDADBCDCACA</td>\n",
       "      <td>BBDACBBBBAB</td>\n",
       "      <td>CAACACBCBCB</td>\n",
       "      <td>0.409329</td>\n",
       "      <td>0.045255</td>\n",
       "      <td>A</td>\n",
       "      <td>A</td>\n",
       "    </tr>\n",
       "    <tr>\n",
       "      <th>2483735</th>\n",
       "      <td>5</td>\n",
       "      <td>51</td>\n",
       "      <td>5106240</td>\n",
       "      <td>2</td>\n",
       "      <td>5</td>\n",
       "      <td>0</td>\n",
       "      <td>2.0</td>\n",
       "      <td>5.0</td>\n",
       "      <td>...........</td>\n",
       "      <td>...........</td>\n",
       "      <td>...........</td>\n",
       "      <td>...........</td>\n",
       "      <td>NaN</td>\n",
       "      <td>NaN</td>\n",
       "      <td>NaN</td>\n",
       "      <td>NaN</td>\n",
       "    </tr>\n",
       "    <tr>\n",
       "      <th>1774644</th>\n",
       "      <td>3</td>\n",
       "      <td>35</td>\n",
       "      <td>3534401</td>\n",
       "      <td>2</td>\n",
       "      <td>5</td>\n",
       "      <td>1</td>\n",
       "      <td>5.0</td>\n",
       "      <td>6.0</td>\n",
       "      <td>DDCCDCCCDCD</td>\n",
       "      <td>BDABBBAACBC</td>\n",
       "      <td>BBDCBDDDDCB</td>\n",
       "      <td>CCABCBDAAAC</td>\n",
       "      <td>-0.255947</td>\n",
       "      <td>-0.928940</td>\n",
       "      <td>B</td>\n",
       "      <td>F</td>\n",
       "    </tr>\n",
       "    <tr>\n",
       "      <th>2226032</th>\n",
       "      <td>4</td>\n",
       "      <td>42</td>\n",
       "      <td>4205902</td>\n",
       "      <td>2</td>\n",
       "      <td>5</td>\n",
       "      <td>0</td>\n",
       "      <td>4.0</td>\n",
       "      <td>6.0</td>\n",
       "      <td>...........</td>\n",
       "      <td>...........</td>\n",
       "      <td>...........</td>\n",
       "      <td>...........</td>\n",
       "      <td>NaN</td>\n",
       "      <td>NaN</td>\n",
       "      <td>NaN</td>\n",
       "      <td>NaN</td>\n",
       "    </tr>\n",
       "    <tr>\n",
       "      <th>605575</th>\n",
       "      <td>2</td>\n",
       "      <td>24</td>\n",
       "      <td>2403251</td>\n",
       "      <td>2</td>\n",
       "      <td>5</td>\n",
       "      <td>1</td>\n",
       "      <td>1.0</td>\n",
       "      <td>4.0</td>\n",
       "      <td>BBBBBCADBDB</td>\n",
       "      <td>BCABCABADAD</td>\n",
       "      <td>BDBDBBACABD</td>\n",
       "      <td>BBACAACBABD</td>\n",
       "      <td>-0.932299</td>\n",
       "      <td>-1.380001</td>\n",
       "      <td>A</td>\n",
       "      <td>A</td>\n",
       "    </tr>\n",
       "    <tr>\n",
       "      <th>1546508</th>\n",
       "      <td>3</td>\n",
       "      <td>35</td>\n",
       "      <td>3502804</td>\n",
       "      <td>2</td>\n",
       "      <td>5</td>\n",
       "      <td>1</td>\n",
       "      <td>5.0</td>\n",
       "      <td>7.0</td>\n",
       "      <td>DCACDBCDDBA</td>\n",
       "      <td>BBDCDABABCB</td>\n",
       "      <td>ACDCDDDCDBB</td>\n",
       "      <td>CCADBCBDCCB</td>\n",
       "      <td>-0.298694</td>\n",
       "      <td>-0.021223</td>\n",
       "      <td>B</td>\n",
       "      <td>A</td>\n",
       "    </tr>\n",
       "    <tr>\n",
       "      <th>2181378</th>\n",
       "      <td>4</td>\n",
       "      <td>41</td>\n",
       "      <td>4126256</td>\n",
       "      <td>2</td>\n",
       "      <td>5</td>\n",
       "      <td>1</td>\n",
       "      <td>6.0</td>\n",
       "      <td>1.0</td>\n",
       "      <td>ADABBBAACBC</td>\n",
       "      <td>BCBDBCBDBBB</td>\n",
       "      <td>CBBBBBDABAC</td>\n",
       "      <td>DCADCBDAAAB</td>\n",
       "      <td>0.191575</td>\n",
       "      <td>-0.372338</td>\n",
       "      <td>B</td>\n",
       "      <td>B</td>\n",
       "    </tr>\n",
       "  </tbody>\n",
       "</table>\n",
       "</div>"
      ],
      "text/plain": [
       "         ID_REGIAO  ID_UF  ID_MUNICIPIO  ID_AREA  ID_SERIE  \\\n",
       "2458627          5     51       5100102        2         5   \n",
       "2564432          5     52       5214606        2         5   \n",
       "1940295          3     35       3550308        1         5   \n",
       "1344199          3     32       3202454        2         5   \n",
       "2483735          5     51       5106240        2         5   \n",
       "1774644          3     35       3534401        2         5   \n",
       "2226032          4     42       4205902        2         5   \n",
       "605575           2     24       2403251        2         5   \n",
       "1546508          3     35       3502804        2         5   \n",
       "2181378          4     41       4126256        2         5   \n",
       "\n",
       "         IN_PREENCHIMENTO_PROVA  ID_BLOCO_1  ID_BLOCO_2 TX_RESP_BLOCO_1_LP  \\\n",
       "2458627                       1         3.0         4.0        DAABCABDDBA   \n",
       "2564432                       1         2.0         4.0        DAADDDDBBCC   \n",
       "1940295                       1         5.0         7.0        DBACDACDDBD   \n",
       "1344199                       1         2.0         3.0        DAABDCDBBCC   \n",
       "2483735                       0         2.0         5.0        ...........   \n",
       "1774644                       1         5.0         6.0        DDCCDCCCDCD   \n",
       "2226032                       0         4.0         6.0        ...........   \n",
       "605575                        1         1.0         4.0        BBBBBCADBDB   \n",
       "1546508                       1         5.0         7.0        DCACDBCDDBA   \n",
       "2181378                       1         6.0         1.0        ADABBBAACBC   \n",
       "\n",
       "        TX_RESP_BLOCO_2_LP TX_RESP_BLOCO_1_MT TX_RESP_BLOCO_2_MT  \\\n",
       "2458627        ADDAADBAABB        BDCBCDDBDDC        BDAADDDCDDC   \n",
       "2564432        BCCBCADDDAC        BBAACBCCBAB        BDACCABDABD   \n",
       "1940295        BBDCDDBABCB        ACDDDABCCCA        CCBDBDBDCCB   \n",
       "1344199        DDADBCDCACA        BBDACBBBBAB        CAACACBCBCB   \n",
       "2483735        ...........        ...........        ...........   \n",
       "1774644        BDABBBAACBC        BBDCBDDDDCB        CCABCBDAAAC   \n",
       "2226032        ...........        ...........        ...........   \n",
       "605575         BCABCABADAD        BDBDBBACABD        BBACAACBABD   \n",
       "1546508        BBDCDABABCB        ACDCDDDCDBB        CCADBCBDCCB   \n",
       "2181378        BCBDBCBDBBB        CBBBBBDABAC        DCADCBDAAAB   \n",
       "\n",
       "         PROFICIENCIA_LP  PROFICIENCIA_MT TX_RESP_Q001 TX_RESP_Q002  \n",
       "2458627        -2.114975        -1.715279            A            D  \n",
       "2564432         0.539748         0.524141            A            A  \n",
       "1940295         0.079159         1.223646            A            A  \n",
       "1344199         0.409329         0.045255            A            A  \n",
       "2483735              NaN              NaN          NaN          NaN  \n",
       "1774644        -0.255947        -0.928940            B            F  \n",
       "2226032              NaN              NaN          NaN          NaN  \n",
       "605575         -0.932299        -1.380001            A            A  \n",
       "1546508        -0.298694        -0.021223            B            A  \n",
       "2181378         0.191575        -0.372338            B            B  "
      ]
     },
     "execution_count": 21,
     "metadata": {},
     "output_type": "execute_result"
    }
   ],
   "source": [
    "df_aluno_5EF.sample(10)"
   ]
  },
  {
   "cell_type": "code",
   "execution_count": 22,
   "metadata": {
    "pycharm": {
     "is_executing": false,
     "name": "#%%\n"
    }
   },
   "outputs": [
    {
     "data": {
      "text/html": [
       "<div>\n",
       "<style scoped>\n",
       "    .dataframe tbody tr th:only-of-type {\n",
       "        vertical-align: middle;\n",
       "    }\n",
       "\n",
       "    .dataframe tbody tr th {\n",
       "        vertical-align: top;\n",
       "    }\n",
       "\n",
       "    .dataframe thead th {\n",
       "        text-align: right;\n",
       "    }\n",
       "</style>\n",
       "<table border=\"1\" class=\"dataframe\">\n",
       "  <thead>\n",
       "    <tr style=\"text-align: right;\">\n",
       "      <th></th>\n",
       "      <th>ID_REGIAO</th>\n",
       "      <th>ID_UF</th>\n",
       "      <th>ID_MUNICIPIO</th>\n",
       "      <th>ID_AREA</th>\n",
       "      <th>ID_SERIE</th>\n",
       "      <th>IN_PREENCHIMENTO_PROVA</th>\n",
       "      <th>ID_BLOCO_1</th>\n",
       "      <th>ID_BLOCO_2</th>\n",
       "      <th>TX_RESP_BLOCO_1_LP</th>\n",
       "      <th>TX_RESP_BLOCO_2_LP</th>\n",
       "      <th>TX_RESP_BLOCO_1_MT</th>\n",
       "      <th>TX_RESP_BLOCO_2_MT</th>\n",
       "      <th>PROFICIENCIA_LP</th>\n",
       "      <th>PROFICIENCIA_MT</th>\n",
       "      <th>TX_RESP_Q001</th>\n",
       "      <th>TX_RESP_Q002</th>\n",
       "    </tr>\n",
       "  </thead>\n",
       "  <tbody>\n",
       "    <tr>\n",
       "      <th>689552</th>\n",
       "      <td>2</td>\n",
       "      <td>26</td>\n",
       "      <td>2615003</td>\n",
       "      <td>2</td>\n",
       "      <td>9</td>\n",
       "      <td>1</td>\n",
       "      <td>3.0</td>\n",
       "      <td>5.0</td>\n",
       "      <td>CBBDCACABADDD</td>\n",
       "      <td>BADCBCADCDAAB</td>\n",
       "      <td>DBACADBDABABD</td>\n",
       "      <td>CCBDBCDCBCACB</td>\n",
       "      <td>0.726533</td>\n",
       "      <td>0.176161</td>\n",
       "      <td>B</td>\n",
       "      <td>A</td>\n",
       "    </tr>\n",
       "    <tr>\n",
       "      <th>717117</th>\n",
       "      <td>2</td>\n",
       "      <td>27</td>\n",
       "      <td>2704302</td>\n",
       "      <td>1</td>\n",
       "      <td>9</td>\n",
       "      <td>0</td>\n",
       "      <td>3.0</td>\n",
       "      <td>6.0</td>\n",
       "      <td>.............</td>\n",
       "      <td>.............</td>\n",
       "      <td>.............</td>\n",
       "      <td>.............</td>\n",
       "      <td>NaN</td>\n",
       "      <td>NaN</td>\n",
       "      <td>NaN</td>\n",
       "      <td>NaN</td>\n",
       "    </tr>\n",
       "    <tr>\n",
       "      <th>771087</th>\n",
       "      <td>2</td>\n",
       "      <td>29</td>\n",
       "      <td>2903201</td>\n",
       "      <td>2</td>\n",
       "      <td>9</td>\n",
       "      <td>1</td>\n",
       "      <td>4.0</td>\n",
       "      <td>5.0</td>\n",
       "      <td>ABCDDCBAACDCD</td>\n",
       "      <td>BDDCDDBDCABAB</td>\n",
       "      <td>BCABCBCDCAACB</td>\n",
       "      <td>BDAADBDCCBDAC</td>\n",
       "      <td>0.001729</td>\n",
       "      <td>-0.140325</td>\n",
       "      <td>B</td>\n",
       "      <td>C</td>\n",
       "    </tr>\n",
       "    <tr>\n",
       "      <th>1868818</th>\n",
       "      <td>4</td>\n",
       "      <td>41</td>\n",
       "      <td>4108601</td>\n",
       "      <td>2</td>\n",
       "      <td>9</td>\n",
       "      <td>1</td>\n",
       "      <td>1.0</td>\n",
       "      <td>2.0</td>\n",
       "      <td>CDBDADDADCDDB</td>\n",
       "      <td>CDAADABDBCDBD</td>\n",
       "      <td>CCBBADBCACBAB</td>\n",
       "      <td>CBCCAABBADDDA</td>\n",
       "      <td>0.987748</td>\n",
       "      <td>0.986852</td>\n",
       "      <td>B</td>\n",
       "      <td>C</td>\n",
       "    </tr>\n",
       "    <tr>\n",
       "      <th>57068</th>\n",
       "      <td>1</td>\n",
       "      <td>13</td>\n",
       "      <td>1302603</td>\n",
       "      <td>1</td>\n",
       "      <td>9</td>\n",
       "      <td>1</td>\n",
       "      <td>2.0</td>\n",
       "      <td>4.0</td>\n",
       "      <td>CCCADABDBCDAC</td>\n",
       "      <td>DACDCBBAADBCB</td>\n",
       "      <td>CDACAABBCDBDA</td>\n",
       "      <td>BCBBBACBABDAA</td>\n",
       "      <td>0.870386</td>\n",
       "      <td>0.213127</td>\n",
       "      <td>B</td>\n",
       "      <td>A</td>\n",
       "    </tr>\n",
       "    <tr>\n",
       "      <th>1217010</th>\n",
       "      <td>3</td>\n",
       "      <td>32</td>\n",
       "      <td>3203908</td>\n",
       "      <td>2</td>\n",
       "      <td>9</td>\n",
       "      <td>1</td>\n",
       "      <td>2.0</td>\n",
       "      <td>3.0</td>\n",
       "      <td>CDCADABDBCBCD</td>\n",
       "      <td>CBDDCACABADDD</td>\n",
       "      <td>CDCCAABBADDDD</td>\n",
       "      <td>DBBCDCBCABDCA</td>\n",
       "      <td>1.666763</td>\n",
       "      <td>1.055677</td>\n",
       "      <td>B</td>\n",
       "      <td>A</td>\n",
       "    </tr>\n",
       "    <tr>\n",
       "      <th>979930</th>\n",
       "      <td>3</td>\n",
       "      <td>31</td>\n",
       "      <td>3107307</td>\n",
       "      <td>2</td>\n",
       "      <td>9</td>\n",
       "      <td>1</td>\n",
       "      <td>1.0</td>\n",
       "      <td>4.0</td>\n",
       "      <td>CBCCAADADACBC</td>\n",
       "      <td>DBADCDBADDBCD</td>\n",
       "      <td>DBBDBBBDABDAC</td>\n",
       "      <td>BDCAADCBCADCA</td>\n",
       "      <td>0.439376</td>\n",
       "      <td>0.303511</td>\n",
       "      <td>B</td>\n",
       "      <td>C</td>\n",
       "    </tr>\n",
       "    <tr>\n",
       "      <th>457150</th>\n",
       "      <td>2</td>\n",
       "      <td>23</td>\n",
       "      <td>2306405</td>\n",
       "      <td>2</td>\n",
       "      <td>9</td>\n",
       "      <td>1</td>\n",
       "      <td>4.0</td>\n",
       "      <td>6.0</td>\n",
       "      <td>ABDDCABAADBCB</td>\n",
       "      <td>BCACBCCDCCDBD</td>\n",
       "      <td>BABBCBCDCCDCB</td>\n",
       "      <td>DBBBDACBDBCDB</td>\n",
       "      <td>0.492904</td>\n",
       "      <td>0.657750</td>\n",
       "      <td>A</td>\n",
       "      <td>C</td>\n",
       "    </tr>\n",
       "    <tr>\n",
       "      <th>2079925</th>\n",
       "      <td>4</td>\n",
       "      <td>43</td>\n",
       "      <td>4312401</td>\n",
       "      <td>2</td>\n",
       "      <td>9</td>\n",
       "      <td>1</td>\n",
       "      <td>6.0</td>\n",
       "      <td>2.0</td>\n",
       "      <td>BBACBCCDCBCBC</td>\n",
       "      <td>BAAAAABDBCACD</td>\n",
       "      <td>DBABCCABCBCCA</td>\n",
       "      <td>ADBAAABBCDBDA</td>\n",
       "      <td>0.605262</td>\n",
       "      <td>0.076448</td>\n",
       "      <td>A</td>\n",
       "      <td>A</td>\n",
       "    </tr>\n",
       "    <tr>\n",
       "      <th>672961</th>\n",
       "      <td>2</td>\n",
       "      <td>26</td>\n",
       "      <td>2611606</td>\n",
       "      <td>1</td>\n",
       "      <td>9</td>\n",
       "      <td>1</td>\n",
       "      <td>7.0</td>\n",
       "      <td>3.0</td>\n",
       "      <td>ACDBDBCABAACD</td>\n",
       "      <td>CBD*.ACABADAD</td>\n",
       "      <td>BABCAADBCBCDA</td>\n",
       "      <td>DBBCAABDABDCB</td>\n",
       "      <td>0.957667</td>\n",
       "      <td>1.021338</td>\n",
       "      <td>B</td>\n",
       "      <td>C</td>\n",
       "    </tr>\n",
       "  </tbody>\n",
       "</table>\n",
       "</div>"
      ],
      "text/plain": [
       "         ID_REGIAO  ID_UF  ID_MUNICIPIO  ID_AREA  ID_SERIE  \\\n",
       "689552           2     26       2615003        2         9   \n",
       "717117           2     27       2704302        1         9   \n",
       "771087           2     29       2903201        2         9   \n",
       "1868818          4     41       4108601        2         9   \n",
       "57068            1     13       1302603        1         9   \n",
       "1217010          3     32       3203908        2         9   \n",
       "979930           3     31       3107307        2         9   \n",
       "457150           2     23       2306405        2         9   \n",
       "2079925          4     43       4312401        2         9   \n",
       "672961           2     26       2611606        1         9   \n",
       "\n",
       "         IN_PREENCHIMENTO_PROVA  ID_BLOCO_1  ID_BLOCO_2 TX_RESP_BLOCO_1_LP  \\\n",
       "689552                        1         3.0         5.0      CBBDCACABADDD   \n",
       "717117                        0         3.0         6.0      .............   \n",
       "771087                        1         4.0         5.0      ABCDDCBAACDCD   \n",
       "1868818                       1         1.0         2.0      CDBDADDADCDDB   \n",
       "57068                         1         2.0         4.0      CCCADABDBCDAC   \n",
       "1217010                       1         2.0         3.0      CDCADABDBCBCD   \n",
       "979930                        1         1.0         4.0      CBCCAADADACBC   \n",
       "457150                        1         4.0         6.0      ABDDCABAADBCB   \n",
       "2079925                       1         6.0         2.0      BBACBCCDCBCBC   \n",
       "672961                        1         7.0         3.0      ACDBDBCABAACD   \n",
       "\n",
       "        TX_RESP_BLOCO_2_LP TX_RESP_BLOCO_1_MT TX_RESP_BLOCO_2_MT  \\\n",
       "689552       BADCBCADCDAAB      DBACADBDABABD      CCBDBCDCBCACB   \n",
       "717117       .............      .............      .............   \n",
       "771087       BDDCDDBDCABAB      BCABCBCDCAACB      BDAADBDCCBDAC   \n",
       "1868818      CDAADABDBCDBD      CCBBADBCACBAB      CBCCAABBADDDA   \n",
       "57068        DACDCBBAADBCB      CDACAABBCDBDA      BCBBBACBABDAA   \n",
       "1217010      CBDDCACABADDD      CDCCAABBADDDD      DBBCDCBCABDCA   \n",
       "979930       DBADCDBADDBCD      DBBDBBBDABDAC      BDCAADCBCADCA   \n",
       "457150       BCACBCCDCCDBD      BABBCBCDCCDCB      DBBBDACBDBCDB   \n",
       "2079925      BAAAAABDBCACD      DBABCCABCBCCA      ADBAAABBCDBDA   \n",
       "672961       CBD*.ACABADAD      BABCAADBCBCDA      DBBCAABDABDCB   \n",
       "\n",
       "         PROFICIENCIA_LP  PROFICIENCIA_MT TX_RESP_Q001 TX_RESP_Q002  \n",
       "689552          0.726533         0.176161            B            A  \n",
       "717117               NaN              NaN          NaN          NaN  \n",
       "771087          0.001729        -0.140325            B            C  \n",
       "1868818         0.987748         0.986852            B            C  \n",
       "57068           0.870386         0.213127            B            A  \n",
       "1217010         1.666763         1.055677            B            A  \n",
       "979930          0.439376         0.303511            B            C  \n",
       "457150          0.492904         0.657750            A            C  \n",
       "2079925         0.605262         0.076448            A            A  \n",
       "672961          0.957667         1.021338            B            C  "
      ]
     },
     "execution_count": 22,
     "metadata": {},
     "output_type": "execute_result"
    }
   ],
   "source": [
    "df_aluno_9EF.sample(10)"
   ]
  },
  {
   "cell_type": "code",
   "execution_count": 23,
   "metadata": {
    "pycharm": {
     "is_executing": false,
     "name": "#%%\n"
    }
   },
   "outputs": [
    {
     "data": {
      "text/html": [
       "<div>\n",
       "<style scoped>\n",
       "    .dataframe tbody tr th:only-of-type {\n",
       "        vertical-align: middle;\n",
       "    }\n",
       "\n",
       "    .dataframe tbody tr th {\n",
       "        vertical-align: top;\n",
       "    }\n",
       "\n",
       "    .dataframe thead th {\n",
       "        text-align: right;\n",
       "    }\n",
       "</style>\n",
       "<table border=\"1\" class=\"dataframe\">\n",
       "  <thead>\n",
       "    <tr style=\"text-align: right;\">\n",
       "      <th></th>\n",
       "      <th>ID_REGIAO</th>\n",
       "      <th>ID_UF</th>\n",
       "      <th>ID_MUNICIPIO</th>\n",
       "      <th>ID_AREA</th>\n",
       "      <th>ID_SERIE</th>\n",
       "      <th>IN_PREENCHIMENTO_PROVA</th>\n",
       "      <th>ID_BLOCO_1</th>\n",
       "      <th>ID_BLOCO_2</th>\n",
       "      <th>TX_RESP_BLOCO_1_LP</th>\n",
       "      <th>TX_RESP_BLOCO_2_LP</th>\n",
       "      <th>TX_RESP_BLOCO_1_MT</th>\n",
       "      <th>TX_RESP_BLOCO_2_MT</th>\n",
       "      <th>PROFICIENCIA_LP</th>\n",
       "      <th>PROFICIENCIA_MT</th>\n",
       "      <th>TX_RESP_Q001</th>\n",
       "      <th>TX_RESP_Q002</th>\n",
       "    </tr>\n",
       "  </thead>\n",
       "  <tbody>\n",
       "    <tr>\n",
       "      <th>1240507</th>\n",
       "      <td>4</td>\n",
       "      <td>41</td>\n",
       "      <td>4111407</td>\n",
       "      <td>2</td>\n",
       "      <td>12</td>\n",
       "      <td>1</td>\n",
       "      <td>4</td>\n",
       "      <td>7</td>\n",
       "      <td>BEACCEADBEEBA</td>\n",
       "      <td>AEBBCAACCABBE</td>\n",
       "      <td>CDABCCDAACAEE</td>\n",
       "      <td>ACDCADCACDAEE</td>\n",
       "      <td>-0.776660</td>\n",
       "      <td>-0.607775</td>\n",
       "      <td>B</td>\n",
       "      <td>A</td>\n",
       "    </tr>\n",
       "    <tr>\n",
       "      <th>67753</th>\n",
       "      <td>1</td>\n",
       "      <td>15</td>\n",
       "      <td>1500404</td>\n",
       "      <td>2</td>\n",
       "      <td>12</td>\n",
       "      <td>1</td>\n",
       "      <td>5</td>\n",
       "      <td>7</td>\n",
       "      <td>CABCCEBBDADCA</td>\n",
       "      <td>ABECBDCDAEACD</td>\n",
       "      <td>AABCCBDBAEAEA</td>\n",
       "      <td>DCDDDDCBCBDCD</td>\n",
       "      <td>-1.296947</td>\n",
       "      <td>-0.902975</td>\n",
       "      <td>A</td>\n",
       "      <td>C</td>\n",
       "    </tr>\n",
       "    <tr>\n",
       "      <th>1259758</th>\n",
       "      <td>4</td>\n",
       "      <td>41</td>\n",
       "      <td>4119905</td>\n",
       "      <td>2</td>\n",
       "      <td>12</td>\n",
       "      <td>1</td>\n",
       "      <td>4</td>\n",
       "      <td>6</td>\n",
       "      <td>DABACCABCEDCE</td>\n",
       "      <td>BEBDBCBABEDBD</td>\n",
       "      <td>CDAADABABDCDA</td>\n",
       "      <td>BAADEABBCEBAA</td>\n",
       "      <td>0.569343</td>\n",
       "      <td>0.383002</td>\n",
       "      <td>B</td>\n",
       "      <td>B</td>\n",
       "    </tr>\n",
       "    <tr>\n",
       "      <th>806795</th>\n",
       "      <td>3</td>\n",
       "      <td>33</td>\n",
       "      <td>3304557</td>\n",
       "      <td>1</td>\n",
       "      <td>12</td>\n",
       "      <td>1</td>\n",
       "      <td>4</td>\n",
       "      <td>7</td>\n",
       "      <td>BCACCDDAACBBE</td>\n",
       "      <td>ABACECBCDAECA</td>\n",
       "      <td>DBDCEABCBECCA</td>\n",
       "      <td>CADAAECCBADEA</td>\n",
       "      <td>-0.954136</td>\n",
       "      <td>0.036359</td>\n",
       "      <td>A</td>\n",
       "      <td>C</td>\n",
       "    </tr>\n",
       "    <tr>\n",
       "      <th>463509</th>\n",
       "      <td>2</td>\n",
       "      <td>27</td>\n",
       "      <td>2706000</td>\n",
       "      <td>2</td>\n",
       "      <td>12</td>\n",
       "      <td>1</td>\n",
       "      <td>5</td>\n",
       "      <td>7</td>\n",
       "      <td>ABBBCDDBBADAC</td>\n",
       "      <td>BCCACCBCADDEC</td>\n",
       "      <td>CDBEEDDACABCB</td>\n",
       "      <td>ABDAACDABDCCB</td>\n",
       "      <td>-0.686024</td>\n",
       "      <td>-0.084194</td>\n",
       "      <td>A</td>\n",
       "      <td>C</td>\n",
       "    </tr>\n",
       "    <tr>\n",
       "      <th>1029022</th>\n",
       "      <td>3</td>\n",
       "      <td>35</td>\n",
       "      <td>3541406</td>\n",
       "      <td>2</td>\n",
       "      <td>12</td>\n",
       "      <td>1</td>\n",
       "      <td>4</td>\n",
       "      <td>5</td>\n",
       "      <td>BBBCCCBAAEEEE</td>\n",
       "      <td>ACBEABBCDEAAB</td>\n",
       "      <td>CECABABBCDDBD</td>\n",
       "      <td>ACAEBADBADCAD</td>\n",
       "      <td>-0.906717</td>\n",
       "      <td>0.364144</td>\n",
       "      <td>A</td>\n",
       "      <td>A</td>\n",
       "    </tr>\n",
       "    <tr>\n",
       "      <th>1417672</th>\n",
       "      <td>5</td>\n",
       "      <td>52</td>\n",
       "      <td>5210406</td>\n",
       "      <td>2</td>\n",
       "      <td>12</td>\n",
       "      <td>1</td>\n",
       "      <td>2</td>\n",
       "      <td>5</td>\n",
       "      <td>CDAEECDDDBEEB</td>\n",
       "      <td>AAEDACDBAECDB</td>\n",
       "      <td>BCEBCCDBCBBDB</td>\n",
       "      <td>ADDDBEACBDBCE</td>\n",
       "      <td>0.530229</td>\n",
       "      <td>-0.411512</td>\n",
       "      <td>A</td>\n",
       "      <td>C</td>\n",
       "    </tr>\n",
       "    <tr>\n",
       "      <th>594603</th>\n",
       "      <td>3</td>\n",
       "      <td>31</td>\n",
       "      <td>3106002</td>\n",
       "      <td>2</td>\n",
       "      <td>12</td>\n",
       "      <td>1</td>\n",
       "      <td>1</td>\n",
       "      <td>3</td>\n",
       "      <td>ACCBDEAABCEAD</td>\n",
       "      <td>DBEAAABDADEAD</td>\n",
       "      <td>CDDBADDCDBCBA</td>\n",
       "      <td>ABADBDCBCECAB</td>\n",
       "      <td>0.522750</td>\n",
       "      <td>0.522386</td>\n",
       "      <td>B</td>\n",
       "      <td>C</td>\n",
       "    </tr>\n",
       "    <tr>\n",
       "      <th>250310</th>\n",
       "      <td>2</td>\n",
       "      <td>23</td>\n",
       "      <td>2301901</td>\n",
       "      <td>2</td>\n",
       "      <td>12</td>\n",
       "      <td>1</td>\n",
       "      <td>6</td>\n",
       "      <td>7</td>\n",
       "      <td>BEBACCBABDDEC</td>\n",
       "      <td>DEECADACCCDCC</td>\n",
       "      <td>CAABDBCABAECD</td>\n",
       "      <td>EBDAABCCBAADB</td>\n",
       "      <td>0.930067</td>\n",
       "      <td>0.201937</td>\n",
       "      <td>A</td>\n",
       "      <td>C</td>\n",
       "    </tr>\n",
       "    <tr>\n",
       "      <th>927434</th>\n",
       "      <td>3</td>\n",
       "      <td>35</td>\n",
       "      <td>3518107</td>\n",
       "      <td>2</td>\n",
       "      <td>12</td>\n",
       "      <td>1</td>\n",
       "      <td>4</td>\n",
       "      <td>6</td>\n",
       "      <td>CDCCCBABBBCBB</td>\n",
       "      <td>DACDDDBCBBDCB</td>\n",
       "      <td>BBCCCADAAEBAB</td>\n",
       "      <td>ACBADBBCCCCAB</td>\n",
       "      <td>-0.024155</td>\n",
       "      <td>-1.123593</td>\n",
       "      <td>A</td>\n",
       "      <td>A</td>\n",
       "    </tr>\n",
       "  </tbody>\n",
       "</table>\n",
       "</div>"
      ],
      "text/plain": [
       "         ID_REGIAO  ID_UF  ID_MUNICIPIO  ID_AREA  ID_SERIE  \\\n",
       "1240507          4     41       4111407        2        12   \n",
       "67753            1     15       1500404        2        12   \n",
       "1259758          4     41       4119905        2        12   \n",
       "806795           3     33       3304557        1        12   \n",
       "463509           2     27       2706000        2        12   \n",
       "1029022          3     35       3541406        2        12   \n",
       "1417672          5     52       5210406        2        12   \n",
       "594603           3     31       3106002        2        12   \n",
       "250310           2     23       2301901        2        12   \n",
       "927434           3     35       3518107        2        12   \n",
       "\n",
       "         IN_PREENCHIMENTO_PROVA  ID_BLOCO_1  ID_BLOCO_2 TX_RESP_BLOCO_1_LP  \\\n",
       "1240507                       1           4           7      BEACCEADBEEBA   \n",
       "67753                         1           5           7      CABCCEBBDADCA   \n",
       "1259758                       1           4           6      DABACCABCEDCE   \n",
       "806795                        1           4           7      BCACCDDAACBBE   \n",
       "463509                        1           5           7      ABBBCDDBBADAC   \n",
       "1029022                       1           4           5      BBBCCCBAAEEEE   \n",
       "1417672                       1           2           5      CDAEECDDDBEEB   \n",
       "594603                        1           1           3      ACCBDEAABCEAD   \n",
       "250310                        1           6           7      BEBACCBABDDEC   \n",
       "927434                        1           4           6      CDCCCBABBBCBB   \n",
       "\n",
       "        TX_RESP_BLOCO_2_LP TX_RESP_BLOCO_1_MT TX_RESP_BLOCO_2_MT  \\\n",
       "1240507      AEBBCAACCABBE      CDABCCDAACAEE      ACDCADCACDAEE   \n",
       "67753        ABECBDCDAEACD      AABCCBDBAEAEA      DCDDDDCBCBDCD   \n",
       "1259758      BEBDBCBABEDBD      CDAADABABDCDA      BAADEABBCEBAA   \n",
       "806795       ABACECBCDAECA      DBDCEABCBECCA      CADAAECCBADEA   \n",
       "463509       BCCACCBCADDEC      CDBEEDDACABCB      ABDAACDABDCCB   \n",
       "1029022      ACBEABBCDEAAB      CECABABBCDDBD      ACAEBADBADCAD   \n",
       "1417672      AAEDACDBAECDB      BCEBCCDBCBBDB      ADDDBEACBDBCE   \n",
       "594603       DBEAAABDADEAD      CDDBADDCDBCBA      ABADBDCBCECAB   \n",
       "250310       DEECADACCCDCC      CAABDBCABAECD      EBDAABCCBAADB   \n",
       "927434       DACDDDBCBBDCB      BBCCCADAAEBAB      ACBADBBCCCCAB   \n",
       "\n",
       "         PROFICIENCIA_LP  PROFICIENCIA_MT TX_RESP_Q001 TX_RESP_Q002  \n",
       "1240507        -0.776660        -0.607775            B            A  \n",
       "67753          -1.296947        -0.902975            A            C  \n",
       "1259758         0.569343         0.383002            B            B  \n",
       "806795         -0.954136         0.036359            A            C  \n",
       "463509         -0.686024        -0.084194            A            C  \n",
       "1029022        -0.906717         0.364144            A            A  \n",
       "1417672         0.530229        -0.411512            A            C  \n",
       "594603          0.522750         0.522386            B            C  \n",
       "250310          0.930067         0.201937            A            C  \n",
       "927434         -0.024155        -1.123593            A            A  "
      ]
     },
     "execution_count": 23,
     "metadata": {},
     "output_type": "execute_result"
    }
   ],
   "source": [
    "df_aluno_3EM.sample(10)"
   ]
  },
  {
   "cell_type": "markdown",
   "metadata": {
    "pycharm": {
     "is_executing": false
    }
   },
   "source": [
    "### Após o carregamento, o DataFrame tem suas colunas reorganizadas, logo:"
   ]
  },
  {
   "cell_type": "code",
   "execution_count": 24,
   "metadata": {},
   "outputs": [],
   "source": [
    "colunas_aluno = list(df_aluno_5EF.columns.values)"
   ]
  },
  {
   "cell_type": "markdown",
   "metadata": {},
   "source": [
    "### Série"
   ]
  },
  {
   "cell_type": "code",
   "execution_count": 25,
   "metadata": {},
   "outputs": [],
   "source": [
    "idx_serie_gab = colunas_resp.index(ID_SERIE)\n",
    "idx_serie_aluno = colunas_aluno.index(ID_SERIE)"
   ]
  },
  {
   "cell_type": "markdown",
   "metadata": {},
   "source": [
    "### Respostas"
   ]
  },
  {
   "cell_type": "code",
   "execution_count": 26,
   "metadata": {},
   "outputs": [],
   "source": [
    "idx_disciplina = colunas_resp.index(DISCIPLINA)\n",
    "idx_posicao_gabarito = colunas_resp.index(ID_POSICAO)\n",
    "idx_gabarito = colunas_resp.index(GABARITO)\n",
    "idx_preenchimento_prova = colunas_aluno.index(IN_PREENCHIMENTO_PROVA)"
   ]
  },
  {
   "cell_type": "markdown",
   "metadata": {},
   "source": [
    "### Blocos"
   ]
  },
  {
   "cell_type": "code",
   "execution_count": 27,
   "metadata": {},
   "outputs": [],
   "source": [
    "bloco_gab = colunas_resp.index(ID_BLOCO) \n",
    "bloco_resp_1 = colunas_aluno.index(ID_BLOCO_1)\n",
    "bloco_resp_2 = colunas_aluno.index(ID_BLOCO_2)\n",
    "aluno_resp_bloco_1_lp = colunas_aluno.index(TX_RESP_BLOCO_1_LP) \n",
    "aluno_resp_bloco_2_lp = colunas_aluno.index(TX_RESP_BLOCO_2_LP) \n",
    "aluno_resp_bloco_1_mt = colunas_aluno.index(TX_RESP_BLOCO_1_MT) \n",
    "aluno_resp_bloco_2_mt = colunas_aluno.index(TX_RESP_BLOCO_2_MT) "
   ]
  },
  {
   "cell_type": "markdown",
   "metadata": {},
   "source": [
    "### Região de Estudo/Aluno"
   ]
  },
  {
   "cell_type": "code",
   "execution_count": 28,
   "metadata": {},
   "outputs": [],
   "source": [
    "idx_uf = colunas_aluno.index(ID_UF)\n",
    "idx_municipio = colunas_aluno.index(ID_MUNICIPIO)\n",
    "idx_regiao = colunas_aluno.index(ID_REGIAO)\n",
    "idx_area = colunas_aluno.index(ID_AREA)\n",
    "idx_sexo = colunas_aluno.index(TX_RESP_Q001)\n",
    "idx_raca = colunas_aluno.index(TX_RESP_Q002)"
   ]
  },
  {
   "cell_type": "markdown",
   "metadata": {},
   "source": [
    "## Cálculo de Acertos"
   ]
  },
  {
   "cell_type": "markdown",
   "metadata": {},
   "source": [
    "### **Numeração dos Estados, Regiões etc..**\n",
    "_Descrita no Dicionário da ANEB_"
   ]
  },
  {
   "cell_type": "code",
   "execution_count": 29,
   "metadata": {},
   "outputs": [],
   "source": [
    "num_estados = {\n",
    "    11: 'RO',\n",
    "    12: 'AC',\n",
    "    13: 'AM',\n",
    "    14: 'RR',\n",
    "    15: 'PA',\n",
    "    16: 'AP',\n",
    "    17: 'TO',\n",
    "    21: 'MA',\n",
    "    22: 'PI',\n",
    "    23: 'CE',\n",
    "    24: 'RN',\n",
    "    25: 'PB',\n",
    "    26: 'PE',\n",
    "    27: 'AL',\n",
    "    28: 'SE',\n",
    "    29: 'BA',\n",
    "    31: 'MG',\n",
    "    32: 'ES',\n",
    "    33: 'RJ',\n",
    "    35: 'SP',\n",
    "    41: 'PR',\n",
    "    42: 'SC',\n",
    "    43: 'RS',\n",
    "    50: 'MS',\n",
    "    51: 'MT',\n",
    "    52: 'GO',\n",
    "    53: 'DF'\n",
    "}"
   ]
  },
  {
   "cell_type": "code",
   "execution_count": 30,
   "metadata": {},
   "outputs": [],
   "source": [
    "num_regiao = {\n",
    "    1: 'Norte',\n",
    "    2: 'Nordeste',\n",
    "    3: 'Sudeste',\n",
    "    4: 'Sul',\n",
    "    5: 'Centro-Oeste'\n",
    "}"
   ]
  },
  {
   "cell_type": "code",
   "execution_count": 31,
   "metadata": {},
   "outputs": [],
   "source": [
    "num_cor = {\n",
    "    'A': 'Branca',\n",
    "    'B': 'Preta',\n",
    "    'C': 'Parda',\n",
    "    'D': 'Amarelo',\n",
    "    'E': 'Indígena',\n",
    "    'F': 'Não quero declarar',\n",
    "}"
   ]
  },
  {
   "cell_type": "code",
   "execution_count": 32,
   "metadata": {},
   "outputs": [],
   "source": [
    "num_sexo = {\n",
    "    'A': 'Masculino',\n",
    "    'B': 'Feminino'\n",
    "}"
   ]
  },
  {
   "cell_type": "code",
   "execution_count": 33,
   "metadata": {
    "pycharm": {
     "is_executing": false,
     "name": "#%%\n"
    }
   },
   "outputs": [],
   "source": [
    "filtro_de_colunas_resposta = ['serie', 'nota_lp', 'nota_mt', 'uf', 'municipio', 'regiao', 'area', 'sexo', 'raca']"
   ]
  },
  {
   "cell_type": "code",
   "execution_count": 34,
   "metadata": {
    "pycharm": {
     "is_executing": false,
     "name": "#%%\n"
    }
   },
   "outputs": [],
   "source": [
    "def filtrar_dados(serie_dados, nao_realizado=0, colunas=filtro_de_colunas_resposta):\n",
    "    \"\"\"\n",
    "    \n",
    "    :param serie_dados:     Série de dados carregados (DataFrame)\n",
    "    :param nao_realizado:   Número de ocorrências do Não Preenchimento de Prova\n",
    "    :param colunas:         Filtro de Colunas à serem aplicadas ao resultado de serie_dados\n",
    "    :param resposta_dados:  DataFrame de resposta, caso não seja vazio, os dados serão adicionados a ele \n",
    "    :return: \n",
    "        Dados Filtrado (DataFrame)\n",
    "        Quantidade não realizada de provas\n",
    "    \"\"\"\n",
    "    resposta_dados = []\n",
    "    i = 0\n",
    "    for r in serie_dados.to_numpy():  # [len(serie_dados.to_numpy())//2:]:\n",
    "        i = i + 1\n",
    "        not_lim = 500000\n",
    "        if 0 == i % not_lim:\n",
    "            print(f'iter {not_lim}, resp: {len(resposta_dados)}, {nao_realizado} => {len(resposta_dados) + nao_realizado}')\n",
    "        \n",
    "        nota_mt = 0\n",
    "        nota_pt = 0\n",
    "        \n",
    "        respostas_lp = [\n",
    "            [False for x in range(len(r[aluno_resp_bloco_1_lp]))],\n",
    "            [False for x in range(len(r[aluno_resp_bloco_2_lp]))]\n",
    "        ]\n",
    "        respostas_mt = [\n",
    "            [False for x in range(len(r[aluno_resp_bloco_1_mt]))],\n",
    "            [False for x in range(len(r[aluno_resp_bloco_2_mt]))]\n",
    "        ]\n",
    "        \n",
    "        # Quem não fez a prova é ignorado\n",
    "        if not bool(int(r[idx_preenchimento_prova])):\n",
    "            nao_realizado = nao_realizado + 1\n",
    "            continue\n",
    "        serie_aluno = r[idx_serie_aluno]\n",
    "        if serie_aluno in (12, 13):\n",
    "            # 12 - 3ª ou 4ª Série do Ensino Médio\n",
    "            # 13 - 3ª ou 4ª Série do Ensino Médio Integrado\n",
    "            serie_aluno = 3\n",
    "        for gab in df_gabarito.to_numpy():\n",
    "            # if gab['ID_SERIE'] == r['ID_SERIE']:\n",
    "            if gab[idx_gabarito] not in RESPOSTAS_INVALIDAS:\n",
    "                if gab[idx_serie_gab] == serie_aluno and\\\n",
    "                        (r[bloco_resp_1] == gab[bloco_gab] or r[bloco_resp_2] == gab[bloco_gab]):\n",
    "                    is_bloco_1 = r[bloco_resp_1] == gab[bloco_gab]\n",
    "                    if is_bloco_1 and r[bloco_resp_2] == gab[bloco_gab]:\n",
    "                        print ('bloco EDGE CASES!!')\n",
    "                    idx_r = 0 if is_bloco_1 else 1\n",
    "                    if gab[idx_disciplina] == 'LP':\n",
    "                        resp_aluno = str(r[aluno_resp_bloco_1_lp if is_bloco_1 else aluno_resp_bloco_2_lp])\n",
    "                        if (respostas_lp[idx_r])[gab[idx_posicao_gabarito]-1]:\n",
    "                            continue\n",
    "                        if resp_aluno[gab[idx_posicao_gabarito]-1] == gab[idx_gabarito]:\n",
    "                            nota_pt += 1\n",
    "                            (respostas_lp[idx_r])[gab[idx_posicao_gabarito]-1] = True\n",
    "                    elif gab[idx_disciplina] == 'MT':\n",
    "                        resp_aluno = str(r[aluno_resp_bloco_1_mt if is_bloco_1 else aluno_resp_bloco_2_mt])\n",
    "                        if (respostas_mt[idx_r])[gab[idx_posicao_gabarito]-1]:\n",
    "                            continue\n",
    "                        if resp_aluno[gab[idx_posicao_gabarito]-1] == gab[idx_gabarito]:\n",
    "                            nota_mt += 1\n",
    "                            (respostas_mt[idx_r])[gab[idx_posicao_gabarito]-1] = True\n",
    "        if nota_pt or nota_mt:\n",
    "            resposta_dados.append({\n",
    "                colunas[0]: serie_aluno,\n",
    "                colunas[1]: nota_pt,\n",
    "                colunas[2]: nota_mt,\n",
    "                colunas[3]: num_estados.get(r[idx_uf], r[idx_uf]),\n",
    "                colunas[4]: r[idx_municipio],\n",
    "                colunas[5]: num_regiao.get(r[idx_regiao], r[idx_regiao]),\n",
    "                colunas[6]: r[idx_area],\n",
    "                colunas[7]: num_sexo.get(r[idx_sexo], r[idx_sexo]),\n",
    "                colunas[8]: num_cor.get(r[idx_raca], r[idx_raca])\n",
    "            })\n",
    "            # ,\n",
    "            #     ignore_index=True\n",
    "            # )\n",
    "    return resposta_dados, nao_realizado"
   ]
  },
  {
   "cell_type": "markdown",
   "metadata": {
    "pycharm": {
     "is_executing": true,
     "name": "#%% md\n"
    }
   },
   "source": [
    "#### O filtro aplicado demora cerca de 25 minutos cada arquivo \n"
   ]
  },
  {
   "cell_type": "code",
   "execution_count": 35,
   "metadata": {
    "pycharm": {
     "is_executing": false
    }
   },
   "outputs": [],
   "source": [
    "dados_filtrados = pd.DataFrame(columns=filtro_de_colunas_resposta)"
   ]
  },
  {
   "cell_type": "code",
   "execution_count": 36,
   "metadata": {
    "pycharm": {
     "is_executing": false,
     "name": "#%%\n"
    }
   },
   "outputs": [
    {
     "name": "stdout",
     "output_type": "stream",
     "text": [
      "iter 500000, resp: 414225, 85584 => 499809\n",
      "iter 500000, resp: 832728, 166714 => 999442\n",
      "iter 500000, resp: 1255813, 243482 => 1499295\n",
      "iter 500000, resp: 1676644, 322523 => 1999167\n",
      "iter 500000, resp: 2089113, 409952 => 2499065\n"
     ]
    }
   ],
   "source": [
    "r_filtro, qtd_prova_nao_realizada_5SEM = filtrar_dados(\n",
    "    df_aluno_5EF, 0,\n",
    ")"
   ]
  },
  {
   "cell_type": "code",
   "execution_count": 37,
   "metadata": {
    "pycharm": {
     "is_executing": false,
     "name": "#%%\n"
    }
   },
   "outputs": [],
   "source": [
    "dados_filtrados = dados_filtrados.append(r_filtro, ignore_index=True)"
   ]
  },
  {
   "cell_type": "code",
   "execution_count": 38,
   "metadata": {
    "pycharm": {
     "is_executing": false,
     "name": "#%%\n"
    }
   },
   "outputs": [
    {
     "name": "stdout",
     "output_type": "stream",
     "text": [
      "iter 500000, resp: 399969, 99992 => 499961\n",
      "iter 500000, resp: 785626, 214289 => 999915\n",
      "iter 500000, resp: 1173429, 326447 => 1499876\n",
      "iter 500000, resp: 1550037, 449806 => 1999843\n"
     ]
    }
   ],
   "source": [
    "r_filtro, qtd_prova_nao_realizada_9SEM = filtrar_dados(\n",
    "    df_aluno_9EF, 0,\n",
    ")"
   ]
  },
  {
   "cell_type": "code",
   "execution_count": 39,
   "metadata": {
    "pycharm": {
     "is_executing": false,
     "name": "#%%\n"
    }
   },
   "outputs": [],
   "source": [
    "dados_filtrados = dados_filtrados.append(r_filtro, ignore_index=True)"
   ]
  },
  {
   "cell_type": "code",
   "execution_count": 40,
   "metadata": {
    "pycharm": {
     "is_executing": false,
     "name": "#%%\n"
    }
   },
   "outputs": [
    {
     "name": "stdout",
     "output_type": "stream",
     "text": [
      "iter 500000, resp: 499969, 0 => 499969\n",
      "iter 500000, resp: 999950, 0 => 999950\n"
     ]
    }
   ],
   "source": [
    "r_filtro, qtd_prova_nao_realizada_3EM = filtrar_dados(\n",
    "    df_aluno_3EM, 0,\n",
    ")"
   ]
  },
  {
   "cell_type": "code",
   "execution_count": 41,
   "metadata": {
    "pycharm": {
     "is_executing": false,
     "name": "#%%\n"
    }
   },
   "outputs": [],
   "source": [
    "dados_filtrados = dados_filtrados.append(r_filtro, ignore_index=True)"
   ]
  },
  {
   "cell_type": "code",
   "execution_count": 42,
   "metadata": {},
   "outputs": [
    {
     "data": {
      "text/html": [
       "<div>\n",
       "<style scoped>\n",
       "    .dataframe tbody tr th:only-of-type {\n",
       "        vertical-align: middle;\n",
       "    }\n",
       "\n",
       "    .dataframe tbody tr th {\n",
       "        vertical-align: top;\n",
       "    }\n",
       "\n",
       "    .dataframe thead th {\n",
       "        text-align: right;\n",
       "    }\n",
       "</style>\n",
       "<table border=\"1\" class=\"dataframe\">\n",
       "  <thead>\n",
       "    <tr style=\"text-align: right;\">\n",
       "      <th></th>\n",
       "      <th>serie</th>\n",
       "      <th>nota_lp</th>\n",
       "      <th>nota_mt</th>\n",
       "      <th>uf</th>\n",
       "      <th>municipio</th>\n",
       "      <th>regiao</th>\n",
       "      <th>area</th>\n",
       "      <th>sexo</th>\n",
       "      <th>raca</th>\n",
       "    </tr>\n",
       "  </thead>\n",
       "  <tbody>\n",
       "    <tr>\n",
       "      <th>2364859</th>\n",
       "      <td>9</td>\n",
       "      <td>14</td>\n",
       "      <td>10</td>\n",
       "      <td>AP</td>\n",
       "      <td>1600303</td>\n",
       "      <td>Norte</td>\n",
       "      <td>1</td>\n",
       "      <td>Feminino</td>\n",
       "      <td>Não quero declarar</td>\n",
       "    </tr>\n",
       "    <tr>\n",
       "      <th>598684</th>\n",
       "      <td>5</td>\n",
       "      <td>15</td>\n",
       "      <td>11</td>\n",
       "      <td>PE</td>\n",
       "      <td>2604106</td>\n",
       "      <td>Nordeste</td>\n",
       "      <td>2</td>\n",
       "      <td>Masculino</td>\n",
       "      <td>Parda</td>\n",
       "    </tr>\n",
       "    <tr>\n",
       "      <th>2978191</th>\n",
       "      <td>9</td>\n",
       "      <td>7</td>\n",
       "      <td>12</td>\n",
       "      <td>MG</td>\n",
       "      <td>3116605</td>\n",
       "      <td>Sudeste</td>\n",
       "      <td>2</td>\n",
       "      <td>Feminino</td>\n",
       "      <td>Parda</td>\n",
       "    </tr>\n",
       "    <tr>\n",
       "      <th>712746</th>\n",
       "      <td>5</td>\n",
       "      <td>3</td>\n",
       "      <td>5</td>\n",
       "      <td>AL</td>\n",
       "      <td>2709301</td>\n",
       "      <td>Nordeste</td>\n",
       "      <td>2</td>\n",
       "      <td>Masculino</td>\n",
       "      <td>Amarelo</td>\n",
       "    </tr>\n",
       "    <tr>\n",
       "      <th>2960551</th>\n",
       "      <td>9</td>\n",
       "      <td>12</td>\n",
       "      <td>9</td>\n",
       "      <td>MG</td>\n",
       "      <td>3106705</td>\n",
       "      <td>Sudeste</td>\n",
       "      <td>2</td>\n",
       "      <td>Masculino</td>\n",
       "      <td>Preta</td>\n",
       "    </tr>\n",
       "  </tbody>\n",
       "</table>\n",
       "</div>"
      ],
      "text/plain": [
       "        serie nota_lp nota_mt  uf municipio    regiao area       sexo  \\\n",
       "2364859     9      14      10  AP   1600303     Norte    1   Feminino   \n",
       "598684      5      15      11  PE   2604106  Nordeste    2  Masculino   \n",
       "2978191     9       7      12  MG   3116605   Sudeste    2   Feminino   \n",
       "712746      5       3       5  AL   2709301  Nordeste    2  Masculino   \n",
       "2960551     9      12       9  MG   3106705   Sudeste    2  Masculino   \n",
       "\n",
       "                       raca  \n",
       "2364859  Não quero declarar  \n",
       "598684                Parda  \n",
       "2978191               Parda  \n",
       "712746              Amarelo  \n",
       "2960551               Preta  "
      ]
     },
     "execution_count": 42,
     "metadata": {},
     "output_type": "execute_result"
    }
   ],
   "source": [
    "dados_filtrados.sample(5)"
   ]
  },
  {
   "cell_type": "code",
   "execution_count": 43,
   "metadata": {},
   "outputs": [],
   "source": [
    "fig_size = (6, 4)\n",
    "tamanho_dados = 20"
   ]
  },
  {
   "cell_type": "markdown",
   "metadata": {},
   "source": [
    "### Médias Com Dois Índices"
   ]
  },
  {
   "cell_type": "code",
   "execution_count": 44,
   "metadata": {},
   "outputs": [],
   "source": [
    "def conta_tamanho_grupo(grupo, grupo_buscado):\n",
    "    # print(f'grupo {grupo}, grupo_buscado {grupo_buscado} {type(grupo_buscado)}')\n",
    "    if not grupo_buscado:\n",
    "        return 1\n",
    "    gd = dados_filtrados.groupby(grupo).size()\n",
    "    i = False\n",
    "    p = False\n",
    "    if isinstance(grupo, (list, tuple)):\n",
    "        gd = gd.unstack()\n",
    "        cv = list(gd.columns.values)\n",
    "        if isinstance(grupo_buscado, (list, tuple)):\n",
    "            for g in grupo_buscado:\n",
    "                if g in cv:\n",
    "                    i = cv.index(g)\n",
    "                    p = grupo_buscado[0]\n",
    "        else:\n",
    "            print('gb', grupo_buscado)\n",
    "    else:\n",
    "        i = gd.index.contains(grupo_buscado)\n",
    "    if p:\n",
    "        return gd.unstack().xs((grupo_buscado[-1], p))\n",
    "    if i:\n",
    "        return gd[grupo_buscado]\n",
    "    print(f'nao encontrado {grupo_buscado} em {i}')\n",
    "    return 1"
   ]
  },
  {
   "cell_type": "markdown",
   "metadata": {
    "pycharm": {
     "is_executing": false
    }
   },
   "source": [
    "## Estudo Proposto"
   ]
  },
  {
   "cell_type": "markdown",
   "metadata": {
    "pycharm": {
     "name": "#%% md\n"
    }
   },
   "source": [
    "#### Contagem de Provas por Estado"
   ]
  },
  {
   "cell_type": "code",
   "execution_count": 45,
   "metadata": {},
   "outputs": [
    {
     "data": {
      "image/png": "[encoded data removed]",
      "text/plain": [
       "<Figure size 432x288 with 1 Axes>"
      ]
     },
     "metadata": {
      "needs_background": "light"
     },
     "output_type": "display_data"
    }
   ],
   "source": [
    "ax = dados_filtrados.groupby('uf').size().sort_values().head(tamanho_dados).plot.barh(\n",
    "    figsize=fig_size\n",
    ")\n",
    "ax.set_xlabel('Quantidade')\n",
    "ax = ax.set_ylabel('Estados')"
   ]
  },
  {
   "cell_type": "markdown",
   "metadata": {
    "pycharm": {
     "is_executing": false,
     "name": "#%%\n"
    }
   },
   "source": [
    "#  TO-DO"
   ]
  },
  {
   "cell_type": "code",
   "execution_count": 46,
   "metadata": {},
   "outputs": [
    {
     "name": "stdout",
     "output_type": "stream",
     "text": [
      "Foram aplicadas um Total de 5455474 provas em todo país.\n",
      "\r",
      "    430442 alunos da 5ª série do Ensino Fundamental Não Participaram\n",
      "\r",
      "    534682 alunos da 9ª série do Ensino Fundamental Não Estavam Presentes\n",
      "\r",
      "    0 alunos do 3ª ano do Ensino Médio Não Fizeram a Prova\n"
     ]
    }
   ],
   "source": [
    "print(\n",
    "    f'Foram aplicadas um Total de {len(dados_filtrados)} provas em todo país.\\n\\r\\\n",
    "    {qtd_prova_nao_realizada_5SEM} alunos da 5ª série do Ensino Fundamental Não Participaram\\n\\r\\\n",
    "    {qtd_prova_nao_realizada_9SEM} alunos da 9ª série do Ensino Fundamental Não Estavam Presentes\\n\\r\\\n",
    "    {qtd_prova_nao_realizada_3EM} alunos do 3ª ano do Ensino Médio Não Fizeram a Prova'\n",
    ")"
   ]
  },
  {
   "cell_type": "code",
   "execution_count": 47,
   "metadata": {
    "pycharm": {
     "is_executing": false,
     "name": "#%%\n"
    }
   },
   "outputs": [
    {
     "data": {
      "image/png": "[encoded data removed]",
      "text/plain": [
       "<Figure size 432x288 with 1 Axes>"
      ]
     },
     "metadata": {
      "needs_background": "light"
     },
     "output_type": "display_data"
    }
   ],
   "source": [
    "ax = dados_filtrados.groupby(['uf', 'serie']).size().sort_values().head(tamanho_dados).plot(\n",
    "    kind='barh',\n",
    "    figsize=fig_size\n",
    ")\n",
    "ax.set_xlabel('Quantidade')\n",
    "ax = ax.set_ylabel('Estados')"
   ]
  },
  {
   "cell_type": "code",
   "execution_count": 48,
   "metadata": {
    "pycharm": {
     "is_executing": false,
     "name": "#%%\n"
    }
   },
   "outputs": [
    {
     "data": {
      "image/png": "[encoded data removed]",
      "text/plain": [
       "<Figure size 432x288 with 1 Axes>"
      ]
     },
     "metadata": {
      "needs_background": "light"
     },
     "output_type": "display_data"
    }
   ],
   "source": [
    "ax = dados_filtrados.groupby(['uf', 'serie'])[['nota_lp', 'nota_mt']].sum()\\\n",
    ".sort_values(by=['nota_lp', 'nota_mt'])\\\n",
    ".head(tamanho_dados)\\\n",
    ".apply(\n",
    "    lambda x: x / conta_tamanho_grupo(['uf', 'serie'], x.name), axis=1\n",
    ")\n",
    "ax = ax.plot(\n",
    "    kind='bar',\n",
    "    figsize=fig_size\n",
    ")\n",
    "ax.legend([\n",
    "    'LP Ensino Médio', 'LP 5ª Série', 'LP 9ª Série',\n",
    "    'MT Ensino Médio', 'MT 5ª Série', 'MT 9ª Série'\n",
    "]\n",
    "    , frameon=True\n",
    "    , loc='best'\n",
    ")\n",
    "ax.set_ylabel('Nota')\n",
    "ax = ax.set_xlabel('Estado, Série')"
   ]
  },
  {
   "cell_type": "markdown",
   "metadata": {},
   "source": [
    "### Média de Nota Disposta sobre os Estados"
   ]
  },
  {
   "cell_type": "markdown",
   "metadata": {},
   "source": [
    "### Média Geral de Notas"
   ]
  },
  {
   "cell_type": "code",
   "execution_count": 49,
   "metadata": {},
   "outputs": [
    {
     "name": "stdout",
     "output_type": "stream",
     "text": [
      "nota_mt    11.540920\n",
      "nota_lp    14.642207\n",
      "dtype: float64\n"
     ]
    },
    {
     "data": {
      "image/png": "[encoded data removed]",
      "text/plain": [
       "<Figure size 432x288 with 1 Axes>"
      ]
     },
     "metadata": {
      "needs_background": "light"
     },
     "output_type": "display_data"
    }
   ],
   "source": [
    "ax = dados_filtrados[['nota_lp', 'nota_mt']].mean().sort_values()\n",
    "print(ax)\n",
    "ax = ax.plot(kind='bar')\n",
    "ax = ax.set_ylabel('Nota')"
   ]
  },
  {
   "cell_type": "markdown",
   "metadata": {},
   "source": [
    "#### Médias Por Região"
   ]
  },
  {
   "cell_type": "code",
   "execution_count": 50,
   "metadata": {},
   "outputs": [
    {
     "data": {
      "image/png": "[encoded data removed]",
      "text/plain": [
       "<Figure size 432x288 with 2 Axes>"
      ]
     },
     "metadata": {},
     "output_type": "display_data"
    },
    {
     "data": {
      "image/png": "[encoded data removed]",
      "text/plain": [
       "<Figure size 432x288 with 1 Axes>"
      ]
     },
     "metadata": {
      "needs_background": "light"
     },
     "output_type": "display_data"
    }
   ],
   "source": [
    "ax = dados_filtrados.groupby('regiao')[['nota_lp', 'nota_mt']].sum()\\\n",
    ".sort_values(by=['nota_lp', 'nota_mt'])\\\n",
    ".head(tamanho_dados)\\\n",
    ".apply(\n",
    "    lambda x: x / conta_tamanho_grupo('regiao', x.name), axis=1\n",
    ")\n",
    "\n",
    "ax.plot.pie(\n",
    "    subplots=True, figsize=fig_size,\n",
    "    legend=False,\n",
    "    title=['Língua Portuguesa', 'Matemática']\n",
    ")\n",
    "\n",
    "ax = ax.plot(\n",
    "    kind='area',\n",
    "    stacked=True\n",
    ")\n",
    "ax.set_ylabel('Nota')\n",
    "ax = ax.set_xlabel('Região')\n"
   ]
  },
  {
   "cell_type": "markdown",
   "metadata": {},
   "source": [
    "#### Por Estados"
   ]
  },
  {
   "cell_type": "code",
   "execution_count": 51,
   "metadata": {
    "pycharm": {
     "is_executing": false,
     "name": "#%%\n"
    }
   },
   "outputs": [
    {
     "data": {
      "image/png": "[encoded data removed]",
      "text/plain": [
       "<Figure size 432x288 with 2 Axes>"
      ]
     },
     "metadata": {},
     "output_type": "display_data"
    }
   ],
   "source": [
    "ax = dados_filtrados.groupby('uf')[['nota_lp', 'nota_mt']].sum()\\\n",
    ".sort_values(by=['nota_lp', 'nota_mt'])\\\n",
    ".head(tamanho_dados)\\\n",
    ".apply(\n",
    "    lambda x: x / len(dados_filtrados)\n",
    ").plot.pie(\n",
    "    subplots=True, figsize=fig_size,\n",
    "    title=['Língua Portuguesa', 'Matemática']\n",
    ")"
   ]
  },
  {
   "cell_type": "code",
   "execution_count": 52,
   "metadata": {
    "pycharm": {
     "is_executing": false,
     "name": "#%%\n"
    }
   },
   "outputs": [
    {
     "data": {
      "image/png": "[encoded data removed]",
      "text/plain": [
       "<Figure size 432x288 with 2 Axes>"
      ]
     },
     "metadata": {},
     "output_type": "display_data"
    }
   ],
   "source": [
    "ax = dados_filtrados.groupby('uf')[['nota_lp', 'nota_mt']].sum()\\\n",
    ".sort_values(by=['nota_lp', 'nota_mt'])\\\n",
    ".head(tamanho_dados)\\\n",
    ".apply(\n",
    "    lambda x: x / conta_tamanho_grupo('uf', x.name), axis=1\n",
    ").plot.pie(\n",
    "    subplots=True, figsize=fig_size,\n",
    "    legend=False, title=['Língua Portuguesa', 'Matemática']\n",
    ")"
   ]
  },
  {
   "cell_type": "markdown",
   "metadata": {},
   "source": [
    "### Disparidades Entre Aprendizagem"
   ]
  },
  {
   "cell_type": "markdown",
   "metadata": {},
   "source": [
    "### Por Gênero"
   ]
  },
  {
   "cell_type": "code",
   "execution_count": 53,
   "metadata": {},
   "outputs": [
    {
     "name": "stdout",
     "output_type": "stream",
     "text": [
      "           Língua Portuguesa  Matemática\n",
      "sexo                                    \n",
      "Masculino          14.177982   11.995238\n",
      "Feminino           15.354572   11.304061\n"
     ]
    },
    {
     "data": {
      "image/png": "[encoded data removed]",
      "text/plain": [
       "<Figure size 432x288 with 2 Axes>"
      ]
     },
     "metadata": {},
     "output_type": "display_data"
    }
   ],
   "source": [
    "ax = dados_filtrados.groupby('sexo')[['nota_lp', 'nota_mt']].sum()\\\n",
    ".sort_values(by=['nota_lp', 'nota_mt'])\\\n",
    ".head(tamanho_dados)\\\n",
    ".apply(\n",
    "    lambda x: x / conta_tamanho_grupo('sexo', x.name), axis=1\n",
    ")\n",
    "ax.columns = ['Língua Portuguesa', 'Matemática']\n",
    "print(ax)\n",
    "ax.columns = [None, None]\n",
    "pl = ax.plot.pie(\n",
    "    subplots=True, figsize=fig_size,\n",
    "    autopct='%.0f%%',\n",
    "    # labels=['Masculino', 'Feminino'],\n",
    "    legend=False,\n",
    "    title=['Língua Portuguesa', 'Matemática']\n",
    ")\n"
   ]
  },
  {
   "cell_type": "markdown",
   "metadata": {
    "pycharm": {
     "is_executing": true,
     "name": "#%%\n"
    }
   },
   "source": [
    "### Por Gênero e Estado"
   ]
  },
  {
   "cell_type": "markdown",
   "metadata": {},
   "source": [
    "#### Língua Portguesa"
   ]
  },
  {
   "cell_type": "code",
   "execution_count": 54,
   "metadata": {
    "pycharm": {
     "is_executing": false,
     "name": "#%%\n"
    }
   },
   "outputs": [
    {
     "data": {
      "image/png": "[encoded data removed]",
      "text/plain": [
       "<Figure size 432x288 with 1 Axes>"
      ]
     },
     "metadata": {
      "needs_background": "light"
     },
     "output_type": "display_data"
    }
   ],
   "source": [
    "ax = dados_filtrados.groupby(['uf', 'sexo'])[['nota_lp']].sum()\\\n",
    ".sort_values(by=['nota_lp'])\\\n",
    ".head(tamanho_dados)\\\n",
    ".apply(\n",
    "    lambda x: x / conta_tamanho_grupo(['uf', 'sexo'], x.name), axis=1\n",
    ").plot(\n",
    "    kind='bar', stacked=False,\n",
    "    figsize=fig_size\n",
    ")\n",
    "ax.legend(\n",
    "    ['Língua Portuguesa'],\n",
    "    loc='best'\n",
    ")\n",
    "\n",
    "ax.set_ylabel('Nota')\n",
    "ax = ax.set_xlabel('Estado, Sexo')"
   ]
  },
  {
   "cell_type": "markdown",
   "metadata": {},
   "source": [
    "#### Matemática"
   ]
  },
  {
   "cell_type": "code",
   "execution_count": 55,
   "metadata": {
    "pycharm": {
     "is_executing": false,
     "name": "#%%\n"
    }
   },
   "outputs": [
    {
     "data": {
      "image/png": "[encoded data removed]",
      "text/plain": [
       "<Figure size 432x288 with 1 Axes>"
      ]
     },
     "metadata": {
      "needs_background": "light"
     },
     "output_type": "display_data"
    }
   ],
   "source": [
    "ax = dados_filtrados.groupby(['uf', 'sexo'])[['nota_mt']].sum()\\\n",
    ".sort_values(by=['nota_mt'])\\\n",
    ".head(tamanho_dados)\\\n",
    ".apply(\n",
    "    lambda x: x / conta_tamanho_grupo(['uf', 'sexo'], x.name), axis=1\n",
    ").plot(\n",
    "    kind='bar', stacked=False,\n",
    "    figsize=fig_size\n",
    ")\n",
    "ax.legend(\n",
    "    ['Matemática'],\n",
    "    loc='best'\n",
    ")\n",
    "\n",
    "ax.set_ylabel('Nota')\n",
    "ax = ax.set_xlabel('Estado, Sexo')"
   ]
  },
  {
   "cell_type": "markdown",
   "metadata": {
    "pycharm": {
     "is_executing": false,
     "name": "#%%\n"
    }
   },
   "source": [
    "### Por Raça"
   ]
  },
  {
   "cell_type": "code",
   "execution_count": 56,
   "metadata": {
    "pycharm": {
     "is_executing": false,
     "name": "#%%\n"
    }
   },
   "outputs": [
    {
     "data": {
      "image/png": "[encoded data removed]",
      "text/plain": [
       "<Figure size 432x288 with 1 Axes>"
      ]
     },
     "metadata": {
      "needs_background": "light"
     },
     "output_type": "display_data"
    }
   ],
   "source": [
    "ax = dados_filtrados.groupby('raca')[['nota_lp']].sum()\\\n",
    ".sort_values(by='raca')\\\n",
    ".head(tamanho_dados)\\\n",
    ".apply(\n",
    "    lambda x: x / conta_tamanho_grupo('raca', x.name), axis=1\n",
    ").plot(\n",
    "    kind='area', stacked=False,\n",
    "    figsize=fig_size, legend=False,\n",
    "    subplots=True, title='Língua Portuguesa'\n",
    ")"
   ]
  },
  {
   "cell_type": "code",
   "execution_count": 57,
   "metadata": {},
   "outputs": [
    {
     "data": {
      "image/png": "[encoded data removed]",
      "text/plain": [
       "<Figure size 432x288 with 1 Axes>"
      ]
     },
     "metadata": {
      "needs_background": "light"
     },
     "output_type": "display_data"
    }
   ],
   "source": [
    "ax = dados_filtrados.groupby('raca')[['nota_mt']].sum()\\\n",
    ".sort_values(by='raca')\\\n",
    ".head(tamanho_dados)\\\n",
    ".apply(\n",
    "    lambda x: x / conta_tamanho_grupo('raca', x.name), axis=1\n",
    ").plot(\n",
    "    kind='area', stacked=False,\n",
    "    figsize=fig_size, legend=False,\n",
    "    subplots=True, title='Matemática'\n",
    ")"
   ]
  },
  {
   "cell_type": "code",
   "execution_count": null,
   "metadata": {},
   "outputs": [],
   "source": []
  },
  {
   "cell_type": "code",
   "execution_count": null,
   "metadata": {},
   "outputs": [],
   "source": []
  }
 ],
 "metadata": {
  "kernelspec": {
   "display_name": "Python 3",
   "language": "python",
   "name": "python3"
  },
  "language_info": {
   "codemirror_mode": {
    "name": "ipython",
    "version": 3
   },
   "file_extension": ".py",
   "mimetype": "text/x-python",
   "name": "python",
   "nbconvert_exporter": "python",
   "pygments_lexer": "ipython3",
   "version": "3.7.3"
  },
  "pycharm": {
   "stem_cell": {
    "cell_type": "raw",
    "metadata": {
     "collapsed": false
    },
    "source": []
   }
  }
 },
 "nbformat": 4,
 "nbformat_minor": 2
}
