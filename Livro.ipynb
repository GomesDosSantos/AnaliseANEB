{
 "cells": [
  {
   "cell_type": "code",
   "execution_count": 1,
   "metadata": {
    "pycharm": {
     "is_executing": false
    }
   },
   "outputs": [],
   "source": [
    "import pandas as pd\n",
    "import matplotlib as mplot"
   ]
  },
  {
   "cell_type": "code",
   "execution_count": 2,
   "metadata": {
    "pycharm": {
     "is_executing": false
    }
   },
   "outputs": [],
   "source": [
    "%matplotlib inline"
   ]
  },
  {
   "cell_type": "code",
   "execution_count": 3,
   "metadata": {
    "pycharm": {
     "is_executing": false
    }
   },
   "outputs": [],
   "source": [
    "pd.options.display.max_columns = 25\n",
    "pd.options.display.max_rows = 10"
   ]
  },
  {
   "cell_type": "markdown",
   "metadata": {},
   "source": [
    "### Arquivos extraídos do Microdados INEP"
   ]
  },
  {
   "cell_type": "code",
   "execution_count": 4,
   "metadata": {
    "pycharm": {
     "is_executing": false
    }
   },
   "outputs": [],
   "source": [
    "file_resp = '../dados/TS_ITEM.csv'\n",
    "file_alunos_3EM_ESC = '../dados/TS_ALUNO_3EM_ESC.csv'\n",
    "# file_alunos_3EM_AG = '../dados/TS_ALUNO_3EM_AG.csv'\n",
    "file_alunos_9EF = '../dados/TS_ALUNO_9EF.csv'\n",
    "file_alunos_5EF = '../dados/TS_ALUNO_5EF.csv'"
   ]
  },
  {
   "cell_type": "markdown",
   "metadata": {},
   "source": [
    "### Conjunto Definido de Colunas à Serem Utilizadas"
   ]
  },
  {
   "cell_type": "code",
   "execution_count": 5,
   "metadata": {},
   "outputs": [],
   "source": [
    "RESPOSTAS_INVALIDAS = ['X', '.', '*', ' ', '']"
   ]
  },
  {
   "cell_type": "markdown",
   "metadata": {
    "pycharm": {
     "name": "#%% md\n"
    }
   },
   "source": [
    "##### Identificadores das Colunas"
   ]
  },
  {
   "cell_type": "code",
   "execution_count": 6,
   "metadata": {
    "pycharm": {
     "is_executing": false,
     "name": "#%%\n"
    }
   },
   "outputs": [],
   "source": [
    "ID_SERIE = 'ID_SERIE'\n",
    "TIPO_PROVA = 'TIPO_PROVA'\n",
    "DISCIPLINA = 'DISCIPLINA'\n",
    "ID_SERIE_ITEM = 'ID_SERIE_ITEM'\n",
    "ID_BLOCO = 'ID_BLOCO'\n",
    "ID_POSICAO = 'ID_POSICAO'\n",
    "GABARITO = 'GABARITO'\n",
    "ID_PROVA_BRASIL = 'ID_PROVA_BRASIL' # Ano da Prova, pode ser ignorado, pois os arquivos são baixados por ano\n",
    "ID_UF = 'ID_UF'\n",
    "ID_MUNICIPIO = 'ID_MUNICIPIO'"
   ]
  },
  {
   "cell_type": "markdown",
   "metadata": {},
   "source": [
    "##### Preenchimento Prova"
   ]
  },
  {
   "cell_type": "code",
   "execution_count": 7,
   "metadata": {},
   "outputs": [],
   "source": [
    "ID_ALUNO = 'ID_ALUNO'\n",
    "IN_PREENCHIMENTO_PROVA = 'IN_PREENCHIMENTO_PROVA'\n",
    "IN_PRESENCA_PROVA = 'IN_PRESENCA_PROVA'\n",
    "ID_REGIAO = 'ID_REGIAO'\n",
    "ID_AREA = 'ID_AREA'"
   ]
  },
  {
   "cell_type": "markdown",
   "metadata": {},
   "source": [
    "##### Respostas da Prova"
   ]
  },
  {
   "cell_type": "code",
   "execution_count": 8,
   "metadata": {},
   "outputs": [],
   "source": [
    "ID_BLOCO_1 = 'ID_BLOCO_1'\n",
    "ID_BLOCO_2 = 'ID_BLOCO_2'\n",
    "TX_RESP_BLOCO_1_LP = 'TX_RESP_BLOCO_1_LP'\n",
    "TX_RESP_BLOCO_2_LP = 'TX_RESP_BLOCO_2_LP'\n",
    "TX_RESP_BLOCO_1_MT = 'TX_RESP_BLOCO_1_MT'\n",
    "TX_RESP_BLOCO_2_MT = 'TX_RESP_BLOCO_2_MT'"
   ]
  },
  {
   "cell_type": "markdown",
   "metadata": {},
   "source": [
    "##### Proeficiência do ALuno"
   ]
  },
  {
   "cell_type": "code",
   "execution_count": 9,
   "metadata": {},
   "outputs": [],
   "source": [
    "PESO_ALUNO_LP = 'PESO_ALUNO_LP'\n",
    "PESO_ALUNO_MT = 'PESO_ALUNO_MT'\n",
    "PROFICIENCIA_LP = 'PROFICIENCIA_LP'\n",
    "ERRO_PADRAO_LP = 'ERRO_PADRAO_LP'\n",
    "PROFICIENCIA_LP_SAEB = 'PROFICIENCIA_LP_SAEB'\n",
    "ERRO_PADRAO_LP_SAEB = 'ERRO_PADRAO_LP_SAEB'\n",
    "PROFICIENCIA_MT = 'PROFICIENCIA_MT'\n",
    "ERRO_PADRAO_MT = 'ERRO_PADRAO_MT'\n",
    "PROFICIENCIA_MT_SAEB = 'PROFICIENCIA_MT_SAEB'\n",
    "ERRO_PADRAO_MT_SAEB = 'ERRO_PADRAO_MT_SAEB'"
   ]
  },
  {
   "cell_type": "markdown",
   "metadata": {},
   "source": [
    "##### Questionário Socioeconômico"
   ]
  },
  {
   "cell_type": "code",
   "execution_count": 10,
   "metadata": {},
   "outputs": [],
   "source": [
    "IN_PREENCHIMENTO_QUESTIONARIO = 'IN_PREENCHIMENTO_QUESTIONARIO'\n",
    "TX_RESP_Q001 = 'TX_RESP_Q001' # Sexo\n",
    "TX_RESP_Q002 = 'TX_RESP_Q002' # Cor/Raça"
   ]
  },
  {
   "cell_type": "code",
   "execution_count": 11,
   "metadata": {
    "pycharm": {
     "is_executing": false
    }
   },
   "outputs": [],
   "source": [
    "colunas_resp = [\n",
    "    ID_SERIE, TIPO_PROVA, DISCIPLINA,\n",
    "    ID_SERIE_ITEM, ID_BLOCO, ID_POSICAO,\n",
    "    GABARITO\n",
    "]"
   ]
  },
  {
   "cell_type": "code",
   "execution_count": 12,
   "metadata": {
    "pycharm": {
     "is_executing": false
    }
   },
   "outputs": [],
   "source": [
    "colunas_aluno = [\n",
    "    ID_UF, ID_MUNICIPIO, ID_REGIAO, ID_AREA,\n",
    "    ID_SERIE, IN_PREENCHIMENTO_PROVA,\n",
    "    ID_BLOCO_1, ID_BLOCO_2,\n",
    "    TX_RESP_BLOCO_1_LP, TX_RESP_BLOCO_2_LP,\n",
    "    TX_RESP_BLOCO_1_MT, TX_RESP_BLOCO_2_MT,\n",
    "    PROFICIENCIA_LP,\n",
    "    PROFICIENCIA_MT,\n",
    "    TX_RESP_Q001,\n",
    "    TX_RESP_Q002\n",
    "]"
   ]
  },
  {
   "cell_type": "markdown",
   "metadata": {},
   "source": [
    "### Arquivos"
   ]
  },
  {
   "cell_type": "markdown",
   "metadata": {},
   "source": [
    "#### Gabarito, 666 itens corrigidos (+36KB)\n",
    "\n",
    "#### 5SEM,     2.624.019 provas (+360MB)\n",
    "#### 9SEM,     2.341.459 provas (+321MB)\n",
    "#### 3SEMAG,   1.966.507 provas (+270MB)\n",
    "###### 3SEMESC,  1.456.325 provas (+200MB)"
   ]
  },
  {
   "cell_type": "code",
   "execution_count": 13,
   "metadata": {
    "pycharm": {
     "is_executing": false
    }
   },
   "outputs": [],
   "source": [
    "df_gabarito = pd.read_csv(\n",
    "    file_resp,\n",
    "    delimiter=';', encoding='iso-8859-1',\n",
    "    usecols=colunas_resp,\n",
    "    # low_memory=True\n",
    ")"
   ]
  },
  {
   "cell_type": "code",
   "execution_count": 14,
   "metadata": {
    "pycharm": {
     "is_executing": false
    }
   },
   "outputs": [
    {
     "data": {
      "text/html": [
       "<div>\n",
       "<style scoped>\n",
       "    .dataframe tbody tr th:only-of-type {\n",
       "        vertical-align: middle;\n",
       "    }\n",
       "\n",
       "    .dataframe tbody tr th {\n",
       "        vertical-align: top;\n",
       "    }\n",
       "\n",
       "    .dataframe thead th {\n",
       "        text-align: right;\n",
       "    }\n",
       "</style>\n",
       "<table border=\"1\" class=\"dataframe\">\n",
       "  <thead>\n",
       "    <tr style=\"text-align: right;\">\n",
       "      <th></th>\n",
       "      <th>ID_SERIE</th>\n",
       "      <th>TIPO_PROVA</th>\n",
       "      <th>DISCIPLINA</th>\n",
       "      <th>ID_SERIE_ITEM</th>\n",
       "      <th>ID_BLOCO</th>\n",
       "      <th>ID_POSICAO</th>\n",
       "      <th>GABARITO</th>\n",
       "    </tr>\n",
       "  </thead>\n",
       "  <tbody>\n",
       "    <tr>\n",
       "      <th>624</th>\n",
       "      <td>9</td>\n",
       "      <td>Prova Regular</td>\n",
       "      <td>MT</td>\n",
       "      <td>9</td>\n",
       "      <td>6</td>\n",
       "      <td>11</td>\n",
       "      <td>D</td>\n",
       "    </tr>\n",
       "    <tr>\n",
       "      <th>172</th>\n",
       "      <td>3</td>\n",
       "      <td>Prova Regular</td>\n",
       "      <td>MT</td>\n",
       "      <td>3</td>\n",
       "      <td>5</td>\n",
       "      <td>4</td>\n",
       "      <td>E</td>\n",
       "    </tr>\n",
       "    <tr>\n",
       "      <th>341</th>\n",
       "      <td>5</td>\n",
       "      <td>Prova Regular</td>\n",
       "      <td>MT</td>\n",
       "      <td>5</td>\n",
       "      <td>1</td>\n",
       "      <td>9</td>\n",
       "      <td>B</td>\n",
       "    </tr>\n",
       "    <tr>\n",
       "      <th>236</th>\n",
       "      <td>5</td>\n",
       "      <td>Prova Regular</td>\n",
       "      <td>LP</td>\n",
       "      <td>5</td>\n",
       "      <td>1</td>\n",
       "      <td>3</td>\n",
       "      <td>B</td>\n",
       "    </tr>\n",
       "    <tr>\n",
       "      <th>444</th>\n",
       "      <td>9</td>\n",
       "      <td>Prova Regular</td>\n",
       "      <td>LP</td>\n",
       "      <td>9</td>\n",
       "      <td>1</td>\n",
       "      <td>13</td>\n",
       "      <td>C</td>\n",
       "    </tr>\n",
       "    <tr>\n",
       "      <th>556</th>\n",
       "      <td>9</td>\n",
       "      <td>Prova Regular</td>\n",
       "      <td>MT</td>\n",
       "      <td>5</td>\n",
       "      <td>1</td>\n",
       "      <td>8</td>\n",
       "      <td>C</td>\n",
       "    </tr>\n",
       "    <tr>\n",
       "      <th>661</th>\n",
       "      <td>9</td>\n",
       "      <td>Macrotipo 18 e 24</td>\n",
       "      <td>MT</td>\n",
       "      <td>5</td>\n",
       "      <td>2</td>\n",
       "      <td>9</td>\n",
       "      <td>B</td>\n",
       "    </tr>\n",
       "    <tr>\n",
       "      <th>354</th>\n",
       "      <td>5</td>\n",
       "      <td>Prova Regular</td>\n",
       "      <td>MT</td>\n",
       "      <td>5</td>\n",
       "      <td>2</td>\n",
       "      <td>11</td>\n",
       "      <td>B</td>\n",
       "    </tr>\n",
       "    <tr>\n",
       "      <th>356</th>\n",
       "      <td>5</td>\n",
       "      <td>Prova Regular</td>\n",
       "      <td>MT</td>\n",
       "      <td>5</td>\n",
       "      <td>3</td>\n",
       "      <td>2</td>\n",
       "      <td>A</td>\n",
       "    </tr>\n",
       "    <tr>\n",
       "      <th>502</th>\n",
       "      <td>9</td>\n",
       "      <td>Prova Regular</td>\n",
       "      <td>LP</td>\n",
       "      <td>9</td>\n",
       "      <td>6</td>\n",
       "      <td>6</td>\n",
       "      <td>C</td>\n",
       "    </tr>\n",
       "  </tbody>\n",
       "</table>\n",
       "</div>"
      ],
      "text/plain": [
       "     ID_SERIE         TIPO_PROVA DISCIPLINA  ID_SERIE_ITEM  ID_BLOCO  \\\n",
       "624         9      Prova Regular         MT              9         6   \n",
       "172         3      Prova Regular         MT              3         5   \n",
       "341         5      Prova Regular         MT              5         1   \n",
       "236         5      Prova Regular         LP              5         1   \n",
       "444         9      Prova Regular         LP              9         1   \n",
       "556         9      Prova Regular         MT              5         1   \n",
       "661         9  Macrotipo 18 e 24         MT              5         2   \n",
       "354         5      Prova Regular         MT              5         2   \n",
       "356         5      Prova Regular         MT              5         3   \n",
       "502         9      Prova Regular         LP              9         6   \n",
       "\n",
       "     ID_POSICAO GABARITO  \n",
       "624          11        D  \n",
       "172           4        E  \n",
       "341           9        B  \n",
       "236           3        B  \n",
       "444          13        C  \n",
       "556           8        C  \n",
       "661           9        B  \n",
       "354          11        B  \n",
       "356           2        A  \n",
       "502           6        C  "
      ]
     },
     "execution_count": 14,
     "metadata": {},
     "output_type": "execute_result"
    }
   ],
   "source": [
    "df_gabarito.sample(10)"
   ]
  },
  {
   "cell_type": "code",
   "execution_count": 15,
   "metadata": {
    "pycharm": {
     "is_executing": false
    }
   },
   "outputs": [
    {
     "name": "stdout",
     "output_type": "stream",
     "text": [
      "<class 'pandas.core.frame.DataFrame'>\n",
      "RangeIndex: 666 entries, 0 to 665\n",
      "Data columns (total 7 columns):\n",
      "ID_SERIE         666 non-null int64\n",
      "TIPO_PROVA       666 non-null object\n",
      "DISCIPLINA       666 non-null object\n",
      "ID_SERIE_ITEM    666 non-null int64\n",
      "ID_BLOCO         666 non-null int64\n",
      "ID_POSICAO       666 non-null int64\n",
      "GABARITO         666 non-null object\n",
      "dtypes: int64(4), object(3)\n",
      "memory usage: 36.5+ KB\n"
     ]
    }
   ],
   "source": [
    "df_gabarito.info()"
   ]
  },
  {
   "cell_type": "markdown",
   "metadata": {},
   "source": [
    "Geralmente 15 segundos para carregar o conjunto de dados selecionado"
   ]
  },
  {
   "cell_type": "code",
   "execution_count": 16,
   "metadata": {
    "pycharm": {
     "is_executing": false
    }
   },
   "outputs": [],
   "source": [
    "df_aluno_5EF = pd.read_csv(\n",
    "    file_alunos_5EF,\n",
    "    delimiter=',', encoding='iso-8859-1',\n",
    "    usecols=colunas_aluno,\n",
    "    low_memory=True, \n",
    "    nrows=20000  # Para fazer testes com os dados\n",
    ")"
   ]
  },
  {
   "cell_type": "code",
   "execution_count": 17,
   "metadata": {
    "pycharm": {
     "is_executing": false,
     "name": "#%%\n"
    }
   },
   "outputs": [],
   "source": [
    "df_aluno_9EF = pd.read_csv(\n",
    "    file_alunos_9EF,\n",
    "    delimiter=',', encoding='iso-8859-1',\n",
    "    usecols=colunas_aluno,\n",
    "    low_memory=True,\n",
    "    nrows=20000  # Para fazer testes com os dados\n",
    ")"
   ]
  },
  {
   "cell_type": "code",
   "execution_count": 18,
   "metadata": {
    "pycharm": {
     "is_executing": false,
     "name": "#%%\n"
    }
   },
   "outputs": [],
   "source": [
    "# df_aluno_3EM_AG = pd.read_csv(\n",
    "#     file_alunos_3EM_AG,\n",
    "#     delimiter=',', encoding='iso-8859-1',\n",
    "#     usecols=colunas_aluno,\n",
    "#     low_memory=True, \n",
    "# )"
   ]
  },
  {
   "cell_type": "code",
   "execution_count": 19,
   "metadata": {
    "pycharm": {
     "is_executing": false,
     "name": "#%%\n"
    }
   },
   "outputs": [],
   "source": [
    "df_aluno_3EM = pd.read_csv(\n",
    "    file_alunos_3EM_ESC,\n",
    "    delimiter=',', encoding='iso-8859-1',\n",
    "    usecols=colunas_aluno,\n",
    "    low_memory=True,\n",
    "    nrows=20000  # Para fazer testes com os dados\n",
    ")"
   ]
  },
  {
   "cell_type": "code",
   "execution_count": 20,
   "metadata": {
    "pycharm": {
     "is_executing": false
    },
    "scrolled": true
   },
   "outputs": [
    {
     "data": {
      "text/html": [
       "<div>\n",
       "<style scoped>\n",
       "    .dataframe tbody tr th:only-of-type {\n",
       "        vertical-align: middle;\n",
       "    }\n",
       "\n",
       "    .dataframe tbody tr th {\n",
       "        vertical-align: top;\n",
       "    }\n",
       "\n",
       "    .dataframe thead th {\n",
       "        text-align: right;\n",
       "    }\n",
       "</style>\n",
       "<table border=\"1\" class=\"dataframe\">\n",
       "  <thead>\n",
       "    <tr style=\"text-align: right;\">\n",
       "      <th></th>\n",
       "      <th>ID_REGIAO</th>\n",
       "      <th>ID_UF</th>\n",
       "      <th>ID_MUNICIPIO</th>\n",
       "      <th>ID_AREA</th>\n",
       "      <th>ID_SERIE</th>\n",
       "      <th>IN_PREENCHIMENTO_PROVA</th>\n",
       "      <th>ID_BLOCO_1</th>\n",
       "      <th>ID_BLOCO_2</th>\n",
       "      <th>TX_RESP_BLOCO_1_LP</th>\n",
       "      <th>TX_RESP_BLOCO_2_LP</th>\n",
       "      <th>TX_RESP_BLOCO_1_MT</th>\n",
       "      <th>TX_RESP_BLOCO_2_MT</th>\n",
       "      <th>PROFICIENCIA_LP</th>\n",
       "      <th>PROFICIENCIA_MT</th>\n",
       "      <th>TX_RESP_Q001</th>\n",
       "      <th>TX_RESP_Q002</th>\n",
       "    </tr>\n",
       "  </thead>\n",
       "  <tbody>\n",
       "    <tr>\n",
       "      <th>7638</th>\n",
       "      <td>1</td>\n",
       "      <td>11</td>\n",
       "      <td>1100122</td>\n",
       "      <td>2</td>\n",
       "      <td>5</td>\n",
       "      <td>0</td>\n",
       "      <td>5</td>\n",
       "      <td>6</td>\n",
       "      <td>...........</td>\n",
       "      <td>...........</td>\n",
       "      <td>...........</td>\n",
       "      <td>...........</td>\n",
       "      <td>NaN</td>\n",
       "      <td>NaN</td>\n",
       "      <td>NaN</td>\n",
       "      <td>NaN</td>\n",
       "    </tr>\n",
       "    <tr>\n",
       "      <th>15821</th>\n",
       "      <td>1</td>\n",
       "      <td>11</td>\n",
       "      <td>1100205</td>\n",
       "      <td>1</td>\n",
       "      <td>5</td>\n",
       "      <td>0</td>\n",
       "      <td>7</td>\n",
       "      <td>3</td>\n",
       "      <td>...........</td>\n",
       "      <td>...........</td>\n",
       "      <td>...........</td>\n",
       "      <td>...........</td>\n",
       "      <td>NaN</td>\n",
       "      <td>NaN</td>\n",
       "      <td>NaN</td>\n",
       "      <td>NaN</td>\n",
       "    </tr>\n",
       "    <tr>\n",
       "      <th>1451</th>\n",
       "      <td>1</td>\n",
       "      <td>11</td>\n",
       "      <td>1100023</td>\n",
       "      <td>2</td>\n",
       "      <td>5</td>\n",
       "      <td>1</td>\n",
       "      <td>5</td>\n",
       "      <td>1</td>\n",
       "      <td>DBBCDBCADCA</td>\n",
       "      <td>BBBACAAABBD</td>\n",
       "      <td>ABBCDDCDDBA</td>\n",
       "      <td>DDADACDAAAD</td>\n",
       "      <td>-1.305695</td>\n",
       "      <td>-0.704222</td>\n",
       "      <td>A</td>\n",
       "      <td>B</td>\n",
       "    </tr>\n",
       "    <tr>\n",
       "      <th>19917</th>\n",
       "      <td>1</td>\n",
       "      <td>11</td>\n",
       "      <td>1100304</td>\n",
       "      <td>2</td>\n",
       "      <td>5</td>\n",
       "      <td>1</td>\n",
       "      <td>3</td>\n",
       "      <td>6</td>\n",
       "      <td>DDADBDDCBCA</td>\n",
       "      <td>ADADBBADCBD</td>\n",
       "      <td>CAAABBCCBCB</td>\n",
       "      <td>CCBBBBDDDBC</td>\n",
       "      <td>-0.579400</td>\n",
       "      <td>-0.300392</td>\n",
       "      <td>B</td>\n",
       "      <td>E</td>\n",
       "    </tr>\n",
       "    <tr>\n",
       "      <th>16277</th>\n",
       "      <td>1</td>\n",
       "      <td>11</td>\n",
       "      <td>1100205</td>\n",
       "      <td>1</td>\n",
       "      <td>5</td>\n",
       "      <td>1</td>\n",
       "      <td>7</td>\n",
       "      <td>3</td>\n",
       "      <td>BBDDDBBADCD</td>\n",
       "      <td>DDADCCDCAAA</td>\n",
       "      <td>CCDBBCBCDDD</td>\n",
       "      <td>AAADDACDDBB</td>\n",
       "      <td>-0.551727</td>\n",
       "      <td>-1.378113</td>\n",
       "      <td>B</td>\n",
       "      <td>B</td>\n",
       "    </tr>\n",
       "    <tr>\n",
       "      <th>17697</th>\n",
       "      <td>1</td>\n",
       "      <td>11</td>\n",
       "      <td>1100205</td>\n",
       "      <td>1</td>\n",
       "      <td>5</td>\n",
       "      <td>1</td>\n",
       "      <td>2</td>\n",
       "      <td>5</td>\n",
       "      <td>DAABACCCDCC</td>\n",
       "      <td>DCBCDDBCDBA</td>\n",
       "      <td>BDAADAABBAA</td>\n",
       "      <td>ADBCDDCCCDA</td>\n",
       "      <td>-1.078130</td>\n",
       "      <td>-0.864647</td>\n",
       "      <td>B</td>\n",
       "      <td>D</td>\n",
       "    </tr>\n",
       "    <tr>\n",
       "      <th>11423</th>\n",
       "      <td>1</td>\n",
       "      <td>11</td>\n",
       "      <td>1100205</td>\n",
       "      <td>1</td>\n",
       "      <td>5</td>\n",
       "      <td>1</td>\n",
       "      <td>4</td>\n",
       "      <td>5</td>\n",
       "      <td>ACCDAADBDCC</td>\n",
       "      <td>DCACDBBBCCC</td>\n",
       "      <td>BBACCADDDDD</td>\n",
       "      <td>ABBCDACCCCB</td>\n",
       "      <td>-1.277776</td>\n",
       "      <td>0.017088</td>\n",
       "      <td>A</td>\n",
       "      <td>C</td>\n",
       "    </tr>\n",
       "    <tr>\n",
       "      <th>5908</th>\n",
       "      <td>1</td>\n",
       "      <td>11</td>\n",
       "      <td>1100114</td>\n",
       "      <td>2</td>\n",
       "      <td>5</td>\n",
       "      <td>1</td>\n",
       "      <td>7</td>\n",
       "      <td>1</td>\n",
       "      <td>BBCAADBABAD</td>\n",
       "      <td>BCCBBCBADBD</td>\n",
       "      <td>CCCCBDBBDCC</td>\n",
       "      <td>DDABCBAABCD</td>\n",
       "      <td>-0.784978</td>\n",
       "      <td>-0.636339</td>\n",
       "      <td>B</td>\n",
       "      <td>C</td>\n",
       "    </tr>\n",
       "    <tr>\n",
       "      <th>12912</th>\n",
       "      <td>1</td>\n",
       "      <td>11</td>\n",
       "      <td>1100205</td>\n",
       "      <td>1</td>\n",
       "      <td>5</td>\n",
       "      <td>1</td>\n",
       "      <td>1</td>\n",
       "      <td>3</td>\n",
       "      <td>BCBDBAABBBA</td>\n",
       "      <td>CCBDACBCABA</td>\n",
       "      <td>DACDCBADDDC</td>\n",
       "      <td>AAACBADACCB</td>\n",
       "      <td>-1.089045</td>\n",
       "      <td>-1.129357</td>\n",
       "      <td>A</td>\n",
       "      <td>A</td>\n",
       "    </tr>\n",
       "    <tr>\n",
       "      <th>4901</th>\n",
       "      <td>1</td>\n",
       "      <td>11</td>\n",
       "      <td>1100106</td>\n",
       "      <td>2</td>\n",
       "      <td>5</td>\n",
       "      <td>1</td>\n",
       "      <td>3</td>\n",
       "      <td>4</td>\n",
       "      <td>DAADBDACADA</td>\n",
       "      <td>BCCBAADDBDB</td>\n",
       "      <td>CAAAAACCBCB</td>\n",
       "      <td>BDADABBDCDC</td>\n",
       "      <td>-0.327517</td>\n",
       "      <td>-0.245061</td>\n",
       "      <td>B</td>\n",
       "      <td>C</td>\n",
       "    </tr>\n",
       "  </tbody>\n",
       "</table>\n",
       "</div>"
      ],
      "text/plain": [
       "       ID_REGIAO  ID_UF  ID_MUNICIPIO  ID_AREA  ID_SERIE  \\\n",
       "7638           1     11       1100122        2         5   \n",
       "15821          1     11       1100205        1         5   \n",
       "1451           1     11       1100023        2         5   \n",
       "19917          1     11       1100304        2         5   \n",
       "16277          1     11       1100205        1         5   \n",
       "17697          1     11       1100205        1         5   \n",
       "11423          1     11       1100205        1         5   \n",
       "5908           1     11       1100114        2         5   \n",
       "12912          1     11       1100205        1         5   \n",
       "4901           1     11       1100106        2         5   \n",
       "\n",
       "       IN_PREENCHIMENTO_PROVA  ID_BLOCO_1  ID_BLOCO_2 TX_RESP_BLOCO_1_LP  \\\n",
       "7638                        0           5           6        ...........   \n",
       "15821                       0           7           3        ...........   \n",
       "1451                        1           5           1        DBBCDBCADCA   \n",
       "19917                       1           3           6        DDADBDDCBCA   \n",
       "16277                       1           7           3        BBDDDBBADCD   \n",
       "17697                       1           2           5        DAABACCCDCC   \n",
       "11423                       1           4           5        ACCDAADBDCC   \n",
       "5908                        1           7           1        BBCAADBABAD   \n",
       "12912                       1           1           3        BCBDBAABBBA   \n",
       "4901                        1           3           4        DAADBDACADA   \n",
       "\n",
       "      TX_RESP_BLOCO_2_LP TX_RESP_BLOCO_1_MT TX_RESP_BLOCO_2_MT  \\\n",
       "7638         ...........        ...........        ...........   \n",
       "15821        ...........        ...........        ...........   \n",
       "1451         BBBACAAABBD        ABBCDDCDDBA        DDADACDAAAD   \n",
       "19917        ADADBBADCBD        CAAABBCCBCB        CCBBBBDDDBC   \n",
       "16277        DDADCCDCAAA        CCDBBCBCDDD        AAADDACDDBB   \n",
       "17697        DCBCDDBCDBA        BDAADAABBAA        ADBCDDCCCDA   \n",
       "11423        DCACDBBBCCC        BBACCADDDDD        ABBCDACCCCB   \n",
       "5908         BCCBBCBADBD        CCCCBDBBDCC        DDABCBAABCD   \n",
       "12912        CCBDACBCABA        DACDCBADDDC        AAACBADACCB   \n",
       "4901         BCCBAADDBDB        CAAAAACCBCB        BDADABBDCDC   \n",
       "\n",
       "       PROFICIENCIA_LP  PROFICIENCIA_MT TX_RESP_Q001 TX_RESP_Q002  \n",
       "7638               NaN              NaN          NaN          NaN  \n",
       "15821              NaN              NaN          NaN          NaN  \n",
       "1451         -1.305695        -0.704222            A            B  \n",
       "19917        -0.579400        -0.300392            B            E  \n",
       "16277        -0.551727        -1.378113            B            B  \n",
       "17697        -1.078130        -0.864647            B            D  \n",
       "11423        -1.277776         0.017088            A            C  \n",
       "5908         -0.784978        -0.636339            B            C  \n",
       "12912        -1.089045        -1.129357            A            A  \n",
       "4901         -0.327517        -0.245061            B            C  "
      ]
     },
     "execution_count": 20,
     "metadata": {},
     "output_type": "execute_result"
    }
   ],
   "source": [
    "df_aluno_5EF.sample(10)"
   ]
  },
  {
   "cell_type": "code",
   "execution_count": 21,
   "metadata": {
    "pycharm": {
     "is_executing": false,
     "name": "#%%\n"
    }
   },
   "outputs": [
    {
     "data": {
      "text/html": [
       "<div>\n",
       "<style scoped>\n",
       "    .dataframe tbody tr th:only-of-type {\n",
       "        vertical-align: middle;\n",
       "    }\n",
       "\n",
       "    .dataframe tbody tr th {\n",
       "        vertical-align: top;\n",
       "    }\n",
       "\n",
       "    .dataframe thead th {\n",
       "        text-align: right;\n",
       "    }\n",
       "</style>\n",
       "<table border=\"1\" class=\"dataframe\">\n",
       "  <thead>\n",
       "    <tr style=\"text-align: right;\">\n",
       "      <th></th>\n",
       "      <th>ID_REGIAO</th>\n",
       "      <th>ID_UF</th>\n",
       "      <th>ID_MUNICIPIO</th>\n",
       "      <th>ID_AREA</th>\n",
       "      <th>ID_SERIE</th>\n",
       "      <th>IN_PREENCHIMENTO_PROVA</th>\n",
       "      <th>ID_BLOCO_1</th>\n",
       "      <th>ID_BLOCO_2</th>\n",
       "      <th>TX_RESP_BLOCO_1_LP</th>\n",
       "      <th>TX_RESP_BLOCO_2_LP</th>\n",
       "      <th>TX_RESP_BLOCO_1_MT</th>\n",
       "      <th>TX_RESP_BLOCO_2_MT</th>\n",
       "      <th>PROFICIENCIA_LP</th>\n",
       "      <th>PROFICIENCIA_MT</th>\n",
       "      <th>TX_RESP_Q001</th>\n",
       "      <th>TX_RESP_Q002</th>\n",
       "    </tr>\n",
       "  </thead>\n",
       "  <tbody>\n",
       "    <tr>\n",
       "      <th>4432</th>\n",
       "      <td>1</td>\n",
       "      <td>11</td>\n",
       "      <td>1100106</td>\n",
       "      <td>2</td>\n",
       "      <td>9</td>\n",
       "      <td>1</td>\n",
       "      <td>7</td>\n",
       "      <td>3</td>\n",
       "      <td>ACDBCBCABDAAB</td>\n",
       "      <td>CBDCBCDDCBBBB</td>\n",
       "      <td>DABCABCBADDCC</td>\n",
       "      <td>BBACBCADACACC</td>\n",
       "      <td>-0.587859</td>\n",
       "      <td>-0.540594</td>\n",
       "      <td>A</td>\n",
       "      <td>B</td>\n",
       "    </tr>\n",
       "    <tr>\n",
       "      <th>1239</th>\n",
       "      <td>1</td>\n",
       "      <td>11</td>\n",
       "      <td>1100023</td>\n",
       "      <td>2</td>\n",
       "      <td>9</td>\n",
       "      <td>1</td>\n",
       "      <td>3</td>\n",
       "      <td>5</td>\n",
       "      <td>CBDDDACADCCCD</td>\n",
       "      <td>BDDAACDCCBDBB</td>\n",
       "      <td>DBBCBDBDADABA</td>\n",
       "      <td>CCBDDADCCDCAB</td>\n",
       "      <td>-0.378218</td>\n",
       "      <td>0.579617</td>\n",
       "      <td>A</td>\n",
       "      <td>B</td>\n",
       "    </tr>\n",
       "    <tr>\n",
       "      <th>15138</th>\n",
       "      <td>1</td>\n",
       "      <td>11</td>\n",
       "      <td>1100254</td>\n",
       "      <td>2</td>\n",
       "      <td>9</td>\n",
       "      <td>1</td>\n",
       "      <td>3</td>\n",
       "      <td>5</td>\n",
       "      <td>CBCDDACAACDAD</td>\n",
       "      <td>AACCBCACBBAAD</td>\n",
       "      <td>DBBDCABDABCDA</td>\n",
       "      <td>BDBBCCDCBBCBB</td>\n",
       "      <td>-0.547294</td>\n",
       "      <td>-0.234905</td>\n",
       "      <td>B</td>\n",
       "      <td>A</td>\n",
       "    </tr>\n",
       "    <tr>\n",
       "      <th>7566</th>\n",
       "      <td>1</td>\n",
       "      <td>11</td>\n",
       "      <td>1100130</td>\n",
       "      <td>2</td>\n",
       "      <td>9</td>\n",
       "      <td>0</td>\n",
       "      <td>7</td>\n",
       "      <td>1</td>\n",
       "      <td>.............</td>\n",
       "      <td>.............</td>\n",
       "      <td>.............</td>\n",
       "      <td>.............</td>\n",
       "      <td>NaN</td>\n",
       "      <td>NaN</td>\n",
       "      <td>NaN</td>\n",
       "      <td>NaN</td>\n",
       "    </tr>\n",
       "    <tr>\n",
       "      <th>9640</th>\n",
       "      <td>1</td>\n",
       "      <td>11</td>\n",
       "      <td>1100205</td>\n",
       "      <td>1</td>\n",
       "      <td>9</td>\n",
       "      <td>1</td>\n",
       "      <td>4</td>\n",
       "      <td>5</td>\n",
       "      <td>DDADCBBADDBCB</td>\n",
       "      <td>BCDCBAADCBBAB</td>\n",
       "      <td>BBBBBACBDDDDD</td>\n",
       "      <td>CCCDBBDBCACBC</td>\n",
       "      <td>1.706745</td>\n",
       "      <td>0.112309</td>\n",
       "      <td>A</td>\n",
       "      <td>B</td>\n",
       "    </tr>\n",
       "    <tr>\n",
       "      <th>2939</th>\n",
       "      <td>1</td>\n",
       "      <td>11</td>\n",
       "      <td>1100064</td>\n",
       "      <td>2</td>\n",
       "      <td>9</td>\n",
       "      <td>0</td>\n",
       "      <td>4</td>\n",
       "      <td>7</td>\n",
       "      <td>.............</td>\n",
       "      <td>.............</td>\n",
       "      <td>.............</td>\n",
       "      <td>.............</td>\n",
       "      <td>NaN</td>\n",
       "      <td>NaN</td>\n",
       "      <td>NaN</td>\n",
       "      <td>NaN</td>\n",
       "    </tr>\n",
       "    <tr>\n",
       "      <th>8200</th>\n",
       "      <td>1</td>\n",
       "      <td>11</td>\n",
       "      <td>1100155</td>\n",
       "      <td>2</td>\n",
       "      <td>9</td>\n",
       "      <td>1</td>\n",
       "      <td>3</td>\n",
       "      <td>5</td>\n",
       "      <td>ABDDAACABBCCD</td>\n",
       "      <td>BDDBBCADABCCB</td>\n",
       "      <td>DBACDCBCAADCD</td>\n",
       "      <td>CDBDDDDBCBCAB</td>\n",
       "      <td>-0.065614</td>\n",
       "      <td>1.305092</td>\n",
       "      <td>A</td>\n",
       "      <td>D</td>\n",
       "    </tr>\n",
       "    <tr>\n",
       "      <th>2064</th>\n",
       "      <td>1</td>\n",
       "      <td>11</td>\n",
       "      <td>1100049</td>\n",
       "      <td>2</td>\n",
       "      <td>9</td>\n",
       "      <td>1</td>\n",
       "      <td>5</td>\n",
       "      <td>6</td>\n",
       "      <td>BCDCAADDCCBAB</td>\n",
       "      <td>BAACBCCDCBBBD</td>\n",
       "      <td>CDDADCDCBCCAC</td>\n",
       "      <td>CDDACAAADBBDB</td>\n",
       "      <td>0.651702</td>\n",
       "      <td>-0.642316</td>\n",
       "      <td>B</td>\n",
       "      <td>C</td>\n",
       "    </tr>\n",
       "    <tr>\n",
       "      <th>16917</th>\n",
       "      <td>1</td>\n",
       "      <td>11</td>\n",
       "      <td>1100304</td>\n",
       "      <td>2</td>\n",
       "      <td>9</td>\n",
       "      <td>1</td>\n",
       "      <td>7</td>\n",
       "      <td>3</td>\n",
       "      <td>AACBCBCBBAACD</td>\n",
       "      <td>CBDDCACABACAD</td>\n",
       "      <td>BCBCBDDDDACBA</td>\n",
       "      <td>DBBCADCDACDBA</td>\n",
       "      <td>0.722408</td>\n",
       "      <td>-0.160217</td>\n",
       "      <td>A</td>\n",
       "      <td>NaN</td>\n",
       "    </tr>\n",
       "    <tr>\n",
       "      <th>15605</th>\n",
       "      <td>1</td>\n",
       "      <td>11</td>\n",
       "      <td>1100288</td>\n",
       "      <td>2</td>\n",
       "      <td>9</td>\n",
       "      <td>0</td>\n",
       "      <td>6</td>\n",
       "      <td>1</td>\n",
       "      <td>.............</td>\n",
       "      <td>.............</td>\n",
       "      <td>.............</td>\n",
       "      <td>.............</td>\n",
       "      <td>NaN</td>\n",
       "      <td>NaN</td>\n",
       "      <td>NaN</td>\n",
       "      <td>NaN</td>\n",
       "    </tr>\n",
       "  </tbody>\n",
       "</table>\n",
       "</div>"
      ],
      "text/plain": [
       "       ID_REGIAO  ID_UF  ID_MUNICIPIO  ID_AREA  ID_SERIE  \\\n",
       "4432           1     11       1100106        2         9   \n",
       "1239           1     11       1100023        2         9   \n",
       "15138          1     11       1100254        2         9   \n",
       "7566           1     11       1100130        2         9   \n",
       "9640           1     11       1100205        1         9   \n",
       "2939           1     11       1100064        2         9   \n",
       "8200           1     11       1100155        2         9   \n",
       "2064           1     11       1100049        2         9   \n",
       "16917          1     11       1100304        2         9   \n",
       "15605          1     11       1100288        2         9   \n",
       "\n",
       "       IN_PREENCHIMENTO_PROVA  ID_BLOCO_1  ID_BLOCO_2 TX_RESP_BLOCO_1_LP  \\\n",
       "4432                        1           7           3      ACDBCBCABDAAB   \n",
       "1239                        1           3           5      CBDDDACADCCCD   \n",
       "15138                       1           3           5      CBCDDACAACDAD   \n",
       "7566                        0           7           1      .............   \n",
       "9640                        1           4           5      DDADCBBADDBCB   \n",
       "2939                        0           4           7      .............   \n",
       "8200                        1           3           5      ABDDAACABBCCD   \n",
       "2064                        1           5           6      BCDCAADDCCBAB   \n",
       "16917                       1           7           3      AACBCBCBBAACD   \n",
       "15605                       0           6           1      .............   \n",
       "\n",
       "      TX_RESP_BLOCO_2_LP TX_RESP_BLOCO_1_MT TX_RESP_BLOCO_2_MT  \\\n",
       "4432       CBDCBCDDCBBBB      DABCABCBADDCC      BBACBCADACACC   \n",
       "1239       BDDAACDCCBDBB      DBBCBDBDADABA      CCBDDADCCDCAB   \n",
       "15138      AACCBCACBBAAD      DBBDCABDABCDA      BDBBCCDCBBCBB   \n",
       "7566       .............      .............      .............   \n",
       "9640       BCDCBAADCBBAB      BBBBBACBDDDDD      CCCDBBDBCACBC   \n",
       "2939       .............      .............      .............   \n",
       "8200       BDDBBCADABCCB      DBACDCBCAADCD      CDBDDDDBCBCAB   \n",
       "2064       BAACBCCDCBBBD      CDDADCDCBCCAC      CDDACAAADBBDB   \n",
       "16917      CBDDCACABACAD      BCBCBDDDDACBA      DBBCADCDACDBA   \n",
       "15605      .............      .............      .............   \n",
       "\n",
       "       PROFICIENCIA_LP  PROFICIENCIA_MT TX_RESP_Q001 TX_RESP_Q002  \n",
       "4432         -0.587859        -0.540594            A            B  \n",
       "1239         -0.378218         0.579617            A            B  \n",
       "15138        -0.547294        -0.234905            B            A  \n",
       "7566               NaN              NaN          NaN          NaN  \n",
       "9640          1.706745         0.112309            A            B  \n",
       "2939               NaN              NaN          NaN          NaN  \n",
       "8200         -0.065614         1.305092            A            D  \n",
       "2064          0.651702        -0.642316            B            C  \n",
       "16917         0.722408        -0.160217            A          NaN  \n",
       "15605              NaN              NaN          NaN          NaN  "
      ]
     },
     "execution_count": 21,
     "metadata": {},
     "output_type": "execute_result"
    }
   ],
   "source": [
    "df_aluno_9EF.sample(10)"
   ]
  },
  {
   "cell_type": "code",
   "execution_count": 22,
   "metadata": {
    "pycharm": {
     "is_executing": false,
     "name": "#%%\n"
    }
   },
   "outputs": [
    {
     "data": {
      "text/html": [
       "<div>\n",
       "<style scoped>\n",
       "    .dataframe tbody tr th:only-of-type {\n",
       "        vertical-align: middle;\n",
       "    }\n",
       "\n",
       "    .dataframe tbody tr th {\n",
       "        vertical-align: top;\n",
       "    }\n",
       "\n",
       "    .dataframe thead th {\n",
       "        text-align: right;\n",
       "    }\n",
       "</style>\n",
       "<table border=\"1\" class=\"dataframe\">\n",
       "  <thead>\n",
       "    <tr style=\"text-align: right;\">\n",
       "      <th></th>\n",
       "      <th>ID_REGIAO</th>\n",
       "      <th>ID_UF</th>\n",
       "      <th>ID_MUNICIPIO</th>\n",
       "      <th>ID_AREA</th>\n",
       "      <th>ID_SERIE</th>\n",
       "      <th>IN_PREENCHIMENTO_PROVA</th>\n",
       "      <th>ID_BLOCO_1</th>\n",
       "      <th>ID_BLOCO_2</th>\n",
       "      <th>TX_RESP_BLOCO_1_LP</th>\n",
       "      <th>TX_RESP_BLOCO_2_LP</th>\n",
       "      <th>TX_RESP_BLOCO_1_MT</th>\n",
       "      <th>TX_RESP_BLOCO_2_MT</th>\n",
       "      <th>PROFICIENCIA_LP</th>\n",
       "      <th>PROFICIENCIA_MT</th>\n",
       "      <th>TX_RESP_Q001</th>\n",
       "      <th>TX_RESP_Q002</th>\n",
       "    </tr>\n",
       "  </thead>\n",
       "  <tbody>\n",
       "    <tr>\n",
       "      <th>18545</th>\n",
       "      <td>1</td>\n",
       "      <td>12</td>\n",
       "      <td>6305526</td>\n",
       "      <td>1</td>\n",
       "      <td>12</td>\n",
       "      <td>1</td>\n",
       "      <td>5</td>\n",
       "      <td>1</td>\n",
       "      <td>BAEDCEDDADEAA</td>\n",
       "      <td>BCADCDABDBECD</td>\n",
       "      <td>AABEDBDCDECBD</td>\n",
       "      <td>CEDEBCDCDDBEA</td>\n",
       "      <td>0.933554</td>\n",
       "      <td>2.257627</td>\n",
       "      <td>A</td>\n",
       "      <td>F</td>\n",
       "    </tr>\n",
       "    <tr>\n",
       "      <th>19919</th>\n",
       "      <td>1</td>\n",
       "      <td>13</td>\n",
       "      <td>1300300</td>\n",
       "      <td>2</td>\n",
       "      <td>12</td>\n",
       "      <td>1</td>\n",
       "      <td>3</td>\n",
       "      <td>5</td>\n",
       "      <td>ADCBDEBBCCBBC</td>\n",
       "      <td>CACABBBDCBCAB</td>\n",
       "      <td>BBABABDAACCBE</td>\n",
       "      <td>CCCEECACDBACA</td>\n",
       "      <td>-1.302691</td>\n",
       "      <td>-0.675411</td>\n",
       "      <td>B</td>\n",
       "      <td>C</td>\n",
       "    </tr>\n",
       "    <tr>\n",
       "      <th>9230</th>\n",
       "      <td>1</td>\n",
       "      <td>11</td>\n",
       "      <td>1100809</td>\n",
       "      <td>2</td>\n",
       "      <td>12</td>\n",
       "      <td>1</td>\n",
       "      <td>6</td>\n",
       "      <td>7</td>\n",
       "      <td>BEEDEABCBEDBE</td>\n",
       "      <td>DCBCEDCCCCDCC</td>\n",
       "      <td>BEAEEABABCECC</td>\n",
       "      <td>DBBAAACCABAAC</td>\n",
       "      <td>0.852211</td>\n",
       "      <td>1.322974</td>\n",
       "      <td>B</td>\n",
       "      <td>A</td>\n",
       "    </tr>\n",
       "    <tr>\n",
       "      <th>2453</th>\n",
       "      <td>1</td>\n",
       "      <td>11</td>\n",
       "      <td>1100114</td>\n",
       "      <td>2</td>\n",
       "      <td>12</td>\n",
       "      <td>1</td>\n",
       "      <td>5</td>\n",
       "      <td>7</td>\n",
       "      <td>BCBABEABCEEAB</td>\n",
       "      <td>DEBCADCCCAEBC</td>\n",
       "      <td>ACBEEBBCDBEBC</td>\n",
       "      <td>BACDABCDDBADB</td>\n",
       "      <td>-0.416353</td>\n",
       "      <td>-0.011424</td>\n",
       "      <td>B</td>\n",
       "      <td>A</td>\n",
       "    </tr>\n",
       "    <tr>\n",
       "      <th>13434</th>\n",
       "      <td>1</td>\n",
       "      <td>12</td>\n",
       "      <td>1200328</td>\n",
       "      <td>2</td>\n",
       "      <td>12</td>\n",
       "      <td>1</td>\n",
       "      <td>7</td>\n",
       "      <td>3</td>\n",
       "      <td>DCABEDACCCCCC</td>\n",
       "      <td>CBEBEEDDABEAD</td>\n",
       "      <td>ABAAABCDCDBCD</td>\n",
       "      <td>ECADAACCBDCAD</td>\n",
       "      <td>1.415300</td>\n",
       "      <td>1.265811</td>\n",
       "      <td>A</td>\n",
       "      <td>C</td>\n",
       "    </tr>\n",
       "    <tr>\n",
       "      <th>6466</th>\n",
       "      <td>1</td>\n",
       "      <td>11</td>\n",
       "      <td>1100205</td>\n",
       "      <td>1</td>\n",
       "      <td>12</td>\n",
       "      <td>1</td>\n",
       "      <td>4</td>\n",
       "      <td>5</td>\n",
       "      <td>ADACCEABCBEBA</td>\n",
       "      <td>CCBAADDDCDCAB</td>\n",
       "      <td>CEDCCABAAEBEB</td>\n",
       "      <td>ACDEABBCDCDDA</td>\n",
       "      <td>0.067918</td>\n",
       "      <td>0.245178</td>\n",
       "      <td>A</td>\n",
       "      <td>A</td>\n",
       "    </tr>\n",
       "    <tr>\n",
       "      <th>10519</th>\n",
       "      <td>1</td>\n",
       "      <td>11</td>\n",
       "      <td>1101757</td>\n",
       "      <td>2</td>\n",
       "      <td>12</td>\n",
       "      <td>1</td>\n",
       "      <td>5</td>\n",
       "      <td>1</td>\n",
       "      <td>BAEDBEDDADEEE</td>\n",
       "      <td>BCADEECBBBECD</td>\n",
       "      <td>ACBEBBDCBCABD</td>\n",
       "      <td>CDDEBBDBDBDCA</td>\n",
       "      <td>0.873151</td>\n",
       "      <td>1.557053</td>\n",
       "      <td>A</td>\n",
       "      <td>C</td>\n",
       "    </tr>\n",
       "    <tr>\n",
       "      <th>15658</th>\n",
       "      <td>1</td>\n",
       "      <td>12</td>\n",
       "      <td>1200401</td>\n",
       "      <td>1</td>\n",
       "      <td>12</td>\n",
       "      <td>1</td>\n",
       "      <td>2</td>\n",
       "      <td>5</td>\n",
       "      <td>CADAECDAACEBE</td>\n",
       "      <td>CCBACDBAACAAD</td>\n",
       "      <td>DBAECCDACCCBB</td>\n",
       "      <td>ACBEADDCDAEBA</td>\n",
       "      <td>-0.305286</td>\n",
       "      <td>1.128441</td>\n",
       "      <td>A</td>\n",
       "      <td>C</td>\n",
       "    </tr>\n",
       "    <tr>\n",
       "      <th>13637</th>\n",
       "      <td>1</td>\n",
       "      <td>12</td>\n",
       "      <td>1200336</td>\n",
       "      <td>2</td>\n",
       "      <td>12</td>\n",
       "      <td>1</td>\n",
       "      <td>6</td>\n",
       "      <td>2</td>\n",
       "      <td>AEEACDAACEDCB</td>\n",
       "      <td>DBDADCABDBCAD</td>\n",
       "      <td>ECAAEDCCBDECD</td>\n",
       "      <td>BBADCBDACACCC</td>\n",
       "      <td>-0.487578</td>\n",
       "      <td>-0.527457</td>\n",
       "      <td>A</td>\n",
       "      <td>C</td>\n",
       "    </tr>\n",
       "    <tr>\n",
       "      <th>12827</th>\n",
       "      <td>1</td>\n",
       "      <td>12</td>\n",
       "      <td>1200203</td>\n",
       "      <td>2</td>\n",
       "      <td>12</td>\n",
       "      <td>1</td>\n",
       "      <td>6</td>\n",
       "      <td>7</td>\n",
       "      <td>BBCABADBAAABD</td>\n",
       "      <td>ACAAAADACCEAA</td>\n",
       "      <td>ACAEABAADDAAD</td>\n",
       "      <td>DDCDDDBAAEABA</td>\n",
       "      <td>-1.105462</td>\n",
       "      <td>-1.150974</td>\n",
       "      <td>B</td>\n",
       "      <td>A</td>\n",
       "    </tr>\n",
       "  </tbody>\n",
       "</table>\n",
       "</div>"
      ],
      "text/plain": [
       "       ID_REGIAO  ID_UF  ID_MUNICIPIO  ID_AREA  ID_SERIE  \\\n",
       "18545          1     12       6305526        1        12   \n",
       "19919          1     13       1300300        2        12   \n",
       "9230           1     11       1100809        2        12   \n",
       "2453           1     11       1100114        2        12   \n",
       "13434          1     12       1200328        2        12   \n",
       "6466           1     11       1100205        1        12   \n",
       "10519          1     11       1101757        2        12   \n",
       "15658          1     12       1200401        1        12   \n",
       "13637          1     12       1200336        2        12   \n",
       "12827          1     12       1200203        2        12   \n",
       "\n",
       "       IN_PREENCHIMENTO_PROVA  ID_BLOCO_1  ID_BLOCO_2 TX_RESP_BLOCO_1_LP  \\\n",
       "18545                       1           5           1      BAEDCEDDADEAA   \n",
       "19919                       1           3           5      ADCBDEBBCCBBC   \n",
       "9230                        1           6           7      BEEDEABCBEDBE   \n",
       "2453                        1           5           7      BCBABEABCEEAB   \n",
       "13434                       1           7           3      DCABEDACCCCCC   \n",
       "6466                        1           4           5      ADACCEABCBEBA   \n",
       "10519                       1           5           1      BAEDBEDDADEEE   \n",
       "15658                       1           2           5      CADAECDAACEBE   \n",
       "13637                       1           6           2      AEEACDAACEDCB   \n",
       "12827                       1           6           7      BBCABADBAAABD   \n",
       "\n",
       "      TX_RESP_BLOCO_2_LP TX_RESP_BLOCO_1_MT TX_RESP_BLOCO_2_MT  \\\n",
       "18545      BCADCDABDBECD      AABEDBDCDECBD      CEDEBCDCDDBEA   \n",
       "19919      CACABBBDCBCAB      BBABABDAACCBE      CCCEECACDBACA   \n",
       "9230       DCBCEDCCCCDCC      BEAEEABABCECC      DBBAAACCABAAC   \n",
       "2453       DEBCADCCCAEBC      ACBEEBBCDBEBC      BACDABCDDBADB   \n",
       "13434      CBEBEEDDABEAD      ABAAABCDCDBCD      ECADAACCBDCAD   \n",
       "6466       CCBAADDDCDCAB      CEDCCABAAEBEB      ACDEABBCDCDDA   \n",
       "10519      BCADEECBBBECD      ACBEBBDCBCABD      CDDEBBDBDBDCA   \n",
       "15658      CCBACDBAACAAD      DBAECCDACCCBB      ACBEADDCDAEBA   \n",
       "13637      DBDADCABDBCAD      ECAAEDCCBDECD      BBADCBDACACCC   \n",
       "12827      ACAAAADACCEAA      ACAEABAADDAAD      DDCDDDBAAEABA   \n",
       "\n",
       "       PROFICIENCIA_LP  PROFICIENCIA_MT TX_RESP_Q001 TX_RESP_Q002  \n",
       "18545         0.933554         2.257627            A            F  \n",
       "19919        -1.302691        -0.675411            B            C  \n",
       "9230          0.852211         1.322974            B            A  \n",
       "2453         -0.416353        -0.011424            B            A  \n",
       "13434         1.415300         1.265811            A            C  \n",
       "6466          0.067918         0.245178            A            A  \n",
       "10519         0.873151         1.557053            A            C  \n",
       "15658        -0.305286         1.128441            A            C  \n",
       "13637        -0.487578        -0.527457            A            C  \n",
       "12827        -1.105462        -1.150974            B            A  "
      ]
     },
     "execution_count": 22,
     "metadata": {},
     "output_type": "execute_result"
    }
   ],
   "source": [
    "df_aluno_3EM.sample(10)"
   ]
  },
  {
   "cell_type": "markdown",
   "metadata": {
    "pycharm": {
     "is_executing": false
    }
   },
   "source": [
    "### Após o carregamento, o DataFrame tem suas colunas reorganizadas, logo:"
   ]
  },
  {
   "cell_type": "code",
   "execution_count": 23,
   "metadata": {},
   "outputs": [],
   "source": [
    "colunas_aluno = list(df_aluno_5EF.columns.values)"
   ]
  },
  {
   "cell_type": "markdown",
   "metadata": {},
   "source": [
    "### Série"
   ]
  },
  {
   "cell_type": "code",
   "execution_count": 24,
   "metadata": {},
   "outputs": [],
   "source": [
    "idx_serie_gab = colunas_resp.index(ID_SERIE)\n",
    "idx_serie_aluno = colunas_aluno.index(ID_SERIE)"
   ]
  },
  {
   "cell_type": "markdown",
   "metadata": {},
   "source": [
    "### Respostas"
   ]
  },
  {
   "cell_type": "code",
   "execution_count": 25,
   "metadata": {},
   "outputs": [],
   "source": [
    "idx_disciplina = colunas_resp.index(DISCIPLINA)\n",
    "idx_posicao_gabarito = colunas_resp.index(ID_POSICAO)\n",
    "idx_gabarito = colunas_resp.index(GABARITO)\n",
    "idx_preenchimento_prova = colunas_aluno.index(IN_PREENCHIMENTO_PROVA)"
   ]
  },
  {
   "cell_type": "markdown",
   "metadata": {},
   "source": [
    "### Blocos"
   ]
  },
  {
   "cell_type": "code",
   "execution_count": 26,
   "metadata": {},
   "outputs": [],
   "source": [
    "bloco_gab = colunas_resp.index(ID_BLOCO) \n",
    "bloco_resp_1 = colunas_aluno.index(ID_BLOCO_1)\n",
    "bloco_resp_2 = colunas_aluno.index(ID_BLOCO_2)\n",
    "aluno_resp_bloco_1_lp = colunas_aluno.index(TX_RESP_BLOCO_1_LP) \n",
    "aluno_resp_bloco_2_lp = colunas_aluno.index(TX_RESP_BLOCO_2_LP) \n",
    "aluno_resp_bloco_1_mt = colunas_aluno.index(TX_RESP_BLOCO_1_MT) \n",
    "aluno_resp_bloco_2_mt = colunas_aluno.index(TX_RESP_BLOCO_2_MT) "
   ]
  },
  {
   "cell_type": "markdown",
   "metadata": {},
   "source": [
    "### Região de Estudo/Aluno"
   ]
  },
  {
   "cell_type": "code",
   "execution_count": 27,
   "metadata": {},
   "outputs": [],
   "source": [
    "idx_uf = colunas_aluno.index(ID_UF)\n",
    "idx_municipio = colunas_aluno.index(ID_MUNICIPIO)\n",
    "idx_regiao = colunas_aluno.index(ID_REGIAO)\n",
    "idx_area = colunas_aluno.index(ID_AREA)\n",
    "idx_sexo = colunas_aluno.index(TX_RESP_Q001)\n",
    "idx_raca = colunas_aluno.index(TX_RESP_Q002)"
   ]
  },
  {
   "cell_type": "markdown",
   "metadata": {},
   "source": [
    "## Cálculo de Acertos"
   ]
  },
  {
   "cell_type": "markdown",
   "metadata": {},
   "source": [
    "### **Numeração dos Estados, Regiões etc..**\n",
    "_Descrita no Dicionário da ANEB_"
   ]
  },
  {
   "cell_type": "code",
   "execution_count": 28,
   "metadata": {},
   "outputs": [],
   "source": [
    "num_estados = {\n",
    "    11: 'RO',\n",
    "    12: 'AC',\n",
    "    13: 'AM',\n",
    "    14: 'RR',\n",
    "    15: 'PA',\n",
    "    16: 'AP',\n",
    "    17: 'TO',\n",
    "    21: 'MA',\n",
    "    22: 'PI',\n",
    "    23: 'CE',\n",
    "    24: 'RN',\n",
    "    25: 'PB',\n",
    "    26: 'PE',\n",
    "    27: 'AL',\n",
    "    28: 'SE',\n",
    "    29: 'BA',\n",
    "    31: 'MG',\n",
    "    32: 'ES',\n",
    "    33: 'RJ',\n",
    "    35: 'SP',\n",
    "    41: 'PR',\n",
    "    42: 'SC',\n",
    "    43: 'RS',\n",
    "    50: 'MS',\n",
    "    51: 'MT',\n",
    "    52: 'GO',\n",
    "    53: 'DF'\n",
    "}"
   ]
  },
  {
   "cell_type": "code",
   "execution_count": 29,
   "metadata": {},
   "outputs": [],
   "source": [
    "num_regiao = {\n",
    "    1: 'Norte',\n",
    "    2: 'Nordeste',\n",
    "    3: 'Sudeste',\n",
    "    4: 'Sul',\n",
    "    5: 'Centro-Oeste'\n",
    "}"
   ]
  },
  {
   "cell_type": "code",
   "execution_count": 30,
   "metadata": {},
   "outputs": [],
   "source": [
    "num_cor = {\n",
    "    'A': 'Branca',\n",
    "    'B': 'Preta',\n",
    "    'C': 'Parda',\n",
    "    'D': 'Amarelo',\n",
    "    'E': 'Indígena',\n",
    "    'F': 'Não quero declarar',\n",
    "}"
   ]
  },
  {
   "cell_type": "code",
   "execution_count": 31,
   "metadata": {},
   "outputs": [],
   "source": [
    "num_sexo = {\n",
    "    'A': 'Masculino',\n",
    "    'B': 'Feminino'\n",
    "}"
   ]
  },
  {
   "cell_type": "code",
   "execution_count": 32,
   "metadata": {
    "pycharm": {
     "is_executing": false,
     "name": "#%%\n"
    }
   },
   "outputs": [],
   "source": [
    "filtro_de_colunas_resposta = ['serie', 'nota_lp', 'nota_mt', 'uf', 'municipio', 'regiao', 'area', 'sexo', 'raca']"
   ]
  },
  {
   "cell_type": "code",
   "execution_count": 33,
   "metadata": {
    "pycharm": {
     "is_executing": false,
     "name": "#%%\n"
    }
   },
   "outputs": [],
   "source": [
    "def filtrar_dados(serie_dados, nao_realizado=0, colunas=filtro_de_colunas_resposta):\n",
    "    \"\"\"\n",
    "    \n",
    "    :param serie_dados:     Série de dados carregados (DataFrame)\n",
    "    :param nao_realizado:   Número de ocorrências do Não Preenchimento de Prova\n",
    "    :param colunas:         Filtro de Colunas à serem aplicadas ao resultado de serie_dados\n",
    "    :param resposta_dados:  DataFrame de resposta, caso não seja vazio, os dados serão adicionados a ele \n",
    "    :return: \n",
    "        Dados Filtrado (DataFrame)\n",
    "        Quantidade não realizada de provas\n",
    "    \"\"\"\n",
    "    resposta_dados = []\n",
    "    i = 0\n",
    "    for r in serie_dados.to_numpy():  # [len(serie_dados.to_numpy())//2:]:\n",
    "        i = i + 1\n",
    "        not_lim = 1000\n",
    "        if 0 == i % not_lim:\n",
    "            print(f'iter {not_lim}, resp: {len(resposta_dados)}, {nao_realizado} => {len(resposta_dados) + nao_realizado}')\n",
    "        \n",
    "        nota_mt = 0\n",
    "        nota_pt = 0\n",
    "        \n",
    "        respostas_lp = [\n",
    "            [False for x in range(len(r[aluno_resp_bloco_1_lp]))],\n",
    "            [False for x in range(len(r[aluno_resp_bloco_2_lp]))]\n",
    "        ]\n",
    "        respostas_mt = [\n",
    "            [False for x in range(len(r[aluno_resp_bloco_1_mt]))],\n",
    "            [False for x in range(len(r[aluno_resp_bloco_2_mt]))]\n",
    "        ]\n",
    "        \n",
    "        # Quem não fez a prova é ignorado\n",
    "        if not bool(int(r[idx_preenchimento_prova])):\n",
    "            nao_realizado = nao_realizado + 1\n",
    "            continue\n",
    "        serie_aluno = r[idx_serie_aluno]\n",
    "        if serie_aluno in (12, 13):\n",
    "            # 12 - 3ª ou 4ª Série do Ensino Médio\n",
    "            # 13 - 3ª ou 4ª Série do Ensino Médio Integrado\n",
    "            serie_aluno = 3\n",
    "        for gab in df_gabarito.to_numpy():\n",
    "            # if gab['ID_SERIE'] == r['ID_SERIE']:\n",
    "            if gab[idx_gabarito] not in RESPOSTAS_INVALIDAS:\n",
    "                if gab[idx_serie_gab] == serie_aluno and\\\n",
    "                        (r[bloco_resp_1] == gab[bloco_gab] or r[bloco_resp_2] == gab[bloco_gab]):\n",
    "                    is_bloco_1 = r[bloco_resp_1] == gab[bloco_gab]\n",
    "                    if is_bloco_1 and r[bloco_resp_2] == gab[bloco_gab]:\n",
    "                        print ('bloco EDGE CASES!!')\n",
    "                    idx_r = 0 if is_bloco_1 else 1\n",
    "                    if gab[idx_disciplina] == 'LP':\n",
    "                        resp_aluno = str(r[aluno_resp_bloco_1_lp if is_bloco_1 else aluno_resp_bloco_2_lp])\n",
    "                        if (respostas_lp[idx_r])[gab[idx_posicao_gabarito]-1]:\n",
    "                            continue\n",
    "                        if resp_aluno[gab[idx_posicao_gabarito]-1] == gab[idx_gabarito]:\n",
    "                            nota_pt += 1\n",
    "                            (respostas_lp[idx_r])[gab[idx_posicao_gabarito]-1] = True\n",
    "                    elif gab[idx_disciplina] == 'MT':\n",
    "                        resp_aluno = str(r[aluno_resp_bloco_1_mt if is_bloco_1 else aluno_resp_bloco_2_mt])\n",
    "                        if (respostas_mt[idx_r])[gab[idx_posicao_gabarito]-1]:\n",
    "                            continue\n",
    "                        if resp_aluno[gab[idx_posicao_gabarito]-1] == gab[idx_gabarito]:\n",
    "                            nota_mt += 1\n",
    "                            (respostas_mt[idx_r])[gab[idx_posicao_gabarito]-1] = True\n",
    "        if nota_pt or nota_mt:\n",
    "            resposta_dados.append({\n",
    "                colunas[0]: serie_aluno,\n",
    "                colunas[1]: nota_pt,\n",
    "                colunas[2]: nota_mt,\n",
    "                colunas[3]: num_estados.get(r[idx_uf], r[idx_uf]),\n",
    "                colunas[4]: r[idx_municipio],\n",
    "                colunas[5]: num_regiao.get(r[idx_regiao], r[idx_regiao]),\n",
    "                colunas[6]: r[idx_area],\n",
    "                colunas[7]: num_sexo.get(r[idx_sexo], r[idx_sexo]),\n",
    "                colunas[8]: num_cor.get(r[idx_raca], r[idx_raca])\n",
    "            })\n",
    "            # ,\n",
    "            #     ignore_index=True\n",
    "            # )\n",
    "    return resposta_dados, nao_realizado"
   ]
  },
  {
   "cell_type": "markdown",
   "metadata": {
    "pycharm": {
     "is_executing": true,
     "name": "#%% md\n"
    }
   },
   "source": [
    "#### O filtro aplicado demora cerca de 25 minutos cada arquivo \n"
   ]
  },
  {
   "cell_type": "code",
   "execution_count": 34,
   "metadata": {
    "pycharm": {
     "is_executing": false
    }
   },
   "outputs": [],
   "source": [
    "dados_filtrados = pd.DataFrame(columns=filtro_de_colunas_resposta)"
   ]
  },
  {
   "cell_type": "code",
   "execution_count": 35,
   "metadata": {
    "pycharm": {
     "is_executing": false,
     "name": "#%%\n"
    }
   },
   "outputs": [
    {
     "name": "stdout",
     "output_type": "stream",
     "text": [
      "iter 1000, resp: 884, 115 => 999\n",
      "iter 1000, resp: 1741, 258 => 1999\n",
      "iter 1000, resp: 2606, 393 => 2999\n",
      "iter 1000, resp: 3485, 514 => 3999\n",
      "iter 1000, resp: 4365, 633 => 4998\n",
      "iter 1000, resp: 5251, 746 => 5997\n",
      "iter 1000, resp: 6126, 871 => 6997\n",
      "iter 1000, resp: 6998, 999 => 7997\n",
      "iter 1000, resp: 7822, 1174 => 8996\n",
      "iter 1000, resp: 8689, 1307 => 9996\n",
      "iter 1000, resp: 9569, 1427 => 10996\n",
      "iter 1000, resp: 10413, 1583 => 11996\n",
      "iter 1000, resp: 11309, 1687 => 12996\n",
      "iter 1000, resp: 12173, 1823 => 13996\n",
      "iter 1000, resp: 13052, 1943 => 14995\n",
      "iter 1000, resp: 13928, 2067 => 15995\n",
      "iter 1000, resp: 14792, 2201 => 16993\n",
      "iter 1000, resp: 15583, 2410 => 17993\n",
      "iter 1000, resp: 16426, 2567 => 18993\n",
      "iter 1000, resp: 17325, 2668 => 19993\n"
     ]
    }
   ],
   "source": [
    "r_filtro, qtd_prova_nao_realizada_5SEM = filtrar_dados(\n",
    "    df_aluno_5EF, 0,\n",
    ")"
   ]
  },
  {
   "cell_type": "code",
   "execution_count": 36,
   "metadata": {
    "pycharm": {
     "is_executing": false,
     "name": "#%%\n"
    }
   },
   "outputs": [],
   "source": [
    "dados_filtrados = dados_filtrados.append(r_filtro, ignore_index=True)"
   ]
  },
  {
   "cell_type": "code",
   "execution_count": 37,
   "metadata": {
    "pycharm": {
     "is_executing": false,
     "name": "#%%\n"
    }
   },
   "outputs": [
    {
     "name": "stdout",
     "output_type": "stream",
     "text": [
      "iter 1000, resp: 781, 218 => 999\n",
      "iter 1000, resp: 1575, 424 => 1999\n",
      "iter 1000, resp: 2396, 603 => 2999\n",
      "iter 1000, resp: 3211, 788 => 3999\n",
      "iter 1000, resp: 4068, 931 => 4999\n",
      "iter 1000, resp: 4905, 1094 => 5999\n",
      "iter 1000, resp: 5746, 1253 => 6999\n",
      "iter 1000, resp: 6483, 1516 => 7999\n",
      "iter 1000, resp: 7208, 1791 => 8999\n",
      "iter 1000, resp: 8032, 1967 => 9999\n",
      "iter 1000, resp: 8868, 2131 => 10999\n",
      "iter 1000, resp: 9693, 2306 => 11999\n",
      "iter 1000, resp: 10534, 2465 => 12999\n",
      "iter 1000, resp: 11368, 2631 => 13999\n",
      "iter 1000, resp: 12033, 2966 => 14999\n",
      "iter 1000, resp: 12854, 3145 => 15999\n",
      "iter 1000, resp: 13608, 3391 => 16999\n",
      "iter 1000, resp: 14436, 3563 => 17999\n",
      "iter 1000, resp: 15213, 3786 => 18999\n",
      "iter 1000, resp: 16000, 3999 => 19999\n"
     ]
    }
   ],
   "source": [
    "r_filtro, qtd_prova_nao_realizada_9SEM = filtrar_dados(\n",
    "    df_aluno_9EF, 0,\n",
    ")"
   ]
  },
  {
   "cell_type": "code",
   "execution_count": 38,
   "metadata": {
    "pycharm": {
     "is_executing": false,
     "name": "#%%\n"
    }
   },
   "outputs": [],
   "source": [
    "dados_filtrados = dados_filtrados.append(r_filtro, ignore_index=True)"
   ]
  },
  {
   "cell_type": "code",
   "execution_count": 39,
   "metadata": {
    "pycharm": {
     "is_executing": false,
     "name": "#%%\n"
    }
   },
   "outputs": [
    {
     "name": "stdout",
     "output_type": "stream",
     "text": [
      "iter 1000, resp: 999, 0 => 999\n",
      "iter 1000, resp: 1999, 0 => 1999\n",
      "iter 1000, resp: 2999, 0 => 2999\n",
      "iter 1000, resp: 3999, 0 => 3999\n",
      "iter 1000, resp: 4999, 0 => 4999\n",
      "iter 1000, resp: 5999, 0 => 5999\n",
      "iter 1000, resp: 6999, 0 => 6999\n",
      "iter 1000, resp: 7999, 0 => 7999\n",
      "iter 1000, resp: 8999, 0 => 8999\n",
      "iter 1000, resp: 9999, 0 => 9999\n",
      "iter 1000, resp: 10999, 0 => 10999\n",
      "iter 1000, resp: 11999, 0 => 11999\n",
      "iter 1000, resp: 12999, 0 => 12999\n",
      "iter 1000, resp: 13999, 0 => 13999\n",
      "iter 1000, resp: 14999, 0 => 14999\n",
      "iter 1000, resp: 15999, 0 => 15999\n",
      "iter 1000, resp: 16999, 0 => 16999\n",
      "iter 1000, resp: 17999, 0 => 17999\n",
      "iter 1000, resp: 18999, 0 => 18999\n",
      "iter 1000, resp: 19999, 0 => 19999\n"
     ]
    }
   ],
   "source": [
    "r_filtro, qtd_prova_nao_realizada_3EM = filtrar_dados(\n",
    "    df_aluno_3EM, 0,\n",
    ")"
   ]
  },
  {
   "cell_type": "code",
   "execution_count": 40,
   "metadata": {
    "pycharm": {
     "is_executing": false,
     "name": "#%%\n"
    }
   },
   "outputs": [],
   "source": [
    "dados_filtrados = dados_filtrados.append(r_filtro, ignore_index=True)"
   ]
  },
  {
   "cell_type": "code",
   "execution_count": 41,
   "metadata": {},
   "outputs": [
    {
     "data": {
      "text/html": [
       "<div>\n",
       "<style scoped>\n",
       "    .dataframe tbody tr th:only-of-type {\n",
       "        vertical-align: middle;\n",
       "    }\n",
       "\n",
       "    .dataframe tbody tr th {\n",
       "        vertical-align: top;\n",
       "    }\n",
       "\n",
       "    .dataframe thead th {\n",
       "        text-align: right;\n",
       "    }\n",
       "</style>\n",
       "<table border=\"1\" class=\"dataframe\">\n",
       "  <thead>\n",
       "    <tr style=\"text-align: right;\">\n",
       "      <th></th>\n",
       "      <th>serie</th>\n",
       "      <th>nota_lp</th>\n",
       "      <th>nota_mt</th>\n",
       "      <th>uf</th>\n",
       "      <th>municipio</th>\n",
       "      <th>regiao</th>\n",
       "      <th>area</th>\n",
       "      <th>sexo</th>\n",
       "      <th>raca</th>\n",
       "    </tr>\n",
       "  </thead>\n",
       "  <tbody>\n",
       "    <tr>\n",
       "      <th>49400</th>\n",
       "      <td>3</td>\n",
       "      <td>10</td>\n",
       "      <td>9</td>\n",
       "      <td>AC</td>\n",
       "      <td>1200401</td>\n",
       "      <td>Norte</td>\n",
       "      <td>1</td>\n",
       "      <td>Masculino</td>\n",
       "      <td>Parda</td>\n",
       "    </tr>\n",
       "    <tr>\n",
       "      <th>9179</th>\n",
       "      <td>5</td>\n",
       "      <td>11</td>\n",
       "      <td>7</td>\n",
       "      <td>RO</td>\n",
       "      <td>1100205</td>\n",
       "      <td>Norte</td>\n",
       "      <td>1</td>\n",
       "      <td>Masculino</td>\n",
       "      <td>Parda</td>\n",
       "    </tr>\n",
       "    <tr>\n",
       "      <th>27424</th>\n",
       "      <td>9</td>\n",
       "      <td>15</td>\n",
       "      <td>13</td>\n",
       "      <td>RO</td>\n",
       "      <td>1100205</td>\n",
       "      <td>Norte</td>\n",
       "      <td>1</td>\n",
       "      <td>Masculino</td>\n",
       "      <td>Indígena</td>\n",
       "    </tr>\n",
       "    <tr>\n",
       "      <th>29062</th>\n",
       "      <td>9</td>\n",
       "      <td>19</td>\n",
       "      <td>10</td>\n",
       "      <td>RO</td>\n",
       "      <td>1100205</td>\n",
       "      <td>Norte</td>\n",
       "      <td>1</td>\n",
       "      <td>NaN</td>\n",
       "      <td>Branca</td>\n",
       "    </tr>\n",
       "    <tr>\n",
       "      <th>47967</th>\n",
       "      <td>3</td>\n",
       "      <td>16</td>\n",
       "      <td>3</td>\n",
       "      <td>AC</td>\n",
       "      <td>1200401</td>\n",
       "      <td>Norte</td>\n",
       "      <td>1</td>\n",
       "      <td>Feminino</td>\n",
       "      <td>Preta</td>\n",
       "    </tr>\n",
       "  </tbody>\n",
       "</table>\n",
       "</div>"
      ],
      "text/plain": [
       "      serie nota_lp nota_mt  uf municipio regiao area       sexo      raca\n",
       "49400     3      10       9  AC   1200401  Norte    1  Masculino     Parda\n",
       "9179      5      11       7  RO   1100205  Norte    1  Masculino     Parda\n",
       "27424     9      15      13  RO   1100205  Norte    1  Masculino  Indígena\n",
       "29062     9      19      10  RO   1100205  Norte    1        NaN    Branca\n",
       "47967     3      16       3  AC   1200401  Norte    1   Feminino     Preta"
      ]
     },
     "execution_count": 41,
     "metadata": {},
     "output_type": "execute_result"
    }
   ],
   "source": [
    "dados_filtrados.sample(5)"
   ]
  },
  {
   "cell_type": "code",
   "execution_count": 42,
   "metadata": {},
   "outputs": [],
   "source": [
    "fig_size = (6, 4)"
   ]
  },
  {
   "cell_type": "markdown",
   "metadata": {},
   "source": [
    "### Médias Com Dois Índices"
   ]
  },
  {
   "cell_type": "code",
   "execution_count": 228,
   "metadata": {},
   "outputs": [],
   "source": [
    "def conta_tamanho_grupo(grupo, grupo_buscado):\n",
    "    # print(f'grupo {grupo}, grupo_buscado {grupo_buscado} type {type(grupo_buscado)}')\n",
    "    if not grupo_buscado:\n",
    "        return 1\n",
    "    gd = dados_filtrados.groupby(grupo).size()\n",
    "    i = False\n",
    "    p = False\n",
    "    if isinstance(grupo, (list, tuple)):\n",
    "        # gd = gd.unstack()\n",
    "        cv = list(gd.unstack().columns.values)\n",
    "        for g in grupo_buscado:\n",
    "            if g in cv:\n",
    "                i = cv.index(g)\n",
    "                p = True\n",
    "    else:\n",
    "        i = gd.index.contains(grupo_buscado)\n",
    "    if p:\n",
    "        return gd[i]\n",
    "    if i:\n",
    "        return gd[grupo_buscado]\n",
    "    print(f'nao encontrado {grupo_buscado} em {i}')\n",
    "    return 1"
   ]
  },
  {
   "cell_type": "markdown",
   "metadata": {
    "pycharm": {
     "is_executing": false
    }
   },
   "source": [
    "## Estudo Proposto"
   ]
  },
  {
   "cell_type": "markdown",
   "metadata": {
    "pycharm": {
     "name": "#%% md\n"
    }
   },
   "source": [
    "#### Contagem de Provas por Estado"
   ]
  },
  {
   "cell_type": "code",
   "execution_count": 44,
   "metadata": {},
   "outputs": [
    {
     "data": {
      "image/png": "[encoded data removed]",
      "text/plain": [
       "<Figure size 432x288 with 1 Axes>"
      ]
     },
     "metadata": {
      "needs_background": "light"
     },
     "output_type": "display_data"
    }
   ],
   "source": [
    "ax = dados_filtrados.groupby('uf').size().sort_values().plot.barh(\n",
    "    figsize=fig_size\n",
    ")\n",
    "ax.set_xlabel('Quantidade')\n",
    "ax = ax.set_ylabel('Estados')"
   ]
  },
  {
   "cell_type": "markdown",
   "metadata": {
    "pycharm": {
     "is_executing": false,
     "name": "#%%\n"
    }
   },
   "source": [
    "#  TO-DO"
   ]
  },
  {
   "cell_type": "code",
   "execution_count": 47,
   "metadata": {},
   "outputs": [
    {
     "name": "stdout",
     "output_type": "stream",
     "text": [
      "Foram aplicadas um Total de 53327 provas em todo país.\n",
      "\r",
      "    2668 alunos da 5ª série do Ensino Fundamental Não Participaram\n",
      "\r",
      "    3999 alunos da 9ª série do Ensino Fundamental Não Estavam Presentes\n",
      "\r",
      "    0 alunos do 3ª ano do Ensino Médio Não Fizeram a Prova\n"
     ]
    }
   ],
   "source": [
    "print(\n",
    "    f'Foram aplicadas um Total de {len(dados_filtrados)} provas em todo país.\\n\\r\\\n",
    "    {qtd_prova_nao_realizada_5SEM} alunos da 5ª série do Ensino Fundamental Não Participaram\\n\\r\\\n",
    "    {qtd_prova_nao_realizada_9SEM} alunos da 9ª série do Ensino Fundamental Não Estavam Presentes\\n\\r\\\n",
    "    {qtd_prova_nao_realizada_3EM} alunos do 3ª ano do Ensino Médio Não Fizeram a Prova'\n",
    ")"
   ]
  },
  {
   "cell_type": "code",
   "execution_count": 48,
   "metadata": {
    "pycharm": {
     "is_executing": false,
     "name": "#%%\n"
    }
   },
   "outputs": [
    {
     "data": {
      "image/png": "[encoded data removed]",
      "text/plain": [
       "<Figure size 432x288 with 1 Axes>"
      ]
     },
     "metadata": {
      "needs_background": "light"
     },
     "output_type": "display_data"
    }
   ],
   "source": [
    "ax = dados_filtrados.query('serie == 9').groupby('uf').size().sort_values().plot(\n",
    "    kind='barh',\n",
    "    figsize=fig_size\n",
    ")\n",
    "ax.set_xlabel('Quantidade')\n",
    "ax = ax.set_ylabel('Estados')"
   ]
  },
  {
   "cell_type": "code",
   "execution_count": 49,
   "metadata": {
    "pycharm": {
     "is_executing": false,
     "name": "#%%\n"
    }
   },
   "outputs": [
    {
     "data": {
      "image/png": "[encoded data removed]",
      "text/plain": [
       "<Figure size 432x288 with 1 Axes>"
      ]
     },
     "metadata": {
      "needs_background": "light"
     },
     "output_type": "display_data"
    }
   ],
   "source": [
    "ax = dados_filtrados.query('serie == 3').groupby('uf').size().sort_values().plot(kind='barh',\n",
    "    figsize=fig_size\n",
    ")\n",
    "ax.set_xlabel('Quantidade')\n",
    "ax = ax.set_ylabel('Estados')"
   ]
  },
  {
   "cell_type": "code",
   "execution_count": 255,
   "metadata": {
    "pycharm": {
     "is_executing": false,
     "name": "#%%\n"
    }
   },
   "outputs": [
    {
     "data": {
      "image/png": "[encoded data removed]",
      "text/plain": [
       "<Figure size 432x288 with 1 Axes>"
      ]
     },
     "metadata": {
      "needs_background": "light"
     },
     "output_type": "display_data"
    }
   ],
   "source": [
    "ax = dados_filtrados.groupby(['uf', 'serie'])[['nota_lp', 'nota_mt']].sum()\\\n",
    ".sort_values(by=['uf', 'serie']).unstack()\\\n",
    ".apply(\n",
    "    lambda x: x / conta_tamanho_grupo(['uf', 'serie'], x.name)\n",
    ")\n",
    "ax = ax.plot(\n",
    "    kind='bar',\n",
    "    figsize=fig_size\n",
    ")\n",
    "ax.legend([\n",
    "    'LP Ensino Médio', 'LP 5ª Série', 'LP 9ª Série',\n",
    "    'MT Ensino Médio', 'MT 5ª Série', 'MT 9ª Série'\n",
    "]\n",
    "    , frameon=True\n",
    "    , loc='best'\n",
    ")\n",
    "ax.set_ylabel('Nota')\n",
    "ax = ax.set_xlabel('Estado')"
   ]
  },
  {
   "cell_type": "markdown",
   "metadata": {},
   "source": []
  },
  {
   "cell_type": "markdown",
   "metadata": {},
   "source": [
    "### Média de Nota Disposta sobre os Estados"
   ]
  },
  {
   "cell_type": "markdown",
   "metadata": {},
   "source": [
    "#### Médias Por Região"
   ]
  },
  {
   "cell_type": "code",
   "execution_count": 188,
   "metadata": {},
   "outputs": [
    {
     "data": {
      "image/png": "[encoded data removed]",
      "text/plain": [
       "<Figure size 432x288 with 2 Axes>"
      ]
     },
     "metadata": {},
     "output_type": "display_data"
    },
    {
     "data": {
      "image/png": "[encoded data removed]",
      "text/plain": [
       "<Figure size 432x288 with 1 Axes>"
      ]
     },
     "metadata": {
      "needs_background": "light"
     },
     "output_type": "display_data"
    }
   ],
   "source": [
    "ax = dados_filtrados.groupby('regiao').sum()[['nota_lp', 'nota_mt']].apply(\n",
    "    lambda x: x / conta_tamanho_grupo('regiao', x.name), axis=1\n",
    ")\n",
    "\n",
    "ax.plot.pie(\n",
    "    subplots=True, figsize=fig_size,\n",
    "    legend=False,\n",
    "    title=['Língua Portuguesa', 'Matemática']\n",
    ")\n",
    "\n",
    "ax = ax.plot(\n",
    "    kind='area',\n",
    "    stacked=True\n",
    ")\n",
    "ax.set_ylabel('Nota')\n",
    "ax = ax.set_xlabel('Região')\n"
   ]
  },
  {
   "cell_type": "markdown",
   "metadata": {},
   "source": [
    "#### Por Estados"
   ]
  },
  {
   "cell_type": "code",
   "execution_count": 51,
   "metadata": {
    "pycharm": {
     "is_executing": false,
     "name": "#%%\n"
    }
   },
   "outputs": [
    {
     "data": {
      "text/plain": [
       "array([<matplotlib.axes._subplots.AxesSubplot object at 0x000001453F523E48>,\n",
       "       <matplotlib.axes._subplots.AxesSubplot object at 0x000001453F5520B8>],\n",
       "      dtype=object)"
      ]
     },
     "execution_count": 51,
     "metadata": {},
     "output_type": "execute_result"
    },
    {
     "data": {
      "image/png": "[encoded data removed]",
      "text/plain": [
       "<Figure size 432x288 with 2 Axes>"
      ]
     },
     "metadata": {},
     "output_type": "display_data"
    }
   ],
   "source": [
    "dados_filtrados.groupby('uf').sum()[['nota_lp', 'nota_mt']].apply(\n",
    "    lambda x: x / len(dados_filtrados)\n",
    ").plot.pie(subplots=True, figsize=fig_size, title=['Língua Portuguesa', 'Matemática'])"
   ]
  },
  {
   "cell_type": "code",
   "execution_count": 52,
   "metadata": {
    "pycharm": {
     "is_executing": false,
     "name": "#%%\n"
    }
   },
   "outputs": [
    {
     "data": {
      "text/plain": [
       "array([<matplotlib.axes._subplots.AxesSubplot object at 0x000001453F6557B8>,\n",
       "       <matplotlib.axes._subplots.AxesSubplot object at 0x000001453F67D358>],\n",
       "      dtype=object)"
      ]
     },
     "execution_count": 52,
     "metadata": {},
     "output_type": "execute_result"
    },
    {
     "data": {
      "image/png": "[encoded data removed]",
      "text/plain": [
       "<Figure size 432x288 with 2 Axes>"
      ]
     },
     "metadata": {},
     "output_type": "display_data"
    }
   ],
   "source": [
    "dados_filtrados.groupby('uf').sum()[['nota_lp', 'nota_mt']].apply(\n",
    "    lambda x: x / conta_tamanho_grupo('uf', x.name), axis=1\n",
    ").plot.pie(subplots=True, figsize=fig_size, legend=False, title=['Língua Portuguesa', 'Matemática'])"
   ]
  },
  {
   "cell_type": "markdown",
   "metadata": {},
   "source": [
    "### Disparidades Entre Aprendizagem"
   ]
  },
  {
   "cell_type": "markdown",
   "metadata": {},
   "source": [
    "### Média Geral de Notas"
   ]
  },
  {
   "cell_type": "code",
   "execution_count": 153,
   "metadata": {},
   "outputs": [
    {
     "name": "stdout",
     "output_type": "stream",
     "text": [
      "nota_lp    14.912052\n",
      "nota_mt    11.493296\n",
      "dtype: float64\n"
     ]
    },
    {
     "data": {
      "image/png": "[encoded data removed]",
      "text/plain": [
       "<Figure size 432x288 with 1 Axes>"
      ]
     },
     "metadata": {
      "needs_background": "light"
     },
     "output_type": "display_data"
    }
   ],
   "source": [
    "ax = dados_filtrados[['nota_lp', 'nota_mt']].mean()\n",
    "print(ax)\n",
    "ax = ax.plot(kind='bar')\n",
    "ax = ax.set_ylabel('Nota')"
   ]
  },
  {
   "cell_type": "markdown",
   "metadata": {},
   "source": [
    "### Por Gênero"
   ]
  },
  {
   "cell_type": "code",
   "execution_count": 56,
   "metadata": {},
   "outputs": [
    {
     "name": "stdout",
     "output_type": "stream",
     "text": [
      "           Língua Portuguesa  Matemática\n",
      "sexo                                    \n",
      "Feminino           15.507351   11.134921\n",
      "Masculino          14.383306   12.000824\n"
     ]
    },
    {
     "data": {
      "image/png": "[encoded data removed]",
      "text/plain": [
       "<Figure size 432x288 with 2 Axes>"
      ]
     },
     "metadata": {},
     "output_type": "display_data"
    }
   ],
   "source": [
    "ax = dados_filtrados.groupby('sexo').sum()[['nota_lp', 'nota_mt']].apply(\n",
    "    lambda x: x / conta_tamanho_grupo('sexo', x.name), axis=1\n",
    ")\n",
    "ax.columns = ['Língua Portuguesa', 'Matemática']\n",
    "print(ax)\n",
    "ax.columns = [None, None]\n",
    "pl = ax.plot.pie(\n",
    "    subplots=True, figsize=fig_size,\n",
    "    autopct='%.0f%%',\n",
    "    # labels=['Masculino', 'Feminino'],\n",
    "    legend=False,\n",
    "    title=['Língua Portuguesa', 'Matemática']\n",
    ")\n"
   ]
  },
  {
   "cell_type": "markdown",
   "metadata": {
    "pycharm": {
     "is_executing": true,
     "name": "#%%\n"
    }
   },
   "source": [
    "### Por Gênero e Estado"
   ]
  },
  {
   "cell_type": "code",
   "execution_count": 225,
   "metadata": {
    "pycharm": {
     "is_executing": false,
     "name": "#%%\n"
    }
   },
   "outputs": [
    {
     "name": "stdout",
     "output_type": "stream",
     "text": [
      "grupo ['uf', 'sexo'], grupo_buscado ('nota_lp', 'Feminino') type <class 'tuple'>\n",
      "['Feminino', 'Masculino'] \n",
      "\r",
      " uf  sexo     \n",
      "AC  Feminino      3939\n",
      "    Masculino     3252\n",
      "AM  Feminino       506\n",
      "    Masculino      436\n",
      "RO  Feminino     22897\n",
      "    Masculino    20572\n",
      "dtype: int64\n",
      "0 True\n",
      "grupo ['uf', 'sexo'], grupo_buscado ('nota_lp', 'Masculino') type <class 'tuple'>\n",
      "['Feminino', 'Masculino'] \n",
      "\r",
      " uf  sexo     \n",
      "AC  Feminino      3939\n",
      "    Masculino     3252\n",
      "AM  Feminino       506\n",
      "    Masculino      436\n",
      "RO  Feminino     22897\n",
      "    Masculino    20572\n",
      "dtype: int64\n",
      "1 True\n",
      "grupo ['uf', 'sexo'], grupo_buscado ('nota_mt', 'Feminino') type <class 'tuple'>\n",
      "['Feminino', 'Masculino'] \n",
      "\r",
      " uf  sexo     \n",
      "AC  Feminino      3939\n",
      "    Masculino     3252\n",
      "AM  Feminino       506\n",
      "    Masculino      436\n",
      "RO  Feminino     22897\n",
      "    Masculino    20572\n",
      "dtype: int64\n",
      "0 True\n",
      "grupo ['uf', 'sexo'], grupo_buscado ('nota_mt', 'Masculino') type <class 'tuple'>\n",
      "['Feminino', 'Masculino'] \n",
      "\r",
      " uf  sexo     \n",
      "AC  Feminino      3939\n",
      "    Masculino     3252\n",
      "AM  Feminino       506\n",
      "    Masculino      436\n",
      "RO  Feminino     22897\n",
      "    Masculino    20572\n",
      "dtype: int64\n",
      "1 True\n"
     ]
    },
    {
     "data": {
      "text/plain": [
       "<matplotlib.legend.Legend at 0x14784ddfa58>"
      ]
     },
     "execution_count": 225,
     "metadata": {},
     "output_type": "execute_result"
    },
    {
     "data": {
      "image/png": "[encoded data removed]",
      "text/plain": [
       "<Figure size 432x288 with 1 Axes>"
      ]
     },
     "metadata": {
      "needs_background": "light"
     },
     "output_type": "display_data"
    }
   ],
   "source": [
    "ax = dados_filtrados.groupby(['uf', 'sexo'])[['nota_lp', 'nota_mt']].sum().unstack()\\\n",
    ".apply(\n",
    "    lambda x: x / conta_tamanho_grupo(['uf', 'sexo'], x.name)\n",
    ").plot(\n",
    "    kind='area', figsize=fig_size\n",
    ")\n",
    "ax.legend(['LP Masculino', 'LP Feminino', 'MT Masculino', 'MT Feminino'])"
   ]
  },
  {
   "cell_type": "code",
   "execution_count": null,
   "metadata": {
    "pycharm": {
     "is_executing": false,
     "name": "#%%\n"
    }
   },
   "outputs": [],
   "source": []
  },
  {
   "cell_type": "code",
   "execution_count": null,
   "metadata": {
    "pycharm": {
     "is_executing": false,
     "name": "#%%\n"
    }
   },
   "outputs": [],
   "source": []
  },
  {
   "cell_type": "code",
   "execution_count": null,
   "metadata": {
    "pycharm": {
     "is_executing": false,
     "name": "#%%\n"
    }
   },
   "outputs": [],
   "source": []
  },
  {
   "cell_type": "code",
   "execution_count": null,
   "metadata": {},
   "outputs": [],
   "source": []
  },
  {
   "cell_type": "code",
   "execution_count": null,
   "metadata": {},
   "outputs": [],
   "source": []
  },
  {
   "cell_type": "code",
   "execution_count": null,
   "metadata": {},
   "outputs": [],
   "source": []
  }
 ],
 "metadata": {
  "kernelspec": {
   "display_name": "Python 3",
   "language": "python",
   "name": "python3"
  },
  "language_info": {
   "codemirror_mode": {
    "name": "ipython",
    "version": 3
   },
   "file_extension": ".py",
   "mimetype": "text/x-python",
   "name": "python",
   "nbconvert_exporter": "python",
   "pygments_lexer": "ipython3",
   "version": "3.7.3"
  },
  "pycharm": {
   "stem_cell": {
    "cell_type": "raw",
    "metadata": {
     "collapsed": false
    },
    "source": []
   }
  }
 },
 "nbformat": 4,
 "nbformat_minor": 2
}
