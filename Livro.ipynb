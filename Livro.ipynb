{
 "cells": [
  {
   "cell_type": "code",
   "execution_count": 1,
   "metadata": {
    "pycharm": {
     "is_executing": false
    }
   },
   "outputs": [],
   "source": [
    "import pandas as pd\n",
    "import matplotlib as mplot"
   ]
  },
  {
   "cell_type": "code",
   "execution_count": 2,
   "metadata": {
    "pycharm": {
     "is_executing": false
    }
   },
   "outputs": [],
   "source": [
    "%matplotlib inline"
   ]
  },
  {
   "cell_type": "code",
   "execution_count": 3,
   "metadata": {
    "pycharm": {
     "is_executing": false
    }
   },
   "outputs": [],
   "source": [
    "pd.options.display.max_columns = 25\n",
    "pd.options.display.max_rows = 10"
   ]
  },
  {
   "cell_type": "markdown",
   "metadata": {},
   "source": [
    "### Arquivos extraídos do Microdados INEP"
   ]
  },
  {
   "cell_type": "code",
   "execution_count": 4,
   "metadata": {
    "pycharm": {
     "is_executing": false
    }
   },
   "outputs": [],
   "source": [
    "file_resp = '../dados/TS_ITEM.csv'\n",
    "file_alunos_3EM_ESC = '../dados/TS_ALUNO_3EM_ESC.csv'\n",
    "# file_alunos_3EM_AG = '../dados/TS_ALUNO_3EM_AG.csv'\n",
    "file_alunos_9EF = '../dados/TS_ALUNO_9EF.csv'\n",
    "file_alunos_5EF = '../dados/TS_ALUNO_5EF.csv'"
   ]
  },
  {
   "cell_type": "markdown",
   "metadata": {},
   "source": [
    "### Conjunto Definido de Colunas à Serem Utilizadas"
   ]
  },
  {
   "cell_type": "code",
   "execution_count": 5,
   "metadata": {},
   "outputs": [],
   "source": [
    "RESPOSTAS_INVALIDAS = ['X', '.', '*', ' ', '']"
   ]
  },
  {
   "cell_type": "markdown",
   "metadata": {
    "pycharm": {
     "name": "#%% md\n"
    }
   },
   "source": [
    "##### Identificadores das Colunas"
   ]
  },
  {
   "cell_type": "code",
   "execution_count": 6,
   "metadata": {
    "pycharm": {
     "is_executing": false,
     "name": "#%%\n"
    }
   },
   "outputs": [],
   "source": [
    "ID_SERIE = 'ID_SERIE'\n",
    "TIPO_PROVA = 'TIPO_PROVA'\n",
    "DISCIPLINA = 'DISCIPLINA'\n",
    "ID_SERIE_ITEM = 'ID_SERIE_ITEM'\n",
    "ID_BLOCO = 'ID_BLOCO'\n",
    "ID_POSICAO = 'ID_POSICAO'\n",
    "GABARITO = 'GABARITO'\n",
    "ID_PROVA_BRASIL = 'ID_PROVA_BRASIL' # Ano da Prova, pode ser ignorado, pois os arquivos são baixados por ano\n",
    "ID_UF = 'ID_UF'\n",
    "ID_MUNICIPIO = 'ID_MUNICIPIO'"
   ]
  },
  {
   "cell_type": "markdown",
   "metadata": {},
   "source": [
    "##### Preenchimento Prova"
   ]
  },
  {
   "cell_type": "code",
   "execution_count": 7,
   "metadata": {},
   "outputs": [],
   "source": [
    "ID_ALUNO = 'ID_ALUNO'\n",
    "IN_PREENCHIMENTO_PROVA = 'IN_PREENCHIMENTO_PROVA'\n",
    "IN_PRESENCA_PROVA = 'IN_PRESENCA_PROVA'\n",
    "ID_REGIAO = 'ID_REGIAO'\n",
    "ID_AREA = 'ID_AREA'"
   ]
  },
  {
   "cell_type": "markdown",
   "metadata": {},
   "source": [
    "##### Respostas da Prova"
   ]
  },
  {
   "cell_type": "code",
   "execution_count": 8,
   "metadata": {},
   "outputs": [],
   "source": [
    "ID_BLOCO_1 = 'ID_BLOCO_1'\n",
    "ID_BLOCO_2 = 'ID_BLOCO_2'\n",
    "TX_RESP_BLOCO_1_LP = 'TX_RESP_BLOCO_1_LP'\n",
    "TX_RESP_BLOCO_2_LP = 'TX_RESP_BLOCO_2_LP'\n",
    "TX_RESP_BLOCO_1_MT = 'TX_RESP_BLOCO_1_MT'\n",
    "TX_RESP_BLOCO_2_MT = 'TX_RESP_BLOCO_2_MT'"
   ]
  },
  {
   "cell_type": "markdown",
   "metadata": {},
   "source": [
    "##### Proeficiência do ALuno"
   ]
  },
  {
   "cell_type": "code",
   "execution_count": 9,
   "metadata": {},
   "outputs": [],
   "source": [
    "PESO_ALUNO_LP = 'PESO_ALUNO_LP'\n",
    "PESO_ALUNO_MT = 'PESO_ALUNO_MT'\n",
    "PROFICIENCIA_LP = 'PROFICIENCIA_LP'\n",
    "ERRO_PADRAO_LP = 'ERRO_PADRAO_LP'\n",
    "PROFICIENCIA_LP_SAEB = 'PROFICIENCIA_LP_SAEB'\n",
    "ERRO_PADRAO_LP_SAEB = 'ERRO_PADRAO_LP_SAEB'\n",
    "PROFICIENCIA_MT = 'PROFICIENCIA_MT'\n",
    "ERRO_PADRAO_MT = 'ERRO_PADRAO_MT'\n",
    "PROFICIENCIA_MT_SAEB = 'PROFICIENCIA_MT_SAEB'\n",
    "ERRO_PADRAO_MT_SAEB = 'ERRO_PADRAO_MT_SAEB'"
   ]
  },
  {
   "cell_type": "markdown",
   "metadata": {},
   "source": [
    "##### Questionário Socioeconômico"
   ]
  },
  {
   "cell_type": "code",
   "execution_count": 10,
   "metadata": {},
   "outputs": [],
   "source": [
    "IN_PREENCHIMENTO_QUESTIONARIO = 'IN_PREENCHIMENTO_QUESTIONARIO'\n",
    "TX_RESP_Q001 = 'TX_RESP_Q001' # Sexo\n",
    "TX_RESP_Q002 = 'TX_RESP_Q002' # Cor/Raça"
   ]
  },
  {
   "cell_type": "code",
   "execution_count": 11,
   "metadata": {
    "pycharm": {
     "is_executing": false
    }
   },
   "outputs": [],
   "source": [
    "colunas_resp = [\n",
    "    ID_SERIE, TIPO_PROVA, DISCIPLINA,\n",
    "    ID_SERIE_ITEM, ID_BLOCO, ID_POSICAO,\n",
    "    GABARITO\n",
    "]"
   ]
  },
  {
   "cell_type": "code",
   "execution_count": 12,
   "metadata": {
    "pycharm": {
     "is_executing": false
    }
   },
   "outputs": [],
   "source": [
    "colunas_aluno = [\n",
    "    ID_UF, ID_MUNICIPIO, ID_REGIAO, ID_AREA,\n",
    "    ID_SERIE, IN_PREENCHIMENTO_PROVA,\n",
    "    ID_BLOCO_1, ID_BLOCO_2,\n",
    "    TX_RESP_BLOCO_1_LP, TX_RESP_BLOCO_2_LP,\n",
    "    TX_RESP_BLOCO_1_MT, TX_RESP_BLOCO_2_MT,\n",
    "    PROFICIENCIA_LP,\n",
    "    PROFICIENCIA_MT,\n",
    "    TX_RESP_Q001,\n",
    "    TX_RESP_Q002\n",
    "]"
   ]
  },
  {
   "cell_type": "markdown",
   "metadata": {},
   "source": [
    "### Arquivos"
   ]
  },
  {
   "cell_type": "markdown",
   "metadata": {},
   "source": [
    "#### Gabarito, 666 itens corrigidos (+36KB)\n",
    "\n",
    "#### 5SEM,     2.624.019 provas (+360MB)\n",
    "#### 9SEM,     2.341.459 provas (+321MB)\n",
    "#### 3SEMAG,   1.966.507 provas (+270MB)\n",
    "###### 3SEMESC,  1.456.325 provas (+200MB)"
   ]
  },
  {
   "cell_type": "code",
   "execution_count": 13,
   "metadata": {
    "pycharm": {
     "is_executing": false
    }
   },
   "outputs": [],
   "source": [
    "df_gabarito = pd.read_csv(\n",
    "    file_resp,\n",
    "    delimiter=';', encoding='iso-8859-1',\n",
    "    usecols=colunas_resp,\n",
    "    # low_memory=True\n",
    ")"
   ]
  },
  {
   "cell_type": "code",
   "execution_count": 14,
   "metadata": {
    "pycharm": {
     "is_executing": false
    }
   },
   "outputs": [
    {
     "data": {
      "text/html": [
       "<div>\n",
       "<style scoped>\n",
       "    .dataframe tbody tr th:only-of-type {\n",
       "        vertical-align: middle;\n",
       "    }\n",
       "\n",
       "    .dataframe tbody tr th {\n",
       "        vertical-align: top;\n",
       "    }\n",
       "\n",
       "    .dataframe thead th {\n",
       "        text-align: right;\n",
       "    }\n",
       "</style>\n",
       "<table border=\"1\" class=\"dataframe\">\n",
       "  <thead>\n",
       "    <tr style=\"text-align: right;\">\n",
       "      <th></th>\n",
       "      <th>ID_SERIE</th>\n",
       "      <th>TIPO_PROVA</th>\n",
       "      <th>DISCIPLINA</th>\n",
       "      <th>ID_SERIE_ITEM</th>\n",
       "      <th>ID_BLOCO</th>\n",
       "      <th>ID_POSICAO</th>\n",
       "      <th>GABARITO</th>\n",
       "    </tr>\n",
       "  </thead>\n",
       "  <tbody>\n",
       "    <tr>\n",
       "      <th>488</th>\n",
       "      <td>9</td>\n",
       "      <td>Prova Regular</td>\n",
       "      <td>LP</td>\n",
       "      <td>9</td>\n",
       "      <td>5</td>\n",
       "      <td>5</td>\n",
       "      <td>B</td>\n",
       "    </tr>\n",
       "    <tr>\n",
       "      <th>516</th>\n",
       "      <td>9</td>\n",
       "      <td>Prova Regular</td>\n",
       "      <td>LP</td>\n",
       "      <td>5</td>\n",
       "      <td>7</td>\n",
       "      <td>7</td>\n",
       "      <td>C</td>\n",
       "    </tr>\n",
       "    <tr>\n",
       "      <th>548</th>\n",
       "      <td>9</td>\n",
       "      <td>Macrotipo 18 e 24</td>\n",
       "      <td>LP</td>\n",
       "      <td>9</td>\n",
       "      <td>2</td>\n",
       "      <td>3</td>\n",
       "      <td>A</td>\n",
       "    </tr>\n",
       "    <tr>\n",
       "      <th>301</th>\n",
       "      <td>5</td>\n",
       "      <td>Prova Regular</td>\n",
       "      <td>LP</td>\n",
       "      <td>5</td>\n",
       "      <td>7</td>\n",
       "      <td>2</td>\n",
       "      <td>B</td>\n",
       "    </tr>\n",
       "    <tr>\n",
       "      <th>158</th>\n",
       "      <td>3</td>\n",
       "      <td>Prova Regular</td>\n",
       "      <td>MT</td>\n",
       "      <td>3</td>\n",
       "      <td>4</td>\n",
       "      <td>3</td>\n",
       "      <td>E</td>\n",
       "    </tr>\n",
       "    <tr>\n",
       "      <th>658</th>\n",
       "      <td>9</td>\n",
       "      <td>Macrotipo 18 e 24</td>\n",
       "      <td>MT</td>\n",
       "      <td>9</td>\n",
       "      <td>2</td>\n",
       "      <td>6</td>\n",
       "      <td>B</td>\n",
       "    </tr>\n",
       "    <tr>\n",
       "      <th>70</th>\n",
       "      <td>3</td>\n",
       "      <td>Prova Regular</td>\n",
       "      <td>LP</td>\n",
       "      <td>3</td>\n",
       "      <td>6</td>\n",
       "      <td>6</td>\n",
       "      <td>C</td>\n",
       "    </tr>\n",
       "    <tr>\n",
       "      <th>496</th>\n",
       "      <td>9</td>\n",
       "      <td>Prova Regular</td>\n",
       "      <td>LP</td>\n",
       "      <td>9</td>\n",
       "      <td>5</td>\n",
       "      <td>13</td>\n",
       "      <td>B</td>\n",
       "    </tr>\n",
       "    <tr>\n",
       "      <th>307</th>\n",
       "      <td>5</td>\n",
       "      <td>Prova Regular</td>\n",
       "      <td>LP</td>\n",
       "      <td>5</td>\n",
       "      <td>7</td>\n",
       "      <td>8</td>\n",
       "      <td>A</td>\n",
       "    </tr>\n",
       "    <tr>\n",
       "      <th>506</th>\n",
       "      <td>9</td>\n",
       "      <td>Prova Regular</td>\n",
       "      <td>LP</td>\n",
       "      <td>9</td>\n",
       "      <td>6</td>\n",
       "      <td>10</td>\n",
       "      <td>D</td>\n",
       "    </tr>\n",
       "  </tbody>\n",
       "</table>\n",
       "</div>"
      ],
      "text/plain": [
       "     ID_SERIE         TIPO_PROVA DISCIPLINA  ID_SERIE_ITEM  ID_BLOCO  \\\n",
       "488         9      Prova Regular         LP              9         5   \n",
       "516         9      Prova Regular         LP              5         7   \n",
       "548         9  Macrotipo 18 e 24         LP              9         2   \n",
       "301         5      Prova Regular         LP              5         7   \n",
       "158         3      Prova Regular         MT              3         4   \n",
       "658         9  Macrotipo 18 e 24         MT              9         2   \n",
       "70          3      Prova Regular         LP              3         6   \n",
       "496         9      Prova Regular         LP              9         5   \n",
       "307         5      Prova Regular         LP              5         7   \n",
       "506         9      Prova Regular         LP              9         6   \n",
       "\n",
       "     ID_POSICAO GABARITO  \n",
       "488           5        B  \n",
       "516           7        C  \n",
       "548           3        A  \n",
       "301           2        B  \n",
       "158           3        E  \n",
       "658           6        B  \n",
       "70            6        C  \n",
       "496          13        B  \n",
       "307           8        A  \n",
       "506          10        D  "
      ]
     },
     "execution_count": 14,
     "metadata": {},
     "output_type": "execute_result"
    }
   ],
   "source": [
    "df_gabarito.sample(10)"
   ]
  },
  {
   "cell_type": "code",
   "execution_count": 15,
   "metadata": {
    "pycharm": {
     "is_executing": false
    }
   },
   "outputs": [
    {
     "name": "stdout",
     "output_type": "stream",
     "text": [
      "<class 'pandas.core.frame.DataFrame'>\n",
      "RangeIndex: 666 entries, 0 to 665\n",
      "Data columns (total 7 columns):\n",
      "ID_SERIE         666 non-null int64\n",
      "TIPO_PROVA       666 non-null object\n",
      "DISCIPLINA       666 non-null object\n",
      "ID_SERIE_ITEM    666 non-null int64\n",
      "ID_BLOCO         666 non-null int64\n",
      "ID_POSICAO       666 non-null int64\n",
      "GABARITO         666 non-null object\n",
      "dtypes: int64(4), object(3)\n",
      "memory usage: 36.5+ KB\n"
     ]
    }
   ],
   "source": [
    "df_gabarito.info()"
   ]
  },
  {
   "cell_type": "markdown",
   "metadata": {},
   "source": [
    "Geralmente 15 segundos para carregar o conjunto de dados selecionado"
   ]
  },
  {
   "cell_type": "code",
   "execution_count": 16,
   "metadata": {},
   "outputs": [],
   "source": [
    "sampling_number = None"
   ]
  },
  {
   "cell_type": "code",
   "execution_count": 17,
   "metadata": {
    "pycharm": {
     "is_executing": false
    }
   },
   "outputs": [],
   "source": [
    "df_aluno_5EF = pd.read_csv(\n",
    "    file_alunos_5EF,\n",
    "    delimiter=',', encoding='iso-8859-1',\n",
    "    usecols=colunas_aluno,\n",
    "    low_memory=True, \n",
    "    nrows=sampling_number  # Para fazer testes com os dados\n",
    ")"
   ]
  },
  {
   "cell_type": "code",
   "execution_count": 18,
   "metadata": {
    "pycharm": {
     "is_executing": false,
     "name": "#%%\n"
    }
   },
   "outputs": [],
   "source": [
    "df_aluno_9EF = pd.read_csv(\n",
    "    file_alunos_9EF,\n",
    "    delimiter=',', encoding='iso-8859-1',\n",
    "    usecols=colunas_aluno,\n",
    "    low_memory=True,\n",
    "    nrows=sampling_number  # Para fazer testes com os dados\n",
    ")"
   ]
  },
  {
   "cell_type": "code",
   "execution_count": 19,
   "metadata": {
    "pycharm": {
     "is_executing": false,
     "name": "#%%\n"
    }
   },
   "outputs": [],
   "source": [
    "# df_aluno_3EM_AG = pd.read_csv(\n",
    "#     file_alunos_3EM_AG,\n",
    "#     delimiter=',', encoding='iso-8859-1',\n",
    "#     usecols=colunas_aluno,\n",
    "#     low_memory=True, \n",
    "# )"
   ]
  },
  {
   "cell_type": "code",
   "execution_count": 20,
   "metadata": {
    "pycharm": {
     "is_executing": false,
     "name": "#%%\n"
    }
   },
   "outputs": [],
   "source": [
    "df_aluno_3EM = pd.read_csv(\n",
    "    file_alunos_3EM_ESC,\n",
    "    delimiter=',', encoding='iso-8859-1',\n",
    "    usecols=colunas_aluno,\n",
    "    low_memory=True,\n",
    "    nrows=sampling_number  # Para fazer testes com os dados\n",
    ")"
   ]
  },
  {
   "cell_type": "code",
   "execution_count": 21,
   "metadata": {
    "pycharm": {
     "is_executing": false
    },
    "scrolled": true
   },
   "outputs": [
    {
     "data": {
      "text/html": [
       "<div>\n",
       "<style scoped>\n",
       "    .dataframe tbody tr th:only-of-type {\n",
       "        vertical-align: middle;\n",
       "    }\n",
       "\n",
       "    .dataframe tbody tr th {\n",
       "        vertical-align: top;\n",
       "    }\n",
       "\n",
       "    .dataframe thead th {\n",
       "        text-align: right;\n",
       "    }\n",
       "</style>\n",
       "<table border=\"1\" class=\"dataframe\">\n",
       "  <thead>\n",
       "    <tr style=\"text-align: right;\">\n",
       "      <th></th>\n",
       "      <th>ID_REGIAO</th>\n",
       "      <th>ID_UF</th>\n",
       "      <th>ID_MUNICIPIO</th>\n",
       "      <th>ID_AREA</th>\n",
       "      <th>ID_SERIE</th>\n",
       "      <th>IN_PREENCHIMENTO_PROVA</th>\n",
       "      <th>ID_BLOCO_1</th>\n",
       "      <th>ID_BLOCO_2</th>\n",
       "      <th>TX_RESP_BLOCO_1_LP</th>\n",
       "      <th>TX_RESP_BLOCO_2_LP</th>\n",
       "      <th>TX_RESP_BLOCO_1_MT</th>\n",
       "      <th>TX_RESP_BLOCO_2_MT</th>\n",
       "      <th>PROFICIENCIA_LP</th>\n",
       "      <th>PROFICIENCIA_MT</th>\n",
       "      <th>TX_RESP_Q001</th>\n",
       "      <th>TX_RESP_Q002</th>\n",
       "    </tr>\n",
       "  </thead>\n",
       "  <tbody>\n",
       "    <tr>\n",
       "      <th>277520</th>\n",
       "      <td>1</td>\n",
       "      <td>16</td>\n",
       "      <td>1600238</td>\n",
       "      <td>2</td>\n",
       "      <td>5</td>\n",
       "      <td>0</td>\n",
       "      <td>4.0</td>\n",
       "      <td>7.0</td>\n",
       "      <td>...........</td>\n",
       "      <td>...........</td>\n",
       "      <td>...........</td>\n",
       "      <td>...........</td>\n",
       "      <td>NaN</td>\n",
       "      <td>NaN</td>\n",
       "      <td>NaN</td>\n",
       "      <td>NaN</td>\n",
       "    </tr>\n",
       "    <tr>\n",
       "      <th>369781</th>\n",
       "      <td>2</td>\n",
       "      <td>21</td>\n",
       "      <td>2105500</td>\n",
       "      <td>2</td>\n",
       "      <td>5</td>\n",
       "      <td>1</td>\n",
       "      <td>1.0</td>\n",
       "      <td>4.0</td>\n",
       "      <td>BADDBCAABBB</td>\n",
       "      <td>DCCBCABBAAD</td>\n",
       "      <td>DBADCBABADD</td>\n",
       "      <td>BDCBAACDADD</td>\n",
       "      <td>-0.838272</td>\n",
       "      <td>-0.735754</td>\n",
       "      <td>B</td>\n",
       "      <td>F</td>\n",
       "    </tr>\n",
       "    <tr>\n",
       "      <th>626288</th>\n",
       "      <td>2</td>\n",
       "      <td>24</td>\n",
       "      <td>2408102</td>\n",
       "      <td>1</td>\n",
       "      <td>5</td>\n",
       "      <td>1</td>\n",
       "      <td>7.0</td>\n",
       "      <td>3.0</td>\n",
       "      <td>BABBCD*.*.A</td>\n",
       "      <td>DDDCAABAACA</td>\n",
       "      <td>CDDABCBDAAC</td>\n",
       "      <td>BCDCBADBBBC</td>\n",
       "      <td>-1.647225</td>\n",
       "      <td>-1.267261</td>\n",
       "      <td>NaN</td>\n",
       "      <td>A</td>\n",
       "    </tr>\n",
       "    <tr>\n",
       "      <th>850646</th>\n",
       "      <td>2</td>\n",
       "      <td>27</td>\n",
       "      <td>2708907</td>\n",
       "      <td>2</td>\n",
       "      <td>5</td>\n",
       "      <td>1</td>\n",
       "      <td>5.0</td>\n",
       "      <td>7.0</td>\n",
       "      <td>DDACAACDDBD</td>\n",
       "      <td>BBDCADBABAD</td>\n",
       "      <td>ACDCDCDCCBA</td>\n",
       "      <td>CCADBDBDCCD</td>\n",
       "      <td>1.007552</td>\n",
       "      <td>0.129900</td>\n",
       "      <td>A</td>\n",
       "      <td>A</td>\n",
       "    </tr>\n",
       "    <tr>\n",
       "      <th>2477863</th>\n",
       "      <td>5</td>\n",
       "      <td>51</td>\n",
       "      <td>5104807</td>\n",
       "      <td>2</td>\n",
       "      <td>5</td>\n",
       "      <td>1</td>\n",
       "      <td>3.0</td>\n",
       "      <td>4.0</td>\n",
       "      <td>DBABAAAAAAA</td>\n",
       "      <td>ACCDAAABAAA</td>\n",
       "      <td>DAADCDCDDCD</td>\n",
       "      <td>BDCAADACABC</td>\n",
       "      <td>-1.206787</td>\n",
       "      <td>-1.711520</td>\n",
       "      <td>B</td>\n",
       "      <td>C</td>\n",
       "    </tr>\n",
       "    <tr>\n",
       "      <th>906283</th>\n",
       "      <td>2</td>\n",
       "      <td>29</td>\n",
       "      <td>2904902</td>\n",
       "      <td>2</td>\n",
       "      <td>5</td>\n",
       "      <td>1</td>\n",
       "      <td>5.0</td>\n",
       "      <td>1.0</td>\n",
       "      <td>DDCCCDADDBD</td>\n",
       "      <td>BBADDABBBBB</td>\n",
       "      <td>ACDCDCCDDDA</td>\n",
       "      <td>DBBDCDACDDD</td>\n",
       "      <td>-0.658136</td>\n",
       "      <td>-0.862366</td>\n",
       "      <td>A</td>\n",
       "      <td>A</td>\n",
       "    </tr>\n",
       "    <tr>\n",
       "      <th>145394</th>\n",
       "      <td>1</td>\n",
       "      <td>15</td>\n",
       "      <td>1500909</td>\n",
       "      <td>2</td>\n",
       "      <td>5</td>\n",
       "      <td>1</td>\n",
       "      <td>6.0</td>\n",
       "      <td>2.0</td>\n",
       "      <td>DBABACABDAA</td>\n",
       "      <td>DAADDBCACCA</td>\n",
       "      <td>BDBBBBADABC</td>\n",
       "      <td>BBABCBACCDC</td>\n",
       "      <td>-1.445245</td>\n",
       "      <td>-0.896650</td>\n",
       "      <td>A</td>\n",
       "      <td>B</td>\n",
       "    </tr>\n",
       "    <tr>\n",
       "      <th>1650974</th>\n",
       "      <td>3</td>\n",
       "      <td>35</td>\n",
       "      <td>3517208</td>\n",
       "      <td>2</td>\n",
       "      <td>5</td>\n",
       "      <td>1</td>\n",
       "      <td>5.0</td>\n",
       "      <td>1.0</td>\n",
       "      <td>DCCCCCCDDDD</td>\n",
       "      <td>BCBDBCAABBB</td>\n",
       "      <td>ABBCDADCCBA</td>\n",
       "      <td>DCADCBAABAA</td>\n",
       "      <td>-0.424707</td>\n",
       "      <td>0.486399</td>\n",
       "      <td>B</td>\n",
       "      <td>C</td>\n",
       "    </tr>\n",
       "    <tr>\n",
       "      <th>1744114</th>\n",
       "      <td>3</td>\n",
       "      <td>35</td>\n",
       "      <td>3529005</td>\n",
       "      <td>2</td>\n",
       "      <td>5</td>\n",
       "      <td>1</td>\n",
       "      <td>5.0</td>\n",
       "      <td>7.0</td>\n",
       "      <td>DDACDCBDDBD</td>\n",
       "      <td>BBDCADBABBB</td>\n",
       "      <td>ABDCDACCDCA</td>\n",
       "      <td>CCACCCBDCDA</td>\n",
       "      <td>-0.052430</td>\n",
       "      <td>0.075085</td>\n",
       "      <td>B</td>\n",
       "      <td>B</td>\n",
       "    </tr>\n",
       "    <tr>\n",
       "      <th>2505219</th>\n",
       "      <td>5</td>\n",
       "      <td>52</td>\n",
       "      <td>5200050</td>\n",
       "      <td>2</td>\n",
       "      <td>5</td>\n",
       "      <td>1</td>\n",
       "      <td>1.0</td>\n",
       "      <td>3.0</td>\n",
       "      <td>DBADACAABBA</td>\n",
       "      <td>DDAABCDAAAC</td>\n",
       "      <td>ACCCBBACDDB</td>\n",
       "      <td>DCCCCBCDDCC</td>\n",
       "      <td>-1.215454</td>\n",
       "      <td>-1.942306</td>\n",
       "      <td>NaN</td>\n",
       "      <td>B</td>\n",
       "    </tr>\n",
       "  </tbody>\n",
       "</table>\n",
       "</div>"
      ],
      "text/plain": [
       "         ID_REGIAO  ID_UF  ID_MUNICIPIO  ID_AREA  ID_SERIE  \\\n",
       "277520           1     16       1600238        2         5   \n",
       "369781           2     21       2105500        2         5   \n",
       "626288           2     24       2408102        1         5   \n",
       "850646           2     27       2708907        2         5   \n",
       "2477863          5     51       5104807        2         5   \n",
       "906283           2     29       2904902        2         5   \n",
       "145394           1     15       1500909        2         5   \n",
       "1650974          3     35       3517208        2         5   \n",
       "1744114          3     35       3529005        2         5   \n",
       "2505219          5     52       5200050        2         5   \n",
       "\n",
       "         IN_PREENCHIMENTO_PROVA  ID_BLOCO_1  ID_BLOCO_2 TX_RESP_BLOCO_1_LP  \\\n",
       "277520                        0         4.0         7.0        ...........   \n",
       "369781                        1         1.0         4.0        BADDBCAABBB   \n",
       "626288                        1         7.0         3.0        BABBCD*.*.A   \n",
       "850646                        1         5.0         7.0        DDACAACDDBD   \n",
       "2477863                       1         3.0         4.0        DBABAAAAAAA   \n",
       "906283                        1         5.0         1.0        DDCCCDADDBD   \n",
       "145394                        1         6.0         2.0        DBABACABDAA   \n",
       "1650974                       1         5.0         1.0        DCCCCCCDDDD   \n",
       "1744114                       1         5.0         7.0        DDACDCBDDBD   \n",
       "2505219                       1         1.0         3.0        DBADACAABBA   \n",
       "\n",
       "        TX_RESP_BLOCO_2_LP TX_RESP_BLOCO_1_MT TX_RESP_BLOCO_2_MT  \\\n",
       "277520         ...........        ...........        ...........   \n",
       "369781         DCCBCABBAAD        DBADCBABADD        BDCBAACDADD   \n",
       "626288         DDDCAABAACA        CDDABCBDAAC        BCDCBADBBBC   \n",
       "850646         BBDCADBABAD        ACDCDCDCCBA        CCADBDBDCCD   \n",
       "2477863        ACCDAAABAAA        DAADCDCDDCD        BDCAADACABC   \n",
       "906283         BBADDABBBBB        ACDCDCCDDDA        DBBDCDACDDD   \n",
       "145394         DAADDBCACCA        BDBBBBADABC        BBABCBACCDC   \n",
       "1650974        BCBDBCAABBB        ABBCDADCCBA        DCADCBAABAA   \n",
       "1744114        BBDCADBABBB        ABDCDACCDCA        CCACCCBDCDA   \n",
       "2505219        DDAABCDAAAC        ACCCBBACDDB        DCCCCBCDDCC   \n",
       "\n",
       "         PROFICIENCIA_LP  PROFICIENCIA_MT TX_RESP_Q001 TX_RESP_Q002  \n",
       "277520               NaN              NaN          NaN          NaN  \n",
       "369781         -0.838272        -0.735754            B            F  \n",
       "626288         -1.647225        -1.267261          NaN            A  \n",
       "850646          1.007552         0.129900            A            A  \n",
       "2477863        -1.206787        -1.711520            B            C  \n",
       "906283         -0.658136        -0.862366            A            A  \n",
       "145394         -1.445245        -0.896650            A            B  \n",
       "1650974        -0.424707         0.486399            B            C  \n",
       "1744114        -0.052430         0.075085            B            B  \n",
       "2505219        -1.215454        -1.942306          NaN            B  "
      ]
     },
     "execution_count": 21,
     "metadata": {},
     "output_type": "execute_result"
    }
   ],
   "source": [
    "df_aluno_5EF.sample(10)"
   ]
  },
  {
   "cell_type": "code",
   "execution_count": 22,
   "metadata": {
    "pycharm": {
     "is_executing": false,
     "name": "#%%\n"
    }
   },
   "outputs": [
    {
     "data": {
      "text/html": [
       "<div>\n",
       "<style scoped>\n",
       "    .dataframe tbody tr th:only-of-type {\n",
       "        vertical-align: middle;\n",
       "    }\n",
       "\n",
       "    .dataframe tbody tr th {\n",
       "        vertical-align: top;\n",
       "    }\n",
       "\n",
       "    .dataframe thead th {\n",
       "        text-align: right;\n",
       "    }\n",
       "</style>\n",
       "<table border=\"1\" class=\"dataframe\">\n",
       "  <thead>\n",
       "    <tr style=\"text-align: right;\">\n",
       "      <th></th>\n",
       "      <th>ID_REGIAO</th>\n",
       "      <th>ID_UF</th>\n",
       "      <th>ID_MUNICIPIO</th>\n",
       "      <th>ID_AREA</th>\n",
       "      <th>ID_SERIE</th>\n",
       "      <th>IN_PREENCHIMENTO_PROVA</th>\n",
       "      <th>ID_BLOCO_1</th>\n",
       "      <th>ID_BLOCO_2</th>\n",
       "      <th>TX_RESP_BLOCO_1_LP</th>\n",
       "      <th>TX_RESP_BLOCO_2_LP</th>\n",
       "      <th>TX_RESP_BLOCO_1_MT</th>\n",
       "      <th>TX_RESP_BLOCO_2_MT</th>\n",
       "      <th>PROFICIENCIA_LP</th>\n",
       "      <th>PROFICIENCIA_MT</th>\n",
       "      <th>TX_RESP_Q001</th>\n",
       "      <th>TX_RESP_Q002</th>\n",
       "    </tr>\n",
       "  </thead>\n",
       "  <tbody>\n",
       "    <tr>\n",
       "      <th>659126</th>\n",
       "      <td>2</td>\n",
       "      <td>26</td>\n",
       "      <td>2611101</td>\n",
       "      <td>2</td>\n",
       "      <td>9</td>\n",
       "      <td>1</td>\n",
       "      <td>2.0</td>\n",
       "      <td>5.0</td>\n",
       "      <td>CDADDABCABACA</td>\n",
       "      <td>ADACAABCACBBB</td>\n",
       "      <td>BAAABABDCDDAA</td>\n",
       "      <td>CBCDBCDDBBACB</td>\n",
       "      <td>-0.662005</td>\n",
       "      <td>-0.827364</td>\n",
       "      <td>A</td>\n",
       "      <td>A</td>\n",
       "    </tr>\n",
       "    <tr>\n",
       "      <th>977337</th>\n",
       "      <td>3</td>\n",
       "      <td>31</td>\n",
       "      <td>3106705</td>\n",
       "      <td>2</td>\n",
       "      <td>9</td>\n",
       "      <td>1</td>\n",
       "      <td>5.0</td>\n",
       "      <td>1.0</td>\n",
       "      <td>BBDCBCADCCBCB</td>\n",
       "      <td>DBBADDCADDDCC</td>\n",
       "      <td>BDBACCDBCBCAD</td>\n",
       "      <td>CBBDDDBDAABCD</td>\n",
       "      <td>-0.272826</td>\n",
       "      <td>0.357095</td>\n",
       "      <td>B</td>\n",
       "      <td>C</td>\n",
       "    </tr>\n",
       "    <tr>\n",
       "      <th>488896</th>\n",
       "      <td>2</td>\n",
       "      <td>23</td>\n",
       "      <td>2311306</td>\n",
       "      <td>2</td>\n",
       "      <td>9</td>\n",
       "      <td>1</td>\n",
       "      <td>5.0</td>\n",
       "      <td>7.0</td>\n",
       "      <td>DACCAACDCABCC</td>\n",
       "      <td>ADABAACABACCD</td>\n",
       "      <td>CCBADCDCCBBAA</td>\n",
       "      <td>BBDCDBCBDACAB</td>\n",
       "      <td>-0.194428</td>\n",
       "      <td>-0.430181</td>\n",
       "      <td>A</td>\n",
       "      <td>E</td>\n",
       "    </tr>\n",
       "    <tr>\n",
       "      <th>1290014</th>\n",
       "      <td>3</td>\n",
       "      <td>33</td>\n",
       "      <td>3303500</td>\n",
       "      <td>2</td>\n",
       "      <td>9</td>\n",
       "      <td>1</td>\n",
       "      <td>7.0</td>\n",
       "      <td>1.0</td>\n",
       "      <td>ACCACACBBDAAD</td>\n",
       "      <td>ADBCADDADAADC</td>\n",
       "      <td>BCBB*DBDDBBBA</td>\n",
       "      <td>ABCABADABBCDA</td>\n",
       "      <td>-0.239697</td>\n",
       "      <td>-1.709613</td>\n",
       "      <td>A</td>\n",
       "      <td>F</td>\n",
       "    </tr>\n",
       "    <tr>\n",
       "      <th>24002</th>\n",
       "      <td>1</td>\n",
       "      <td>12</td>\n",
       "      <td>1200013</td>\n",
       "      <td>2</td>\n",
       "      <td>9</td>\n",
       "      <td>1</td>\n",
       "      <td>2.0</td>\n",
       "      <td>5.0</td>\n",
       "      <td>ABCDCBABCDCBA</td>\n",
       "      <td>BCDCACBDBACBA</td>\n",
       "      <td>CDBCAABBACACA</td>\n",
       "      <td>CCBDBCDBCBCBB</td>\n",
       "      <td>-1.469113</td>\n",
       "      <td>1.016943</td>\n",
       "      <td>B</td>\n",
       "      <td>A</td>\n",
       "    </tr>\n",
       "    <tr>\n",
       "      <th>77662</th>\n",
       "      <td>1</td>\n",
       "      <td>13</td>\n",
       "      <td>1302603</td>\n",
       "      <td>1</td>\n",
       "      <td>9</td>\n",
       "      <td>1</td>\n",
       "      <td>1.0</td>\n",
       "      <td>3.0</td>\n",
       "      <td>CDCDBADADCCBC</td>\n",
       "      <td>CBBDACCCBCBDD</td>\n",
       "      <td>BCBBACBDCBCCD</td>\n",
       "      <td>DCACDDCBAACCC</td>\n",
       "      <td>0.111181</td>\n",
       "      <td>-0.856388</td>\n",
       "      <td>B</td>\n",
       "      <td>C</td>\n",
       "    </tr>\n",
       "    <tr>\n",
       "      <th>2069703</th>\n",
       "      <td>4</td>\n",
       "      <td>43</td>\n",
       "      <td>4309209</td>\n",
       "      <td>2</td>\n",
       "      <td>9</td>\n",
       "      <td>1</td>\n",
       "      <td>7.0</td>\n",
       "      <td>1.0</td>\n",
       "      <td>ACDAABCABCACD</td>\n",
       "      <td>CDDDACDADCDCC</td>\n",
       "      <td>BABBDABDAADCB</td>\n",
       "      <td>CBCDABBCBBBDD</td>\n",
       "      <td>0.748549</td>\n",
       "      <td>-0.162788</td>\n",
       "      <td>A</td>\n",
       "      <td>F</td>\n",
       "    </tr>\n",
       "    <tr>\n",
       "      <th>1688360</th>\n",
       "      <td>3</td>\n",
       "      <td>35</td>\n",
       "      <td>3549904</td>\n",
       "      <td>2</td>\n",
       "      <td>9</td>\n",
       "      <td>1</td>\n",
       "      <td>7.0</td>\n",
       "      <td>1.0</td>\n",
       "      <td>ACDACBCBBAACD</td>\n",
       "      <td>CDBCAADBDCADC</td>\n",
       "      <td>BABCAADBCABDA</td>\n",
       "      <td>CBBBBDBABADCA</td>\n",
       "      <td>0.959227</td>\n",
       "      <td>0.257315</td>\n",
       "      <td>A</td>\n",
       "      <td>C</td>\n",
       "    </tr>\n",
       "    <tr>\n",
       "      <th>185551</th>\n",
       "      <td>1</td>\n",
       "      <td>15</td>\n",
       "      <td>1505536</td>\n",
       "      <td>2</td>\n",
       "      <td>9</td>\n",
       "      <td>1</td>\n",
       "      <td>1.0</td>\n",
       "      <td>3.0</td>\n",
       "      <td>CCBBABDDACBBC</td>\n",
       "      <td>BBDDCDDAADDDD</td>\n",
       "      <td>CDDBCBBBCBBAD</td>\n",
       "      <td>DCBBCCBDABACD</td>\n",
       "      <td>-0.359658</td>\n",
       "      <td>-0.456642</td>\n",
       "      <td>B</td>\n",
       "      <td>C</td>\n",
       "    </tr>\n",
       "    <tr>\n",
       "      <th>1701717</th>\n",
       "      <td>3</td>\n",
       "      <td>35</td>\n",
       "      <td>3550308</td>\n",
       "      <td>1</td>\n",
       "      <td>9</td>\n",
       "      <td>1</td>\n",
       "      <td>6.0</td>\n",
       "      <td>2.0</td>\n",
       "      <td>CADCBBDACABDC</td>\n",
       "      <td>ABCADBCDADBAD</td>\n",
       "      <td>DDCBBCABDCBDA</td>\n",
       "      <td>CCBABDBCABDCD</td>\n",
       "      <td>-1.372569</td>\n",
       "      <td>-0.393955</td>\n",
       "      <td>A</td>\n",
       "      <td>C</td>\n",
       "    </tr>\n",
       "  </tbody>\n",
       "</table>\n",
       "</div>"
      ],
      "text/plain": [
       "         ID_REGIAO  ID_UF  ID_MUNICIPIO  ID_AREA  ID_SERIE  \\\n",
       "659126           2     26       2611101        2         9   \n",
       "977337           3     31       3106705        2         9   \n",
       "488896           2     23       2311306        2         9   \n",
       "1290014          3     33       3303500        2         9   \n",
       "24002            1     12       1200013        2         9   \n",
       "77662            1     13       1302603        1         9   \n",
       "2069703          4     43       4309209        2         9   \n",
       "1688360          3     35       3549904        2         9   \n",
       "185551           1     15       1505536        2         9   \n",
       "1701717          3     35       3550308        1         9   \n",
       "\n",
       "         IN_PREENCHIMENTO_PROVA  ID_BLOCO_1  ID_BLOCO_2 TX_RESP_BLOCO_1_LP  \\\n",
       "659126                        1         2.0         5.0      CDADDABCABACA   \n",
       "977337                        1         5.0         1.0      BBDCBCADCCBCB   \n",
       "488896                        1         5.0         7.0      DACCAACDCABCC   \n",
       "1290014                       1         7.0         1.0      ACCACACBBDAAD   \n",
       "24002                         1         2.0         5.0      ABCDCBABCDCBA   \n",
       "77662                         1         1.0         3.0      CDCDBADADCCBC   \n",
       "2069703                       1         7.0         1.0      ACDAABCABCACD   \n",
       "1688360                       1         7.0         1.0      ACDACBCBBAACD   \n",
       "185551                        1         1.0         3.0      CCBBABDDACBBC   \n",
       "1701717                       1         6.0         2.0      CADCBBDACABDC   \n",
       "\n",
       "        TX_RESP_BLOCO_2_LP TX_RESP_BLOCO_1_MT TX_RESP_BLOCO_2_MT  \\\n",
       "659126       ADACAABCACBBB      BAAABABDCDDAA      CBCDBCDDBBACB   \n",
       "977337       DBBADDCADDDCC      BDBACCDBCBCAD      CBBDDDBDAABCD   \n",
       "488896       ADABAACABACCD      CCBADCDCCBBAA      BBDCDBCBDACAB   \n",
       "1290014      ADBCADDADAADC      BCBB*DBDDBBBA      ABCABADABBCDA   \n",
       "24002        BCDCACBDBACBA      CDBCAABBACACA      CCBDBCDBCBCBB   \n",
       "77662        CBBDACCCBCBDD      BCBBACBDCBCCD      DCACDDCBAACCC   \n",
       "2069703      CDDDACDADCDCC      BABBDABDAADCB      CBCDABBCBBBDD   \n",
       "1688360      CDBCAADBDCADC      BABCAADBCABDA      CBBBBDBABADCA   \n",
       "185551       BBDDCDDAADDDD      CDDBCBBBCBBAD      DCBBCCBDABACD   \n",
       "1701717      ABCADBCDADBAD      DDCBBCABDCBDA      CCBABDBCABDCD   \n",
       "\n",
       "         PROFICIENCIA_LP  PROFICIENCIA_MT TX_RESP_Q001 TX_RESP_Q002  \n",
       "659126         -0.662005        -0.827364            A            A  \n",
       "977337         -0.272826         0.357095            B            C  \n",
       "488896         -0.194428        -0.430181            A            E  \n",
       "1290014        -0.239697        -1.709613            A            F  \n",
       "24002          -1.469113         1.016943            B            A  \n",
       "77662           0.111181        -0.856388            B            C  \n",
       "2069703         0.748549        -0.162788            A            F  \n",
       "1688360         0.959227         0.257315            A            C  \n",
       "185551         -0.359658        -0.456642            B            C  \n",
       "1701717        -1.372569        -0.393955            A            C  "
      ]
     },
     "execution_count": 22,
     "metadata": {},
     "output_type": "execute_result"
    }
   ],
   "source": [
    "df_aluno_9EF.sample(10)"
   ]
  },
  {
   "cell_type": "code",
   "execution_count": 23,
   "metadata": {
    "pycharm": {
     "is_executing": false,
     "name": "#%%\n"
    }
   },
   "outputs": [
    {
     "data": {
      "text/html": [
       "<div>\n",
       "<style scoped>\n",
       "    .dataframe tbody tr th:only-of-type {\n",
       "        vertical-align: middle;\n",
       "    }\n",
       "\n",
       "    .dataframe tbody tr th {\n",
       "        vertical-align: top;\n",
       "    }\n",
       "\n",
       "    .dataframe thead th {\n",
       "        text-align: right;\n",
       "    }\n",
       "</style>\n",
       "<table border=\"1\" class=\"dataframe\">\n",
       "  <thead>\n",
       "    <tr style=\"text-align: right;\">\n",
       "      <th></th>\n",
       "      <th>ID_REGIAO</th>\n",
       "      <th>ID_UF</th>\n",
       "      <th>ID_MUNICIPIO</th>\n",
       "      <th>ID_AREA</th>\n",
       "      <th>ID_SERIE</th>\n",
       "      <th>IN_PREENCHIMENTO_PROVA</th>\n",
       "      <th>ID_BLOCO_1</th>\n",
       "      <th>ID_BLOCO_2</th>\n",
       "      <th>TX_RESP_BLOCO_1_LP</th>\n",
       "      <th>TX_RESP_BLOCO_2_LP</th>\n",
       "      <th>TX_RESP_BLOCO_1_MT</th>\n",
       "      <th>TX_RESP_BLOCO_2_MT</th>\n",
       "      <th>PROFICIENCIA_LP</th>\n",
       "      <th>PROFICIENCIA_MT</th>\n",
       "      <th>TX_RESP_Q001</th>\n",
       "      <th>TX_RESP_Q002</th>\n",
       "    </tr>\n",
       "  </thead>\n",
       "  <tbody>\n",
       "    <tr>\n",
       "      <th>436236</th>\n",
       "      <td>2</td>\n",
       "      <td>26</td>\n",
       "      <td>2612455</td>\n",
       "      <td>2</td>\n",
       "      <td>12</td>\n",
       "      <td>1</td>\n",
       "      <td>5</td>\n",
       "      <td>1</td>\n",
       "      <td>ABBCECDDBECDB</td>\n",
       "      <td>ADAEBCDACCEAA</td>\n",
       "      <td>AECECDDBCCDDE</td>\n",
       "      <td>CDCAACBBACBDE</td>\n",
       "      <td>-0.805711</td>\n",
       "      <td>-0.365511</td>\n",
       "      <td>B</td>\n",
       "      <td>C</td>\n",
       "    </tr>\n",
       "    <tr>\n",
       "      <th>1412205</th>\n",
       "      <td>5</td>\n",
       "      <td>52</td>\n",
       "      <td>5208707</td>\n",
       "      <td>1</td>\n",
       "      <td>12</td>\n",
       "      <td>1</td>\n",
       "      <td>5</td>\n",
       "      <td>1</td>\n",
       "      <td>AADABCDDAEBAE</td>\n",
       "      <td>AADAABCABACCD</td>\n",
       "      <td>BDAEDBBCCBEAE</td>\n",
       "      <td>BEDCDABDBCAAD</td>\n",
       "      <td>0.029474</td>\n",
       "      <td>-0.599809</td>\n",
       "      <td>A</td>\n",
       "      <td>C</td>\n",
       "    </tr>\n",
       "    <tr>\n",
       "      <th>586323</th>\n",
       "      <td>3</td>\n",
       "      <td>31</td>\n",
       "      <td>3100302</td>\n",
       "      <td>2</td>\n",
       "      <td>12</td>\n",
       "      <td>1</td>\n",
       "      <td>4</td>\n",
       "      <td>5</td>\n",
       "      <td>BACACAADCEBBE</td>\n",
       "      <td>DDEDAEDDAEAAC</td>\n",
       "      <td>CBCDBCBDACDDA</td>\n",
       "      <td>BCBEDEDCBCBAD</td>\n",
       "      <td>1.442405</td>\n",
       "      <td>1.713018</td>\n",
       "      <td>B</td>\n",
       "      <td>A</td>\n",
       "    </tr>\n",
       "    <tr>\n",
       "      <th>1293414</th>\n",
       "      <td>4</td>\n",
       "      <td>42</td>\n",
       "      <td>4208906</td>\n",
       "      <td>2</td>\n",
       "      <td>12</td>\n",
       "      <td>1</td>\n",
       "      <td>6</td>\n",
       "      <td>1</td>\n",
       "      <td>DEBDCCCAAEEEC</td>\n",
       "      <td>BCADDECAAABAD</td>\n",
       "      <td>BAADEBCACDDDC</td>\n",
       "      <td>CDBEDEDBDBEAA</td>\n",
       "      <td>-0.093019</td>\n",
       "      <td>1.019313</td>\n",
       "      <td>A</td>\n",
       "      <td>C</td>\n",
       "    </tr>\n",
       "    <tr>\n",
       "      <th>504720</th>\n",
       "      <td>2</td>\n",
       "      <td>29</td>\n",
       "      <td>2907202</td>\n",
       "      <td>2</td>\n",
       "      <td>12</td>\n",
       "      <td>1</td>\n",
       "      <td>2</td>\n",
       "      <td>4</td>\n",
       "      <td>BCEDAEDBCCBDB</td>\n",
       "      <td>CADBBDCACECAB</td>\n",
       "      <td>ECBCACBADBDCC</td>\n",
       "      <td>BCABEBBCBDACA</td>\n",
       "      <td>-1.691220</td>\n",
       "      <td>-1.249130</td>\n",
       "      <td>B</td>\n",
       "      <td>D</td>\n",
       "    </tr>\n",
       "    <tr>\n",
       "      <th>268320</th>\n",
       "      <td>2</td>\n",
       "      <td>23</td>\n",
       "      <td>2304400</td>\n",
       "      <td>1</td>\n",
       "      <td>13</td>\n",
       "      <td>1</td>\n",
       "      <td>3</td>\n",
       "      <td>6</td>\n",
       "      <td>ABECEEDDAEEAD</td>\n",
       "      <td>BEBDCCBCBADBB</td>\n",
       "      <td>EEADCCCCBBDAD</td>\n",
       "      <td>CDCEDBBACABCA</td>\n",
       "      <td>2.082675</td>\n",
       "      <td>1.377413</td>\n",
       "      <td>B</td>\n",
       "      <td>C</td>\n",
       "    </tr>\n",
       "    <tr>\n",
       "      <th>567011</th>\n",
       "      <td>2</td>\n",
       "      <td>29</td>\n",
       "      <td>2928406</td>\n",
       "      <td>2</td>\n",
       "      <td>12</td>\n",
       "      <td>1</td>\n",
       "      <td>5</td>\n",
       "      <td>1</td>\n",
       "      <td>AEBCBCDCACAAB</td>\n",
       "      <td>ADADECDACCDEA</td>\n",
       "      <td>DBEEABDDDCDBE</td>\n",
       "      <td>DCBBDDCAABAAE</td>\n",
       "      <td>-0.483123</td>\n",
       "      <td>-1.044506</td>\n",
       "      <td>B</td>\n",
       "      <td>C</td>\n",
       "    </tr>\n",
       "    <tr>\n",
       "      <th>422329</th>\n",
       "      <td>2</td>\n",
       "      <td>26</td>\n",
       "      <td>2611101</td>\n",
       "      <td>2</td>\n",
       "      <td>12</td>\n",
       "      <td>1</td>\n",
       "      <td>1</td>\n",
       "      <td>2</td>\n",
       "      <td>DEAEDDACBACCA</td>\n",
       "      <td>ADDCECDDDBEBE</td>\n",
       "      <td>CBCBDBABACCDC</td>\n",
       "      <td>DCCCDDDBCEEBE</td>\n",
       "      <td>-0.331055</td>\n",
       "      <td>-0.056205</td>\n",
       "      <td>A</td>\n",
       "      <td>B</td>\n",
       "    </tr>\n",
       "    <tr>\n",
       "      <th>85218</th>\n",
       "      <td>1</td>\n",
       "      <td>15</td>\n",
       "      <td>1501808</td>\n",
       "      <td>2</td>\n",
       "      <td>12</td>\n",
       "      <td>1</td>\n",
       "      <td>5</td>\n",
       "      <td>1</td>\n",
       "      <td>CAEDAEDBADAAE</td>\n",
       "      <td>AAEEEBBAADCDD</td>\n",
       "      <td>AABEDBBCDADAE</td>\n",
       "      <td>CDEBACBACEDDC</td>\n",
       "      <td>0.356497</td>\n",
       "      <td>0.152356</td>\n",
       "      <td>B</td>\n",
       "      <td>C</td>\n",
       "    </tr>\n",
       "    <tr>\n",
       "      <th>99223</th>\n",
       "      <td>1</td>\n",
       "      <td>15</td>\n",
       "      <td>1504208</td>\n",
       "      <td>2</td>\n",
       "      <td>12</td>\n",
       "      <td>1</td>\n",
       "      <td>2</td>\n",
       "      <td>4</td>\n",
       "      <td>DDABBADDDDEAE</td>\n",
       "      <td>CAACACABADADD</td>\n",
       "      <td>EADBDAACCACEA</td>\n",
       "      <td>BDADBAABACACA</td>\n",
       "      <td>-0.411557</td>\n",
       "      <td>-1.081700</td>\n",
       "      <td>A</td>\n",
       "      <td>C</td>\n",
       "    </tr>\n",
       "  </tbody>\n",
       "</table>\n",
       "</div>"
      ],
      "text/plain": [
       "         ID_REGIAO  ID_UF  ID_MUNICIPIO  ID_AREA  ID_SERIE  \\\n",
       "436236           2     26       2612455        2        12   \n",
       "1412205          5     52       5208707        1        12   \n",
       "586323           3     31       3100302        2        12   \n",
       "1293414          4     42       4208906        2        12   \n",
       "504720           2     29       2907202        2        12   \n",
       "268320           2     23       2304400        1        13   \n",
       "567011           2     29       2928406        2        12   \n",
       "422329           2     26       2611101        2        12   \n",
       "85218            1     15       1501808        2        12   \n",
       "99223            1     15       1504208        2        12   \n",
       "\n",
       "         IN_PREENCHIMENTO_PROVA  ID_BLOCO_1  ID_BLOCO_2 TX_RESP_BLOCO_1_LP  \\\n",
       "436236                        1           5           1      ABBCECDDBECDB   \n",
       "1412205                       1           5           1      AADABCDDAEBAE   \n",
       "586323                        1           4           5      BACACAADCEBBE   \n",
       "1293414                       1           6           1      DEBDCCCAAEEEC   \n",
       "504720                        1           2           4      BCEDAEDBCCBDB   \n",
       "268320                        1           3           6      ABECEEDDAEEAD   \n",
       "567011                        1           5           1      AEBCBCDCACAAB   \n",
       "422329                        1           1           2      DEAEDDACBACCA   \n",
       "85218                         1           5           1      CAEDAEDBADAAE   \n",
       "99223                         1           2           4      DDABBADDDDEAE   \n",
       "\n",
       "        TX_RESP_BLOCO_2_LP TX_RESP_BLOCO_1_MT TX_RESP_BLOCO_2_MT  \\\n",
       "436236       ADAEBCDACCEAA      AECECDDBCCDDE      CDCAACBBACBDE   \n",
       "1412205      AADAABCABACCD      BDAEDBBCCBEAE      BEDCDABDBCAAD   \n",
       "586323       DDEDAEDDAEAAC      CBCDBCBDACDDA      BCBEDEDCBCBAD   \n",
       "1293414      BCADDECAAABAD      BAADEBCACDDDC      CDBEDEDBDBEAA   \n",
       "504720       CADBBDCACECAB      ECBCACBADBDCC      BCABEBBCBDACA   \n",
       "268320       BEBDCCBCBADBB      EEADCCCCBBDAD      CDCEDBBACABCA   \n",
       "567011       ADADECDACCDEA      DBEEABDDDCDBE      DCBBDDCAABAAE   \n",
       "422329       ADDCECDDDBEBE      CBCBDBABACCDC      DCCCDDDBCEEBE   \n",
       "85218        AAEEEBBAADCDD      AABEDBBCDADAE      CDEBACBACEDDC   \n",
       "99223        CAACACABADADD      EADBDAACCACEA      BDADBAABACACA   \n",
       "\n",
       "         PROFICIENCIA_LP  PROFICIENCIA_MT TX_RESP_Q001 TX_RESP_Q002  \n",
       "436236         -0.805711        -0.365511            B            C  \n",
       "1412205         0.029474        -0.599809            A            C  \n",
       "586323          1.442405         1.713018            B            A  \n",
       "1293414        -0.093019         1.019313            A            C  \n",
       "504720         -1.691220        -1.249130            B            D  \n",
       "268320          2.082675         1.377413            B            C  \n",
       "567011         -0.483123        -1.044506            B            C  \n",
       "422329         -0.331055        -0.056205            A            B  \n",
       "85218           0.356497         0.152356            B            C  \n",
       "99223          -0.411557        -1.081700            A            C  "
      ]
     },
     "execution_count": 23,
     "metadata": {},
     "output_type": "execute_result"
    }
   ],
   "source": [
    "df_aluno_3EM.sample(10)"
   ]
  },
  {
   "cell_type": "markdown",
   "metadata": {
    "pycharm": {
     "is_executing": false
    }
   },
   "source": [
    "### Após o carregamento, o DataFrame tem suas colunas reorganizadas, logo:"
   ]
  },
  {
   "cell_type": "code",
   "execution_count": 24,
   "metadata": {},
   "outputs": [],
   "source": [
    "colunas_aluno = list(df_aluno_5EF.columns.values)"
   ]
  },
  {
   "cell_type": "markdown",
   "metadata": {},
   "source": [
    "### Série"
   ]
  },
  {
   "cell_type": "code",
   "execution_count": 25,
   "metadata": {},
   "outputs": [],
   "source": [
    "idx_serie_gab = colunas_resp.index(ID_SERIE)\n",
    "idx_serie_aluno = colunas_aluno.index(ID_SERIE)"
   ]
  },
  {
   "cell_type": "markdown",
   "metadata": {},
   "source": [
    "### Respostas"
   ]
  },
  {
   "cell_type": "code",
   "execution_count": 26,
   "metadata": {},
   "outputs": [],
   "source": [
    "idx_disciplina = colunas_resp.index(DISCIPLINA)\n",
    "idx_posicao_gabarito = colunas_resp.index(ID_POSICAO)\n",
    "idx_gabarito = colunas_resp.index(GABARITO)\n",
    "idx_preenchimento_prova = colunas_aluno.index(IN_PREENCHIMENTO_PROVA)"
   ]
  },
  {
   "cell_type": "markdown",
   "metadata": {},
   "source": [
    "### Blocos"
   ]
  },
  {
   "cell_type": "code",
   "execution_count": 27,
   "metadata": {},
   "outputs": [],
   "source": [
    "bloco_gab = colunas_resp.index(ID_BLOCO) \n",
    "bloco_resp_1 = colunas_aluno.index(ID_BLOCO_1)\n",
    "bloco_resp_2 = colunas_aluno.index(ID_BLOCO_2)\n",
    "aluno_resp_bloco_1_lp = colunas_aluno.index(TX_RESP_BLOCO_1_LP) \n",
    "aluno_resp_bloco_2_lp = colunas_aluno.index(TX_RESP_BLOCO_2_LP) \n",
    "aluno_resp_bloco_1_mt = colunas_aluno.index(TX_RESP_BLOCO_1_MT) \n",
    "aluno_resp_bloco_2_mt = colunas_aluno.index(TX_RESP_BLOCO_2_MT) "
   ]
  },
  {
   "cell_type": "markdown",
   "metadata": {},
   "source": [
    "### Região de Estudo/Aluno"
   ]
  },
  {
   "cell_type": "code",
   "execution_count": 28,
   "metadata": {},
   "outputs": [],
   "source": [
    "idx_uf = colunas_aluno.index(ID_UF)\n",
    "idx_municipio = colunas_aluno.index(ID_MUNICIPIO)\n",
    "idx_regiao = colunas_aluno.index(ID_REGIAO)\n",
    "idx_area = colunas_aluno.index(ID_AREA)\n",
    "idx_sexo = colunas_aluno.index(TX_RESP_Q001)\n",
    "idx_raca = colunas_aluno.index(TX_RESP_Q002)"
   ]
  },
  {
   "cell_type": "markdown",
   "metadata": {},
   "source": [
    "## Cálculo de Acertos"
   ]
  },
  {
   "cell_type": "markdown",
   "metadata": {},
   "source": [
    "### **Numeração dos Estados, Regiões etc..**\n",
    "_Descrita no Dicionário da ANEB_"
   ]
  },
  {
   "cell_type": "code",
   "execution_count": 29,
   "metadata": {},
   "outputs": [],
   "source": [
    "num_estados = {\n",
    "    11: 'RO',\n",
    "    12: 'AC',\n",
    "    13: 'AM',\n",
    "    14: 'RR',\n",
    "    15: 'PA',\n",
    "    16: 'AP',\n",
    "    17: 'TO',\n",
    "    21: 'MA',\n",
    "    22: 'PI',\n",
    "    23: 'CE',\n",
    "    24: 'RN',\n",
    "    25: 'PB',\n",
    "    26: 'PE',\n",
    "    27: 'AL',\n",
    "    28: 'SE',\n",
    "    29: 'BA',\n",
    "    31: 'MG',\n",
    "    32: 'ES',\n",
    "    33: 'RJ',\n",
    "    35: 'SP',\n",
    "    41: 'PR',\n",
    "    42: 'SC',\n",
    "    43: 'RS',\n",
    "    50: 'MS',\n",
    "    51: 'MT',\n",
    "    52: 'GO',\n",
    "    53: 'DF'\n",
    "}"
   ]
  },
  {
   "cell_type": "code",
   "execution_count": 30,
   "metadata": {},
   "outputs": [],
   "source": [
    "num_regiao = {\n",
    "    1: 'Norte',\n",
    "    2: 'Nordeste',\n",
    "    3: 'Sudeste',\n",
    "    4: 'Sul',\n",
    "    5: 'Centro-Oeste'\n",
    "}"
   ]
  },
  {
   "cell_type": "code",
   "execution_count": 31,
   "metadata": {},
   "outputs": [],
   "source": [
    "num_cor = {\n",
    "    'A': 'Branca',\n",
    "    'B': 'Preta',\n",
    "    'C': 'Parda',\n",
    "    'D': 'Amarelo',\n",
    "    'E': 'Indígena',\n",
    "    'F': 'Não quero declarar',\n",
    "}"
   ]
  },
  {
   "cell_type": "code",
   "execution_count": 32,
   "metadata": {},
   "outputs": [],
   "source": [
    "num_sexo = {\n",
    "    'A': 'Masculino',\n",
    "    'B': 'Feminino'\n",
    "}"
   ]
  },
  {
   "cell_type": "code",
   "execution_count": 33,
   "metadata": {
    "pycharm": {
     "is_executing": false,
     "name": "#%%\n"
    }
   },
   "outputs": [],
   "source": [
    "filtro_de_colunas_resposta = ['serie', 'nota_lp', 'nota_mt', 'uf', 'municipio', 'regiao', 'area', 'sexo', 'raca']"
   ]
  },
  {
   "cell_type": "code",
   "execution_count": 34,
   "metadata": {
    "pycharm": {
     "is_executing": false,
     "name": "#%%\n"
    }
   },
   "outputs": [],
   "source": [
    "def filtrar_dados(serie_dados, nao_realizado=0, colunas=filtro_de_colunas_resposta):\n",
    "    \"\"\"\n",
    "    \n",
    "    :param serie_dados:     Série de dados carregados (DataFrame)\n",
    "    :param nao_realizado:   Número de ocorrências do Não Preenchimento de Prova\n",
    "    :param colunas:         Filtro de Colunas à serem aplicadas ao resultado de serie_dados\n",
    "    :param resposta_dados:  DataFrame de resposta, caso não seja vazio, os dados serão adicionados a ele \n",
    "    :return: \n",
    "        Dados Filtrado (DataFrame)\n",
    "        Quantidade não realizada de provas\n",
    "    \"\"\"\n",
    "    resposta_dados = []\n",
    "    i = 0\n",
    "    for r in serie_dados.to_numpy():  # [len(serie_dados.to_numpy())//2:]:\n",
    "        i = i + 1\n",
    "        not_lim = 500000\n",
    "        if 0 == i % not_lim:\n",
    "            print(f'iter {not_lim}, resp: {len(resposta_dados)}, {nao_realizado} => {len(resposta_dados) + nao_realizado}')\n",
    "        \n",
    "        nota_mt = 0\n",
    "        nota_pt = 0\n",
    "        \n",
    "        respostas_lp = [\n",
    "            [False for x in range(len(r[aluno_resp_bloco_1_lp]))],\n",
    "            [False for x in range(len(r[aluno_resp_bloco_2_lp]))]\n",
    "        ]\n",
    "        respostas_mt = [\n",
    "            [False for x in range(len(r[aluno_resp_bloco_1_mt]))],\n",
    "            [False for x in range(len(r[aluno_resp_bloco_2_mt]))]\n",
    "        ]\n",
    "        \n",
    "        # Quem não fez a prova é ignorado\n",
    "        if not bool(int(r[idx_preenchimento_prova])):\n",
    "            nao_realizado = nao_realizado + 1\n",
    "            continue\n",
    "        serie_aluno = r[idx_serie_aluno]\n",
    "        if serie_aluno in (12, 13):\n",
    "            # 12 - 3ª ou 4ª Série do Ensino Médio\n",
    "            # 13 - 3ª ou 4ª Série do Ensino Médio Integrado\n",
    "            serie_aluno = 3\n",
    "        for gab in df_gabarito.to_numpy():\n",
    "            # if gab['ID_SERIE'] == r['ID_SERIE']:\n",
    "            if gab[idx_gabarito] not in RESPOSTAS_INVALIDAS:\n",
    "                if gab[idx_serie_gab] == serie_aluno and\\\n",
    "                        (r[bloco_resp_1] == gab[bloco_gab] or r[bloco_resp_2] == gab[bloco_gab]):\n",
    "                    is_bloco_1 = r[bloco_resp_1] == gab[bloco_gab]\n",
    "                    if is_bloco_1 and r[bloco_resp_2] == gab[bloco_gab]:\n",
    "                        print ('bloco EDGE CASES!!')\n",
    "                    idx_r = 0 if is_bloco_1 else 1\n",
    "                    if gab[idx_disciplina] == 'LP':\n",
    "                        resp_aluno = str(r[aluno_resp_bloco_1_lp if is_bloco_1 else aluno_resp_bloco_2_lp])\n",
    "                        if (respostas_lp[idx_r])[gab[idx_posicao_gabarito]-1]:\n",
    "                            continue\n",
    "                        if resp_aluno[gab[idx_posicao_gabarito]-1] == gab[idx_gabarito]:\n",
    "                            nota_pt += 1\n",
    "                            (respostas_lp[idx_r])[gab[idx_posicao_gabarito]-1] = True\n",
    "                    elif gab[idx_disciplina] == 'MT':\n",
    "                        resp_aluno = str(r[aluno_resp_bloco_1_mt if is_bloco_1 else aluno_resp_bloco_2_mt])\n",
    "                        if (respostas_mt[idx_r])[gab[idx_posicao_gabarito]-1]:\n",
    "                            continue\n",
    "                        if resp_aluno[gab[idx_posicao_gabarito]-1] == gab[idx_gabarito]:\n",
    "                            nota_mt += 1\n",
    "                            (respostas_mt[idx_r])[gab[idx_posicao_gabarito]-1] = True\n",
    "        if nota_pt or nota_mt:\n",
    "            resposta_dados.append({\n",
    "                colunas[0]: serie_aluno,\n",
    "                colunas[1]: nota_pt,\n",
    "                colunas[2]: nota_mt,\n",
    "                colunas[3]: num_estados.get(r[idx_uf], r[idx_uf]),\n",
    "                colunas[4]: r[idx_municipio],\n",
    "                colunas[5]: num_regiao.get(r[idx_regiao], r[idx_regiao]),\n",
    "                colunas[6]: r[idx_area],\n",
    "                colunas[7]: num_sexo.get(r[idx_sexo], r[idx_sexo]),\n",
    "                colunas[8]: num_cor.get(r[idx_raca], r[idx_raca])\n",
    "            })\n",
    "            # ,\n",
    "            #     ignore_index=True\n",
    "            # )\n",
    "    return resposta_dados, nao_realizado"
   ]
  },
  {
   "cell_type": "markdown",
   "metadata": {
    "pycharm": {
     "is_executing": true,
     "name": "#%% md\n"
    }
   },
   "source": [
    "#### O filtro aplicado demora cerca de 25 minutos cada arquivo \n"
   ]
  },
  {
   "cell_type": "code",
   "execution_count": 35,
   "metadata": {
    "pycharm": {
     "is_executing": false
    }
   },
   "outputs": [],
   "source": [
    "dados_filtrados = pd.DataFrame(columns=filtro_de_colunas_resposta)"
   ]
  },
  {
   "cell_type": "code",
   "execution_count": 36,
   "metadata": {
    "pycharm": {
     "is_executing": false,
     "name": "#%%\n"
    }
   },
   "outputs": [
    {
     "name": "stdout",
     "output_type": "stream",
     "text": [
      "iter 500000, resp: 414225, 85584 => 499809\n",
      "iter 500000, resp: 832728, 166714 => 999442\n",
      "iter 500000, resp: 1255813, 243482 => 1499295\n",
      "iter 500000, resp: 1676644, 322523 => 1999167\n",
      "iter 500000, resp: 2089113, 409952 => 2499065\n"
     ]
    }
   ],
   "source": [
    "r_filtro, qtd_prova_nao_realizada_5SEM = filtrar_dados(\n",
    "    df_aluno_5EF, 0,\n",
    ")"
   ]
  },
  {
   "cell_type": "code",
   "execution_count": 37,
   "metadata": {
    "pycharm": {
     "is_executing": false,
     "name": "#%%\n"
    }
   },
   "outputs": [],
   "source": [
    "dados_filtrados = dados_filtrados.append(r_filtro, ignore_index=True)"
   ]
  },
  {
   "cell_type": "code",
   "execution_count": 38,
   "metadata": {
    "pycharm": {
     "is_executing": false,
     "name": "#%%\n"
    }
   },
   "outputs": [
    {
     "name": "stdout",
     "output_type": "stream",
     "text": [
      "iter 500000, resp: 399969, 99992 => 499961\n",
      "iter 500000, resp: 785626, 214289 => 999915\n",
      "iter 500000, resp: 1173429, 326447 => 1499876\n",
      "iter 500000, resp: 1550037, 449806 => 1999843\n"
     ]
    }
   ],
   "source": [
    "r_filtro, qtd_prova_nao_realizada_9SEM = filtrar_dados(\n",
    "    df_aluno_9EF, 0,\n",
    ")"
   ]
  },
  {
   "cell_type": "code",
   "execution_count": 39,
   "metadata": {
    "pycharm": {
     "is_executing": false,
     "name": "#%%\n"
    }
   },
   "outputs": [],
   "source": [
    "dados_filtrados = dados_filtrados.append(r_filtro, ignore_index=True)"
   ]
  },
  {
   "cell_type": "code",
   "execution_count": 40,
   "metadata": {
    "pycharm": {
     "is_executing": false,
     "name": "#%%\n"
    }
   },
   "outputs": [
    {
     "name": "stdout",
     "output_type": "stream",
     "text": [
      "iter 500000, resp: 499969, 0 => 499969\n",
      "iter 500000, resp: 999950, 0 => 999950\n"
     ]
    }
   ],
   "source": [
    "r_filtro, qtd_prova_nao_realizada_3EM = filtrar_dados(\n",
    "    df_aluno_3EM, 0,\n",
    ")"
   ]
  },
  {
   "cell_type": "code",
   "execution_count": 41,
   "metadata": {
    "pycharm": {
     "is_executing": false,
     "name": "#%%\n"
    }
   },
   "outputs": [],
   "source": [
    "dados_filtrados = dados_filtrados.append(r_filtro, ignore_index=True)"
   ]
  },
  {
   "cell_type": "code",
   "execution_count": 42,
   "metadata": {},
   "outputs": [
    {
     "data": {
      "text/html": [
       "<div>\n",
       "<style scoped>\n",
       "    .dataframe tbody tr th:only-of-type {\n",
       "        vertical-align: middle;\n",
       "    }\n",
       "\n",
       "    .dataframe tbody tr th {\n",
       "        vertical-align: top;\n",
       "    }\n",
       "\n",
       "    .dataframe thead th {\n",
       "        text-align: right;\n",
       "    }\n",
       "</style>\n",
       "<table border=\"1\" class=\"dataframe\">\n",
       "  <thead>\n",
       "    <tr style=\"text-align: right;\">\n",
       "      <th></th>\n",
       "      <th>serie</th>\n",
       "      <th>nota_lp</th>\n",
       "      <th>nota_mt</th>\n",
       "      <th>uf</th>\n",
       "      <th>municipio</th>\n",
       "      <th>regiao</th>\n",
       "      <th>area</th>\n",
       "      <th>sexo</th>\n",
       "      <th>raca</th>\n",
       "    </tr>\n",
       "  </thead>\n",
       "  <tbody>\n",
       "    <tr>\n",
       "      <th>2749850</th>\n",
       "      <td>9</td>\n",
       "      <td>17</td>\n",
       "      <td>10</td>\n",
       "      <td>AL</td>\n",
       "      <td>2701308</td>\n",
       "      <td>Nordeste</td>\n",
       "      <td>2</td>\n",
       "      <td>Masculino</td>\n",
       "      <td>Parda</td>\n",
       "    </tr>\n",
       "    <tr>\n",
       "      <th>1951590</th>\n",
       "      <td>5</td>\n",
       "      <td>11</td>\n",
       "      <td>8</td>\n",
       "      <td>RS</td>\n",
       "      <td>4308201</td>\n",
       "      <td>Sul</td>\n",
       "      <td>2</td>\n",
       "      <td>Feminino</td>\n",
       "      <td>Preta</td>\n",
       "    </tr>\n",
       "    <tr>\n",
       "      <th>2140153</th>\n",
       "      <td>5</td>\n",
       "      <td>18</td>\n",
       "      <td>17</td>\n",
       "      <td>GO</td>\n",
       "      <td>5213087</td>\n",
       "      <td>Centro-Oeste</td>\n",
       "      <td>2</td>\n",
       "      <td>NaN</td>\n",
       "      <td>Parda</td>\n",
       "    </tr>\n",
       "    <tr>\n",
       "      <th>730828</th>\n",
       "      <td>5</td>\n",
       "      <td>12</td>\n",
       "      <td>16</td>\n",
       "      <td>SE</td>\n",
       "      <td>2804607</td>\n",
       "      <td>Nordeste</td>\n",
       "      <td>2</td>\n",
       "      <td>Masculino</td>\n",
       "      <td>Preta</td>\n",
       "    </tr>\n",
       "    <tr>\n",
       "      <th>2044820</th>\n",
       "      <td>5</td>\n",
       "      <td>21</td>\n",
       "      <td>21</td>\n",
       "      <td>MS</td>\n",
       "      <td>5006200</td>\n",
       "      <td>Centro-Oeste</td>\n",
       "      <td>2</td>\n",
       "      <td>Masculino</td>\n",
       "      <td>Branca</td>\n",
       "    </tr>\n",
       "  </tbody>\n",
       "</table>\n",
       "</div>"
      ],
      "text/plain": [
       "        serie nota_lp nota_mt  uf municipio        regiao area       sexo  \\\n",
       "2749850     9      17      10  AL   2701308      Nordeste    2  Masculino   \n",
       "1951590     5      11       8  RS   4308201           Sul    2   Feminino   \n",
       "2140153     5      18      17  GO   5213087  Centro-Oeste    2        NaN   \n",
       "730828      5      12      16  SE   2804607      Nordeste    2  Masculino   \n",
       "2044820     5      21      21  MS   5006200  Centro-Oeste    2  Masculino   \n",
       "\n",
       "           raca  \n",
       "2749850   Parda  \n",
       "1951590   Preta  \n",
       "2140153   Parda  \n",
       "730828    Preta  \n",
       "2044820  Branca  "
      ]
     },
     "execution_count": 42,
     "metadata": {},
     "output_type": "execute_result"
    }
   ],
   "source": [
    "dados_filtrados.sample(5)"
   ]
  },
  {
   "cell_type": "code",
   "execution_count": 43,
   "metadata": {},
   "outputs": [],
   "source": [
    "fig_size = (6, 4)\n",
    "tamanho_dados = 20"
   ]
  },
  {
   "cell_type": "markdown",
   "metadata": {},
   "source": [
    "### Médias Com Dois Índices"
   ]
  },
  {
   "cell_type": "code",
   "execution_count": 44,
   "metadata": {},
   "outputs": [],
   "source": [
    "def conta_tamanho_grupo(grupo, grupo_buscado):\n",
    "    # print(f'grupo {grupo}, grupo_buscado {grupo_buscado} {type(grupo_buscado)}')\n",
    "    if not grupo_buscado:\n",
    "        return 1\n",
    "    gd = dados_filtrados.groupby(grupo).size()\n",
    "    i = False\n",
    "    p = False\n",
    "    if isinstance(grupo, (list, tuple)):\n",
    "        gd = gd.unstack()\n",
    "        cv = list(gd.columns.values)\n",
    "        if isinstance(grupo_buscado, (list, tuple)):\n",
    "            for g in grupo_buscado:\n",
    "                if g in cv:\n",
    "                    i = cv.index(g)\n",
    "                    p = grupo_buscado[0]\n",
    "        else:\n",
    "            print('gb', grupo_buscado)\n",
    "    else:\n",
    "        i = gd.index.contains(grupo_buscado)\n",
    "    if p:\n",
    "        return gd.unstack().xs((grupo_buscado[-1], p))\n",
    "    if i:\n",
    "        return gd[grupo_buscado]\n",
    "    print(f'nao encontrado {grupo_buscado} em {i}')\n",
    "    return 1"
   ]
  },
  {
   "cell_type": "markdown",
   "metadata": {
    "pycharm": {
     "is_executing": false
    }
   },
   "source": [
    "## Estudo Proposto"
   ]
  },
  {
   "cell_type": "markdown",
   "metadata": {
    "pycharm": {
     "name": "#%% md\n"
    }
   },
   "source": [
    "#### Contagem de Provas por Estado"
   ]
  },
  {
   "cell_type": "code",
   "execution_count": 45,
   "metadata": {},
   "outputs": [
    {
     "data": {
      "image/png": "[encoded data removed]",
      "text/plain": [
       "<Figure size 432x288 with 1 Axes>"
      ]
     },
     "metadata": {
      "needs_background": "light"
     },
     "output_type": "display_data"
    }
   ],
   "source": [
    "ax = dados_filtrados.groupby('uf').size().sort_values().tail(tamanho_dados).plot.barh(\n",
    "    figsize=fig_size\n",
    ")\n",
    "ax.set_xlabel('Quantidade')\n",
    "ax = ax.set_ylabel('Estados')"
   ]
  },
  {
   "cell_type": "markdown",
   "metadata": {
    "pycharm": {
     "is_executing": false,
     "name": "#%%\n"
    }
   },
   "source": [
    "## Foram aplicadas um total de 5.455.474 provas em todo país.\n",
    "###  430.552 alunos da 5ª série do Ensino Fundamental NÃO participaram\n",
    "###  534.682 alunos da 9ª série do Ensino fundamental NÃO estavam presentes\n",
    "###  \\*0 alunos do 3ª ano do Ensino Médio NÃO fizeram a prova"
   ]
  },
  {
   "cell_type": "code",
   "execution_count": 46,
   "metadata": {},
   "outputs": [
    {
     "name": "stdout",
     "output_type": "stream",
     "text": [
      "Foram aplicadas um Total de 5455474 provas em todo país.\n",
      "\r",
      "    430442 alunos da 5ª série do Ensino Fundamental Não Participaram\n",
      "\r",
      "    534682 alunos da 9ª série do Ensino Fundamental Não Estavam Presentes\n",
      "\r",
      "    0 alunos do 3ª ano do Ensino Médio Não Fizeram a Prova\n"
     ]
    }
   ],
   "source": [
    "print(\n",
    "    f'Foram aplicadas um Total de {len(dados_filtrados)} provas em todo país.\\n\\r\\\n",
    "    {qtd_prova_nao_realizada_5SEM} alunos da 5ª série do Ensino Fundamental Não Participaram\\n\\r\\\n",
    "    {qtd_prova_nao_realizada_9SEM} alunos da 9ª série do Ensino Fundamental Não Estavam Presentes\\n\\r\\\n",
    "    {qtd_prova_nao_realizada_3EM} alunos do 3ª ano do Ensino Médio Não Fizeram a Prova'\n",
    ")"
   ]
  },
  {
   "cell_type": "code",
   "execution_count": 47,
   "metadata": {
    "pycharm": {
     "is_executing": false,
     "name": "#%%\n"
    }
   },
   "outputs": [
    {
     "data": {
      "image/png": "[encoded data removed]",
      "text/plain": [
       "<Figure size 432x288 with 1 Axes>"
      ]
     },
     "metadata": {
      "needs_background": "light"
     },
     "output_type": "display_data"
    }
   ],
   "source": [
    "ax = dados_filtrados.groupby(['uf', 'serie']).size().sort_values().tail(tamanho_dados).plot(\n",
    "    kind='barh',\n",
    "    figsize=fig_size\n",
    ")\n",
    "ax.set_xlabel('Quantidade')\n",
    "ax = ax.set_ylabel('Estados')"
   ]
  },
  {
   "cell_type": "code",
   "execution_count": 48,
   "metadata": {
    "pycharm": {
     "is_executing": false,
     "name": "#%%\n"
    }
   },
   "outputs": [
    {
     "data": {
      "image/png": "[encoded data removed]",
      "text/plain": [
       "<Figure size 432x288 with 1 Axes>"
      ]
     },
     "metadata": {
      "needs_background": "light"
     },
     "output_type": "display_data"
    }
   ],
   "source": [
    "ax = dados_filtrados.groupby(['uf', 'serie'])[['nota_lp', 'nota_mt']].sum()\\\n",
    ".sort_values(by=['nota_lp', 'nota_mt'])\\\n",
    ".tail(tamanho_dados)\\\n",
    ".apply(\n",
    "    lambda x: x / conta_tamanho_grupo(['uf', 'serie'], x.name), axis=1\n",
    ")\n",
    "ax = ax.plot(\n",
    "    kind='bar',\n",
    "    figsize=fig_size\n",
    ")\n",
    "ax.legend([\n",
    "    'LP Ensino Médio', 'LP 5ª Série', 'LP 9ª Série',\n",
    "    'MT Ensino Médio', 'MT 5ª Série', 'MT 9ª Série'\n",
    "]\n",
    "    , frameon=True\n",
    "    , loc='best'\n",
    ")\n",
    "ax.set_ylabel('Nota')\n",
    "ax = ax.set_xlabel('Estado, Série')"
   ]
  },
  {
   "cell_type": "markdown",
   "metadata": {},
   "source": [
    "### Média de Nota Disposta sobre os Estados"
   ]
  },
  {
   "cell_type": "markdown",
   "metadata": {},
   "source": [
    "### Média Geral de Notas"
   ]
  },
  {
   "cell_type": "code",
   "execution_count": 49,
   "metadata": {},
   "outputs": [
    {
     "name": "stdout",
     "output_type": "stream",
     "text": [
      "nota_mt    11.540920\n",
      "nota_lp    14.642207\n",
      "dtype: float64\n"
     ]
    },
    {
     "data": {
      "image/png": "[encoded data removed]",
      "text/plain": [
       "<Figure size 432x288 with 1 Axes>"
      ]
     },
     "metadata": {
      "needs_background": "light"
     },
     "output_type": "display_data"
    }
   ],
   "source": [
    "ax = dados_filtrados[['nota_lp', 'nota_mt']].mean().sort_values()\n",
    "print(ax)\n",
    "ax = ax.plot(kind='bar')\n",
    "ax = ax.set_ylabel('Nota')"
   ]
  },
  {
   "cell_type": "markdown",
   "metadata": {},
   "source": [
    "#### Médias Por Região"
   ]
  },
  {
   "cell_type": "code",
   "execution_count": 50,
   "metadata": {},
   "outputs": [
    {
     "data": {
      "image/png": "[encoded data removed]",
      "text/plain": [
       "<Figure size 432x288 with 2 Axes>"
      ]
     },
     "metadata": {},
     "output_type": "display_data"
    },
    {
     "data": {
      "image/png": "[encoded data removed]",
      "text/plain": [
       "<Figure size 432x288 with 1 Axes>"
      ]
     },
     "metadata": {
      "needs_background": "light"
     },
     "output_type": "display_data"
    }
   ],
   "source": [
    "ax = dados_filtrados.groupby('regiao')[['nota_lp', 'nota_mt']].sum()\\\n",
    ".sort_values(by=['nota_lp', 'nota_mt'])\\\n",
    ".tail(tamanho_dados)\\\n",
    ".apply(\n",
    "    lambda x: x / conta_tamanho_grupo('regiao', x.name), axis=1\n",
    ")\n",
    "\n",
    "ax.plot.pie(\n",
    "    subplots=True, figsize=fig_size,\n",
    "    legend=False,\n",
    "    title=['Língua Portuguesa', 'Matemática']\n",
    ")\n",
    "\n",
    "ax = ax.plot(\n",
    "    kind='area',\n",
    "    stacked=True\n",
    ")\n",
    "ax.set_ylabel('Nota')\n",
    "ax = ax.set_xlabel('Região')\n"
   ]
  },
  {
   "cell_type": "markdown",
   "metadata": {},
   "source": [
    "#### Por Estados"
   ]
  },
  {
   "cell_type": "code",
   "execution_count": 51,
   "metadata": {
    "pycharm": {
     "is_executing": false,
     "name": "#%%\n"
    }
   },
   "outputs": [
    {
     "data": {
      "image/png": "[encoded data removed]",
      "text/plain": [
       "<Figure size 432x288 with 2 Axes>"
      ]
     },
     "metadata": {},
     "output_type": "display_data"
    }
   ],
   "source": [
    "ax = dados_filtrados.groupby('uf')[['nota_lp', 'nota_mt']].sum()\\\n",
    ".sort_values(by=['nota_lp', 'nota_mt'])\\\n",
    ".tail(tamanho_dados)\\\n",
    ".apply(\n",
    "    lambda x: x / len(dados_filtrados)\n",
    ").plot.pie(\n",
    "    subplots=True, figsize=fig_size,\n",
    "    legend=False,\n",
    "    title=['Língua Portuguesa', 'Matemática']\n",
    ")"
   ]
  },
  {
   "cell_type": "code",
   "execution_count": 52,
   "metadata": {
    "pycharm": {
     "is_executing": false,
     "name": "#%%\n"
    }
   },
   "outputs": [
    {
     "data": {
      "image/png": "[encoded data removed]",
      "text/plain": [
       "<Figure size 432x288 with 2 Axes>"
      ]
     },
     "metadata": {},
     "output_type": "display_data"
    }
   ],
   "source": [
    "ax = dados_filtrados.groupby('uf')[['nota_lp', 'nota_mt']].sum()\\\n",
    ".sort_values(by=['nota_lp', 'nota_mt'])\\\n",
    ".tail(tamanho_dados)\\\n",
    ".apply(\n",
    "    lambda x: x / conta_tamanho_grupo('uf', x.name), axis=1\n",
    ").plot.pie(\n",
    "    subplots=True, figsize=fig_size,\n",
    "    legend=False, title=['Língua Portuguesa', 'Matemática']\n",
    ")"
   ]
  },
  {
   "cell_type": "markdown",
   "metadata": {},
   "source": [
    "### Disparidades Entre Aprendizagem"
   ]
  },
  {
   "cell_type": "markdown",
   "metadata": {},
   "source": [
    "### Por Gênero"
   ]
  },
  {
   "cell_type": "code",
   "execution_count": 53,
   "metadata": {},
   "outputs": [
    {
     "name": "stdout",
     "output_type": "stream",
     "text": [
      "           Língua Portuguesa  Matemática\n",
      "sexo                                    \n",
      "Masculino          14.177982   11.995238\n",
      "Feminino           15.354572   11.304061\n"
     ]
    },
    {
     "data": {
      "image/png": "[encoded data removed]",
      "text/plain": [
       "<Figure size 432x288 with 2 Axes>"
      ]
     },
     "metadata": {},
     "output_type": "display_data"
    }
   ],
   "source": [
    "ax = dados_filtrados.groupby('sexo')[['nota_lp', 'nota_mt']].sum()\\\n",
    ".sort_values(by=['nota_lp', 'nota_mt'])\\\n",
    ".tail(tamanho_dados)\\\n",
    ".apply(\n",
    "    lambda x: x / conta_tamanho_grupo('sexo', x.name), axis=1\n",
    ")\n",
    "ax.columns = ['Língua Portuguesa', 'Matemática']\n",
    "print(ax)\n",
    "ax.columns = [None, None]\n",
    "pl = ax.plot.pie(\n",
    "    subplots=True, figsize=fig_size,\n",
    "    autopct='%.0f%%',\n",
    "    # labels=['Masculino', 'Feminino'],\n",
    "    legend=False,\n",
    "    title=['Língua Portuguesa', 'Matemática']\n",
    ")\n"
   ]
  },
  {
   "cell_type": "markdown",
   "metadata": {
    "pycharm": {
     "is_executing": true,
     "name": "#%%\n"
    }
   },
   "source": [
    "### Por Gênero e Estado"
   ]
  },
  {
   "cell_type": "markdown",
   "metadata": {},
   "source": [
    "#### Língua Portguesa"
   ]
  },
  {
   "cell_type": "code",
   "execution_count": 54,
   "metadata": {
    "pycharm": {
     "is_executing": false,
     "name": "#%%\n"
    }
   },
   "outputs": [
    {
     "data": {
      "image/png": "[encoded data removed]",
      "text/plain": [
       "<Figure size 432x288 with 1 Axes>"
      ]
     },
     "metadata": {
      "needs_background": "light"
     },
     "output_type": "display_data"
    }
   ],
   "source": [
    "ax = dados_filtrados.groupby(['uf', 'sexo'])[['nota_lp']].sum()\\\n",
    ".sort_values(by=['nota_lp'])\\\n",
    ".tail(tamanho_dados)\\\n",
    ".apply(\n",
    "    lambda x: x / conta_tamanho_grupo(['uf', 'sexo'], x.name), axis=1\n",
    ").plot(\n",
    "    kind='bar', stacked=False,\n",
    "    figsize=fig_size\n",
    ")\n",
    "ax.legend(\n",
    "    ['Língua Portuguesa'],\n",
    "    loc='best'\n",
    ")\n",
    "\n",
    "ax.set_ylabel('Nota')\n",
    "ax = ax.set_xlabel('Estado, Sexo')"
   ]
  },
  {
   "cell_type": "markdown",
   "metadata": {},
   "source": [
    "#### Matemática"
   ]
  },
  {
   "cell_type": "code",
   "execution_count": 55,
   "metadata": {
    "pycharm": {
     "is_executing": false,
     "name": "#%%\n"
    }
   },
   "outputs": [
    {
     "data": {
      "image/png": "[encoded data removed]",
      "text/plain": [
       "<Figure size 432x288 with 1 Axes>"
      ]
     },
     "metadata": {
      "needs_background": "light"
     },
     "output_type": "display_data"
    }
   ],
   "source": [
    "ax = dados_filtrados.groupby(['uf', 'sexo'])[['nota_mt']].sum()\\\n",
    ".sort_values(by=['nota_mt'])\\\n",
    ".tail(tamanho_dados)\\\n",
    ".apply(\n",
    "    lambda x: x / conta_tamanho_grupo(['uf', 'sexo'], x.name), axis=1\n",
    ").plot(\n",
    "    kind='bar', stacked=False,\n",
    "    figsize=fig_size\n",
    ")\n",
    "ax.legend(\n",
    "    ['Matemática'],\n",
    "    loc='best'\n",
    ")\n",
    "\n",
    "ax.set_ylabel('Nota')\n",
    "ax = ax.set_xlabel('Estado, Sexo')"
   ]
  },
  {
   "cell_type": "markdown",
   "metadata": {
    "pycharm": {
     "is_executing": false,
     "name": "#%%\n"
    }
   },
   "source": [
    "### Por Raça"
   ]
  },
  {
   "cell_type": "code",
   "execution_count": 56,
   "metadata": {
    "pycharm": {
     "is_executing": false,
     "name": "#%%\n"
    }
   },
   "outputs": [
    {
     "data": {
      "image/png": "[encoded data removed]",
      "text/plain": [
       "<Figure size 432x288 with 1 Axes>"
      ]
     },
     "metadata": {
      "needs_background": "light"
     },
     "output_type": "display_data"
    }
   ],
   "source": [
    "ax = dados_filtrados.groupby('raca')[['nota_lp']].sum()\\\n",
    ".sort_values(by='raca')\\\n",
    ".tail(tamanho_dados)\\\n",
    ".apply(\n",
    "    lambda x: x / conta_tamanho_grupo('raca', x.name), axis=1\n",
    ").plot(\n",
    "    kind='area', stacked=False,\n",
    "    figsize=fig_size, legend=False,\n",
    "    subplots=True, title='Língua Portuguesa'\n",
    ")"
   ]
  },
  {
   "cell_type": "code",
   "execution_count": 57,
   "metadata": {},
   "outputs": [
    {
     "data": {
      "image/png": "[encoded data removed]",
      "text/plain": [
       "<Figure size 432x288 with 1 Axes>"
      ]
     },
     "metadata": {
      "needs_background": "light"
     },
     "output_type": "display_data"
    }
   ],
   "source": [
    "ax = dados_filtrados.groupby('raca')[['nota_mt']].sum()\\\n",
    ".sort_values(by='raca')\\\n",
    ".tail(tamanho_dados)\\\n",
    ".apply(\n",
    "    lambda x: x / conta_tamanho_grupo('raca', x.name), axis=1\n",
    ").plot(\n",
    "    kind='area', stacked=False,\n",
    "    figsize=fig_size, legend=False,\n",
    "    subplots=True, title='Matemática'\n",
    ")"
   ]
  },
  {
   "cell_type": "code",
   "execution_count": null,
   "metadata": {},
   "outputs": [],
   "source": []
  },
  {
   "cell_type": "code",
   "execution_count": null,
   "metadata": {},
   "outputs": [],
   "source": []
  }
 ],
 "metadata": {
  "kernelspec": {
   "display_name": "Python 3",
   "language": "python",
   "name": "python3"
  },
  "language_info": {
   "codemirror_mode": {
    "name": "ipython",
    "version": 3
   },
   "file_extension": ".py",
   "mimetype": "text/x-python",
   "name": "python",
   "nbconvert_exporter": "python",
   "pygments_lexer": "ipython3",
   "version": "3.7.3"
  },
  "pycharm": {
   "stem_cell": {
    "cell_type": "raw",
    "metadata": {
     "collapsed": false
    },
    "source": []
   }
  }
 },
 "nbformat": 4,
 "nbformat_minor": 2
}
