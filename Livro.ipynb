{
 "cells": [
  {
   "cell_type": "code",
   "execution_count": 1,
   "metadata": {
    "pycharm": {
     "is_executing": false
    }
   },
   "outputs": [],
   "source": [
    "import pandas as pd\n",
    "import matplotlib as mplot"
   ]
  },
  {
   "cell_type": "code",
   "execution_count": 2,
   "metadata": {
    "pycharm": {
     "is_executing": false
    }
   },
   "outputs": [],
   "source": [
    "%matplotlib inline"
   ]
  },
  {
   "cell_type": "code",
   "execution_count": 3,
   "metadata": {
    "pycharm": {
     "is_executing": false
    }
   },
   "outputs": [],
   "source": [
    "pd.options.display.max_columns = 25\n",
    "pd.options.display.max_rows = 10"
   ]
  },
  {
   "cell_type": "markdown",
   "metadata": {},
   "source": [
    "### Arquivos extraídos do Microdados INEP"
   ]
  },
  {
   "cell_type": "code",
   "execution_count": 4,
   "metadata": {
    "pycharm": {
     "is_executing": false
    }
   },
   "outputs": [],
   "source": [
    "file_resp = '../dados/TS_ITEM.csv'\n",
    "file_alunos_3EM_ESC = '../dados/TS_ALUNO_3EM_ESC.csv'\n",
    "# file_alunos_3EM_AG = '../dados/TS_ALUNO_3EM_AG.csv'\n",
    "file_alunos_9EF = '../dados/TS_ALUNO_9EF.csv'\n",
    "file_alunos_5EF = '../dados/TS_ALUNO_5EF.csv'"
   ]
  },
  {
   "cell_type": "markdown",
   "metadata": {},
   "source": [
    "### Conjunto Definido de Colunas à Serem Utilizadas"
   ]
  },
  {
   "cell_type": "code",
   "execution_count": 5,
   "metadata": {},
   "outputs": [],
   "source": [
    "RESPOSTAS_INVALIDAS = ['X', '.', '*', ' ', '']"
   ]
  },
  {
   "cell_type": "markdown",
   "metadata": {
    "pycharm": {
     "name": "#%% md\n"
    }
   },
   "source": [
    "##### Identificadores das Colunas"
   ]
  },
  {
   "cell_type": "code",
   "execution_count": 6,
   "metadata": {
    "pycharm": {
     "is_executing": false,
     "name": "#%%\n"
    }
   },
   "outputs": [],
   "source": [
    "ID_SERIE = 'ID_SERIE'\n",
    "TIPO_PROVA = 'TIPO_PROVA'\n",
    "DISCIPLINA = 'DISCIPLINA'\n",
    "ID_SERIE_ITEM = 'ID_SERIE_ITEM'\n",
    "ID_BLOCO = 'ID_BLOCO'\n",
    "ID_POSICAO = 'ID_POSICAO'\n",
    "GABARITO = 'GABARITO'\n",
    "ID_PROVA_BRASIL = 'ID_PROVA_BRASIL' # Ano da Prova, pode ser ignorado, pois os arquivos são baixados por ano\n",
    "ID_UF = 'ID_UF'\n",
    "ID_MUNICIPIO = 'ID_MUNICIPIO'"
   ]
  },
  {
   "cell_type": "markdown",
   "metadata": {},
   "source": [
    "##### Preenchimento Prova"
   ]
  },
  {
   "cell_type": "code",
   "execution_count": 7,
   "metadata": {},
   "outputs": [],
   "source": [
    "ID_ALUNO = 'ID_ALUNO'\n",
    "IN_PREENCHIMENTO_PROVA = 'IN_PREENCHIMENTO_PROVA'\n",
    "IN_PRESENCA_PROVA = 'IN_PRESENCA_PROVA'\n",
    "ID_REGIAO = 'ID_REGIAO'\n",
    "ID_AREA = 'ID_AREA'"
   ]
  },
  {
   "cell_type": "markdown",
   "metadata": {},
   "source": [
    "##### Respostas da Prova"
   ]
  },
  {
   "cell_type": "code",
   "execution_count": 8,
   "metadata": {},
   "outputs": [],
   "source": [
    "ID_BLOCO_1 = 'ID_BLOCO_1'\n",
    "ID_BLOCO_2 = 'ID_BLOCO_2'\n",
    "TX_RESP_BLOCO_1_LP = 'TX_RESP_BLOCO_1_LP'\n",
    "TX_RESP_BLOCO_2_LP = 'TX_RESP_BLOCO_2_LP'\n",
    "TX_RESP_BLOCO_1_MT = 'TX_RESP_BLOCO_1_MT'\n",
    "TX_RESP_BLOCO_2_MT = 'TX_RESP_BLOCO_2_MT'"
   ]
  },
  {
   "cell_type": "markdown",
   "metadata": {},
   "source": [
    "##### Proeficiência do ALuno"
   ]
  },
  {
   "cell_type": "code",
   "execution_count": 9,
   "metadata": {},
   "outputs": [],
   "source": [
    "PESO_ALUNO_LP = 'PESO_ALUNO_LP'\n",
    "PESO_ALUNO_MT = 'PESO_ALUNO_MT'\n",
    "PROFICIENCIA_LP = 'PROFICIENCIA_LP'\n",
    "ERRO_PADRAO_LP = 'ERRO_PADRAO_LP'\n",
    "PROFICIENCIA_LP_SAEB = 'PROFICIENCIA_LP_SAEB'\n",
    "ERRO_PADRAO_LP_SAEB = 'ERRO_PADRAO_LP_SAEB'\n",
    "PROFICIENCIA_MT = 'PROFICIENCIA_MT'\n",
    "ERRO_PADRAO_MT = 'ERRO_PADRAO_MT'\n",
    "PROFICIENCIA_MT_SAEB = 'PROFICIENCIA_MT_SAEB'\n",
    "ERRO_PADRAO_MT_SAEB = 'ERRO_PADRAO_MT_SAEB'"
   ]
  },
  {
   "cell_type": "markdown",
   "metadata": {},
   "source": [
    "##### Questionário Socioeconômico"
   ]
  },
  {
   "cell_type": "code",
   "execution_count": 10,
   "metadata": {},
   "outputs": [],
   "source": [
    "IN_PREENCHIMENTO_QUESTIONARIO = 'IN_PREENCHIMENTO_QUESTIONARIO'\n",
    "TX_RESP_Q001 = 'TX_RESP_Q001' # Sexo\n",
    "TX_RESP_Q002 = 'TX_RESP_Q002' # Cor/Raça"
   ]
  },
  {
   "cell_type": "code",
   "execution_count": 11,
   "metadata": {
    "pycharm": {
     "is_executing": false
    }
   },
   "outputs": [],
   "source": [
    "colunas_resp = [\n",
    "    ID_SERIE, TIPO_PROVA, DISCIPLINA,\n",
    "    ID_SERIE_ITEM, ID_BLOCO, ID_POSICAO,\n",
    "    GABARITO\n",
    "]"
   ]
  },
  {
   "cell_type": "code",
   "execution_count": 12,
   "metadata": {
    "pycharm": {
     "is_executing": false
    }
   },
   "outputs": [],
   "source": [
    "colunas_aluno = [\n",
    "    ID_UF, ID_MUNICIPIO, ID_REGIAO, ID_AREA,\n",
    "    ID_SERIE, IN_PREENCHIMENTO_PROVA,\n",
    "    ID_BLOCO_1, ID_BLOCO_2,\n",
    "    TX_RESP_BLOCO_1_LP, TX_RESP_BLOCO_2_LP,\n",
    "    TX_RESP_BLOCO_1_MT, TX_RESP_BLOCO_2_MT,\n",
    "    PROFICIENCIA_LP,\n",
    "    PROFICIENCIA_MT,\n",
    "    TX_RESP_Q001,\n",
    "    TX_RESP_Q002\n",
    "]"
   ]
  },
  {
   "cell_type": "markdown",
   "metadata": {},
   "source": [
    "### Arquivos"
   ]
  },
  {
   "cell_type": "markdown",
   "metadata": {},
   "source": [
    "#### Gabarito, 666 itens corrigidos (+36KB)\n",
    "\n",
    "#### 5SEM,     2.624.019 provas (+360MB)\n",
    "#### 9SEM,     2.341.459 provas (+321MB)\n",
    "#### 3SEMAG,   1.966.507 provas (+270MB)\n",
    "###### 3SEMESC,  1.456.325 provas (+200MB)"
   ]
  },
  {
   "cell_type": "code",
   "execution_count": 13,
   "metadata": {
    "pycharm": {
     "is_executing": false
    }
   },
   "outputs": [],
   "source": [
    "df_gabarito = pd.read_csv(\n",
    "    file_resp,\n",
    "    delimiter=';', encoding='iso-8859-1',\n",
    "    usecols=colunas_resp,\n",
    "    # low_memory=True\n",
    ")"
   ]
  },
  {
   "cell_type": "code",
   "execution_count": 14,
   "metadata": {
    "pycharm": {
     "is_executing": false
    }
   },
   "outputs": [
    {
     "data": {
      "text/html": [
       "<div>\n",
       "<style scoped>\n",
       "    .dataframe tbody tr th:only-of-type {\n",
       "        vertical-align: middle;\n",
       "    }\n",
       "\n",
       "    .dataframe tbody tr th {\n",
       "        vertical-align: top;\n",
       "    }\n",
       "\n",
       "    .dataframe thead th {\n",
       "        text-align: right;\n",
       "    }\n",
       "</style>\n",
       "<table border=\"1\" class=\"dataframe\">\n",
       "  <thead>\n",
       "    <tr style=\"text-align: right;\">\n",
       "      <th></th>\n",
       "      <th>ID_SERIE</th>\n",
       "      <th>TIPO_PROVA</th>\n",
       "      <th>DISCIPLINA</th>\n",
       "      <th>ID_SERIE_ITEM</th>\n",
       "      <th>ID_BLOCO</th>\n",
       "      <th>ID_POSICAO</th>\n",
       "      <th>GABARITO</th>\n",
       "    </tr>\n",
       "  </thead>\n",
       "  <tbody>\n",
       "    <tr>\n",
       "      <th>440</th>\n",
       "      <td>9</td>\n",
       "      <td>Prova Regular</td>\n",
       "      <td>LP</td>\n",
       "      <td>5</td>\n",
       "      <td>1</td>\n",
       "      <td>9</td>\n",
       "      <td>D</td>\n",
       "    </tr>\n",
       "    <tr>\n",
       "      <th>649</th>\n",
       "      <td>9</td>\n",
       "      <td>Macrotipo 18 e 24</td>\n",
       "      <td>MT</td>\n",
       "      <td>5</td>\n",
       "      <td>1</td>\n",
       "      <td>8</td>\n",
       "      <td>B</td>\n",
       "    </tr>\n",
       "    <tr>\n",
       "      <th>341</th>\n",
       "      <td>5</td>\n",
       "      <td>Prova Regular</td>\n",
       "      <td>MT</td>\n",
       "      <td>5</td>\n",
       "      <td>1</td>\n",
       "      <td>9</td>\n",
       "      <td>B</td>\n",
       "    </tr>\n",
       "    <tr>\n",
       "      <th>50</th>\n",
       "      <td>3</td>\n",
       "      <td>Prova Regular</td>\n",
       "      <td>LP</td>\n",
       "      <td>3</td>\n",
       "      <td>4</td>\n",
       "      <td>12</td>\n",
       "      <td>B</td>\n",
       "    </tr>\n",
       "    <tr>\n",
       "      <th>195</th>\n",
       "      <td>3</td>\n",
       "      <td>Prova Regular</td>\n",
       "      <td>MT</td>\n",
       "      <td>3</td>\n",
       "      <td>7</td>\n",
       "      <td>1</td>\n",
       "      <td>D</td>\n",
       "    </tr>\n",
       "    <tr>\n",
       "      <th>311</th>\n",
       "      <td>5</td>\n",
       "      <td>Macrotipo 18 e 24</td>\n",
       "      <td>LP</td>\n",
       "      <td>5</td>\n",
       "      <td>2</td>\n",
       "      <td>2</td>\n",
       "      <td>B</td>\n",
       "    </tr>\n",
       "    <tr>\n",
       "      <th>495</th>\n",
       "      <td>9</td>\n",
       "      <td>Prova Regular</td>\n",
       "      <td>LP</td>\n",
       "      <td>9</td>\n",
       "      <td>5</td>\n",
       "      <td>12</td>\n",
       "      <td>A</td>\n",
       "    </tr>\n",
       "    <tr>\n",
       "      <th>14</th>\n",
       "      <td>3</td>\n",
       "      <td>Prova Regular</td>\n",
       "      <td>LP</td>\n",
       "      <td>3</td>\n",
       "      <td>2</td>\n",
       "      <td>2</td>\n",
       "      <td>B</td>\n",
       "    </tr>\n",
       "    <tr>\n",
       "      <th>18</th>\n",
       "      <td>3</td>\n",
       "      <td>Prova Regular</td>\n",
       "      <td>LP</td>\n",
       "      <td>3</td>\n",
       "      <td>2</td>\n",
       "      <td>6</td>\n",
       "      <td>C</td>\n",
       "    </tr>\n",
       "    <tr>\n",
       "      <th>660</th>\n",
       "      <td>9</td>\n",
       "      <td>Macrotipo 18 e 24</td>\n",
       "      <td>MT</td>\n",
       "      <td>5</td>\n",
       "      <td>2</td>\n",
       "      <td>8</td>\n",
       "      <td>B</td>\n",
       "    </tr>\n",
       "  </tbody>\n",
       "</table>\n",
       "</div>"
      ],
      "text/plain": [
       "     ID_SERIE         TIPO_PROVA DISCIPLINA  ID_SERIE_ITEM  ID_BLOCO  \\\n",
       "440         9      Prova Regular         LP              5         1   \n",
       "649         9  Macrotipo 18 e 24         MT              5         1   \n",
       "341         5      Prova Regular         MT              5         1   \n",
       "50          3      Prova Regular         LP              3         4   \n",
       "195         3      Prova Regular         MT              3         7   \n",
       "311         5  Macrotipo 18 e 24         LP              5         2   \n",
       "495         9      Prova Regular         LP              9         5   \n",
       "14          3      Prova Regular         LP              3         2   \n",
       "18          3      Prova Regular         LP              3         2   \n",
       "660         9  Macrotipo 18 e 24         MT              5         2   \n",
       "\n",
       "     ID_POSICAO GABARITO  \n",
       "440           9        D  \n",
       "649           8        B  \n",
       "341           9        B  \n",
       "50           12        B  \n",
       "195           1        D  \n",
       "311           2        B  \n",
       "495          12        A  \n",
       "14            2        B  \n",
       "18            6        C  \n",
       "660           8        B  "
      ]
     },
     "execution_count": 14,
     "metadata": {},
     "output_type": "execute_result"
    }
   ],
   "source": [
    "df_gabarito.sample(10)"
   ]
  },
  {
   "cell_type": "code",
   "execution_count": 15,
   "metadata": {
    "pycharm": {
     "is_executing": false
    }
   },
   "outputs": [
    {
     "name": "stdout",
     "output_type": "stream",
     "text": [
      "<class 'pandas.core.frame.DataFrame'>\n",
      "RangeIndex: 666 entries, 0 to 665\n",
      "Data columns (total 7 columns):\n",
      "ID_SERIE         666 non-null int64\n",
      "TIPO_PROVA       666 non-null object\n",
      "DISCIPLINA       666 non-null object\n",
      "ID_SERIE_ITEM    666 non-null int64\n",
      "ID_BLOCO         666 non-null int64\n",
      "ID_POSICAO       666 non-null int64\n",
      "GABARITO         666 non-null object\n",
      "dtypes: int64(4), object(3)\n",
      "memory usage: 36.5+ KB\n"
     ]
    }
   ],
   "source": [
    "df_gabarito.info()"
   ]
  },
  {
   "cell_type": "markdown",
   "metadata": {},
   "source": [
    "Geralmente 15 segundos para carregar o conjunto de dados selecionado"
   ]
  },
  {
   "cell_type": "code",
   "execution_count": 16,
   "metadata": {
    "pycharm": {
     "is_executing": false
    }
   },
   "outputs": [],
   "source": [
    "df_aluno_5EF = pd.read_csv(\n",
    "    file_alunos_5EF,\n",
    "    delimiter=',', encoding='iso-8859-1',\n",
    "    usecols=colunas_aluno,\n",
    "    low_memory=True, \n",
    "    # nrows=20000  # Para fazer testes com os dados\n",
    ")"
   ]
  },
  {
   "cell_type": "code",
   "execution_count": 17,
   "metadata": {
    "pycharm": {
     "is_executing": false,
     "name": "#%%\n"
    }
   },
   "outputs": [],
   "source": [
    "df_aluno_9EF = pd.read_csv(\n",
    "    file_alunos_9EF,\n",
    "    delimiter=',', encoding='iso-8859-1',\n",
    "    usecols=colunas_aluno,\n",
    "    low_memory=True,\n",
    "    # nrows=20000  # Para fazer testes com os dados\n",
    ")"
   ]
  },
  {
   "cell_type": "code",
   "execution_count": 18,
   "metadata": {
    "pycharm": {
     "is_executing": false,
     "name": "#%%\n"
    }
   },
   "outputs": [],
   "source": [
    "# df_aluno_3EM_AG = pd.read_csv(\n",
    "#     file_alunos_3EM_AG,\n",
    "#     delimiter=',', encoding='iso-8859-1',\n",
    "#     usecols=colunas_aluno,\n",
    "#     low_memory=True, \n",
    "# )"
   ]
  },
  {
   "cell_type": "code",
   "execution_count": 19,
   "metadata": {
    "pycharm": {
     "is_executing": false,
     "name": "#%%\n"
    }
   },
   "outputs": [],
   "source": [
    "df_aluno_3EM = pd.read_csv(\n",
    "    file_alunos_3EM_ESC,\n",
    "    delimiter=',', encoding='iso-8859-1',\n",
    "    usecols=colunas_aluno,\n",
    "    low_memory=True,\n",
    "    # nrows=20000  # Para fazer testes com os dados\n",
    ")"
   ]
  },
  {
   "cell_type": "code",
   "execution_count": 20,
   "metadata": {
    "pycharm": {
     "is_executing": false
    },
    "scrolled": true
   },
   "outputs": [
    {
     "data": {
      "text/html": [
       "<div>\n",
       "<style scoped>\n",
       "    .dataframe tbody tr th:only-of-type {\n",
       "        vertical-align: middle;\n",
       "    }\n",
       "\n",
       "    .dataframe tbody tr th {\n",
       "        vertical-align: top;\n",
       "    }\n",
       "\n",
       "    .dataframe thead th {\n",
       "        text-align: right;\n",
       "    }\n",
       "</style>\n",
       "<table border=\"1\" class=\"dataframe\">\n",
       "  <thead>\n",
       "    <tr style=\"text-align: right;\">\n",
       "      <th></th>\n",
       "      <th>ID_REGIAO</th>\n",
       "      <th>ID_UF</th>\n",
       "      <th>ID_MUNICIPIO</th>\n",
       "      <th>ID_AREA</th>\n",
       "      <th>ID_SERIE</th>\n",
       "      <th>IN_PREENCHIMENTO_PROVA</th>\n",
       "      <th>ID_BLOCO_1</th>\n",
       "      <th>ID_BLOCO_2</th>\n",
       "      <th>TX_RESP_BLOCO_1_LP</th>\n",
       "      <th>TX_RESP_BLOCO_2_LP</th>\n",
       "      <th>TX_RESP_BLOCO_1_MT</th>\n",
       "      <th>TX_RESP_BLOCO_2_MT</th>\n",
       "      <th>PROFICIENCIA_LP</th>\n",
       "      <th>PROFICIENCIA_MT</th>\n",
       "      <th>TX_RESP_Q001</th>\n",
       "      <th>TX_RESP_Q002</th>\n",
       "    </tr>\n",
       "  </thead>\n",
       "  <tbody>\n",
       "    <tr>\n",
       "      <th>155</th>\n",
       "      <td>1</td>\n",
       "      <td>11</td>\n",
       "      <td>1100015</td>\n",
       "      <td>2</td>\n",
       "      <td>5</td>\n",
       "      <td>1</td>\n",
       "      <td>2</td>\n",
       "      <td>4</td>\n",
       "      <td>DAADAABBDCD</td>\n",
       "      <td>BCCBCDBDDAC</td>\n",
       "      <td>BABADACCACB</td>\n",
       "      <td>BDDAADCAACC</td>\n",
       "      <td>-0.660057</td>\n",
       "      <td>-1.166175</td>\n",
       "      <td>B</td>\n",
       "      <td>A</td>\n",
       "    </tr>\n",
       "    <tr>\n",
       "      <th>7724</th>\n",
       "      <td>1</td>\n",
       "      <td>11</td>\n",
       "      <td>1100122</td>\n",
       "      <td>2</td>\n",
       "      <td>5</td>\n",
       "      <td>1</td>\n",
       "      <td>7</td>\n",
       "      <td>3</td>\n",
       "      <td>BBDCADBADCD</td>\n",
       "      <td>DDCDBCACACA</td>\n",
       "      <td>CCADBDBDCCB</td>\n",
       "      <td>CAACABBCBAC</td>\n",
       "      <td>0.349215</td>\n",
       "      <td>1.269552</td>\n",
       "      <td>B</td>\n",
       "      <td>A</td>\n",
       "    </tr>\n",
       "    <tr>\n",
       "      <th>16302</th>\n",
       "      <td>1</td>\n",
       "      <td>11</td>\n",
       "      <td>1100205</td>\n",
       "      <td>1</td>\n",
       "      <td>5</td>\n",
       "      <td>1</td>\n",
       "      <td>3</td>\n",
       "      <td>5</td>\n",
       "      <td>DACDBAACACA</td>\n",
       "      <td>DAACDDBDDBD</td>\n",
       "      <td>CBADBCCCBCB</td>\n",
       "      <td>BCBCBACADAC</td>\n",
       "      <td>-0.277990</td>\n",
       "      <td>-1.207264</td>\n",
       "      <td>B</td>\n",
       "      <td>C</td>\n",
       "    </tr>\n",
       "    <tr>\n",
       "      <th>946</th>\n",
       "      <td>1</td>\n",
       "      <td>11</td>\n",
       "      <td>1100023</td>\n",
       "      <td>2</td>\n",
       "      <td>5</td>\n",
       "      <td>1</td>\n",
       "      <td>5</td>\n",
       "      <td>7</td>\n",
       "      <td>DDACDACDDBD</td>\n",
       "      <td>BBDCADBABAB</td>\n",
       "      <td>ABDCDACCCCA</td>\n",
       "      <td>CCBDBCBDCBD</td>\n",
       "      <td>0.698575</td>\n",
       "      <td>0.699789</td>\n",
       "      <td>B</td>\n",
       "      <td>C</td>\n",
       "    </tr>\n",
       "    <tr>\n",
       "      <th>1951</th>\n",
       "      <td>1</td>\n",
       "      <td>11</td>\n",
       "      <td>1100023</td>\n",
       "      <td>2</td>\n",
       "      <td>5</td>\n",
       "      <td>1</td>\n",
       "      <td>2</td>\n",
       "      <td>5</td>\n",
       "      <td>DAABACABAAA</td>\n",
       "      <td>ABACDAAAABA</td>\n",
       "      <td>BBAAAABCBBB</td>\n",
       "      <td>ABBCDDDADAC</td>\n",
       "      <td>-1.447601</td>\n",
       "      <td>-0.492413</td>\n",
       "      <td>A</td>\n",
       "      <td>A</td>\n",
       "    </tr>\n",
       "    <tr>\n",
       "      <th>1358</th>\n",
       "      <td>1</td>\n",
       "      <td>11</td>\n",
       "      <td>1100023</td>\n",
       "      <td>2</td>\n",
       "      <td>5</td>\n",
       "      <td>1</td>\n",
       "      <td>7</td>\n",
       "      <td>2</td>\n",
       "      <td>BBCDBAADDCB</td>\n",
       "      <td>DACCBCCAADD</td>\n",
       "      <td>CDBBBDBDDCC</td>\n",
       "      <td>BDABCADCCBB</td>\n",
       "      <td>-1.876471</td>\n",
       "      <td>-0.913368</td>\n",
       "      <td>A</td>\n",
       "      <td>C</td>\n",
       "    </tr>\n",
       "    <tr>\n",
       "      <th>12828</th>\n",
       "      <td>1</td>\n",
       "      <td>11</td>\n",
       "      <td>1100205</td>\n",
       "      <td>1</td>\n",
       "      <td>5</td>\n",
       "      <td>1</td>\n",
       "      <td>4</td>\n",
       "      <td>5</td>\n",
       "      <td>BCCBAADDDAB</td>\n",
       "      <td>DDBCDCCCCCC</td>\n",
       "      <td>ABCBADCCDCC</td>\n",
       "      <td>CDBCADCDDBC</td>\n",
       "      <td>-0.586179</td>\n",
       "      <td>-2.058148</td>\n",
       "      <td>NaN</td>\n",
       "      <td>B</td>\n",
       "    </tr>\n",
       "    <tr>\n",
       "      <th>14194</th>\n",
       "      <td>1</td>\n",
       "      <td>11</td>\n",
       "      <td>1100205</td>\n",
       "      <td>1</td>\n",
       "      <td>5</td>\n",
       "      <td>1</td>\n",
       "      <td>4</td>\n",
       "      <td>6</td>\n",
       "      <td>ABCCAABBBAD</td>\n",
       "      <td>BDACBBAACBC</td>\n",
       "      <td>BCACACBDABB</td>\n",
       "      <td>CCABDBDDBCB</td>\n",
       "      <td>-0.524108</td>\n",
       "      <td>0.053520</td>\n",
       "      <td>B</td>\n",
       "      <td>C</td>\n",
       "    </tr>\n",
       "    <tr>\n",
       "      <th>16742</th>\n",
       "      <td>1</td>\n",
       "      <td>11</td>\n",
       "      <td>1100205</td>\n",
       "      <td>1</td>\n",
       "      <td>5</td>\n",
       "      <td>1</td>\n",
       "      <td>4</td>\n",
       "      <td>7</td>\n",
       "      <td>BCCCABBDDDD</td>\n",
       "      <td>BDDAADCBABD</td>\n",
       "      <td>BDABBADDDBC</td>\n",
       "      <td>CDACBBBCCAD</td>\n",
       "      <td>-1.366217</td>\n",
       "      <td>-0.921597</td>\n",
       "      <td>B</td>\n",
       "      <td>C</td>\n",
       "    </tr>\n",
       "    <tr>\n",
       "      <th>16144</th>\n",
       "      <td>1</td>\n",
       "      <td>11</td>\n",
       "      <td>1100205</td>\n",
       "      <td>1</td>\n",
       "      <td>5</td>\n",
       "      <td>1</td>\n",
       "      <td>2</td>\n",
       "      <td>4</td>\n",
       "      <td>DAABDABBBCA</td>\n",
       "      <td>DACBAABDDAC</td>\n",
       "      <td>BABAACACDAC</td>\n",
       "      <td>BDABAABCDBD</td>\n",
       "      <td>-0.556177</td>\n",
       "      <td>-0.956211</td>\n",
       "      <td>A</td>\n",
       "      <td>A</td>\n",
       "    </tr>\n",
       "  </tbody>\n",
       "</table>\n",
       "</div>"
      ],
      "text/plain": [
       "       ID_REGIAO  ID_UF  ID_MUNICIPIO  ID_AREA  ID_SERIE  \\\n",
       "155            1     11       1100015        2         5   \n",
       "7724           1     11       1100122        2         5   \n",
       "16302          1     11       1100205        1         5   \n",
       "946            1     11       1100023        2         5   \n",
       "1951           1     11       1100023        2         5   \n",
       "1358           1     11       1100023        2         5   \n",
       "12828          1     11       1100205        1         5   \n",
       "14194          1     11       1100205        1         5   \n",
       "16742          1     11       1100205        1         5   \n",
       "16144          1     11       1100205        1         5   \n",
       "\n",
       "       IN_PREENCHIMENTO_PROVA  ID_BLOCO_1  ID_BLOCO_2 TX_RESP_BLOCO_1_LP  \\\n",
       "155                         1           2           4        DAADAABBDCD   \n",
       "7724                        1           7           3        BBDCADBADCD   \n",
       "16302                       1           3           5        DACDBAACACA   \n",
       "946                         1           5           7        DDACDACDDBD   \n",
       "1951                        1           2           5        DAABACABAAA   \n",
       "1358                        1           7           2        BBCDBAADDCB   \n",
       "12828                       1           4           5        BCCBAADDDAB   \n",
       "14194                       1           4           6        ABCCAABBBAD   \n",
       "16742                       1           4           7        BCCCABBDDDD   \n",
       "16144                       1           2           4        DAABDABBBCA   \n",
       "\n",
       "      TX_RESP_BLOCO_2_LP TX_RESP_BLOCO_1_MT TX_RESP_BLOCO_2_MT  \\\n",
       "155          BCCBCDBDDAC        BABADACCACB        BDDAADCAACC   \n",
       "7724         DDCDBCACACA        CCADBDBDCCB        CAACABBCBAC   \n",
       "16302        DAACDDBDDBD        CBADBCCCBCB        BCBCBACADAC   \n",
       "946          BBDCADBABAB        ABDCDACCCCA        CCBDBCBDCBD   \n",
       "1951         ABACDAAAABA        BBAAAABCBBB        ABBCDDDADAC   \n",
       "1358         DACCBCCAADD        CDBBBDBDDCC        BDABCADCCBB   \n",
       "12828        DDBCDCCCCCC        ABCBADCCDCC        CDBCADCDDBC   \n",
       "14194        BDACBBAACBC        BCACACBDABB        CCABDBDDBCB   \n",
       "16742        BDDAADCBABD        BDABBADDDBC        CDACBBBCCAD   \n",
       "16144        DACBAABDDAC        BABAACACDAC        BDABAABCDBD   \n",
       "\n",
       "       PROFICIENCIA_LP  PROFICIENCIA_MT TX_RESP_Q001 TX_RESP_Q002  \n",
       "155          -0.660057        -1.166175            B            A  \n",
       "7724          0.349215         1.269552            B            A  \n",
       "16302        -0.277990        -1.207264            B            C  \n",
       "946           0.698575         0.699789            B            C  \n",
       "1951         -1.447601        -0.492413            A            A  \n",
       "1358         -1.876471        -0.913368            A            C  \n",
       "12828        -0.586179        -2.058148          NaN            B  \n",
       "14194        -0.524108         0.053520            B            C  \n",
       "16742        -1.366217        -0.921597            B            C  \n",
       "16144        -0.556177        -0.956211            A            A  "
      ]
     },
     "execution_count": 20,
     "metadata": {},
     "output_type": "execute_result"
    }
   ],
   "source": [
    "df_aluno_5EF.sample(10)"
   ]
  },
  {
   "cell_type": "code",
   "execution_count": 21,
   "metadata": {
    "pycharm": {
     "is_executing": false,
     "name": "#%%\n"
    }
   },
   "outputs": [
    {
     "data": {
      "text/html": [
       "<div>\n",
       "<style scoped>\n",
       "    .dataframe tbody tr th:only-of-type {\n",
       "        vertical-align: middle;\n",
       "    }\n",
       "\n",
       "    .dataframe tbody tr th {\n",
       "        vertical-align: top;\n",
       "    }\n",
       "\n",
       "    .dataframe thead th {\n",
       "        text-align: right;\n",
       "    }\n",
       "</style>\n",
       "<table border=\"1\" class=\"dataframe\">\n",
       "  <thead>\n",
       "    <tr style=\"text-align: right;\">\n",
       "      <th></th>\n",
       "      <th>ID_REGIAO</th>\n",
       "      <th>ID_UF</th>\n",
       "      <th>ID_MUNICIPIO</th>\n",
       "      <th>ID_AREA</th>\n",
       "      <th>ID_SERIE</th>\n",
       "      <th>IN_PREENCHIMENTO_PROVA</th>\n",
       "      <th>ID_BLOCO_1</th>\n",
       "      <th>ID_BLOCO_2</th>\n",
       "      <th>TX_RESP_BLOCO_1_LP</th>\n",
       "      <th>TX_RESP_BLOCO_2_LP</th>\n",
       "      <th>TX_RESP_BLOCO_1_MT</th>\n",
       "      <th>TX_RESP_BLOCO_2_MT</th>\n",
       "      <th>PROFICIENCIA_LP</th>\n",
       "      <th>PROFICIENCIA_MT</th>\n",
       "      <th>TX_RESP_Q001</th>\n",
       "      <th>TX_RESP_Q002</th>\n",
       "    </tr>\n",
       "  </thead>\n",
       "  <tbody>\n",
       "    <tr>\n",
       "      <th>18414</th>\n",
       "      <td>1</td>\n",
       "      <td>11</td>\n",
       "      <td>1100346</td>\n",
       "      <td>2</td>\n",
       "      <td>9</td>\n",
       "      <td>1</td>\n",
       "      <td>5</td>\n",
       "      <td>7</td>\n",
       "      <td>BAACABCDCBBAC</td>\n",
       "      <td>ADBDACBABCABA</td>\n",
       "      <td>CCBDDCDACDCAB</td>\n",
       "      <td>BACDDDDBDABAB</td>\n",
       "      <td>-0.439944</td>\n",
       "      <td>0.279997</td>\n",
       "      <td>A</td>\n",
       "      <td>A</td>\n",
       "    </tr>\n",
       "    <tr>\n",
       "      <th>17773</th>\n",
       "      <td>1</td>\n",
       "      <td>11</td>\n",
       "      <td>1100320</td>\n",
       "      <td>2</td>\n",
       "      <td>9</td>\n",
       "      <td>1</td>\n",
       "      <td>3</td>\n",
       "      <td>4</td>\n",
       "      <td>CBCDBACABADCD</td>\n",
       "      <td>ABDDCDBADDBCA</td>\n",
       "      <td>DBCADBBDCCDCB</td>\n",
       "      <td>BACACBCBDBCCA</td>\n",
       "      <td>0.666146</td>\n",
       "      <td>0.352140</td>\n",
       "      <td>A</td>\n",
       "      <td>C</td>\n",
       "    </tr>\n",
       "    <tr>\n",
       "      <th>8838</th>\n",
       "      <td>1</td>\n",
       "      <td>11</td>\n",
       "      <td>1100189</td>\n",
       "      <td>2</td>\n",
       "      <td>9</td>\n",
       "      <td>0</td>\n",
       "      <td>3</td>\n",
       "      <td>6</td>\n",
       "      <td>.............</td>\n",
       "      <td>.............</td>\n",
       "      <td>.............</td>\n",
       "      <td>.............</td>\n",
       "      <td>NaN</td>\n",
       "      <td>NaN</td>\n",
       "      <td>NaN</td>\n",
       "      <td>NaN</td>\n",
       "    </tr>\n",
       "    <tr>\n",
       "      <th>3220</th>\n",
       "      <td>1</td>\n",
       "      <td>11</td>\n",
       "      <td>1100072</td>\n",
       "      <td>2</td>\n",
       "      <td>9</td>\n",
       "      <td>1</td>\n",
       "      <td>1</td>\n",
       "      <td>3</td>\n",
       "      <td>CDCCADDADCDBC</td>\n",
       "      <td>CBABCACABCCDD</td>\n",
       "      <td>CAABBCBCBAACC</td>\n",
       "      <td>DCBBABBDABCBC</td>\n",
       "      <td>0.239881</td>\n",
       "      <td>-0.427017</td>\n",
       "      <td>B</td>\n",
       "      <td>D</td>\n",
       "    </tr>\n",
       "    <tr>\n",
       "      <th>4085</th>\n",
       "      <td>1</td>\n",
       "      <td>11</td>\n",
       "      <td>1100106</td>\n",
       "      <td>2</td>\n",
       "      <td>9</td>\n",
       "      <td>1</td>\n",
       "      <td>7</td>\n",
       "      <td>2</td>\n",
       "      <td>CDBBDBCBBCCCA</td>\n",
       "      <td>CDBCDABDCCBCB</td>\n",
       "      <td>BACDCBDBDABCD</td>\n",
       "      <td>CACAAABDCDACC</td>\n",
       "      <td>-0.269752</td>\n",
       "      <td>-0.375248</td>\n",
       "      <td>B</td>\n",
       "      <td>F</td>\n",
       "    </tr>\n",
       "    <tr>\n",
       "      <th>18658</th>\n",
       "      <td>1</td>\n",
       "      <td>11</td>\n",
       "      <td>1100379</td>\n",
       "      <td>2</td>\n",
       "      <td>9</td>\n",
       "      <td>0</td>\n",
       "      <td>4</td>\n",
       "      <td>6</td>\n",
       "      <td>.............</td>\n",
       "      <td>.............</td>\n",
       "      <td>.............</td>\n",
       "      <td>.............</td>\n",
       "      <td>NaN</td>\n",
       "      <td>NaN</td>\n",
       "      <td>NaN</td>\n",
       "      <td>NaN</td>\n",
       "    </tr>\n",
       "    <tr>\n",
       "      <th>18335</th>\n",
       "      <td>1</td>\n",
       "      <td>11</td>\n",
       "      <td>1100338</td>\n",
       "      <td>2</td>\n",
       "      <td>9</td>\n",
       "      <td>1</td>\n",
       "      <td>5</td>\n",
       "      <td>1</td>\n",
       "      <td>BCDCBCCACDBAB</td>\n",
       "      <td>CBDDAADADCAAC</td>\n",
       "      <td>CCBDDCDDCDDCB</td>\n",
       "      <td>CBCDDCBDBBDDB</td>\n",
       "      <td>0.527265</td>\n",
       "      <td>0.160411</td>\n",
       "      <td>B</td>\n",
       "      <td>F</td>\n",
       "    </tr>\n",
       "    <tr>\n",
       "      <th>14053</th>\n",
       "      <td>1</td>\n",
       "      <td>11</td>\n",
       "      <td>1100205</td>\n",
       "      <td>1</td>\n",
       "      <td>9</td>\n",
       "      <td>0</td>\n",
       "      <td>1</td>\n",
       "      <td>3</td>\n",
       "      <td>.............</td>\n",
       "      <td>.............</td>\n",
       "      <td>.............</td>\n",
       "      <td>.............</td>\n",
       "      <td>NaN</td>\n",
       "      <td>NaN</td>\n",
       "      <td>NaN</td>\n",
       "      <td>NaN</td>\n",
       "    </tr>\n",
       "    <tr>\n",
       "      <th>12387</th>\n",
       "      <td>1</td>\n",
       "      <td>11</td>\n",
       "      <td>1100205</td>\n",
       "      <td>1</td>\n",
       "      <td>9</td>\n",
       "      <td>1</td>\n",
       "      <td>5</td>\n",
       "      <td>6</td>\n",
       "      <td>BADCAAACDBBBD</td>\n",
       "      <td>BCBCDCCDCDCBD</td>\n",
       "      <td>CCDACBCBCBCAB</td>\n",
       "      <td>DBBABACBABABA</td>\n",
       "      <td>0.219405</td>\n",
       "      <td>-0.538358</td>\n",
       "      <td>A</td>\n",
       "      <td>C</td>\n",
       "    </tr>\n",
       "    <tr>\n",
       "      <th>14165</th>\n",
       "      <td>1</td>\n",
       "      <td>11</td>\n",
       "      <td>1100205</td>\n",
       "      <td>1</td>\n",
       "      <td>9</td>\n",
       "      <td>0</td>\n",
       "      <td>3</td>\n",
       "      <td>5</td>\n",
       "      <td>.............</td>\n",
       "      <td>.............</td>\n",
       "      <td>.............</td>\n",
       "      <td>.............</td>\n",
       "      <td>NaN</td>\n",
       "      <td>NaN</td>\n",
       "      <td>NaN</td>\n",
       "      <td>NaN</td>\n",
       "    </tr>\n",
       "  </tbody>\n",
       "</table>\n",
       "</div>"
      ],
      "text/plain": [
       "       ID_REGIAO  ID_UF  ID_MUNICIPIO  ID_AREA  ID_SERIE  \\\n",
       "18414          1     11       1100346        2         9   \n",
       "17773          1     11       1100320        2         9   \n",
       "8838           1     11       1100189        2         9   \n",
       "3220           1     11       1100072        2         9   \n",
       "4085           1     11       1100106        2         9   \n",
       "18658          1     11       1100379        2         9   \n",
       "18335          1     11       1100338        2         9   \n",
       "14053          1     11       1100205        1         9   \n",
       "12387          1     11       1100205        1         9   \n",
       "14165          1     11       1100205        1         9   \n",
       "\n",
       "       IN_PREENCHIMENTO_PROVA  ID_BLOCO_1  ID_BLOCO_2 TX_RESP_BLOCO_1_LP  \\\n",
       "18414                       1           5           7      BAACABCDCBBAC   \n",
       "17773                       1           3           4      CBCDBACABADCD   \n",
       "8838                        0           3           6      .............   \n",
       "3220                        1           1           3      CDCCADDADCDBC   \n",
       "4085                        1           7           2      CDBBDBCBBCCCA   \n",
       "18658                       0           4           6      .............   \n",
       "18335                       1           5           1      BCDCBCCACDBAB   \n",
       "14053                       0           1           3      .............   \n",
       "12387                       1           5           6      BADCAAACDBBBD   \n",
       "14165                       0           3           5      .............   \n",
       "\n",
       "      TX_RESP_BLOCO_2_LP TX_RESP_BLOCO_1_MT TX_RESP_BLOCO_2_MT  \\\n",
       "18414      ADBDACBABCABA      CCBDDCDACDCAB      BACDDDDBDABAB   \n",
       "17773      ABDDCDBADDBCA      DBCADBBDCCDCB      BACACBCBDBCCA   \n",
       "8838       .............      .............      .............   \n",
       "3220       CBABCACABCCDD      CAABBCBCBAACC      DCBBABBDABCBC   \n",
       "4085       CDBCDABDCCBCB      BACDCBDBDABCD      CACAAABDCDACC   \n",
       "18658      .............      .............      .............   \n",
       "18335      CBDDAADADCAAC      CCBDDCDDCDDCB      CBCDDCBDBBDDB   \n",
       "14053      .............      .............      .............   \n",
       "12387      BCBCDCCDCDCBD      CCDACBCBCBCAB      DBBABACBABABA   \n",
       "14165      .............      .............      .............   \n",
       "\n",
       "       PROFICIENCIA_LP  PROFICIENCIA_MT TX_RESP_Q001 TX_RESP_Q002  \n",
       "18414        -0.439944         0.279997            A            A  \n",
       "17773         0.666146         0.352140            A            C  \n",
       "8838               NaN              NaN          NaN          NaN  \n",
       "3220          0.239881        -0.427017            B            D  \n",
       "4085         -0.269752        -0.375248            B            F  \n",
       "18658              NaN              NaN          NaN          NaN  \n",
       "18335         0.527265         0.160411            B            F  \n",
       "14053              NaN              NaN          NaN          NaN  \n",
       "12387         0.219405        -0.538358            A            C  \n",
       "14165              NaN              NaN          NaN          NaN  "
      ]
     },
     "execution_count": 21,
     "metadata": {},
     "output_type": "execute_result"
    }
   ],
   "source": [
    "df_aluno_9EF.sample(10)"
   ]
  },
  {
   "cell_type": "code",
   "execution_count": 22,
   "metadata": {
    "pycharm": {
     "is_executing": false,
     "name": "#%%\n"
    }
   },
   "outputs": [
    {
     "data": {
      "text/html": [
       "<div>\n",
       "<style scoped>\n",
       "    .dataframe tbody tr th:only-of-type {\n",
       "        vertical-align: middle;\n",
       "    }\n",
       "\n",
       "    .dataframe tbody tr th {\n",
       "        vertical-align: top;\n",
       "    }\n",
       "\n",
       "    .dataframe thead th {\n",
       "        text-align: right;\n",
       "    }\n",
       "</style>\n",
       "<table border=\"1\" class=\"dataframe\">\n",
       "  <thead>\n",
       "    <tr style=\"text-align: right;\">\n",
       "      <th></th>\n",
       "      <th>ID_REGIAO</th>\n",
       "      <th>ID_UF</th>\n",
       "      <th>ID_MUNICIPIO</th>\n",
       "      <th>ID_AREA</th>\n",
       "      <th>ID_SERIE</th>\n",
       "      <th>IN_PREENCHIMENTO_PROVA</th>\n",
       "      <th>ID_BLOCO_1</th>\n",
       "      <th>ID_BLOCO_2</th>\n",
       "      <th>TX_RESP_BLOCO_1_LP</th>\n",
       "      <th>TX_RESP_BLOCO_2_LP</th>\n",
       "      <th>TX_RESP_BLOCO_1_MT</th>\n",
       "      <th>TX_RESP_BLOCO_2_MT</th>\n",
       "      <th>PROFICIENCIA_LP</th>\n",
       "      <th>PROFICIENCIA_MT</th>\n",
       "      <th>TX_RESP_Q001</th>\n",
       "      <th>TX_RESP_Q002</th>\n",
       "    </tr>\n",
       "  </thead>\n",
       "  <tbody>\n",
       "    <tr>\n",
       "      <th>1803</th>\n",
       "      <td>1</td>\n",
       "      <td>11</td>\n",
       "      <td>1100098</td>\n",
       "      <td>2</td>\n",
       "      <td>12</td>\n",
       "      <td>1</td>\n",
       "      <td>4</td>\n",
       "      <td>7</td>\n",
       "      <td>CDEDCDABCAABE</td>\n",
       "      <td>DEBBCDACDCBCC</td>\n",
       "      <td>CECDCCBDDEEEA</td>\n",
       "      <td>AAAAACCADDAAA</td>\n",
       "      <td>0.533312</td>\n",
       "      <td>0.911736</td>\n",
       "      <td>B</td>\n",
       "      <td>C</td>\n",
       "    </tr>\n",
       "    <tr>\n",
       "      <th>5079</th>\n",
       "      <td>1</td>\n",
       "      <td>11</td>\n",
       "      <td>1100205</td>\n",
       "      <td>1</td>\n",
       "      <td>12</td>\n",
       "      <td>1</td>\n",
       "      <td>4</td>\n",
       "      <td>6</td>\n",
       "      <td>CDCACCABCEABE</td>\n",
       "      <td>BEDDCCBCBEEBB</td>\n",
       "      <td>CBADCEBCBEADA</td>\n",
       "      <td>DEEBDCBCCCBDA</td>\n",
       "      <td>1.246360</td>\n",
       "      <td>0.296144</td>\n",
       "      <td>B</td>\n",
       "      <td>F</td>\n",
       "    </tr>\n",
       "    <tr>\n",
       "      <th>5373</th>\n",
       "      <td>1</td>\n",
       "      <td>11</td>\n",
       "      <td>1100205</td>\n",
       "      <td>1</td>\n",
       "      <td>12</td>\n",
       "      <td>1</td>\n",
       "      <td>2</td>\n",
       "      <td>5</td>\n",
       "      <td>DCAAECDCDABCB</td>\n",
       "      <td>BDBDBADDAEEBB</td>\n",
       "      <td>DCCECEDCCAACB</td>\n",
       "      <td>ACBEDDACDCAAC</td>\n",
       "      <td>0.569081</td>\n",
       "      <td>1.426175</td>\n",
       "      <td>A</td>\n",
       "      <td>C</td>\n",
       "    </tr>\n",
       "    <tr>\n",
       "      <th>2758</th>\n",
       "      <td>1</td>\n",
       "      <td>11</td>\n",
       "      <td>1100114</td>\n",
       "      <td>2</td>\n",
       "      <td>12</td>\n",
       "      <td>1</td>\n",
       "      <td>5</td>\n",
       "      <td>7</td>\n",
       "      <td>AABABBDBCABDD</td>\n",
       "      <td>BCBDDABBAEBCD</td>\n",
       "      <td>BAAEABACDCAAA</td>\n",
       "      <td>EAABACCBCDCDD</td>\n",
       "      <td>-1.403110</td>\n",
       "      <td>-0.065034</td>\n",
       "      <td>B</td>\n",
       "      <td>C</td>\n",
       "    </tr>\n",
       "    <tr>\n",
       "      <th>2250</th>\n",
       "      <td>1</td>\n",
       "      <td>11</td>\n",
       "      <td>1100106</td>\n",
       "      <td>2</td>\n",
       "      <td>12</td>\n",
       "      <td>1</td>\n",
       "      <td>3</td>\n",
       "      <td>5</td>\n",
       "      <td>ECEBAEDDABEAD</td>\n",
       "      <td>BBECABDDCDEAD</td>\n",
       "      <td>EBABCACCADCAB</td>\n",
       "      <td>BDEECCCCBDDAD</td>\n",
       "      <td>0.687965</td>\n",
       "      <td>0.446701</td>\n",
       "      <td>B</td>\n",
       "      <td>C</td>\n",
       "    </tr>\n",
       "    <tr>\n",
       "      <th>943</th>\n",
       "      <td>1</td>\n",
       "      <td>11</td>\n",
       "      <td>1100049</td>\n",
       "      <td>2</td>\n",
       "      <td>12</td>\n",
       "      <td>1</td>\n",
       "      <td>2</td>\n",
       "      <td>5</td>\n",
       "      <td>DEAAECDDDBEBE</td>\n",
       "      <td>BCAEBADDCEAAC</td>\n",
       "      <td>DDCEBADCCABDE</td>\n",
       "      <td>BCBEABDCDBECD</td>\n",
       "      <td>0.939478</td>\n",
       "      <td>1.149964</td>\n",
       "      <td>A</td>\n",
       "      <td>C</td>\n",
       "    </tr>\n",
       "    <tr>\n",
       "      <th>12675</th>\n",
       "      <td>1</td>\n",
       "      <td>12</td>\n",
       "      <td>1200203</td>\n",
       "      <td>2</td>\n",
       "      <td>12</td>\n",
       "      <td>1</td>\n",
       "      <td>5</td>\n",
       "      <td>6</td>\n",
       "      <td>CBEDAADDAEAAC</td>\n",
       "      <td>BEBDCABABADBA</td>\n",
       "      <td>ACBEDEDCDCAED</td>\n",
       "      <td>BDCBEABACCBEC</td>\n",
       "      <td>1.597668</td>\n",
       "      <td>2.265754</td>\n",
       "      <td>A</td>\n",
       "      <td>C</td>\n",
       "    </tr>\n",
       "    <tr>\n",
       "      <th>254</th>\n",
       "      <td>1</td>\n",
       "      <td>11</td>\n",
       "      <td>1100023</td>\n",
       "      <td>2</td>\n",
       "      <td>12</td>\n",
       "      <td>1</td>\n",
       "      <td>1</td>\n",
       "      <td>4</td>\n",
       "      <td>BAEDCEAABAECD</td>\n",
       "      <td>BECACAABCCDBE</td>\n",
       "      <td>CDAAEADADDBDC</td>\n",
       "      <td>CEBDDEBDBAAEA</td>\n",
       "      <td>1.629295</td>\n",
       "      <td>0.802255</td>\n",
       "      <td>NaN</td>\n",
       "      <td>C</td>\n",
       "    </tr>\n",
       "    <tr>\n",
       "      <th>106</th>\n",
       "      <td>1</td>\n",
       "      <td>11</td>\n",
       "      <td>1100015</td>\n",
       "      <td>2</td>\n",
       "      <td>12</td>\n",
       "      <td>1</td>\n",
       "      <td>1</td>\n",
       "      <td>3</td>\n",
       "      <td>CAEECBBBBADBD</td>\n",
       "      <td>ADEBAACDCEEAD</td>\n",
       "      <td>CCBACECBABBCD</td>\n",
       "      <td>EDCDABCBDECAE</td>\n",
       "      <td>0.272882</td>\n",
       "      <td>0.091131</td>\n",
       "      <td>B</td>\n",
       "      <td>C</td>\n",
       "    </tr>\n",
       "    <tr>\n",
       "      <th>18996</th>\n",
       "      <td>1</td>\n",
       "      <td>13</td>\n",
       "      <td>1300029</td>\n",
       "      <td>2</td>\n",
       "      <td>12</td>\n",
       "      <td>1</td>\n",
       "      <td>4</td>\n",
       "      <td>5</td>\n",
       "      <td>EBEACCCBCEABA</td>\n",
       "      <td>EAEABAADCBBAB</td>\n",
       "      <td>ABACCBBBAABDA</td>\n",
       "      <td>ABCCDBDCDAEBE</td>\n",
       "      <td>0.066248</td>\n",
       "      <td>-0.405587</td>\n",
       "      <td>A</td>\n",
       "      <td>D</td>\n",
       "    </tr>\n",
       "  </tbody>\n",
       "</table>\n",
       "</div>"
      ],
      "text/plain": [
       "       ID_REGIAO  ID_UF  ID_MUNICIPIO  ID_AREA  ID_SERIE  \\\n",
       "1803           1     11       1100098        2        12   \n",
       "5079           1     11       1100205        1        12   \n",
       "5373           1     11       1100205        1        12   \n",
       "2758           1     11       1100114        2        12   \n",
       "2250           1     11       1100106        2        12   \n",
       "943            1     11       1100049        2        12   \n",
       "12675          1     12       1200203        2        12   \n",
       "254            1     11       1100023        2        12   \n",
       "106            1     11       1100015        2        12   \n",
       "18996          1     13       1300029        2        12   \n",
       "\n",
       "       IN_PREENCHIMENTO_PROVA  ID_BLOCO_1  ID_BLOCO_2 TX_RESP_BLOCO_1_LP  \\\n",
       "1803                        1           4           7      CDEDCDABCAABE   \n",
       "5079                        1           4           6      CDCACCABCEABE   \n",
       "5373                        1           2           5      DCAAECDCDABCB   \n",
       "2758                        1           5           7      AABABBDBCABDD   \n",
       "2250                        1           3           5      ECEBAEDDABEAD   \n",
       "943                         1           2           5      DEAAECDDDBEBE   \n",
       "12675                       1           5           6      CBEDAADDAEAAC   \n",
       "254                         1           1           4      BAEDCEAABAECD   \n",
       "106                         1           1           3      CAEECBBBBADBD   \n",
       "18996                       1           4           5      EBEACCCBCEABA   \n",
       "\n",
       "      TX_RESP_BLOCO_2_LP TX_RESP_BLOCO_1_MT TX_RESP_BLOCO_2_MT  \\\n",
       "1803       DEBBCDACDCBCC      CECDCCBDDEEEA      AAAAACCADDAAA   \n",
       "5079       BEDDCCBCBEEBB      CBADCEBCBEADA      DEEBDCBCCCBDA   \n",
       "5373       BDBDBADDAEEBB      DCCECEDCCAACB      ACBEDDACDCAAC   \n",
       "2758       BCBDDABBAEBCD      BAAEABACDCAAA      EAABACCBCDCDD   \n",
       "2250       BBECABDDCDEAD      EBABCACCADCAB      BDEECCCCBDDAD   \n",
       "943        BCAEBADDCEAAC      DDCEBADCCABDE      BCBEABDCDBECD   \n",
       "12675      BEBDCABABADBA      ACBEDEDCDCAED      BDCBEABACCBEC   \n",
       "254        BECACAABCCDBE      CDAAEADADDBDC      CEBDDEBDBAAEA   \n",
       "106        ADEBAACDCEEAD      CCBACECBABBCD      EDCDABCBDECAE   \n",
       "18996      EAEABAADCBBAB      ABACCBBBAABDA      ABCCDBDCDAEBE   \n",
       "\n",
       "       PROFICIENCIA_LP  PROFICIENCIA_MT TX_RESP_Q001 TX_RESP_Q002  \n",
       "1803          0.533312         0.911736            B            C  \n",
       "5079          1.246360         0.296144            B            F  \n",
       "5373          0.569081         1.426175            A            C  \n",
       "2758         -1.403110        -0.065034            B            C  \n",
       "2250          0.687965         0.446701            B            C  \n",
       "943           0.939478         1.149964            A            C  \n",
       "12675         1.597668         2.265754            A            C  \n",
       "254           1.629295         0.802255          NaN            C  \n",
       "106           0.272882         0.091131            B            C  \n",
       "18996         0.066248        -0.405587            A            D  "
      ]
     },
     "execution_count": 22,
     "metadata": {},
     "output_type": "execute_result"
    }
   ],
   "source": [
    "df_aluno_3EM.sample(10)"
   ]
  },
  {
   "cell_type": "markdown",
   "metadata": {
    "pycharm": {
     "is_executing": false
    }
   },
   "source": [
    "### Após o carregamento, o DataFrame tem suas colunas reorganizadas, logo:"
   ]
  },
  {
   "cell_type": "code",
   "execution_count": 23,
   "metadata": {},
   "outputs": [],
   "source": [
    "colunas_aluno = list(df_aluno_5EF.columns.values)"
   ]
  },
  {
   "cell_type": "markdown",
   "metadata": {},
   "source": [
    "### Série"
   ]
  },
  {
   "cell_type": "code",
   "execution_count": 24,
   "metadata": {},
   "outputs": [],
   "source": [
    "idx_serie_gab = colunas_resp.index(ID_SERIE)\n",
    "idx_serie_aluno = colunas_aluno.index(ID_SERIE)"
   ]
  },
  {
   "cell_type": "markdown",
   "metadata": {},
   "source": [
    "### Respostas"
   ]
  },
  {
   "cell_type": "code",
   "execution_count": 25,
   "metadata": {},
   "outputs": [],
   "source": [
    "idx_disciplina = colunas_resp.index(DISCIPLINA)\n",
    "idx_posicao_gabarito = colunas_resp.index(ID_POSICAO)\n",
    "idx_gabarito = colunas_resp.index(GABARITO)\n",
    "idx_preenchimento_prova = colunas_aluno.index(IN_PREENCHIMENTO_PROVA)"
   ]
  },
  {
   "cell_type": "markdown",
   "metadata": {},
   "source": [
    "### Blocos"
   ]
  },
  {
   "cell_type": "code",
   "execution_count": 26,
   "metadata": {},
   "outputs": [],
   "source": [
    "bloco_gab = colunas_resp.index(ID_BLOCO) \n",
    "bloco_resp_1 = colunas_aluno.index(ID_BLOCO_1)\n",
    "bloco_resp_2 = colunas_aluno.index(ID_BLOCO_2)\n",
    "aluno_resp_bloco_1_lp = colunas_aluno.index(TX_RESP_BLOCO_1_LP) \n",
    "aluno_resp_bloco_2_lp = colunas_aluno.index(TX_RESP_BLOCO_2_LP) \n",
    "aluno_resp_bloco_1_mt = colunas_aluno.index(TX_RESP_BLOCO_1_MT) \n",
    "aluno_resp_bloco_2_mt = colunas_aluno.index(TX_RESP_BLOCO_2_MT) "
   ]
  },
  {
   "cell_type": "markdown",
   "metadata": {},
   "source": [
    "### Região de Estudo/Aluno"
   ]
  },
  {
   "cell_type": "code",
   "execution_count": 27,
   "metadata": {},
   "outputs": [],
   "source": [
    "idx_uf = colunas_aluno.index(ID_UF)\n",
    "idx_municipio = colunas_aluno.index(ID_MUNICIPIO)\n",
    "idx_regiao = colunas_aluno.index(ID_REGIAO)\n",
    "idx_area = colunas_aluno.index(ID_AREA)\n",
    "idx_sexo = colunas_aluno.index(TX_RESP_Q001)\n",
    "idx_raca = colunas_aluno.index(TX_RESP_Q002)"
   ]
  },
  {
   "cell_type": "markdown",
   "metadata": {},
   "source": [
    "## Cálculo de Acertos"
   ]
  },
  {
   "cell_type": "markdown",
   "metadata": {},
   "source": [
    "### **Numeração dos Estados, Regiões etc..**\n",
    "_Descrita no Dicionário da ANEB_"
   ]
  },
  {
   "cell_type": "code",
   "execution_count": 28,
   "metadata": {},
   "outputs": [],
   "source": [
    "num_estados = {\n",
    "    11: 'RO',\n",
    "    12: 'AC',\n",
    "    13: 'AM',\n",
    "    14: 'RR',\n",
    "    15: 'PA',\n",
    "    16: 'AP',\n",
    "    17: 'TO',\n",
    "    21: 'MA',\n",
    "    22: 'PI',\n",
    "    23: 'CE',\n",
    "    24: 'RN',\n",
    "    25: 'PB',\n",
    "    26: 'PE',\n",
    "    27: 'AL',\n",
    "    28: 'SE',\n",
    "    29: 'BA',\n",
    "    31: 'MG',\n",
    "    32: 'ES',\n",
    "    33: 'RJ',\n",
    "    35: 'SP',\n",
    "    41: 'PR',\n",
    "    42: 'SC',\n",
    "    43: 'RS',\n",
    "    50: 'MS',\n",
    "    51: 'MT',\n",
    "    52: 'GO',\n",
    "    53: 'DF'\n",
    "}"
   ]
  },
  {
   "cell_type": "code",
   "execution_count": 29,
   "metadata": {},
   "outputs": [],
   "source": [
    "num_regiao = {\n",
    "    1: 'Norte',\n",
    "    2: 'Nordeste',\n",
    "    3: 'Sudeste',\n",
    "    4: 'Sul',\n",
    "    5: 'Centro-Oeste'\n",
    "}"
   ]
  },
  {
   "cell_type": "code",
   "execution_count": 30,
   "metadata": {},
   "outputs": [],
   "source": [
    "num_cor = {\n",
    "    'A': 'Branca',\n",
    "    'B': 'Preta',\n",
    "    'C': 'Parda',\n",
    "    'D': 'Amarelo',\n",
    "    'E': 'Indígena',\n",
    "    'F': 'Não quero declarar',\n",
    "}"
   ]
  },
  {
   "cell_type": "code",
   "execution_count": 31,
   "metadata": {},
   "outputs": [],
   "source": [
    "num_sexo = {\n",
    "    'A': 'Masculino',\n",
    "    'B': 'Feminino'\n",
    "}"
   ]
  },
  {
   "cell_type": "code",
   "execution_count": 32,
   "metadata": {
    "pycharm": {
     "is_executing": false,
     "name": "#%%\n"
    }
   },
   "outputs": [],
   "source": [
    "filtro_de_colunas_resposta = ['serie', 'nota_lp', 'nota_mt', 'uf', 'municipio', 'regiao', 'area', 'sexo', 'raca']"
   ]
  },
  {
   "cell_type": "code",
   "execution_count": 33,
   "metadata": {
    "pycharm": {
     "is_executing": false,
     "name": "#%%\n"
    }
   },
   "outputs": [],
   "source": [
    "def filtrar_dados(serie_dados, nao_realizado=0, colunas=filtro_de_colunas_resposta):\n",
    "    \"\"\"\n",
    "    \n",
    "    :param serie_dados:     Série de dados carregados (DataFrame)\n",
    "    :param nao_realizado:   Número de ocorrências do Não Preenchimento de Prova\n",
    "    :param colunas:         Filtro de Colunas à serem aplicadas ao resultado de serie_dados\n",
    "    :param resposta_dados:  DataFrame de resposta, caso não seja vazio, os dados serão adicionados a ele \n",
    "    :return: \n",
    "        Dados Filtrado (DataFrame)\n",
    "        Quantidade não realizada de provas\n",
    "    \"\"\"\n",
    "    resposta_dados = []\n",
    "    i = 0\n",
    "    for r in serie_dados.to_numpy():  # [len(serie_dados.to_numpy())//2:]:\n",
    "        i = i + 1\n",
    "        not_lim = 100000\n",
    "        if 0 == i % not_lim:\n",
    "            print(f'iter {not_lim}, resp: {len(resposta_dados)}, {nao_realizado} => {len(resposta_dados) + nao_realizado}')\n",
    "        \n",
    "        nota_mt = 0\n",
    "        nota_pt = 0\n",
    "        \n",
    "        respostas_lp = [\n",
    "            [False for x in range(len(r[aluno_resp_bloco_1_lp]))],\n",
    "            [False for x in range(len(r[aluno_resp_bloco_2_lp]))]\n",
    "        ]\n",
    "        respostas_mt = [\n",
    "            [False for x in range(len(r[aluno_resp_bloco_1_mt]))],\n",
    "            [False for x in range(len(r[aluno_resp_bloco_2_mt]))]\n",
    "        ]\n",
    "        \n",
    "        # Quem não fez a prova é ignorado\n",
    "        if not bool(int(r[idx_preenchimento_prova])):\n",
    "            nao_realizado = nao_realizado + 1\n",
    "            continue\n",
    "        serie_aluno = r[idx_serie_aluno]\n",
    "        if serie_aluno in (12, 13):\n",
    "            # 12 - 3ª ou 4ª Série do Ensino Médio\n",
    "            # 13 - 3ª ou 4ª Série do Ensino Médio Integrado\n",
    "            serie_aluno = 3\n",
    "        for gab in df_gabarito.to_numpy():\n",
    "            # if gab['ID_SERIE'] == r['ID_SERIE']:\n",
    "            if gab[idx_gabarito] not in RESPOSTAS_INVALIDAS:\n",
    "                if gab[idx_serie_gab] == serie_aluno and\\\n",
    "                        (r[bloco_resp_1] == gab[bloco_gab] or r[bloco_resp_2] == gab[bloco_gab]):\n",
    "                    is_bloco_1 = r[bloco_resp_1] == gab[bloco_gab]\n",
    "                    if is_bloco_1 and r[bloco_resp_2] == gab[bloco_gab]:\n",
    "                        print ('bloco EDGE CASES!!')\n",
    "                    idx_r = 0 if is_bloco_1 else 1\n",
    "                    if gab[idx_disciplina] == 'LP':\n",
    "                        resp_aluno = str(r[aluno_resp_bloco_1_lp if is_bloco_1 else aluno_resp_bloco_2_lp])\n",
    "                        if (respostas_lp[idx_r])[gab[idx_posicao_gabarito]-1]:\n",
    "                            continue\n",
    "                        if resp_aluno[gab[idx_posicao_gabarito]-1] == gab[idx_gabarito]:\n",
    "                            nota_pt += 1\n",
    "                            (respostas_lp[idx_r])[gab[idx_posicao_gabarito]-1] = True\n",
    "                    elif gab[idx_disciplina] == 'MT':\n",
    "                        resp_aluno = str(r[aluno_resp_bloco_1_mt if is_bloco_1 else aluno_resp_bloco_2_mt])\n",
    "                        if (respostas_mt[idx_r])[gab[idx_posicao_gabarito]-1]:\n",
    "                            continue\n",
    "                        if resp_aluno[gab[idx_posicao_gabarito]-1] == gab[idx_gabarito]:\n",
    "                            nota_mt += 1\n",
    "                            (respostas_mt[idx_r])[gab[idx_posicao_gabarito]-1] = True\n",
    "        if nota_pt or nota_mt:\n",
    "            resposta_dados.append({\n",
    "                colunas[0]: serie_aluno,\n",
    "                colunas[1]: nota_pt,\n",
    "                colunas[2]: nota_mt,\n",
    "                colunas[3]: num_estados.get(r[idx_uf], r[idx_uf]),\n",
    "                colunas[4]: r[idx_municipio],\n",
    "                colunas[5]: num_regiao.get(r[idx_regiao], r[idx_regiao]),\n",
    "                colunas[6]: r[idx_area],\n",
    "                colunas[7]: num_sexo.get(r[idx_sexo], r[idx_sexo]),\n",
    "                colunas[8]: num_cor.get(r[idx_raca], r[idx_raca])\n",
    "            })\n",
    "            # ,\n",
    "            #     ignore_index=True\n",
    "            # )\n",
    "    return resposta_dados, nao_realizado"
   ]
  },
  {
   "cell_type": "markdown",
   "metadata": {
    "pycharm": {
     "is_executing": true,
     "name": "#%% md\n"
    }
   },
   "source": [
    "#### O filtro aplicado demora cerca de 25 minutos cada arquivo \n"
   ]
  },
  {
   "cell_type": "code",
   "execution_count": 34,
   "metadata": {
    "pycharm": {
     "is_executing": false
    }
   },
   "outputs": [],
   "source": [
    "dados_filtrados = pd.DataFrame(columns=filtro_de_colunas_resposta)"
   ]
  },
  {
   "cell_type": "code",
   "execution_count": 35,
   "metadata": {
    "pycharm": {
     "is_executing": false,
     "name": "#%%\n"
    }
   },
   "outputs": [],
   "source": [
    "r_filtro, qtd_prova_nao_realizada_5SEM = filtrar_dados(\n",
    "    df_aluno_5EF, 0,\n",
    ")"
   ]
  },
  {
   "cell_type": "code",
   "execution_count": 36,
   "metadata": {
    "pycharm": {
     "is_executing": false,
     "name": "#%%\n"
    }
   },
   "outputs": [],
   "source": [
    "dados_filtrados = dados_filtrados.append(r_filtro, ignore_index=True)"
   ]
  },
  {
   "cell_type": "code",
   "execution_count": 37,
   "metadata": {
    "pycharm": {
     "is_executing": false,
     "name": "#%%\n"
    }
   },
   "outputs": [],
   "source": [
    "r_filtro, qtd_prova_nao_realizada_9SEM = filtrar_dados(\n",
    "    df_aluno_9EF, 0,\n",
    ")"
   ]
  },
  {
   "cell_type": "code",
   "execution_count": 38,
   "metadata": {
    "pycharm": {
     "is_executing": false,
     "name": "#%%\n"
    }
   },
   "outputs": [],
   "source": [
    "dados_filtrados = dados_filtrados.append(r_filtro, ignore_index=True)"
   ]
  },
  {
   "cell_type": "code",
   "execution_count": 39,
   "metadata": {
    "pycharm": {
     "is_executing": false,
     "name": "#%%\n"
    }
   },
   "outputs": [],
   "source": [
    "r_filtro, qtd_prova_nao_realizada_3EM = filtrar_dados(\n",
    "    df_aluno_3EM, 0,\n",
    ")"
   ]
  },
  {
   "cell_type": "code",
   "execution_count": 40,
   "metadata": {
    "pycharm": {
     "is_executing": false,
     "name": "#%%\n"
    }
   },
   "outputs": [],
   "source": [
    "dados_filtrados = dados_filtrados.append(r_filtro, ignore_index=True)"
   ]
  },
  {
   "cell_type": "code",
   "execution_count": 41,
   "metadata": {},
   "outputs": [
    {
     "data": {
      "text/html": [
       "<div>\n",
       "<style scoped>\n",
       "    .dataframe tbody tr th:only-of-type {\n",
       "        vertical-align: middle;\n",
       "    }\n",
       "\n",
       "    .dataframe tbody tr th {\n",
       "        vertical-align: top;\n",
       "    }\n",
       "\n",
       "    .dataframe thead th {\n",
       "        text-align: right;\n",
       "    }\n",
       "</style>\n",
       "<table border=\"1\" class=\"dataframe\">\n",
       "  <thead>\n",
       "    <tr style=\"text-align: right;\">\n",
       "      <th></th>\n",
       "      <th>serie</th>\n",
       "      <th>nota_lp</th>\n",
       "      <th>nota_mt</th>\n",
       "      <th>uf</th>\n",
       "      <th>municipio</th>\n",
       "      <th>regiao</th>\n",
       "      <th>area</th>\n",
       "      <th>sexo</th>\n",
       "      <th>raca</th>\n",
       "    </tr>\n",
       "  </thead>\n",
       "  <tbody>\n",
       "    <tr>\n",
       "      <th>23991</th>\n",
       "      <td>9</td>\n",
       "      <td>24</td>\n",
       "      <td>21</td>\n",
       "      <td>RO</td>\n",
       "      <td>1100155</td>\n",
       "      <td>Norte</td>\n",
       "      <td>2</td>\n",
       "      <td>Feminino</td>\n",
       "      <td>Parda</td>\n",
       "    </tr>\n",
       "    <tr>\n",
       "      <th>30717</th>\n",
       "      <td>9</td>\n",
       "      <td>22</td>\n",
       "      <td>11</td>\n",
       "      <td>RO</td>\n",
       "      <td>1100304</td>\n",
       "      <td>Norte</td>\n",
       "      <td>2</td>\n",
       "      <td>Feminino</td>\n",
       "      <td>Parda</td>\n",
       "    </tr>\n",
       "    <tr>\n",
       "      <th>8163</th>\n",
       "      <td>5</td>\n",
       "      <td>14</td>\n",
       "      <td>8</td>\n",
       "      <td>RO</td>\n",
       "      <td>1100155</td>\n",
       "      <td>Norte</td>\n",
       "      <td>2</td>\n",
       "      <td>Feminino</td>\n",
       "      <td>Preta</td>\n",
       "    </tr>\n",
       "    <tr>\n",
       "      <th>14134</th>\n",
       "      <td>5</td>\n",
       "      <td>8</td>\n",
       "      <td>10</td>\n",
       "      <td>RO</td>\n",
       "      <td>1100205</td>\n",
       "      <td>Norte</td>\n",
       "      <td>1</td>\n",
       "      <td>Masculino</td>\n",
       "      <td>NaN</td>\n",
       "    </tr>\n",
       "    <tr>\n",
       "      <th>25581</th>\n",
       "      <td>9</td>\n",
       "      <td>22</td>\n",
       "      <td>14</td>\n",
       "      <td>RO</td>\n",
       "      <td>1100205</td>\n",
       "      <td>Norte</td>\n",
       "      <td>1</td>\n",
       "      <td>Masculino</td>\n",
       "      <td>Branca</td>\n",
       "    </tr>\n",
       "  </tbody>\n",
       "</table>\n",
       "</div>"
      ],
      "text/plain": [
       "      serie nota_lp nota_mt  uf municipio regiao area       sexo    raca\n",
       "23991     9      24      21  RO   1100155  Norte    2   Feminino   Parda\n",
       "30717     9      22      11  RO   1100304  Norte    2   Feminino   Parda\n",
       "8163      5      14       8  RO   1100155  Norte    2   Feminino   Preta\n",
       "14134     5       8      10  RO   1100205  Norte    1  Masculino     NaN\n",
       "25581     9      22      14  RO   1100205  Norte    1  Masculino  Branca"
      ]
     },
     "execution_count": 41,
     "metadata": {},
     "output_type": "execute_result"
    }
   ],
   "source": [
    "dados_filtrados.sample(5)"
   ]
  },
  {
   "cell_type": "code",
   "execution_count": 42,
   "metadata": {},
   "outputs": [],
   "source": [
    "fig_size = (6, 4)"
   ]
  },
  {
   "cell_type": "markdown",
   "metadata": {},
   "source": [
    "### Médias Com Dois Índices"
   ]
  },
  {
   "cell_type": "code",
   "execution_count": 151,
   "metadata": {},
   "outputs": [],
   "source": [
    "def conta_tamanho_grupo(grupo, grupo_buscado):\n",
    "    # print(f'grupo {grupo}, grupo_buscado {grupo_buscado} {type(grupo_buscado)}')\n",
    "    if not grupo_buscado:\n",
    "        return 1\n",
    "    gd = dados_filtrados.groupby(grupo).size()\n",
    "    i = False\n",
    "    p = False\n",
    "    if isinstance(grupo, (list, tuple)):\n",
    "        gd = gd.unstack()\n",
    "        cv = list(gd.columns.values)\n",
    "        if isinstance(grupo_buscado, (list, tuple)):\n",
    "            for g in grupo_buscado:\n",
    "                if g in cv:\n",
    "                    i = cv.index(g)\n",
    "                    p = grupo_buscado[0]\n",
    "        else:\n",
    "            print('gb', grupo_buscado)\n",
    "    else:\n",
    "        i = gd.index.contains(grupo_buscado)\n",
    "    if p:\n",
    "        return gd.unstack().xs((grupo_buscado[-1], p))\n",
    "    if i:\n",
    "        return gd[grupo_buscado]\n",
    "    print(f'nao encontrado {grupo_buscado} em {i}')\n",
    "    return 1"
   ]
  },
  {
   "cell_type": "markdown",
   "metadata": {
    "pycharm": {
     "is_executing": false
    }
   },
   "source": [
    "## Estudo Proposto"
   ]
  },
  {
   "cell_type": "markdown",
   "metadata": {
    "pycharm": {
     "name": "#%% md\n"
    }
   },
   "source": [
    "#### Contagem de Provas por Estado"
   ]
  },
  {
   "cell_type": "code",
   "execution_count": 44,
   "metadata": {},
   "outputs": [
    {
     "data": {
      "image/png": "[encoded data removed]",
      "text/plain": [
       "<Figure size 432x288 with 1 Axes>"
      ]
     },
     "metadata": {
      "needs_background": "light"
     },
     "output_type": "display_data"
    }
   ],
   "source": [
    "ax = dados_filtrados.groupby('uf').size().sort_values().plot.barh(\n",
    "    figsize=fig_size\n",
    ")\n",
    "ax.set_xlabel('Quantidade')\n",
    "ax = ax.set_ylabel('Estados')"
   ]
  },
  {
   "cell_type": "markdown",
   "metadata": {
    "pycharm": {
     "is_executing": false,
     "name": "#%%\n"
    }
   },
   "source": [
    "#  TO-DO"
   ]
  },
  {
   "cell_type": "code",
   "execution_count": 45,
   "metadata": {},
   "outputs": [
    {
     "name": "stdout",
     "output_type": "stream",
     "text": [
      "Foram aplicadas um Total de 53327 provas em todo país.\n",
      "\r",
      "    2668 alunos da 5ª série do Ensino Fundamental Não Participaram\n",
      "\r",
      "    3999 alunos da 9ª série do Ensino Fundamental Não Estavam Presentes\n",
      "\r",
      "    0 alunos do 3ª ano do Ensino Médio Não Fizeram a Prova\n"
     ]
    }
   ],
   "source": [
    "print(\n",
    "    f'Foram aplicadas um Total de {len(dados_filtrados)} provas em todo país.\\n\\r\\\n",
    "    {qtd_prova_nao_realizada_5SEM} alunos da 5ª série do Ensino Fundamental Não Participaram\\n\\r\\\n",
    "    {qtd_prova_nao_realizada_9SEM} alunos da 9ª série do Ensino Fundamental Não Estavam Presentes\\n\\r\\\n",
    "    {qtd_prova_nao_realizada_3EM} alunos do 3ª ano do Ensino Médio Não Fizeram a Prova'\n",
    ")"
   ]
  },
  {
   "cell_type": "code",
   "execution_count": 71,
   "metadata": {
    "pycharm": {
     "is_executing": false,
     "name": "#%%\n"
    }
   },
   "outputs": [
    {
     "data": {
      "image/png": "[encoded data removed]",
      "text/plain": [
       "<Figure size 432x288 with 1 Axes>"
      ]
     },
     "metadata": {
      "needs_background": "light"
     },
     "output_type": "display_data"
    }
   ],
   "source": [
    "ax = dados_filtrados.groupby(['uf', 'serie']).size().sort_values().plot(\n",
    "    kind='barh',\n",
    "    figsize=fig_size\n",
    ")\n",
    "ax.set_xlabel('Quantidade')\n",
    "ax = ax.set_ylabel('Estados')"
   ]
  },
  {
   "cell_type": "code",
   "execution_count": 152,
   "metadata": {
    "pycharm": {
     "is_executing": false,
     "name": "#%%\n"
    }
   },
   "outputs": [
    {
     "data": {
      "image/png": "[encoded data removed]",
      "text/plain": [
       "<Figure size 432x288 with 1 Axes>"
      ]
     },
     "metadata": {
      "needs_background": "light"
     },
     "output_type": "display_data"
    }
   ],
   "source": [
    "ax = dados_filtrados.groupby(['uf', 'serie'])[['nota_lp', 'nota_mt']].sum()\\\n",
    ".sort_values(by=['uf', 'serie'])\\\n",
    ".apply(\n",
    "    lambda x: x / conta_tamanho_grupo(['uf', 'serie'], x.name), axis=1\n",
    ")\n",
    "ax = ax.plot(\n",
    "    kind='bar',\n",
    "    figsize=fig_size\n",
    ")\n",
    "ax.legend([\n",
    "    'LP Ensino Médio', 'LP 5ª Série', 'LP 9ª Série',\n",
    "    'MT Ensino Médio', 'MT 5ª Série', 'MT 9ª Série'\n",
    "]\n",
    "    , frameon=True\n",
    "    , loc='best'\n",
    ")\n",
    "ax.set_ylabel('Nota')\n",
    "ax = ax.set_xlabel('Estado, Série')"
   ]
  },
  {
   "cell_type": "markdown",
   "metadata": {},
   "source": []
  },
  {
   "cell_type": "markdown",
   "metadata": {},
   "source": [
    "### Média de Nota Disposta sobre os Estados"
   ]
  },
  {
   "cell_type": "markdown",
   "metadata": {},
   "source": [
    "#### Médias Por Região"
   ]
  },
  {
   "cell_type": "code",
   "execution_count": 49,
   "metadata": {},
   "outputs": [
    {
     "name": "stderr",
     "output_type": "stream",
     "text": [
      "c:\\users\\guilhermegomesdossan\\appdata\\local\\programs\\python\\python37\\lib\\site-packages\\pandas\\plotting\\_core.py:1001: UserWarning: Attempting to set identical left == right == 0.0 results in singular transformations; automatically expanding.\n",
      "  ax.set_xlim(left, right)\n"
     ]
    },
    {
     "data": {
      "image/png": "[encoded data removed]",
      "text/plain": [
       "<Figure size 432x288 with 2 Axes>"
      ]
     },
     "metadata": {},
     "output_type": "display_data"
    },
    {
     "data": {
      "image/png": "[encoded data removed]",
      "text/plain": [
       "<Figure size 432x288 with 1 Axes>"
      ]
     },
     "metadata": {
      "needs_background": "light"
     },
     "output_type": "display_data"
    }
   ],
   "source": [
    "ax = dados_filtrados.groupby('regiao').sum()[['nota_lp', 'nota_mt']].apply(\n",
    "    lambda x: x / conta_tamanho_grupo('regiao', x.name), axis=1\n",
    ")\n",
    "\n",
    "ax.plot.pie(\n",
    "    subplots=True, figsize=fig_size,\n",
    "    legend=False,\n",
    "    title=['Língua Portuguesa', 'Matemática']\n",
    ")\n",
    "\n",
    "ax = ax.plot(\n",
    "    kind='area',\n",
    "    stacked=True\n",
    ")\n",
    "ax.set_ylabel('Nota')\n",
    "ax = ax.set_xlabel('Região')\n"
   ]
  },
  {
   "cell_type": "markdown",
   "metadata": {},
   "source": [
    "#### Por Estados"
   ]
  },
  {
   "cell_type": "code",
   "execution_count": 50,
   "metadata": {
    "pycharm": {
     "is_executing": false,
     "name": "#%%\n"
    }
   },
   "outputs": [
    {
     "data": {
      "text/plain": [
       "array([<matplotlib.axes._subplots.AxesSubplot object at 0x0000021CBADC7E10>,\n",
       "       <matplotlib.axes._subplots.AxesSubplot object at 0x0000021CBADF0400>],\n",
       "      dtype=object)"
      ]
     },
     "execution_count": 50,
     "metadata": {},
     "output_type": "execute_result"
    },
    {
     "data": {
      "image/png": "[encoded data removed]",
      "text/plain": [
       "<Figure size 432x288 with 2 Axes>"
      ]
     },
     "metadata": {},
     "output_type": "display_data"
    }
   ],
   "source": [
    "ax = dados_filtrados.groupby('uf').sum()[['nota_lp', 'nota_mt']].apply(\n",
    "    lambda x: x / len(dados_filtrados)\n",
    ").plot.pie(\n",
    "    subplots=True, figsize=fig_size,\n",
    "    title=['Língua Portuguesa', 'Matemática']\n",
    ")"
   ]
  },
  {
   "cell_type": "code",
   "execution_count": 182,
   "metadata": {
    "pycharm": {
     "is_executing": false,
     "name": "#%%\n"
    }
   },
   "outputs": [
    {
     "data": {
      "image/png": "[encoded data removed]",
      "text/plain": [
       "<Figure size 432x288 with 2 Axes>"
      ]
     },
     "metadata": {},
     "output_type": "display_data"
    }
   ],
   "source": [
    "ax = dados_filtrados.groupby('uf').sum()[['nota_lp', 'nota_mt']].apply(\n",
    "    lambda x: x / conta_tamanho_grupo('uf', x.name), axis=1\n",
    ").plot.pie(\n",
    "    subplots=True, figsize=fig_size,\n",
    "    legend=False, title=['Língua Portuguesa', 'Matemática']\n",
    ")"
   ]
  },
  {
   "cell_type": "markdown",
   "metadata": {},
   "source": [
    "### Disparidades Entre Aprendizagem"
   ]
  },
  {
   "cell_type": "markdown",
   "metadata": {},
   "source": [
    "### Média Geral de Notas"
   ]
  },
  {
   "cell_type": "code",
   "execution_count": 52,
   "metadata": {},
   "outputs": [
    {
     "name": "stdout",
     "output_type": "stream",
     "text": [
      "nota_lp    14.912052\n",
      "nota_mt    11.493296\n",
      "dtype: float64\n"
     ]
    },
    {
     "data": {
      "image/png": "[encoded data removed]",
      "text/plain": [
       "<Figure size 432x288 with 1 Axes>"
      ]
     },
     "metadata": {
      "needs_background": "light"
     },
     "output_type": "display_data"
    }
   ],
   "source": [
    "ax = dados_filtrados[['nota_lp', 'nota_mt']].mean()\n",
    "print(ax)\n",
    "ax = ax.plot(kind='bar')\n",
    "ax = ax.set_ylabel('Nota')"
   ]
  },
  {
   "cell_type": "markdown",
   "metadata": {},
   "source": [
    "### Por Gênero"
   ]
  },
  {
   "cell_type": "code",
   "execution_count": 53,
   "metadata": {},
   "outputs": [
    {
     "name": "stdout",
     "output_type": "stream",
     "text": [
      "           Língua Portuguesa  Matemática\n",
      "sexo                                    \n",
      "Feminino           15.507351   11.134921\n",
      "Masculino          14.383306   12.000824\n"
     ]
    },
    {
     "data": {
      "image/png": "[encoded data removed]",
      "text/plain": [
       "<Figure size 432x288 with 2 Axes>"
      ]
     },
     "metadata": {},
     "output_type": "display_data"
    }
   ],
   "source": [
    "ax = dados_filtrados.groupby('sexo').sum()[['nota_lp', 'nota_mt']].apply(\n",
    "    lambda x: x / conta_tamanho_grupo('sexo', x.name), axis=1\n",
    ")\n",
    "ax.columns = ['Língua Portuguesa', 'Matemática']\n",
    "print(ax)\n",
    "ax.columns = [None, None]\n",
    "pl = ax.plot.pie(\n",
    "    subplots=True, figsize=fig_size,\n",
    "    autopct='%.0f%%',\n",
    "    # labels=['Masculino', 'Feminino'],\n",
    "    legend=False,\n",
    "    title=['Língua Portuguesa', 'Matemática']\n",
    ")\n"
   ]
  },
  {
   "cell_type": "markdown",
   "metadata": {
    "pycharm": {
     "is_executing": true,
     "name": "#%%\n"
    }
   },
   "source": [
    "### Por Gênero e Estado"
   ]
  },
  {
   "cell_type": "markdown",
   "metadata": {},
   "source": [
    "#### Língua Portguesa"
   ]
  },
  {
   "cell_type": "code",
   "execution_count": 185,
   "metadata": {
    "pycharm": {
     "is_executing": false,
     "name": "#%%\n"
    }
   },
   "outputs": [
    {
     "data": {
      "image/png": "[encoded data removed]",
      "text/plain": [
       "<Figure size 432x288 with 1 Axes>"
      ]
     },
     "metadata": {
      "needs_background": "light"
     },
     "output_type": "display_data"
    }
   ],
   "source": [
    "ax = dados_filtrados.groupby(['uf', 'sexo'])[['nota_lp']].sum()\\\n",
    ".sort_values(by=['uf', 'sexo'])\\\n",
    ".apply(\n",
    "    lambda x: x / conta_tamanho_grupo(['uf', 'sexo'], x.name), axis=1\n",
    ").plot(\n",
    "    kind='bar', stacked=False,\n",
    "    figsize=fig_size\n",
    ")\n",
    "ax.legend(\n",
    "    ['Língua Portuguesa'],\n",
    "    loc='best'\n",
    ")\n",
    "\n",
    "ax.set_ylabel('Nota')\n",
    "ax = ax.set_xlabel('Estado, Sexo')"
   ]
  },
  {
   "cell_type": "markdown",
   "metadata": {},
   "source": [
    "#### Matemática"
   ]
  },
  {
   "cell_type": "code",
   "execution_count": 179,
   "metadata": {
    "pycharm": {
     "is_executing": false,
     "name": "#%%\n"
    }
   },
   "outputs": [
    {
     "data": {
      "image/png": "[encoded data removed]",
      "text/plain": [
       "<Figure size 432x288 with 1 Axes>"
      ]
     },
     "metadata": {
      "needs_background": "light"
     },
     "output_type": "display_data"
    }
   ],
   "source": [
    "ax = dados_filtrados.groupby(['uf', 'sexo'])[['nota_mt']].sum()\\\n",
    ".sort_values(by=['uf', 'sexo'])\\\n",
    ".apply(\n",
    "    lambda x: x / conta_tamanho_grupo(['uf', 'sexo'], x.name), axis=1\n",
    ").plot(\n",
    "    kind='bar', stacked=False,\n",
    "    figsize=fig_size\n",
    ")\n",
    "ax.legend(\n",
    "    ['Matemática'],\n",
    "    loc='best'\n",
    ")\n",
    "\n",
    "ax.set_ylabel('Nota')\n",
    "ax = ax.set_xlabel('Estado, Sexo')"
   ]
  },
  {
   "cell_type": "markdown",
   "metadata": {
    "pycharm": {
     "is_executing": false,
     "name": "#%%\n"
    }
   },
   "source": [
    "### Por Raça"
   ]
  },
  {
   "cell_type": "code",
   "execution_count": 219,
   "metadata": {
    "pycharm": {
     "is_executing": false,
     "name": "#%%\n"
    }
   },
   "outputs": [
    {
     "data": {
      "image/png": "[encoded data removed]",
      "text/plain": [
       "<Figure size 432x288 with 1 Axes>"
      ]
     },
     "metadata": {
      "needs_background": "light"
     },
     "output_type": "display_data"
    }
   ],
   "source": [
    "ax = dados_filtrados.groupby('raca')[['nota_lp']].sum()\\\n",
    ".sort_values(by='raca')\\\n",
    ".apply(\n",
    "    lambda x: x / conta_tamanho_grupo('raca', x.name), axis=1\n",
    ").plot(\n",
    "    kind='area', stacked=False,\n",
    "    figsize=fig_size, legend=False,\n",
    "    subplots=True, title='Língua Portuguesa'\n",
    ")"
   ]
  },
  {
   "cell_type": "code",
   "execution_count": 214,
   "metadata": {},
   "outputs": [
    {
     "data": {
      "image/png": "[encoded data removed]",
      "text/plain": [
       "<Figure size 432x288 with 1 Axes>"
      ]
     },
     "metadata": {
      "needs_background": "light"
     },
     "output_type": "display_data"
    }
   ],
   "source": [
    "ax = dados_filtrados.groupby('raca')[['nota_mt']].sum()\\\n",
    ".sort_values(by='raca')\\\n",
    ".apply(\n",
    "    lambda x: x / conta_tamanho_grupo('raca', x.name), axis=1\n",
    ").plot(\n",
    "    kind='area', stacked=False,\n",
    "    figsize=fig_size, legend=False,\n",
    "    subplots=True, title='Matemática'\n",
    ")"
   ]
  },
  {
   "cell_type": "code",
   "execution_count": null,
   "metadata": {},
   "outputs": [],
   "source": []
  },
  {
   "cell_type": "code",
   "execution_count": null,
   "metadata": {},
   "outputs": [],
   "source": []
  }
 ],
 "metadata": {
  "kernelspec": {
   "display_name": "Python 3",
   "language": "python",
   "name": "python3"
  },
  "language_info": {
   "codemirror_mode": {
    "name": "ipython",
    "version": 3
   },
   "file_extension": ".py",
   "mimetype": "text/x-python",
   "name": "python",
   "nbconvert_exporter": "python",
   "pygments_lexer": "ipython3",
   "version": "3.7.3"
  },
  "pycharm": {
   "stem_cell": {
    "cell_type": "raw",
    "metadata": {
     "collapsed": false
    },
    "source": []
   }
  }
 },
 "nbformat": 4,
 "nbformat_minor": 2
}
