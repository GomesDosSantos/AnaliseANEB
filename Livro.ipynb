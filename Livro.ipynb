{
 "cells": [
  {
   "cell_type": "code",
   "execution_count": 1,
   "metadata": {
    "pycharm": {
     "is_executing": false
    }
   },
   "outputs": [],
   "source": [
    "import pandas as pd"
   ]
  },
  {
   "cell_type": "code",
   "execution_count": 2,
   "metadata": {
    "pycharm": {
     "is_executing": false
    }
   },
   "outputs": [],
   "source": [
    "%matplotlib inline"
   ]
  },
  {
   "cell_type": "code",
   "execution_count": 3,
   "metadata": {
    "pycharm": {
     "is_executing": false
    }
   },
   "outputs": [],
   "source": [
    "pd.options.display.max_columns = 25\n",
    "pd.options.display.max_rows = 10"
   ]
  },
  {
   "cell_type": "markdown",
   "metadata": {},
   "source": [
    "Arquivos extraídos do Microdados INEP"
   ]
  },
  {
   "cell_type": "code",
   "execution_count": 4,
   "metadata": {
    "pycharm": {
     "is_executing": false
    }
   },
   "outputs": [],
   "source": [
    "file_resp = '../dados/TS_ITEM.csv'"
   ]
  },
  {
   "cell_type": "code",
   "execution_count": 5,
   "metadata": {
    "pycharm": {
     "is_executing": false
    }
   },
   "outputs": [],
   "source": [
    "file_alunos_3EM_ESC = '../dados/TS_ALUNO_3EM_ESC.csv'\n",
    "# file_alunos_3EM_AG = '../dados/TS_ALUNO_3EM_AG.csv'\n",
    "file_alunos_9EF = '../dados/TS_ALUNO_9EF.csv'\n",
    "file_alunos_5EF = '../dados/TS_ALUNO_5EF.csv'"
   ]
  },
  {
   "cell_type": "markdown",
   "metadata": {},
   "source": [
    "Conjunto Definido de Colunas à Serem Utilizadas"
   ]
  },
  {
   "cell_type": "markdown",
   "metadata": {
    "pycharm": {
     "name": "#%% md\n"
    }
   },
   "source": [
    "Identificadores das Colunas"
   ]
  },
  {
   "cell_type": "code",
   "execution_count": 6,
   "metadata": {
    "pycharm": {
     "is_executing": false,
     "name": "#%%\n"
    }
   },
   "outputs": [],
   "source": [
    "\n",
    "RESPOSTAS_INVALIDAS = ['X', '.', '*', ' ', '']\n",
    "\n",
    "ID_SERIE = 'ID_SERIE'\n",
    "TIPO_PROVA = 'TIPO_PROVA'\n",
    "DISCIPLINA = 'DISCIPLINA'\n",
    "ID_SERIE_ITEM = 'ID_SERIE_ITEM'\n",
    "ID_BLOCO = 'ID_BLOCO'\n",
    "ID_POSICAO = 'ID_POSICAO'\n",
    "GABARITO = 'GABARITO'\n",
    "ID_PROVA_BRASIL = 'ID_PROVA_BRASIL' # Ano da Prova, pode ser ignorado, pois os arquivos são baixados por ano\n",
    "ID_UF = 'ID_UF'\n",
    "ID_MUNICIPIO = 'ID_MUNICIPIO'\n",
    "\n",
    "# Preenchimento Prova\n",
    "# ID_SERIE = 'ID_SERIE'\n",
    "ID_ALUNO = 'ID_ALUNO'\n",
    "IN_PREENCHIMENTO_PROVA = 'IN_PREENCHIMENTO_PROVA'\n",
    "IN_PRESENCA_PROVA = 'IN_PRESENCA_PROVA'\n",
    "ID_REGIAO = 'ID_REGIAO'\n",
    "ID_AREA = 'ID_AREA'\n",
    "# Respostas da Prova\n",
    "ID_BLOCO_1 = 'ID_BLOCO_1'\n",
    "ID_BLOCO_2 = 'ID_BLOCO_2'\n",
    "TX_RESP_BLOCO_1_LP = 'TX_RESP_BLOCO_1_LP'\n",
    "TX_RESP_BLOCO_2_LP = 'TX_RESP_BLOCO_2_LP'\n",
    "TX_RESP_BLOCO_1_MT = 'TX_RESP_BLOCO_1_MT'\n",
    "TX_RESP_BLOCO_2_MT = 'TX_RESP_BLOCO_2_MT'\n",
    "# Proeficiência do ALuno\n",
    "PESO_ALUNO_LP = 'PESO_ALUNO_LP'\n",
    "PESO_ALUNO_MT = 'PESO_ALUNO_MT'\n",
    "PROFICIENCIA_LP = 'PROFICIENCIA_LP'\n",
    "ERRO_PADRAO_LP = 'ERRO_PADRAO_LP'\n",
    "PROFICIENCIA_LP_SAEB = 'PROFICIENCIA_LP_SAEB'\n",
    "ERRO_PADRAO_LP_SAEB = 'ERRO_PADRAO_LP_SAEB'\n",
    "PROFICIENCIA_MT = 'PROFICIENCIA_MT'\n",
    "ERRO_PADRAO_MT = 'ERRO_PADRAO_MT'\n",
    "PROFICIENCIA_MT_SAEB = 'PROFICIENCIA_MT_SAEB'\n",
    "ERRO_PADRAO_MT_SAEB = 'ERRO_PADRAO_MT_SAEB'\n",
    "# Questionário Socioeconômico\n",
    "IN_PREENCHIMENTO_QUESTIONARIO = 'IN_PREENCHIMENTO_QUESTIONARIO'\n",
    "TX_RESP_Q001 = 'TX_RESP_Q001' # Sexo\n",
    "TX_RESP_Q002 = 'TX_RESP_Q002' # Cor/Raça"
   ]
  },
  {
   "cell_type": "code",
   "execution_count": 7,
   "metadata": {
    "pycharm": {
     "is_executing": false
    }
   },
   "outputs": [],
   "source": [
    "colunas_resp = [ID_SERIE, TIPO_PROVA, DISCIPLINA, ID_SERIE_ITEM, ID_BLOCO, ID_POSICAO, GABARITO]\n",
    "# DESCRITOR_HABILIDADE"
   ]
  },
  {
   "cell_type": "code",
   "execution_count": 8,
   "metadata": {
    "pycharm": {
     "is_executing": false
    }
   },
   "outputs": [],
   "source": [
    "colunas_aluno = [\n",
    "    # ID_ALUNO,\n",
    "    # ID_PROVA_BRASIL,\n",
    "    ID_UF, ID_MUNICIPIO, ID_REGIAO, ID_AREA,\n",
    "    ID_SERIE, IN_PREENCHIMENTO_PROVA, # IN_PRESENCA_PROVA,\n",
    "    ID_BLOCO_1, ID_BLOCO_2,\n",
    "    TX_RESP_BLOCO_1_LP, TX_RESP_BLOCO_2_LP, TX_RESP_BLOCO_1_MT, TX_RESP_BLOCO_2_MT,\n",
    "    # PESO_ALUNO_LP, PESO_ALUNO_MT,\n",
    "    PROFICIENCIA_LP, # ERRO_PADRAO_LP, PROFICIENCIA_LP_SAEB, ERRO_PADRAO_LP_SAEB,\n",
    "    PROFICIENCIA_MT, # ERRO_PADRAO_MT, PROFICIENCIA_MT_SAEB, ERRO_PADRAO_MT_SAEB,\n",
    "    # IN_PREENCHIMENTO_QUESTIONARIO,\n",
    "    TX_RESP_Q001,\n",
    "    TX_RESP_Q002\n",
    "]"
   ]
  },
  {
   "cell_type": "markdown",
   "metadata": {},
   "source": [
    "#### Gabarito, 666 itens corrigidos (+36KB)\n",
    "\n",
    "#### 5SEM,     2.624.019 provas (+360MB)\n",
    "#### 9SEM,     2.341.459 provas (+321MB)\n",
    "#### 3SEMAG,   1.966.507 provas (+270MB)\n",
    "###### 3SEMESC,  1.456.325 provas (+200MB)"
   ]
  },
  {
   "cell_type": "code",
   "execution_count": 9,
   "metadata": {
    "pycharm": {
     "is_executing": false
    }
   },
   "outputs": [],
   "source": [
    "df_gabarito = pd.read_csv(\n",
    "    file_resp,\n",
    "    delimiter=';', encoding='iso-8859-1',\n",
    "    usecols=colunas_resp,\n",
    "    # low_memory=True\n",
    ")"
   ]
  },
  {
   "cell_type": "code",
   "execution_count": 10,
   "metadata": {
    "pycharm": {
     "is_executing": false
    }
   },
   "outputs": [
    {
     "data": {
      "text/plain": "     ID_SERIE         TIPO_PROVA DISCIPLINA  ID_SERIE_ITEM  ID_BLOCO  \\\n80          3      Prova Regular         LP              3         7   \n100         3  Macrotipo 18 e 24         LP              3         1   \n301         5      Prova Regular         LP              5         7   \n646         9  Macrotipo 18 e 24         MT              9         1   \n575         9      Prova Regular         MT              9         3   \n318         5  Macrotipo 18 e 24         LP              5         1   \n597         9      Prova Regular         MT              9         4   \n109         3  Macrotipo 18 e 24         LP              3         2   \n534         9  Macrotipo 18 e 24         LP              9         1   \n296         5      Prova Regular         LP              5         6   \n\n     ID_POSICAO GABARITO  \n80            3        E  \n100          12        A  \n301           2        B  \n646           5        D  \n575           1        D  \n318           8        D  \n597          10        C  \n109           5        E  \n534          13        B  \n296           8        A  ",
      "text/html": "<div>\n<style scoped>\n    .dataframe tbody tr th:only-of-type {\n        vertical-align: middle;\n    }\n\n    .dataframe tbody tr th {\n        vertical-align: top;\n    }\n\n    .dataframe thead th {\n        text-align: right;\n    }\n</style>\n<table border=\"1\" class=\"dataframe\">\n  <thead>\n    <tr style=\"text-align: right;\">\n      <th></th>\n      <th>ID_SERIE</th>\n      <th>TIPO_PROVA</th>\n      <th>DISCIPLINA</th>\n      <th>ID_SERIE_ITEM</th>\n      <th>ID_BLOCO</th>\n      <th>ID_POSICAO</th>\n      <th>GABARITO</th>\n    </tr>\n  </thead>\n  <tbody>\n    <tr>\n      <th>80</th>\n      <td>3</td>\n      <td>Prova Regular</td>\n      <td>LP</td>\n      <td>3</td>\n      <td>7</td>\n      <td>3</td>\n      <td>E</td>\n    </tr>\n    <tr>\n      <th>100</th>\n      <td>3</td>\n      <td>Macrotipo 18 e 24</td>\n      <td>LP</td>\n      <td>3</td>\n      <td>1</td>\n      <td>12</td>\n      <td>A</td>\n    </tr>\n    <tr>\n      <th>301</th>\n      <td>5</td>\n      <td>Prova Regular</td>\n      <td>LP</td>\n      <td>5</td>\n      <td>7</td>\n      <td>2</td>\n      <td>B</td>\n    </tr>\n    <tr>\n      <th>646</th>\n      <td>9</td>\n      <td>Macrotipo 18 e 24</td>\n      <td>MT</td>\n      <td>9</td>\n      <td>1</td>\n      <td>5</td>\n      <td>D</td>\n    </tr>\n    <tr>\n      <th>575</th>\n      <td>9</td>\n      <td>Prova Regular</td>\n      <td>MT</td>\n      <td>9</td>\n      <td>3</td>\n      <td>1</td>\n      <td>D</td>\n    </tr>\n    <tr>\n      <th>318</th>\n      <td>5</td>\n      <td>Macrotipo 18 e 24</td>\n      <td>LP</td>\n      <td>5</td>\n      <td>1</td>\n      <td>8</td>\n      <td>D</td>\n    </tr>\n    <tr>\n      <th>597</th>\n      <td>9</td>\n      <td>Prova Regular</td>\n      <td>MT</td>\n      <td>9</td>\n      <td>4</td>\n      <td>10</td>\n      <td>C</td>\n    </tr>\n    <tr>\n      <th>109</th>\n      <td>3</td>\n      <td>Macrotipo 18 e 24</td>\n      <td>LP</td>\n      <td>3</td>\n      <td>2</td>\n      <td>5</td>\n      <td>E</td>\n    </tr>\n    <tr>\n      <th>534</th>\n      <td>9</td>\n      <td>Macrotipo 18 e 24</td>\n      <td>LP</td>\n      <td>9</td>\n      <td>1</td>\n      <td>13</td>\n      <td>B</td>\n    </tr>\n    <tr>\n      <th>296</th>\n      <td>5</td>\n      <td>Prova Regular</td>\n      <td>LP</td>\n      <td>5</td>\n      <td>6</td>\n      <td>8</td>\n      <td>A</td>\n    </tr>\n  </tbody>\n</table>\n</div>"
     },
     "metadata": {},
     "output_type": "execute_result",
     "execution_count": 10
    }
   ],
   "source": [
    "df_gabarito.sample(10)"
   ]
  },
  {
   "cell_type": "code",
   "execution_count": 11,
   "metadata": {
    "pycharm": {
     "is_executing": false
    }
   },
   "outputs": [
    {
     "name": "stdout",
     "text": [
      "<class 'pandas.core.frame.DataFrame'>\nRangeIndex: 666 entries, 0 to 665\nData columns (total 7 columns):\nID_SERIE         666 non-null int64\nTIPO_PROVA       666 non-null object\nDISCIPLINA       666 non-null object\nID_SERIE_ITEM    666 non-null int64\nID_BLOCO         666 non-null int64\nID_POSICAO       666 non-null int64\nGABARITO         666 non-null object\ndtypes: int64(4), object(3)\nmemory usage: 36.5+ KB\n"
     ],
     "output_type": "stream"
    }
   ],
   "source": [
    "df_gabarito.info()"
   ]
  },
  {
   "cell_type": "markdown",
   "metadata": {},
   "source": [
    "Geralmente 15 segundos para carregar o conjunto de dados selecionado"
   ]
  },
  {
   "cell_type": "code",
   "execution_count": 12,
   "metadata": {
    "pycharm": {
     "is_executing": false
    }
   },
   "outputs": [],
   "source": [
    "df_aluno_5EF = pd.read_csv(\n",
    "    file_alunos_5EF,\n",
    "    delimiter=',', encoding='iso-8859-1',\n",
    "    usecols=colunas_aluno,\n",
    "    low_memory=True, \n",
    "    nrows=20000  # Para fazer testes com os dados\n",
    ")"
   ]
  },
  {
   "cell_type": "code",
   "execution_count": 13,
   "metadata": {
    "pycharm": {
     "is_executing": false,
     "name": "#%%\n"
    }
   },
   "outputs": [],
   "source": [
    "df_aluno_9EF = pd.read_csv(\n",
    "    file_alunos_9EF,\n",
    "    delimiter=',', encoding='iso-8859-1',\n",
    "    usecols=colunas_aluno,\n",
    "    low_memory=True,\n",
    "    nrows=20000  # Para fazer testes com os dados\n",
    ")"
   ]
  },
  {
   "cell_type": "code",
   "execution_count": 14,
   "metadata": {
    "pycharm": {
     "is_executing": false,
     "name": "#%%\n"
    }
   },
   "outputs": [],
   "source": [
    "# df_aluno_3EM_AG = pd.read_csv(\n",
    "#     file_alunos_3EM_AG,\n",
    "#     delimiter=',', encoding='iso-8859-1',\n",
    "#     usecols=colunas_aluno,\n",
    "#     low_memory=True, \n",
    "# )"
   ]
  },
  {
   "cell_type": "code",
   "execution_count": 15,
   "metadata": {
    "pycharm": {
     "is_executing": false,
     "name": "#%%\n"
    }
   },
   "outputs": [],
   "source": [
    "df_aluno_3EM = pd.read_csv(\n",
    "    file_alunos_3EM_ESC,\n",
    "    delimiter=',', encoding='iso-8859-1',\n",
    "    usecols=colunas_aluno,\n",
    "    low_memory=True,\n",
    "    nrows=20000  # Para fazer testes com os dados\n",
    ")"
   ]
  },
  {
   "cell_type": "code",
   "execution_count": 16,
   "metadata": {
    "pycharm": {
     "is_executing": false
    },
    "scrolled": true
   },
   "outputs": [
    {
     "data": {
      "text/plain": "       ID_REGIAO  ID_UF  ID_MUNICIPIO  ID_AREA  ID_SERIE  \\\n18283          1     11       1100254        2         5   \n3787           1     11       1100064        2         5   \n1718           1     11       1100023        2         5   \n6202           1     11       1100114        2         5   \n7606           1     11       1100122        2         5   \n13211          1     11       1100205        1         5   \n6236           1     11       1100114        2         5   \n4767           1     11       1100098        2         5   \n6108           1     11       1100114        2         5   \n14392          1     11       1100205        1         5   \n\n       IN_PREENCHIMENTO_PROVA  ID_BLOCO_1  ID_BLOCO_2 TX_RESP_BLOCO_1_LP  \\\n18283                       0           1           2        ...........   \n3787                        1           7           1        BBAADAAABCB   \n1718                        1           1           3        DCBCBACABAD   \n6202                        1           2           5        DAADDDDCBCC   \n7606                        1           7           1        ABACACCAACD   \n13211                       1           3           6        DDADBCDCACA   \n6236                        1           7           3        BBDCCDBABAB   \n4767                        1           6           7        BDBCBBAABBC   \n6108                        1           1           2        BCCDBCBDBBB   \n14392                       1           3           4        CDADBADDADB   \n\n      TX_RESP_BLOCO_2_LP TX_RESP_BLOCO_1_MT TX_RESP_BLOCO_2_MT  \\\n18283        ...........        ...........        ...........   \n3787         BCDABCBBBAA        BDDADCBDDBD        DDCCDBCDCAA   \n1718         BCCACBDABDB        CDBACBCDBDC        DAACBCDABAC   \n6202         DDACDDCDDBD        ADABCBACBDD        ABDCDCDDCCC   \n7606         CAADCBBACBC        BDADCDDCDAD        CAABDAADDDD   \n13211        BDACBBAACCC        DBACABBCBAB        CCCBABDDBBC   \n6236         DDADACDCAAA        CCADCCBDDCA        DAACBABDBCC   \n4767         DBBDDDBADAD        CACBCBDDBBC        CCADBCBDCCB   \n6108         DAADACDBBCB        DCADCBDABCD        BBBACACCBAB   \n14392        ACCDBADCCBD        CAACABCCBCD        DDCAAACDBBC   \n\n       PROFICIENCIA_LP  PROFICIENCIA_MT TX_RESP_Q001 TX_RESP_Q002  \n18283              NaN              NaN          NaN          NaN  \n3787         -1.222115        -1.536163            B            C  \n1718         -2.199380        -1.372138            A            A  \n6202          0.187625        -0.636514            B            B  \n7606         -1.768023        -2.227414            B            F  \n13211         0.299707         0.222119            A            D  \n6236         -0.290305        -0.644203            B            F  \n4767         -0.375362         0.120138            A            C  \n6108          0.217137         0.951859            B            A  \n14392        -1.315705        -0.650514            B            E  ",
      "text/html": "<div>\n<style scoped>\n    .dataframe tbody tr th:only-of-type {\n        vertical-align: middle;\n    }\n\n    .dataframe tbody tr th {\n        vertical-align: top;\n    }\n\n    .dataframe thead th {\n        text-align: right;\n    }\n</style>\n<table border=\"1\" class=\"dataframe\">\n  <thead>\n    <tr style=\"text-align: right;\">\n      <th></th>\n      <th>ID_REGIAO</th>\n      <th>ID_UF</th>\n      <th>ID_MUNICIPIO</th>\n      <th>ID_AREA</th>\n      <th>ID_SERIE</th>\n      <th>IN_PREENCHIMENTO_PROVA</th>\n      <th>ID_BLOCO_1</th>\n      <th>ID_BLOCO_2</th>\n      <th>TX_RESP_BLOCO_1_LP</th>\n      <th>TX_RESP_BLOCO_2_LP</th>\n      <th>TX_RESP_BLOCO_1_MT</th>\n      <th>TX_RESP_BLOCO_2_MT</th>\n      <th>PROFICIENCIA_LP</th>\n      <th>PROFICIENCIA_MT</th>\n      <th>TX_RESP_Q001</th>\n      <th>TX_RESP_Q002</th>\n    </tr>\n  </thead>\n  <tbody>\n    <tr>\n      <th>18283</th>\n      <td>1</td>\n      <td>11</td>\n      <td>1100254</td>\n      <td>2</td>\n      <td>5</td>\n      <td>0</td>\n      <td>1</td>\n      <td>2</td>\n      <td>...........</td>\n      <td>...........</td>\n      <td>...........</td>\n      <td>...........</td>\n      <td>NaN</td>\n      <td>NaN</td>\n      <td>NaN</td>\n      <td>NaN</td>\n    </tr>\n    <tr>\n      <th>3787</th>\n      <td>1</td>\n      <td>11</td>\n      <td>1100064</td>\n      <td>2</td>\n      <td>5</td>\n      <td>1</td>\n      <td>7</td>\n      <td>1</td>\n      <td>BBAADAAABCB</td>\n      <td>BCDABCBBBAA</td>\n      <td>BDDADCBDDBD</td>\n      <td>DDCCDBCDCAA</td>\n      <td>-1.222115</td>\n      <td>-1.536163</td>\n      <td>B</td>\n      <td>C</td>\n    </tr>\n    <tr>\n      <th>1718</th>\n      <td>1</td>\n      <td>11</td>\n      <td>1100023</td>\n      <td>2</td>\n      <td>5</td>\n      <td>1</td>\n      <td>1</td>\n      <td>3</td>\n      <td>DCBCBACABAD</td>\n      <td>BCCACBDABDB</td>\n      <td>CDBACBCDBDC</td>\n      <td>DAACBCDABAC</td>\n      <td>-2.199380</td>\n      <td>-1.372138</td>\n      <td>A</td>\n      <td>A</td>\n    </tr>\n    <tr>\n      <th>6202</th>\n      <td>1</td>\n      <td>11</td>\n      <td>1100114</td>\n      <td>2</td>\n      <td>5</td>\n      <td>1</td>\n      <td>2</td>\n      <td>5</td>\n      <td>DAADDDDCBCC</td>\n      <td>DDACDDCDDBD</td>\n      <td>ADABCBACBDD</td>\n      <td>ABDCDCDDCCC</td>\n      <td>0.187625</td>\n      <td>-0.636514</td>\n      <td>B</td>\n      <td>B</td>\n    </tr>\n    <tr>\n      <th>7606</th>\n      <td>1</td>\n      <td>11</td>\n      <td>1100122</td>\n      <td>2</td>\n      <td>5</td>\n      <td>1</td>\n      <td>7</td>\n      <td>1</td>\n      <td>ABACACCAACD</td>\n      <td>CAADCBBACBC</td>\n      <td>BDADCDDCDAD</td>\n      <td>CAABDAADDDD</td>\n      <td>-1.768023</td>\n      <td>-2.227414</td>\n      <td>B</td>\n      <td>F</td>\n    </tr>\n    <tr>\n      <th>13211</th>\n      <td>1</td>\n      <td>11</td>\n      <td>1100205</td>\n      <td>1</td>\n      <td>5</td>\n      <td>1</td>\n      <td>3</td>\n      <td>6</td>\n      <td>DDADBCDCACA</td>\n      <td>BDACBBAACCC</td>\n      <td>DBACABBCBAB</td>\n      <td>CCCBABDDBBC</td>\n      <td>0.299707</td>\n      <td>0.222119</td>\n      <td>A</td>\n      <td>D</td>\n    </tr>\n    <tr>\n      <th>6236</th>\n      <td>1</td>\n      <td>11</td>\n      <td>1100114</td>\n      <td>2</td>\n      <td>5</td>\n      <td>1</td>\n      <td>7</td>\n      <td>3</td>\n      <td>BBDCCDBABAB</td>\n      <td>DDADACDCAAA</td>\n      <td>CCADCCBDDCA</td>\n      <td>DAACBABDBCC</td>\n      <td>-0.290305</td>\n      <td>-0.644203</td>\n      <td>B</td>\n      <td>F</td>\n    </tr>\n    <tr>\n      <th>4767</th>\n      <td>1</td>\n      <td>11</td>\n      <td>1100098</td>\n      <td>2</td>\n      <td>5</td>\n      <td>1</td>\n      <td>6</td>\n      <td>7</td>\n      <td>BDBCBBAABBC</td>\n      <td>DBBDDDBADAD</td>\n      <td>CACBCBDDBBC</td>\n      <td>CCADBCBDCCB</td>\n      <td>-0.375362</td>\n      <td>0.120138</td>\n      <td>A</td>\n      <td>C</td>\n    </tr>\n    <tr>\n      <th>6108</th>\n      <td>1</td>\n      <td>11</td>\n      <td>1100114</td>\n      <td>2</td>\n      <td>5</td>\n      <td>1</td>\n      <td>1</td>\n      <td>2</td>\n      <td>BCCDBCBDBBB</td>\n      <td>DAADACDBBCB</td>\n      <td>DCADCBDABCD</td>\n      <td>BBBACACCBAB</td>\n      <td>0.217137</td>\n      <td>0.951859</td>\n      <td>B</td>\n      <td>A</td>\n    </tr>\n    <tr>\n      <th>14392</th>\n      <td>1</td>\n      <td>11</td>\n      <td>1100205</td>\n      <td>1</td>\n      <td>5</td>\n      <td>1</td>\n      <td>3</td>\n      <td>4</td>\n      <td>CDADBADDADB</td>\n      <td>ACCDBADCCBD</td>\n      <td>CAACABCCBCD</td>\n      <td>DDCAAACDBBC</td>\n      <td>-1.315705</td>\n      <td>-0.650514</td>\n      <td>B</td>\n      <td>E</td>\n    </tr>\n  </tbody>\n</table>\n</div>"
     },
     "metadata": {},
     "output_type": "execute_result",
     "execution_count": 16
    }
   ],
   "source": [
    "df_aluno_5EF.sample(10)"
   ]
  },
  {
   "cell_type": "code",
   "execution_count": 17,
   "metadata": {
    "pycharm": {
     "is_executing": false,
     "name": "#%%\n"
    }
   },
   "outputs": [
    {
     "data": {
      "text/plain": "       ID_REGIAO  ID_UF  ID_MUNICIPIO  ID_AREA  ID_SERIE  \\\n15286          1     11       1100262        2         9   \n10798          1     11       1100205        1         9   \n16074          1     11       1100288        2         9   \n2359           1     11       1100049        2         9   \n7368           1     11       1100130        2         9   \n7488           1     11       1100130        2         9   \n6728           1     11       1100122        2         9   \n6599           1     11       1100122        2         9   \n13613          1     11       1100205        1         9   \n2212           1     11       1100049        2         9   \n\n       IN_PREENCHIMENTO_PROVA  ID_BLOCO_1  ID_BLOCO_2 TX_RESP_BLOCO_1_LP  \\\n15286                       1           5           1      BCDCCAAACBBAB   \n10798                       1           6           2      ABABCCDCCBDCA   \n16074                       1           7           1      BABCDBCCBACBC   \n2359                        1           5           6      BCACDACDCABCB   \n7368                        0           4           6      .............   \n7488                        1           7           3      ADDBCBBABBACD   \n6728                        1           5           7      BDACCBADBBBAB   \n6599                        0           3           6      .............   \n13613                       1           1           4      CDBDBADACC.DC   \n2212                        1           7           3      ADDBDBAABCACD   \n\n      TX_RESP_BLOCO_2_LP TX_RESP_BLOCO_1_MT TX_RESP_BLOCO_2_MT  \\\n15286      CDCCAACADADBC      CDACDADBCBBAB      CDCDDDBCABACB   \n10798      ACBAACDACDBDD      ABBACBCBBDADA      DACDAABCDCBBD   \n16074      CBCDADAABDAAB      BACCACCBCCCCB      DBBCCBBBADACA   \n2359       BBCCBCCDCDCBA      CBAABDDCBDBAC      ABCCDAABCDDBB   \n7368       .............      .............      .............   \n7488       CBADAACABCDCD      BADCADDBABBAB      DBDCADBCAABBD   \n6728       ACDACBCABAAAC      ADBDBDDCCBCAB      BABCAADABADBD   \n6599       .............      .............      .............   \n13613      DBCDC.BADD...      CCBD.DBCAB.DB      BADBC.CCCCCCA   \n2212       CBDDAAAABACDD      DABCDDDBAABBC      DBCCDABDDDDCD   \n\n       PROFICIENCIA_LP  PROFICIENCIA_MT TX_RESP_Q001 TX_RESP_Q002  \n15286         0.523593         0.804745            A            E  \n10798        -1.842140        -1.136388            A            C  \n16074        -0.982997        -0.416648            A            B  \n2359          0.579864        -0.183723            A            C  \n7368               NaN              NaN          NaN          NaN  \n7488          0.591097         0.540359            B            C  \n6728          0.312667         0.386372            A            F  \n6599               NaN              NaN          NaN          NaN  \n13613         0.980459         1.584264            B            D  \n2212          0.338875         0.296104            B            A  ",
      "text/html": "<div>\n<style scoped>\n    .dataframe tbody tr th:only-of-type {\n        vertical-align: middle;\n    }\n\n    .dataframe tbody tr th {\n        vertical-align: top;\n    }\n\n    .dataframe thead th {\n        text-align: right;\n    }\n</style>\n<table border=\"1\" class=\"dataframe\">\n  <thead>\n    <tr style=\"text-align: right;\">\n      <th></th>\n      <th>ID_REGIAO</th>\n      <th>ID_UF</th>\n      <th>ID_MUNICIPIO</th>\n      <th>ID_AREA</th>\n      <th>ID_SERIE</th>\n      <th>IN_PREENCHIMENTO_PROVA</th>\n      <th>ID_BLOCO_1</th>\n      <th>ID_BLOCO_2</th>\n      <th>TX_RESP_BLOCO_1_LP</th>\n      <th>TX_RESP_BLOCO_2_LP</th>\n      <th>TX_RESP_BLOCO_1_MT</th>\n      <th>TX_RESP_BLOCO_2_MT</th>\n      <th>PROFICIENCIA_LP</th>\n      <th>PROFICIENCIA_MT</th>\n      <th>TX_RESP_Q001</th>\n      <th>TX_RESP_Q002</th>\n    </tr>\n  </thead>\n  <tbody>\n    <tr>\n      <th>15286</th>\n      <td>1</td>\n      <td>11</td>\n      <td>1100262</td>\n      <td>2</td>\n      <td>9</td>\n      <td>1</td>\n      <td>5</td>\n      <td>1</td>\n      <td>BCDCCAAACBBAB</td>\n      <td>CDCCAACADADBC</td>\n      <td>CDACDADBCBBAB</td>\n      <td>CDCDDDBCABACB</td>\n      <td>0.523593</td>\n      <td>0.804745</td>\n      <td>A</td>\n      <td>E</td>\n    </tr>\n    <tr>\n      <th>10798</th>\n      <td>1</td>\n      <td>11</td>\n      <td>1100205</td>\n      <td>1</td>\n      <td>9</td>\n      <td>1</td>\n      <td>6</td>\n      <td>2</td>\n      <td>ABABCCDCCBDCA</td>\n      <td>ACBAACDACDBDD</td>\n      <td>ABBACBCBBDADA</td>\n      <td>DACDAABCDCBBD</td>\n      <td>-1.842140</td>\n      <td>-1.136388</td>\n      <td>A</td>\n      <td>C</td>\n    </tr>\n    <tr>\n      <th>16074</th>\n      <td>1</td>\n      <td>11</td>\n      <td>1100288</td>\n      <td>2</td>\n      <td>9</td>\n      <td>1</td>\n      <td>7</td>\n      <td>1</td>\n      <td>BABCDBCCBACBC</td>\n      <td>CBCDADAABDAAB</td>\n      <td>BACCACCBCCCCB</td>\n      <td>DBBCCBBBADACA</td>\n      <td>-0.982997</td>\n      <td>-0.416648</td>\n      <td>A</td>\n      <td>B</td>\n    </tr>\n    <tr>\n      <th>2359</th>\n      <td>1</td>\n      <td>11</td>\n      <td>1100049</td>\n      <td>2</td>\n      <td>9</td>\n      <td>1</td>\n      <td>5</td>\n      <td>6</td>\n      <td>BCACDACDCABCB</td>\n      <td>BBCCBCCDCDCBA</td>\n      <td>CBAABDDCBDBAC</td>\n      <td>ABCCDAABCDDBB</td>\n      <td>0.579864</td>\n      <td>-0.183723</td>\n      <td>A</td>\n      <td>C</td>\n    </tr>\n    <tr>\n      <th>7368</th>\n      <td>1</td>\n      <td>11</td>\n      <td>1100130</td>\n      <td>2</td>\n      <td>9</td>\n      <td>0</td>\n      <td>4</td>\n      <td>6</td>\n      <td>.............</td>\n      <td>.............</td>\n      <td>.............</td>\n      <td>.............</td>\n      <td>NaN</td>\n      <td>NaN</td>\n      <td>NaN</td>\n      <td>NaN</td>\n    </tr>\n    <tr>\n      <th>7488</th>\n      <td>1</td>\n      <td>11</td>\n      <td>1100130</td>\n      <td>2</td>\n      <td>9</td>\n      <td>1</td>\n      <td>7</td>\n      <td>3</td>\n      <td>ADDBCBBABBACD</td>\n      <td>CBADAACABCDCD</td>\n      <td>BADCADDBABBAB</td>\n      <td>DBDCADBCAABBD</td>\n      <td>0.591097</td>\n      <td>0.540359</td>\n      <td>B</td>\n      <td>C</td>\n    </tr>\n    <tr>\n      <th>6728</th>\n      <td>1</td>\n      <td>11</td>\n      <td>1100122</td>\n      <td>2</td>\n      <td>9</td>\n      <td>1</td>\n      <td>5</td>\n      <td>7</td>\n      <td>BDACCBADBBBAB</td>\n      <td>ACDACBCABAAAC</td>\n      <td>ADBDBDDCCBCAB</td>\n      <td>BABCAADABADBD</td>\n      <td>0.312667</td>\n      <td>0.386372</td>\n      <td>A</td>\n      <td>F</td>\n    </tr>\n    <tr>\n      <th>6599</th>\n      <td>1</td>\n      <td>11</td>\n      <td>1100122</td>\n      <td>2</td>\n      <td>9</td>\n      <td>0</td>\n      <td>3</td>\n      <td>6</td>\n      <td>.............</td>\n      <td>.............</td>\n      <td>.............</td>\n      <td>.............</td>\n      <td>NaN</td>\n      <td>NaN</td>\n      <td>NaN</td>\n      <td>NaN</td>\n    </tr>\n    <tr>\n      <th>13613</th>\n      <td>1</td>\n      <td>11</td>\n      <td>1100205</td>\n      <td>1</td>\n      <td>9</td>\n      <td>1</td>\n      <td>1</td>\n      <td>4</td>\n      <td>CDBDBADACC.DC</td>\n      <td>DBCDC.BADD...</td>\n      <td>CCBD.DBCAB.DB</td>\n      <td>BADBC.CCCCCCA</td>\n      <td>0.980459</td>\n      <td>1.584264</td>\n      <td>B</td>\n      <td>D</td>\n    </tr>\n    <tr>\n      <th>2212</th>\n      <td>1</td>\n      <td>11</td>\n      <td>1100049</td>\n      <td>2</td>\n      <td>9</td>\n      <td>1</td>\n      <td>7</td>\n      <td>3</td>\n      <td>ADDBDBAABCACD</td>\n      <td>CBDDAAAABACDD</td>\n      <td>DABCDDDBAABBC</td>\n      <td>DBCCDABDDDDCD</td>\n      <td>0.338875</td>\n      <td>0.296104</td>\n      <td>B</td>\n      <td>A</td>\n    </tr>\n  </tbody>\n</table>\n</div>"
     },
     "metadata": {},
     "output_type": "execute_result",
     "execution_count": 17
    }
   ],
   "source": [
    "df_aluno_9EF.sample(10)"
   ]
  },
  {
   "cell_type": "code",
   "execution_count": 18,
   "metadata": {
    "pycharm": {
     "is_executing": false,
     "name": "#%%\n"
    }
   },
   "outputs": [
    {
     "data": {
      "text/plain": "       ID_REGIAO  ID_UF  ID_MUNICIPIO  ID_AREA  ID_SERIE  \\\n2456           1     11       1100114        2        12   \n3312           1     11       1100122        2        12   \n14099          1     12       1200401        1        12   \n8340           1     11       1100338        2        12   \n230            1     11       1100015        2        12   \n9308           1     11       1100809        2        12   \n17830          1     12       1200500        2        12   \n12926          1     12       1200203        2        12   \n16716          1     12       1200401        1        12   \n18289          1     12       1200708        2        13   \n\n       IN_PREENCHIMENTO_PROVA  ID_BLOCO_1  ID_BLOCO_2 TX_RESP_BLOCO_1_LP  \\\n2456                        1           3           5      CEDAEEBCDADED   \n3312                        1           7           2      ACACAEACABCCE   \n14099                       1           3           6      ABEABEDDAEEAD   \n8340                        1           4           5      BDACECBDCBDEA   \n230                         1           3           5      CADCAABACCCBA   \n9308                        1           1           2      BEEECEBABBECD   \n17830                       1           6           7      BEDDCCBBBEDEE   \n12926                       1           3           4      CBEBBEDDAEEAD   \n16716                       1           6           2      BEEDBCBDBABBB   \n18289                       1           6           1      CEDDBDBDBDDDC   \n\n      TX_RESP_BLOCO_2_LP TX_RESP_BLOCO_1_MT TX_RESP_BLOCO_2_MT  \\\n2456       BEEABBCACEEAB      CDAEACADBDDAE      EDADECBCCEBEA   \n3312       BDEEEADCADAAD      DABDDEBCCDAED      DCAEACDADEBCD   \n14099      BEEDCABCBADBE      ECADDBCADBCED      BABCEABACCBBD   \n8340       CBDAEDCDBCADB      CDBDCACDAEBDC      ACBDEBDCDBDEA   \n230        BBADBABABAABE      CABDBACABEBCB      ABAEABDDDBCAA   \n9308       DBAAEDDDDBECD      CDEEAEDDBBAAD      DDCEAADCDAACC   \n17830      CCEBEDACCCDDC      CCBADBBDDCDDA      EBBDBACCAAABC   \n12926      EBCACAABCCABE      EBACCBCAAACED      CBDDCCCDAEBEB   \n16716      DCBABCDDDAAED      BCADDEBDCCEEA      DBCDABDBCAAEC   \n18289      EEACCCDABCDDB      BAADEBBABBCDC      CCBABEAACDAAA   \n\n       PROFICIENCIA_LP  PROFICIENCIA_MT TX_RESP_Q001 TX_RESP_Q002  \n2456         -1.087419        -1.104918            B            C  \n3312         -1.109221        -0.474568            A            F  \n14099         1.532611         1.262610            B            C  \n8340         -1.476785         0.749589            A            C  \n230          -1.502212        -0.442278            B            C  \n9308          1.965083         0.749637            B            C  \n17830         0.910448        -0.332099            B            C  \n12926         2.168658         0.536097            B            A  \n16716         0.559332         0.877775            B            C  \n18289        -0.140228         0.788156            A            C  ",
      "text/html": "<div>\n<style scoped>\n    .dataframe tbody tr th:only-of-type {\n        vertical-align: middle;\n    }\n\n    .dataframe tbody tr th {\n        vertical-align: top;\n    }\n\n    .dataframe thead th {\n        text-align: right;\n    }\n</style>\n<table border=\"1\" class=\"dataframe\">\n  <thead>\n    <tr style=\"text-align: right;\">\n      <th></th>\n      <th>ID_REGIAO</th>\n      <th>ID_UF</th>\n      <th>ID_MUNICIPIO</th>\n      <th>ID_AREA</th>\n      <th>ID_SERIE</th>\n      <th>IN_PREENCHIMENTO_PROVA</th>\n      <th>ID_BLOCO_1</th>\n      <th>ID_BLOCO_2</th>\n      <th>TX_RESP_BLOCO_1_LP</th>\n      <th>TX_RESP_BLOCO_2_LP</th>\n      <th>TX_RESP_BLOCO_1_MT</th>\n      <th>TX_RESP_BLOCO_2_MT</th>\n      <th>PROFICIENCIA_LP</th>\n      <th>PROFICIENCIA_MT</th>\n      <th>TX_RESP_Q001</th>\n      <th>TX_RESP_Q002</th>\n    </tr>\n  </thead>\n  <tbody>\n    <tr>\n      <th>2456</th>\n      <td>1</td>\n      <td>11</td>\n      <td>1100114</td>\n      <td>2</td>\n      <td>12</td>\n      <td>1</td>\n      <td>3</td>\n      <td>5</td>\n      <td>CEDAEEBCDADED</td>\n      <td>BEEABBCACEEAB</td>\n      <td>CDAEACADBDDAE</td>\n      <td>EDADECBCCEBEA</td>\n      <td>-1.087419</td>\n      <td>-1.104918</td>\n      <td>B</td>\n      <td>C</td>\n    </tr>\n    <tr>\n      <th>3312</th>\n      <td>1</td>\n      <td>11</td>\n      <td>1100122</td>\n      <td>2</td>\n      <td>12</td>\n      <td>1</td>\n      <td>7</td>\n      <td>2</td>\n      <td>ACACAEACABCCE</td>\n      <td>BDEEEADCADAAD</td>\n      <td>DABDDEBCCDAED</td>\n      <td>DCAEACDADEBCD</td>\n      <td>-1.109221</td>\n      <td>-0.474568</td>\n      <td>A</td>\n      <td>F</td>\n    </tr>\n    <tr>\n      <th>14099</th>\n      <td>1</td>\n      <td>12</td>\n      <td>1200401</td>\n      <td>1</td>\n      <td>12</td>\n      <td>1</td>\n      <td>3</td>\n      <td>6</td>\n      <td>ABEABEDDAEEAD</td>\n      <td>BEEDCABCBADBE</td>\n      <td>ECADDBCADBCED</td>\n      <td>BABCEABACCBBD</td>\n      <td>1.532611</td>\n      <td>1.262610</td>\n      <td>B</td>\n      <td>C</td>\n    </tr>\n    <tr>\n      <th>8340</th>\n      <td>1</td>\n      <td>11</td>\n      <td>1100338</td>\n      <td>2</td>\n      <td>12</td>\n      <td>1</td>\n      <td>4</td>\n      <td>5</td>\n      <td>BDACECBDCBDEA</td>\n      <td>CBDAEDCDBCADB</td>\n      <td>CDBDCACDAEBDC</td>\n      <td>ACBDEBDCDBDEA</td>\n      <td>-1.476785</td>\n      <td>0.749589</td>\n      <td>A</td>\n      <td>C</td>\n    </tr>\n    <tr>\n      <th>230</th>\n      <td>1</td>\n      <td>11</td>\n      <td>1100015</td>\n      <td>2</td>\n      <td>12</td>\n      <td>1</td>\n      <td>3</td>\n      <td>5</td>\n      <td>CADCAABACCCBA</td>\n      <td>BBADBABABAABE</td>\n      <td>CABDBACABEBCB</td>\n      <td>ABAEABDDDBCAA</td>\n      <td>-1.502212</td>\n      <td>-0.442278</td>\n      <td>B</td>\n      <td>C</td>\n    </tr>\n    <tr>\n      <th>9308</th>\n      <td>1</td>\n      <td>11</td>\n      <td>1100809</td>\n      <td>2</td>\n      <td>12</td>\n      <td>1</td>\n      <td>1</td>\n      <td>2</td>\n      <td>BEEECEBABBECD</td>\n      <td>DBAAEDDDDBECD</td>\n      <td>CDEEAEDDBBAAD</td>\n      <td>DDCEAADCDAACC</td>\n      <td>1.965083</td>\n      <td>0.749637</td>\n      <td>B</td>\n      <td>C</td>\n    </tr>\n    <tr>\n      <th>17830</th>\n      <td>1</td>\n      <td>12</td>\n      <td>1200500</td>\n      <td>2</td>\n      <td>12</td>\n      <td>1</td>\n      <td>6</td>\n      <td>7</td>\n      <td>BEDDCCBBBEDEE</td>\n      <td>CCEBEDACCCDDC</td>\n      <td>CCBADBBDDCDDA</td>\n      <td>EBBDBACCAAABC</td>\n      <td>0.910448</td>\n      <td>-0.332099</td>\n      <td>B</td>\n      <td>C</td>\n    </tr>\n    <tr>\n      <th>12926</th>\n      <td>1</td>\n      <td>12</td>\n      <td>1200203</td>\n      <td>2</td>\n      <td>12</td>\n      <td>1</td>\n      <td>3</td>\n      <td>4</td>\n      <td>CBEBBEDDAEEAD</td>\n      <td>EBCACAABCCABE</td>\n      <td>EBACCBCAAACED</td>\n      <td>CBDDCCCDAEBEB</td>\n      <td>2.168658</td>\n      <td>0.536097</td>\n      <td>B</td>\n      <td>A</td>\n    </tr>\n    <tr>\n      <th>16716</th>\n      <td>1</td>\n      <td>12</td>\n      <td>1200401</td>\n      <td>1</td>\n      <td>12</td>\n      <td>1</td>\n      <td>6</td>\n      <td>2</td>\n      <td>BEEDBCBDBABBB</td>\n      <td>DCBABCDDDAAED</td>\n      <td>BCADDEBDCCEEA</td>\n      <td>DBCDABDBCAAEC</td>\n      <td>0.559332</td>\n      <td>0.877775</td>\n      <td>B</td>\n      <td>C</td>\n    </tr>\n    <tr>\n      <th>18289</th>\n      <td>1</td>\n      <td>12</td>\n      <td>1200708</td>\n      <td>2</td>\n      <td>13</td>\n      <td>1</td>\n      <td>6</td>\n      <td>1</td>\n      <td>CEDDBDBDBDDDC</td>\n      <td>EEACCCDABCDDB</td>\n      <td>BAADEBBABBCDC</td>\n      <td>CCBABEAACDAAA</td>\n      <td>-0.140228</td>\n      <td>0.788156</td>\n      <td>A</td>\n      <td>C</td>\n    </tr>\n  </tbody>\n</table>\n</div>"
     },
     "metadata": {},
     "output_type": "execute_result",
     "execution_count": 18
    }
   ],
   "source": [
    "df_aluno_3EM.sample(10)"
   ]
  },
  {
   "cell_type": "code",
   "execution_count": 19,
   "metadata": {
    "pycharm": {
     "is_executing": false
    }
   },
   "outputs": [],
   "source": [
    "# Após o carregamento, o pandas reorganiza as colunas, logo:\n",
    "colunas_aluno = list(df_aluno_5EF.columns.values)\n",
    "\n",
    "### Série\n",
    "idx_serie_gab = colunas_resp.index(ID_SERIE)\n",
    "idx_serie_aluno = colunas_aluno.index(ID_SERIE)\n",
    "\n",
    "### R. Respostas\n",
    "idx_disciplina = colunas_resp.index(DISCIPLINA)\n",
    "idx_posicao_gabarito = colunas_resp.index(ID_POSICAO)\n",
    "idx_gabarito = colunas_resp.index(GABARITO)\n",
    "idx_preenchimento_prova = colunas_aluno.index(IN_PREENCHIMENTO_PROVA)\n",
    "# idx_presenca_prova = colunas_aluno.index(IN_PRESENCA_PROVA)\n",
    "# idx_preenchimento_questionario = colunas_aluno.index(IN_PREENCHIMENTO_QUESTIONARIO)\n",
    "\n",
    "### Blocos\n",
    "bloco_gab = colunas_resp.index(ID_BLOCO) \n",
    "bloco_resp_1 = colunas_aluno.index(ID_BLOCO_1)\n",
    "bloco_resp_2 = colunas_aluno.index(ID_BLOCO_2)\n",
    "aluno_resp_bloco_1_lp = colunas_aluno.index(TX_RESP_BLOCO_1_LP) \n",
    "aluno_resp_bloco_2_lp = colunas_aluno.index(TX_RESP_BLOCO_2_LP) \n",
    "aluno_resp_bloco_1_mt = colunas_aluno.index(TX_RESP_BLOCO_1_MT) \n",
    "aluno_resp_bloco_2_mt = colunas_aluno.index(TX_RESP_BLOCO_2_MT) \n",
    "\n",
    "### Região de Estudo/Aluno\n",
    "idx_uf = colunas_aluno.index(ID_UF)\n",
    "idx_municipio = colunas_aluno.index(ID_MUNICIPIO)\n",
    "idx_regiao = colunas_aluno.index(ID_REGIAO)\n",
    "idx_area = colunas_aluno.index(ID_AREA)\n",
    "idx_sexo = colunas_aluno.index(TX_RESP_Q001)\n",
    "idx_raca = colunas_aluno.index(TX_RESP_Q002)"
   ]
  },
  {
   "cell_type": "code",
   "execution_count": 20,
   "metadata": {
    "pycharm": {
     "is_executing": false,
     "name": "#%%\n"
    }
   },
   "outputs": [],
   "source": [
    "filtro_de_colunas_resposta = ['serie', 'nota_lp', 'nota_mt', 'uf', 'municipio', 'regiao', 'area', 'sexo', 'raca']"
   ]
  },
  {
   "cell_type": "code",
   "execution_count": 21,
   "metadata": {
    "pycharm": {
     "is_executing": false,
     "name": "#%%\n"
    }
   },
   "outputs": [],
   "source": [
    "def filtrar_dados(serie_dados, nao_realizado=0, colunas=filtro_de_colunas_resposta):\n",
    "    \"\"\"\n",
    "    \n",
    "    :param serie_dados:     Série de dados carregados (DataFrame)\n",
    "    :param nao_realizado:   Número de ocorrências do Não Preenchimento de Prova\n",
    "    :param colunas:         Filtro de Colunas à serem aplicadas ao resultado de serie_dados\n",
    "    :param resposta_dados:  DataFrame de resposta, caso não seja vazio, os dados serão adicionados a ele \n",
    "    :return: \n",
    "        Dados Filtrado (DataFrame)\n",
    "        Quantidade não realizada de provas\n",
    "    \"\"\"\n",
    "    resposta_dados = []\n",
    "    i = 0\n",
    "    for r in serie_dados.to_numpy():  # [len(serie_dados.to_numpy())//2:]:\n",
    "        i = i + 1\n",
    "        not_lim = 1000\n",
    "        if 0 == i % not_lim:\n",
    "            print(f'iter {not_lim}, resp: {len(resposta_dados)}, {nao_realizado} => {len(resposta_dados) + nao_realizado}')\n",
    "        \n",
    "        nota_mt = 0\n",
    "        nota_pt = 0\n",
    "        \n",
    "        respostas_lp = [\n",
    "            [False for x in range(len(r[aluno_resp_bloco_1_lp]))],\n",
    "            [False for x in range(len(r[aluno_resp_bloco_2_lp]))]\n",
    "        ]\n",
    "        respostas_mt = [\n",
    "            [False for x in range(len(r[aluno_resp_bloco_1_mt]))],\n",
    "            [False for x in range(len(r[aluno_resp_bloco_2_mt]))]\n",
    "        ]\n",
    "        \n",
    "        # Quem não fez a prova é ignorado\n",
    "        if not bool(int(r[idx_preenchimento_prova])):\n",
    "            nao_realizado = nao_realizado + 1\n",
    "            continue\n",
    "        serie_aluno = r[idx_serie_aluno]\n",
    "        if serie_aluno in (12, 13):\n",
    "            # 12 - 3ª ou 4ª Série do Ensino Médio\n",
    "            # 13 - 3ª ou 4ª Série do Ensino Médio Integrado\n",
    "            serie_aluno = 3\n",
    "        for gab in df_gabarito.to_numpy():\n",
    "            # if gab['ID_SERIE'] == r['ID_SERIE']:\n",
    "            if gab[idx_gabarito] not in RESPOSTAS_INVALIDAS:\n",
    "                if gab[idx_serie_gab] == serie_aluno and\\\n",
    "                        (r[bloco_resp_1] == gab[bloco_gab] or r[bloco_resp_2] == gab[bloco_gab]):\n",
    "                    # 8 'TX_RESP_BLOCO_1_LP'8, 'TX_RESP_BLOCO_2_LP'9, 'TX_RESP_BLOCO_1_MT'10, 'TX_RESP_BLOCO_2_MT'11,\n",
    "                    is_bloco_1 = r[bloco_resp_1] == gab[bloco_gab]\n",
    "                    if is_bloco_1 and r[bloco_resp_2] == gab[bloco_gab]:\n",
    "                        print ('bloco EDGE CASES!!')\n",
    "                    idx_r = 0 if is_bloco_1 else 1\n",
    "                    if gab[idx_disciplina] == 'LP':\n",
    "                        resp_aluno = str(r[aluno_resp_bloco_1_lp if is_bloco_1 else aluno_resp_bloco_2_lp])\n",
    "                        if (respostas_lp[idx_r])[gab[idx_posicao_gabarito]-1]:\n",
    "                            continue\n",
    "                        if resp_aluno[gab[idx_posicao_gabarito]-1] == gab[idx_gabarito]:\n",
    "                            nota_pt += 1\n",
    "                            (respostas_lp[idx_r])[gab[idx_posicao_gabarito]-1] = True\n",
    "                    elif gab[idx_disciplina] == 'MT':\n",
    "                        resp_aluno = str(r[aluno_resp_bloco_1_mt if is_bloco_1 else aluno_resp_bloco_2_mt])\n",
    "                        if (respostas_mt[idx_r])[gab[idx_posicao_gabarito]-1]:\n",
    "                            continue\n",
    "                        if resp_aluno[gab[idx_posicao_gabarito]-1] == gab[idx_gabarito]:\n",
    "                            nota_mt += 1\n",
    "                            (respostas_mt[idx_r])[gab[idx_posicao_gabarito]-1] = True\n",
    "        if nota_pt or nota_mt:\n",
    "            resposta_dados.append({\n",
    "                colunas[0]: serie_aluno,\n",
    "                colunas[1]: nota_pt,\n",
    "                colunas[2]: nota_mt,\n",
    "                colunas[3]: r[idx_uf],\n",
    "                colunas[4]: r[idx_municipio],\n",
    "                colunas[5]: r[idx_regiao],\n",
    "                colunas[6]: r[idx_area],\n",
    "                colunas[7]: r[idx_sexo],\n",
    "                colunas[8]: r[idx_raca]\n",
    "            })\n",
    "            # ,\n",
    "            #     ignore_index=True\n",
    "            # )\n",
    "    return resposta_dados, nao_realizado"
   ]
  },
  {
   "cell_type": "markdown",
   "metadata": {
    "pycharm": {
     "is_executing": true,
     "name": "#%% md\n"
    }
   },
   "source": [
    "O filtro aplicado demora cerca de 25 minutos cada arquivo \n"
   ]
  },
  {
   "cell_type": "code",
   "execution_count": 22,
   "metadata": {
    "pycharm": {
     "is_executing": false
    }
   },
   "outputs": [],
   "source": [
    "dados_filtrados = pd.DataFrame(columns=filtro_de_colunas_resposta)"
   ]
  },
  {
   "cell_type": "code",
   "execution_count": 23,
   "outputs": [
    {
     "name": "stdout",
     "text": [
      "iter 1000, resp: 884, 115 => 999\n",
      "iter 1000, resp: 1741, 258 => 1999\niter 1000, resp: 2606, 393 => 2999\n",
      "iter 1000, resp: 3485, 514 => 3999\n",
      "iter 1000, resp: 4365, 633 => 4998\n",
      "iter 1000, resp: 5251, 746 => 5997\niter 1000, resp: 6126, 871 => 6997\niter 1000, resp: 6998, 999 => 7997",
      "\n",
      "iter 1000, resp: 7822, 1174 => 8996\n",
      "iter 1000, resp: 8689, 1307 => 9996\n",
      "iter 1000, resp: 9569, 1427 => 10996\n",
      "iter 1000, resp: 10413, 1583 => 11996\n",
      "iter 1000, resp: 11309, 1687 => 12996\n",
      "iter 1000, resp: 12173, 1823 => 13996\niter 1000, resp: 13052, 1943 => 14995\n",
      "iter 1000, resp: 13928, 2067 => 15995\n",
      "iter 1000, resp: 14792, 2201 => 16993\n",
      "iter 1000, resp: 15583, 2410 => 17993\n",
      "iter 1000, resp: 16426, 2567 => 18993\n",
      "iter 1000, resp: 17325, 2668 => 19993\n"
     ],
     "output_type": "stream"
    }
   ],
   "source": [
    "r_filtro, qtd_prova_nao_realizada_5SEM = filtrar_dados(\n",
    "    df_aluno_5EF, 0,\n",
    ")"
   ],
   "metadata": {
    "collapsed": false,
    "pycharm": {
     "name": "#%%\n",
     "is_executing": false
    }
   }
  },
  {
   "cell_type": "code",
   "execution_count": 24,
   "outputs": [],
   "source": [
    "dados_filtrados = dados_filtrados.append(r_filtro, ignore_index=True)"
   ],
   "metadata": {
    "collapsed": false,
    "pycharm": {
     "name": "#%%\n",
     "is_executing": false
    }
   }
  },
  {
   "cell_type": "code",
   "execution_count": 25,
   "metadata": {
    "pycharm": {
     "is_executing": false,
     "name": "#%%\n"
    }
   },
   "outputs": [
    {
     "name": "stdout",
     "text": [
      "iter 1000, resp: 781, 218 => 999\n",
      "iter 1000, resp: 1575, 424 => 1999\n",
      "iter 1000, resp: 2396, 603 => 2999\n",
      "iter 1000, resp: 3211, 788 => 3999\n",
      "iter 1000, resp: 4068, 931 => 4999\n",
      "iter 1000, resp: 4905, 1094 => 5999\n",
      "iter 1000, resp: 5746, 1253 => 6999\niter 1000, resp: 6483, 1516 => 7999\niter 1000, resp: 7208, 1791 => 8999\n",
      "iter 1000, resp: 8032, 1967 => 9999\n",
      "iter 1000, resp: 8868, 2131 => 10999\n",
      "iter 1000, resp: 9693, 2306 => 11999\n",
      "iter 1000, resp: 10534, 2465 => 12999\n",
      "iter 1000, resp: 11368, 2631 => 13999\n",
      "iter 1000, resp: 12033, 2966 => 14999\niter 1000, resp: 12854, 3145 => 15999\n",
      "iter 1000, resp: 13608, 3391 => 16999\n",
      "iter 1000, resp: 14436, 3563 => 17999\n",
      "iter 1000, resp: 15213, 3786 => 18999\n",
      "iter 1000, resp: 16000, 3999 => 19999\n"
     ],
     "output_type": "stream"
    }
   ],
   "source": [
    "r_filtro, qtd_prova_nao_realizada_9SEM = filtrar_dados(\n",
    "    df_aluno_9EF, 0,\n",
    ")"
   ]
  },
  {
   "cell_type": "code",
   "execution_count": 26,
   "outputs": [],
   "source": [
    "dados_filtrados = dados_filtrados.append(r_filtro, ignore_index=True)"
   ],
   "metadata": {
    "collapsed": false,
    "pycharm": {
     "name": "#%%\n",
     "is_executing": false
    }
   }
  },
  {
   "cell_type": "code",
   "execution_count": 27,
   "metadata": {
    "pycharm": {
     "is_executing": false,
     "name": "#%%\n"
    }
   },
   "outputs": [
    {
     "name": "stdout",
     "text": [
      "iter 1000, resp: 999, 0 => 999\n",
      "iter 1000, resp: 1999, 0 => 1999\n",
      "iter 1000, resp: 2999, 0 => 2999\n",
      "iter 1000, resp: 3999, 0 => 3999\niter 1000, resp: 4999, 0 => 4999\n",
      "iter 1000, resp: 5999, 0 => 5999\n",
      "iter 1000, resp: 6999, 0 => 6999\n",
      "iter 1000, resp: 7999, 0 => 7999\n",
      "iter 1000, resp: 8999, 0 => 8999\n",
      "iter 1000, resp: 9999, 0 => 9999\n",
      "iter 1000, resp: 10999, 0 => 10999\n",
      "iter 1000, resp: 11999, 0 => 11999\n",
      "iter 1000, resp: 12999, 0 => 12999\n",
      "iter 1000, resp: 13999, 0 => 13999\n",
      "iter 1000, resp: 14999, 0 => 14999\n",
      "iter 1000, resp: 15999, 0 => 15999\n",
      "iter 1000, resp: 16999, 0 => 16999\n",
      "iter 1000, resp: 17999, 0 => 17999\n",
      "iter 1000, resp: 18999, 0 => 18999\n",
      "iter 1000, resp: 19999, 0 => 19999\n"
     ],
     "output_type": "stream"
    }
   ],
   "source": [
    "r_filtro, qtd_prova_nao_realizada_3EM = filtrar_dados(\n",
    "    df_aluno_3EM, 0,\n",
    ")"
   ]
  },
  {
   "cell_type": "code",
   "execution_count": 28,
   "outputs": [],
   "source": [
    "dados_filtrados = dados_filtrados.append(r_filtro, ignore_index=True)"
   ],
   "metadata": {
    "collapsed": false,
    "pycharm": {
     "name": "#%%\n",
     "is_executing": false
    }
   }
  },
  {
   "cell_type": "code",
   "execution_count": 29,
   "metadata": {
    "pycharm": {
     "is_executing": false
    }
   },
   "outputs": [],
   "source": [
    "# df_aluno_5EF.query('ID_SERIE == 9 & (ID_BLOCO_1 == 7 | ID_BLOCO_2 == 7)')[['ID_SERIE', 'ID_BLOCO_1', 'ID_BLOCO_2', 'TX_RESP_BLOCO_1_LP', 'TX_RESP_BLOCO_2_LP', 'TX_RESP_BLOCO_1_MT', 'TX_RESP_BLOCO_2_MT']].head(15)"
   ]
  },
  {
   "cell_type": "code",
   "execution_count": 30,
   "metadata": {
    "pycharm": {
     "is_executing": false
    }
   },
   "outputs": [],
   "source": [
    "# df_gabarito.query('ID_SERIE == 3 & DISCIPLINA == \"LP\" & ID_SERIE_ITEM == 9 & ID_BLOCO == 7').head(10)"
   ]
  },
  {
   "cell_type": "markdown",
   "source": [
    "#### Contagem de provas por estado\n",
    "###### colunas = ['Série', 'Nota LP', 'Nota MT', 'UF', 'Município', 'Região', 'Área', 'Sexo', 'Raça']"
   ],
   "metadata": {
    "collapsed": false,
    "pycharm": {
     "name": "#%% md\n"
    }
   }
  },
  {
   "cell_type": "code",
   "execution_count": 31,
   "metadata": {
    "pycharm": {
     "is_executing": false
    }
   },
   "outputs": [],
   "source": [
    "# 11-RO\n",
    "# 12-AC\n",
    "# 13-AM\n",
    "# 14-RR\n",
    "# 15-PA\n",
    "# 16-AP\n",
    "# 17-TO\n",
    "# 21-MA\n",
    "# 22-PI\n",
    "# 23-CE\n",
    "# 24-RN\n",
    "# 25-PB\n",
    "# 26-PE\n",
    "# 27-AL\n",
    "# 28-SE\n",
    "# 29-BA\n",
    "# 31-MG\n",
    "# 32-ES\n",
    "# 33-RJ\n",
    "# 35-SP\n",
    "# 41-PR\n",
    "# 42-SC\n",
    "# 43-RS\n",
    "# 50-MS\n",
    "# 51-MT\n",
    "# 52-GO\n",
    "# 53-DF\n",
    "\n",
    "# dados_filtrados.groupby('uf').size().sort_values().plot.barh(figsize=(6, 4))"
   ]
  },
  {
   "cell_type": "code",
   "execution_count": 32,
   "outputs": [],
   "source": [
    "# dados_filtrados.groupby('municipio').size()"
   ],
   "metadata": {
    "collapsed": false,
    "pycharm": {
     "name": "#%%\n",
     "is_executing": false
    }
   }
  },
  {
   "cell_type": "code",
   "execution_count": 33,
   "outputs": [],
   "source": [
    "# dados_filtrados.groupby('regiao').size()"
   ],
   "metadata": {
    "collapsed": false,
    "pycharm": {
     "name": "#%%\n",
     "is_executing": false
    }
   }
  },
  {
   "cell_type": "code",
   "execution_count": 34,
   "outputs": [],
   "source": [
    "# dados_filtrados.query('serie == 5').groupby('uf').size().sort_values().plot.barh(figsize=(6, 4),)"
   ],
   "metadata": {
    "collapsed": false,
    "pycharm": {
     "name": "#%%\n",
     "is_executing": false
    }
   }
  },
  {
   "cell_type": "code",
   "execution_count": 35,
   "outputs": [],
   "source": [
    "# dados_filtrados.query('serie == 9').groupby('uf').size().sort_values().plot.barh(figsize=(6, 4),)"
   ],
   "metadata": {
    "collapsed": false,
    "pycharm": {
     "name": "#%%\n",
     "is_executing": false
    }
   }
  },
  {
   "cell_type": "code",
   "execution_count": 36,
   "outputs": [],
   "source": [
    "# dados_filtrados.query('serie == 3').groupby('uf').size().sort_values().plot.barh(figsize=(6, 4),)"
   ],
   "metadata": {
    "collapsed": false,
    "pycharm": {
     "name": "#%%\n",
     "is_executing": false
    }
   }
  },
  {
   "cell_type": "code",
   "execution_count": 115,
   "outputs": [],
   "source": [
    "# dados_filtrados[['nota_lp', 'nota_mt']].mean().plot.barh(figsize=(6, 4),)"
   ],
   "metadata": {
    "collapsed": false,
    "pycharm": {
     "name": "#%%\n",
     "is_executing": false
    }
   }
  },
  {
   "cell_type": "code",
   "execution_count": null,
   "outputs": [],
   "source": [
    "def conta_tamanho_grupo(grupo, grupo_buscado):\n",
    "    if not grupo_buscado:\n",
    "        return 1\n",
    "    gd = dados_filtrados.groupby(grupo).size()\n",
    "    i = gd.index.contains(grupo_buscado)\n",
    "    if i:\n",
    "        return gd[grupo_buscado]\n",
    "    print(f'nao encontrado {grupo_buscado} em {i}')\n",
    "    return 1"
   ],
   "metadata": {
    "collapsed": false,
    "pycharm": {
     "name": "#%%\n",
     "is_executing": true
    }
   }
  },
  {
   "cell_type": "code",
   "execution_count": 142,
   "outputs": [
    {
     "data": {
      "text/plain": "array([<matplotlib.axes._subplots.AxesSubplot object at 0x000001FB2BE9B4E0>,\n       <matplotlib.axes._subplots.AxesSubplot object at 0x000001FB2BF319B0>],\n      dtype=object)"
     },
     "metadata": {},
     "output_type": "execute_result",
     "execution_count": 142
    },
    {
     "data": {
      "text/plain": "<Figure size 432x288 with 2 Axes>",
      "image/png": "[encoded data removed]"
     },
     "metadata": {},
     "output_type": "display_data"
    }
   ],
   "source": [
    "# Em escopo total\n",
    "dados_filtrados.groupby('uf').sum()[['nota_lp', 'nota_mt']].apply(\n",
    "    lambda x: x / len(dados_filtrados)\n",
    ").plot.pie(subplots=True, figsize=(6, 4), title=['Língua Portuguesa', 'Matemática'])"
   ],
   "metadata": {
    "collapsed": false,
    "pycharm": {
     "name": "#%%\n",
     "is_executing": false
    }
   }
  },
  {
   "cell_type": "code",
   "execution_count": 137,
   "outputs": [
    {
     "name": "stdout",
     "text": [
      "<class 'numpy.int64'>\n11\n<class 'int'>\n11\n<class 'int'>\n12\n<class 'int'>\n13\n"
     ],
     "output_type": "stream"
    },
    {
     "data": {
      "text/plain": "array([<matplotlib.axes._subplots.AxesSubplot object at 0x000001FB2C59C048>,\n       <matplotlib.axes._subplots.AxesSubplot object at 0x000001FB2C1C4C18>],\n      dtype=object)"
     },
     "metadata": {},
     "output_type": "execute_result",
     "execution_count": 137
    },
    {
     "data": {
      "text/plain": "<Figure size 432x288 with 2 Axes>",
      "image/png": "[encoded data removed]"
     },
     "metadata": {},
     "output_type": "display_data"
    }
   ],
   "source": [
    "dados_filtrados.groupby('uf').sum()[['nota_lp', 'nota_mt']].apply(\n",
    "    lambda x: x / conta_tamanho_grupo('uf', x.name), axis=1\n",
    ").plot.pie(subplots=True, figsize=(6, 4), legend=False, title=['Língua Portuguesa', 'Matemática'])"
   ],
   "metadata": {
    "collapsed": false,
    "pycharm": {
     "name": "#%%\n",
     "is_executing": false
    }
   }
  },
  {
   "cell_type": "code",
   "execution_count": null,
   "outputs": [],
   "source": [
    "# A=> M\n",
    "# B=> F\n",
    "dados_filtrados.groupby(['uf', 'sexo'])[['nota_lp', 'nota_mt']].apply(\n",
    "    lambda x: x / conta_tamanho_grupo('uf', x.name[0])\n",
    ") # .plot.pie(subplots=True, figsize=(6, 4))"
   ],
   "metadata": {
    "collapsed": false,
    "pycharm": {
     "name": "#%%\n",
     "is_executing": true
    }
   }
  },
  {
   "cell_type": "code",
   "execution_count": 43,
   "outputs": [],
   "source": [],
   "metadata": {
    "collapsed": false,
    "pycharm": {
     "name": "#%%\n",
     "is_executing": false
    }
   }
  },
  {
   "cell_type": "code",
   "execution_count": 43,
   "outputs": [],
   "source": [],
   "metadata": {
    "collapsed": false,
    "pycharm": {
     "name": "#%%\n",
     "is_executing": false
    }
   }
  },
  {
   "cell_type": "code",
   "execution_count": 43,
   "outputs": [],
   "source": [],
   "metadata": {
    "collapsed": false,
    "pycharm": {
     "name": "#%%\n",
     "is_executing": false
    }
   }
  },
  {
   "cell_type": "code",
   "execution_count": 43,
   "outputs": [],
   "source": [
    "\n"
   ],
   "metadata": {
    "collapsed": false,
    "pycharm": {
     "name": "#%%\n",
     "is_executing": false
    }
   }
  }
 ],
 "metadata": {
  "kernelspec": {
   "display_name": "Python 3",
   "language": "python",
   "name": "python3"
  },
  "language_info": {
   "codemirror_mode": {
    "name": "ipython",
    "version": 3
   },
   "file_extension": ".py",
   "mimetype": "text/x-python",
   "name": "python",
   "nbconvert_exporter": "python",
   "pygments_lexer": "ipython3",
   "version": "3.7.3"
  },
  "pycharm": {
   "stem_cell": {
    "cell_type": "raw",
    "source": [],
    "metadata": {
     "collapsed": false
    }
   }
  }
 },
 "nbformat": 4,
 "nbformat_minor": 2
}