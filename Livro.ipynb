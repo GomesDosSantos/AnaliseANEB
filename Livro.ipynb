{
 "cells": [
  {
   "cell_type": "code",
   "execution_count": 1,
   "metadata": {
    "pycharm": {
     "is_executing": false
    }
   },
   "outputs": [],
   "source": [
    "import pandas as pd"
   ]
  },
  {
   "cell_type": "code",
   "execution_count": 2,
   "metadata": {
    "pycharm": {
     "is_executing": false
    }
   },
   "outputs": [],
   "source": [
    "%matplotlib inline"
   ]
  },
  {
   "cell_type": "code",
   "execution_count": 3,
   "metadata": {
    "pycharm": {
     "is_executing": false
    }
   },
   "outputs": [],
   "source": [
    "pd.options.display.max_columns = 25\n",
    "pd.options.display.max_rows = 10"
   ]
  },
  {
   "cell_type": "markdown",
   "metadata": {},
   "source": [
    "Arquivos extraídos do Microdados INEP"
   ]
  },
  {
   "cell_type": "code",
   "execution_count": 4,
   "metadata": {
    "pycharm": {
     "is_executing": false
    }
   },
   "outputs": [],
   "source": [
    "file_resp = '../dados/TS_ITEM.csv'"
   ]
  },
  {
   "cell_type": "code",
   "execution_count": 5,
   "metadata": {
    "pycharm": {
     "is_executing": false
    }
   },
   "outputs": [],
   "source": [
    "file_alunos_3EM_ESC = '../dados/TS_ALUNO_3EM_ESC.csv'\n",
    "# file_alunos_3EM_AG = '../dados/TS_ALUNO_3EM_AG.csv'\n",
    "file_alunos_9EF = '../dados/TS_ALUNO_9EF.csv'\n",
    "file_alunos_5EF = '../dados/TS_ALUNO_5EF.csv'"
   ]
  },
  {
   "cell_type": "markdown",
   "metadata": {},
   "source": [
    "Conjunto Definido de Colunas à Serem Utilizadas"
   ]
  },
  {
   "cell_type": "markdown",
   "source": [
    "Identificadores das Colunas"
   ],
   "metadata": {
    "collapsed": false,
    "pycharm": {
     "name": "#%% md\n"
    }
   }
  },
  {
   "cell_type": "code",
   "execution_count": 6,
   "outputs": [],
   "source": [
    "\n",
    "RESPOSTAS_INVALIDAS = ['X', '.', '*', ' ', '']\n",
    "\n",
    "ID_SERIE = 'ID_SERIE'\n",
    "TIPO_PROVA = 'TIPO_PROVA'\n",
    "DISCIPLINA = 'DISCIPLINA'\n",
    "ID_SERIE_ITEM = 'ID_SERIE_ITEM'\n",
    "ID_BLOCO = 'ID_BLOCO'\n",
    "ID_POSICAO = 'ID_POSICAO'\n",
    "GABARITO = 'GABARITO'\n",
    "ID_PROVA_BRASIL = 'ID_PROVA_BRASIL' # Ano da Prova, pode ser ignorado, pois os arquivos são baixados por ano\n",
    "ID_UF = 'ID_UF'\n",
    "ID_MUNICIPIO = 'ID_MUNICIPIO'\n",
    "\n",
    "# Preenchimento Prova\n",
    "# ID_SERIE = 'ID_SERIE'\n",
    "ID_ALUNO = 'ID_ALUNO'\n",
    "IN_PREENCHIMENTO_PROVA = 'IN_PREENCHIMENTO_PROVA'\n",
    "IN_PRESENCA_PROVA = 'IN_PRESENCA_PROVA'\n",
    "ID_REGIAO = 'ID_REGIAO'\n",
    "ID_AREA = 'ID_AREA'\n",
    "# Respostas da Prova\n",
    "ID_BLOCO_1 = 'ID_BLOCO_1'\n",
    "ID_BLOCO_2 = 'ID_BLOCO_2'\n",
    "TX_RESP_BLOCO_1_LP = 'TX_RESP_BLOCO_1_LP'\n",
    "TX_RESP_BLOCO_2_LP = 'TX_RESP_BLOCO_2_LP'\n",
    "TX_RESP_BLOCO_1_MT = 'TX_RESP_BLOCO_1_MT'\n",
    "TX_RESP_BLOCO_2_MT = 'TX_RESP_BLOCO_2_MT'\n",
    "# Proeficiência do ALuno\n",
    "PESO_ALUNO_LP = 'PESO_ALUNO_LP'\n",
    "PESO_ALUNO_MT = 'PESO_ALUNO_MT'\n",
    "PROFICIENCIA_LP = 'PROFICIENCIA_LP'\n",
    "ERRO_PADRAO_LP = 'ERRO_PADRAO_LP'\n",
    "PROFICIENCIA_LP_SAEB = 'PROFICIENCIA_LP_SAEB'\n",
    "ERRO_PADRAO_LP_SAEB = 'ERRO_PADRAO_LP_SAEB'\n",
    "PROFICIENCIA_MT = 'PROFICIENCIA_MT'\n",
    "ERRO_PADRAO_MT = 'ERRO_PADRAO_MT'\n",
    "PROFICIENCIA_MT_SAEB = 'PROFICIENCIA_MT_SAEB'\n",
    "ERRO_PADRAO_MT_SAEB = 'ERRO_PADRAO_MT_SAEB'\n",
    "# Questionário Socioeconômico\n",
    "IN_PREENCHIMENTO_QUESTIONARIO = 'IN_PREENCHIMENTO_QUESTIONARIO'\n",
    "TX_RESP_Q001 = 'TX_RESP_Q001' # Sexo\n",
    "TX_RESP_Q002 = 'TX_RESP_Q002' # Cor/Raça"
   ],
   "metadata": {
    "collapsed": false,
    "pycharm": {
     "name": "#%%\n",
     "is_executing": false
    }
   }
  },
  {
   "cell_type": "code",
   "execution_count": 7,
   "metadata": {
    "pycharm": {
     "is_executing": false
    }
   },
   "outputs": [],
   "source": [
    "colunas_resp = [ID_SERIE, TIPO_PROVA, DISCIPLINA, ID_SERIE_ITEM, ID_BLOCO, ID_POSICAO, GABARITO]\n",
    "# DESCRITOR_HABILIDADE"
   ]
  },
  {
   "cell_type": "code",
   "execution_count": 8,
   "metadata": {
    "pycharm": {
     "is_executing": false
    }
   },
   "outputs": [],
   "source": [
    "colunas_aluno = [\n",
    "    ID_ALUNO,\n",
    "    # ID_PROVA_BRASIL,\n",
    "    ID_UF, ID_MUNICIPIO, ID_REGIAO, ID_AREA,\n",
    "    ID_SERIE, IN_PREENCHIMENTO_PROVA, # IN_PRESENCA_PROVA,\n",
    "    ID_BLOCO_1, ID_BLOCO_2,\n",
    "    TX_RESP_BLOCO_1_LP, TX_RESP_BLOCO_2_LP, TX_RESP_BLOCO_1_MT, TX_RESP_BLOCO_2_MT,\n",
    "    # PESO_ALUNO_LP, PESO_ALUNO_MT,\n",
    "    PROFICIENCIA_LP, # ERRO_PADRAO_LP, PROFICIENCIA_LP_SAEB, ERRO_PADRAO_LP_SAEB,\n",
    "    PROFICIENCIA_MT, # ERRO_PADRAO_MT, PROFICIENCIA_MT_SAEB, ERRO_PADRAO_MT_SAEB,\n",
    "    # IN_PREENCHIMENTO_QUESTIONARIO,\n",
    "    TX_RESP_Q001,\n",
    "    TX_RESP_Q002\n",
    "]"
   ]
  },
  {
   "cell_type": "markdown",
   "source": [
    "#### Gabarito, 666 itens corrigidos (+36KB)\n",
    "\n",
    "#### 5SEM,     2.624.019 provas (+360MB)\n",
    "#### 9SEM,     2.341.459 provas (+321MB)\n",
    "#### 3SEMAG,   1.966.507 provas (+270MB)\n",
    "###### 3SEMESC,  1.456.325 provas (+200MB)"
   ],
   "metadata": {
    "collapsed": false
   }
  },
  {
   "cell_type": "code",
   "execution_count": 9,
   "metadata": {
    "pycharm": {
     "is_executing": false
    }
   },
   "outputs": [],
   "source": [
    "df_gabarito = pd.read_csv(\n",
    "    file_resp,\n",
    "    delimiter=';', encoding='iso-8859-1',\n",
    "    usecols=colunas_resp,\n",
    "    # low_memory=True\n",
    ")"
   ]
  },
  {
   "cell_type": "code",
   "execution_count": 10,
   "metadata": {
    "pycharm": {
     "is_executing": false
    }
   },
   "outputs": [
    {
     "data": {
      "text/plain": "     ID_SERIE     TIPO_PROVA DISCIPLINA  ID_SERIE_ITEM  ID_BLOCO  ID_POSICAO  \\\n50          3  Prova Regular         LP              3         4          12   \n593         9  Prova Regular         MT              9         4           6   \n176         3  Prova Regular         MT              9         5           8   \n345         5  Prova Regular         MT              5         2           2   \n293         5  Prova Regular         LP              5         6           5   \n0           3  Prova Regular         LP              3         1           1   \n622         9  Prova Regular         MT              5         6           9   \n118         3  Prova Regular         MT              3         1           2   \n512         9  Prova Regular         LP              9         7           3   \n451         9  Prova Regular         LP              5         2           7   \n\n    GABARITO  \n50         B  \n593        B  \n176        C  \n345        B  \n293        B  \n0          B  \n622        B  \n118        E  \n512        D  \n451        B  ",
      "text/html": "<div>\n<style scoped>\n    .dataframe tbody tr th:only-of-type {\n        vertical-align: middle;\n    }\n\n    .dataframe tbody tr th {\n        vertical-align: top;\n    }\n\n    .dataframe thead th {\n        text-align: right;\n    }\n</style>\n<table border=\"1\" class=\"dataframe\">\n  <thead>\n    <tr style=\"text-align: right;\">\n      <th></th>\n      <th>ID_SERIE</th>\n      <th>TIPO_PROVA</th>\n      <th>DISCIPLINA</th>\n      <th>ID_SERIE_ITEM</th>\n      <th>ID_BLOCO</th>\n      <th>ID_POSICAO</th>\n      <th>GABARITO</th>\n    </tr>\n  </thead>\n  <tbody>\n    <tr>\n      <th>50</th>\n      <td>3</td>\n      <td>Prova Regular</td>\n      <td>LP</td>\n      <td>3</td>\n      <td>4</td>\n      <td>12</td>\n      <td>B</td>\n    </tr>\n    <tr>\n      <th>593</th>\n      <td>9</td>\n      <td>Prova Regular</td>\n      <td>MT</td>\n      <td>9</td>\n      <td>4</td>\n      <td>6</td>\n      <td>B</td>\n    </tr>\n    <tr>\n      <th>176</th>\n      <td>3</td>\n      <td>Prova Regular</td>\n      <td>MT</td>\n      <td>9</td>\n      <td>5</td>\n      <td>8</td>\n      <td>C</td>\n    </tr>\n    <tr>\n      <th>345</th>\n      <td>5</td>\n      <td>Prova Regular</td>\n      <td>MT</td>\n      <td>5</td>\n      <td>2</td>\n      <td>2</td>\n      <td>B</td>\n    </tr>\n    <tr>\n      <th>293</th>\n      <td>5</td>\n      <td>Prova Regular</td>\n      <td>LP</td>\n      <td>5</td>\n      <td>6</td>\n      <td>5</td>\n      <td>B</td>\n    </tr>\n    <tr>\n      <th>0</th>\n      <td>3</td>\n      <td>Prova Regular</td>\n      <td>LP</td>\n      <td>3</td>\n      <td>1</td>\n      <td>1</td>\n      <td>B</td>\n    </tr>\n    <tr>\n      <th>622</th>\n      <td>9</td>\n      <td>Prova Regular</td>\n      <td>MT</td>\n      <td>5</td>\n      <td>6</td>\n      <td>9</td>\n      <td>B</td>\n    </tr>\n    <tr>\n      <th>118</th>\n      <td>3</td>\n      <td>Prova Regular</td>\n      <td>MT</td>\n      <td>3</td>\n      <td>1</td>\n      <td>2</td>\n      <td>E</td>\n    </tr>\n    <tr>\n      <th>512</th>\n      <td>9</td>\n      <td>Prova Regular</td>\n      <td>LP</td>\n      <td>9</td>\n      <td>7</td>\n      <td>3</td>\n      <td>D</td>\n    </tr>\n    <tr>\n      <th>451</th>\n      <td>9</td>\n      <td>Prova Regular</td>\n      <td>LP</td>\n      <td>5</td>\n      <td>2</td>\n      <td>7</td>\n      <td>B</td>\n    </tr>\n  </tbody>\n</table>\n</div>"
     },
     "metadata": {},
     "output_type": "execute_result",
     "execution_count": 10
    }
   ],
   "source": [
    "df_gabarito.sample(10)"
   ]
  },
  {
   "cell_type": "code",
   "execution_count": 11,
   "metadata": {
    "pycharm": {
     "is_executing": false
    }
   },
   "outputs": [
    {
     "name": "stdout",
     "text": [
      "<class 'pandas.core.frame.DataFrame'>\nRangeIndex: 666 entries, 0 to 665\nData columns (total 7 columns):\nID_SERIE         666 non-null int64\nTIPO_PROVA       666 non-null object\nDISCIPLINA       666 non-null object\nID_SERIE_ITEM    666 non-null int64\nID_BLOCO         666 non-null int64\nID_POSICAO       666 non-null int64\nGABARITO         666 non-null object\ndtypes: int64(4), object(3)\nmemory usage: 36.5+ KB\n"
     ],
     "output_type": "stream"
    }
   ],
   "source": [
    "df_gabarito.info()"
   ]
  },
  {
   "cell_type": "code",
   "execution_count": 12,
   "metadata": {
    "pycharm": {
     "is_executing": false
    }
   },
   "outputs": [],
   "source": [
    "# Geralmente 15 segundos para carregar o conjunto de dados selecionado\n",
    "df_aluno_5EF = pd.read_csv(\n",
    "    file_alunos_5EF,\n",
    "    delimiter=',', encoding='iso-8859-1',\n",
    "    usecols=colunas_aluno,\n",
    "    low_memory=True, \n",
    "    # nrows=1000000  # Para fazer testes com os dados\n",
    ")"
   ]
  },
  {
   "cell_type": "code",
   "execution_count": 13,
   "outputs": [],
   "source": [
    "df_aluno_9EF = pd.read_csv(\n",
    "    file_alunos_9EF,\n",
    "    delimiter=',', encoding='iso-8859-1',\n",
    "    usecols=colunas_aluno,\n",
    "    low_memory=True, \n",
    ")"
   ],
   "metadata": {
    "collapsed": false,
    "pycharm": {
     "name": "#%%\n",
     "is_executing": false
    }
   }
  },
  {
   "cell_type": "code",
   "execution_count": 14,
   "outputs": [],
   "source": [
    "# df_aluno_3EM_AG = pd.read_csv(\n",
    "#     file_alunos_3EM_AG,\n",
    "#     delimiter=',', encoding='iso-8859-1',\n",
    "#     usecols=colunas_aluno,\n",
    "#     low_memory=True, \n",
    "# )"
   ],
   "metadata": {
    "collapsed": false,
    "pycharm": {
     "name": "#%%\n",
     "is_executing": false
    }
   }
  },
  {
   "cell_type": "code",
   "execution_count": 15,
   "outputs": [],
   "source": [
    "df_aluno_3EM = pd.read_csv(\n",
    "    file_alunos_3EM_ESC,\n",
    "    delimiter=',', encoding='iso-8859-1',\n",
    "    usecols=colunas_aluno,\n",
    "    low_memory=True, \n",
    ")"
   ],
   "metadata": {
    "collapsed": false,
    "pycharm": {
     "name": "#%%\n",
     "is_executing": false
    }
   }
  },
  {
   "cell_type": "code",
   "execution_count": 16,
   "metadata": {
    "scrolled": true,
    "pycharm": {
     "is_executing": false
    }
   },
   "outputs": [
    {
     "data": {
      "text/plain": "         ID_REGIAO  ID_UF  ID_MUNICIPIO  ID_AREA  ID_SERIE  ID_ALUNO  \\\n169925           1     15       1501709        2         5  22128808   \n1399707          3     33       3301504        2         5  25077107   \n2033671          3     35       3554003        2         5  28031996   \n1752934          3     35       3530300        2         5  27819357   \n2021200          3     35       3552403        2         5  28181055   \n1333244          3     32       3201308        2         5  24956132   \n1683393          3     35       3519709        2         5  27996162   \n383991           2     21       2108058        2         5  22338421   \n1913538          3     35       3550308        1         5  27565849   \n2388453          4     43       4319000        2         5  26343641   \n\n         IN_PREENCHIMENTO_PROVA  ID_BLOCO_1  ID_BLOCO_2 TX_RESP_BLOCO_1_LP  \\\n169925                        0         3.0         5.0        ...........   \n1399707                       0         7.0         1.0        ...........   \n2033671                       1         7.0         3.0        BBACCDBACCD   \n1752934                       1         3.0         6.0        CDDBBCBCACA   \n2021200                       1         3.0         6.0        DDADAADBACA   \n1333244                       1         6.0         7.0        BDACBBA*ABB   \n1683393                       1         5.0         7.0        DDACDACDDBD   \n383991                        1         7.0         1.0        ABABAAABCDA   \n1913538                       1         5.0         6.0        DAACDCDDDBD   \n2388453                       0         7.0         1.0        ...........   \n\n        TX_RESP_BLOCO_2_LP TX_RESP_BLOCO_1_MT TX_RESP_BLOCO_2_MT  \\\n169925         ...........        ...........        ...........   \n1399707        ...........        ...........        ...........   \n2033671        DDDDBBCBADA        CCDDDCBDDCA        ADAAADCCBCB   \n1752934        ABCAACADCCB        CACCDDCDACC        CDBACCBABAC   \n2021200        ADADBBACCDC        CAACBBCDBCA        BCCBDBDDBBB   \n1333244        BBBDBABADCD        CBABBADDDAD        CCAACDBCDBB   \n1683393        BBDCBDBABAB        ABDDDACCDCA        CCADBDBDCCD   \n383991         BCCDBDDABCC        DBCBCCCDDCB        BDDBACDBBAD   \n1913538        ACADBCACDCC        ACBBDAADDAB        AAABADDABCC   \n2388453        ...........        ...........        ...........   \n\n         PROFICIENCIA_LP  PROFICIENCIA_MT TX_RESP_Q001 TX_RESP_Q002  \n169925               NaN              NaN          NaN          NaN  \n1399707              NaN              NaN          NaN          NaN  \n2033671        -0.704832        -0.644807            B            D  \n1752934        -1.491299        -1.471218            A            A  \n2021200        -0.791252        -0.080292            A            C  \n1333244        -0.616142        -0.777250            B            F  \n1683393         0.407487         0.421255            B            A  \n383991         -1.751161        -2.193475            A            C  \n1913538        -0.917897        -1.091293            B          NaN  \n2388453              NaN              NaN          NaN          NaN  ",
      "text/html": "<div>\n<style scoped>\n    .dataframe tbody tr th:only-of-type {\n        vertical-align: middle;\n    }\n\n    .dataframe tbody tr th {\n        vertical-align: top;\n    }\n\n    .dataframe thead th {\n        text-align: right;\n    }\n</style>\n<table border=\"1\" class=\"dataframe\">\n  <thead>\n    <tr style=\"text-align: right;\">\n      <th></th>\n      <th>ID_REGIAO</th>\n      <th>ID_UF</th>\n      <th>ID_MUNICIPIO</th>\n      <th>ID_AREA</th>\n      <th>ID_SERIE</th>\n      <th>ID_ALUNO</th>\n      <th>IN_PREENCHIMENTO_PROVA</th>\n      <th>ID_BLOCO_1</th>\n      <th>ID_BLOCO_2</th>\n      <th>TX_RESP_BLOCO_1_LP</th>\n      <th>TX_RESP_BLOCO_2_LP</th>\n      <th>TX_RESP_BLOCO_1_MT</th>\n      <th>TX_RESP_BLOCO_2_MT</th>\n      <th>PROFICIENCIA_LP</th>\n      <th>PROFICIENCIA_MT</th>\n      <th>TX_RESP_Q001</th>\n      <th>TX_RESP_Q002</th>\n    </tr>\n  </thead>\n  <tbody>\n    <tr>\n      <th>169925</th>\n      <td>1</td>\n      <td>15</td>\n      <td>1501709</td>\n      <td>2</td>\n      <td>5</td>\n      <td>22128808</td>\n      <td>0</td>\n      <td>3.0</td>\n      <td>5.0</td>\n      <td>...........</td>\n      <td>...........</td>\n      <td>...........</td>\n      <td>...........</td>\n      <td>NaN</td>\n      <td>NaN</td>\n      <td>NaN</td>\n      <td>NaN</td>\n    </tr>\n    <tr>\n      <th>1399707</th>\n      <td>3</td>\n      <td>33</td>\n      <td>3301504</td>\n      <td>2</td>\n      <td>5</td>\n      <td>25077107</td>\n      <td>0</td>\n      <td>7.0</td>\n      <td>1.0</td>\n      <td>...........</td>\n      <td>...........</td>\n      <td>...........</td>\n      <td>...........</td>\n      <td>NaN</td>\n      <td>NaN</td>\n      <td>NaN</td>\n      <td>NaN</td>\n    </tr>\n    <tr>\n      <th>2033671</th>\n      <td>3</td>\n      <td>35</td>\n      <td>3554003</td>\n      <td>2</td>\n      <td>5</td>\n      <td>28031996</td>\n      <td>1</td>\n      <td>7.0</td>\n      <td>3.0</td>\n      <td>BBACCDBACCD</td>\n      <td>DDDDBBCBADA</td>\n      <td>CCDDDCBDDCA</td>\n      <td>ADAAADCCBCB</td>\n      <td>-0.704832</td>\n      <td>-0.644807</td>\n      <td>B</td>\n      <td>D</td>\n    </tr>\n    <tr>\n      <th>1752934</th>\n      <td>3</td>\n      <td>35</td>\n      <td>3530300</td>\n      <td>2</td>\n      <td>5</td>\n      <td>27819357</td>\n      <td>1</td>\n      <td>3.0</td>\n      <td>6.0</td>\n      <td>CDDBBCBCACA</td>\n      <td>ABCAACADCCB</td>\n      <td>CACCDDCDACC</td>\n      <td>CDBACCBABAC</td>\n      <td>-1.491299</td>\n      <td>-1.471218</td>\n      <td>A</td>\n      <td>A</td>\n    </tr>\n    <tr>\n      <th>2021200</th>\n      <td>3</td>\n      <td>35</td>\n      <td>3552403</td>\n      <td>2</td>\n      <td>5</td>\n      <td>28181055</td>\n      <td>1</td>\n      <td>3.0</td>\n      <td>6.0</td>\n      <td>DDADAADBACA</td>\n      <td>ADADBBACCDC</td>\n      <td>CAACBBCDBCA</td>\n      <td>BCCBDBDDBBB</td>\n      <td>-0.791252</td>\n      <td>-0.080292</td>\n      <td>A</td>\n      <td>C</td>\n    </tr>\n    <tr>\n      <th>1333244</th>\n      <td>3</td>\n      <td>32</td>\n      <td>3201308</td>\n      <td>2</td>\n      <td>5</td>\n      <td>24956132</td>\n      <td>1</td>\n      <td>6.0</td>\n      <td>7.0</td>\n      <td>BDACBBA*ABB</td>\n      <td>BBBDBABADCD</td>\n      <td>CBABBADDDAD</td>\n      <td>CCAACDBCDBB</td>\n      <td>-0.616142</td>\n      <td>-0.777250</td>\n      <td>B</td>\n      <td>F</td>\n    </tr>\n    <tr>\n      <th>1683393</th>\n      <td>3</td>\n      <td>35</td>\n      <td>3519709</td>\n      <td>2</td>\n      <td>5</td>\n      <td>27996162</td>\n      <td>1</td>\n      <td>5.0</td>\n      <td>7.0</td>\n      <td>DDACDACDDBD</td>\n      <td>BBDCBDBABAB</td>\n      <td>ABDDDACCDCA</td>\n      <td>CCADBDBDCCD</td>\n      <td>0.407487</td>\n      <td>0.421255</td>\n      <td>B</td>\n      <td>A</td>\n    </tr>\n    <tr>\n      <th>383991</th>\n      <td>2</td>\n      <td>21</td>\n      <td>2108058</td>\n      <td>2</td>\n      <td>5</td>\n      <td>22338421</td>\n      <td>1</td>\n      <td>7.0</td>\n      <td>1.0</td>\n      <td>ABABAAABCDA</td>\n      <td>BCCDBDDABCC</td>\n      <td>DBCBCCCDDCB</td>\n      <td>BDDBACDBBAD</td>\n      <td>-1.751161</td>\n      <td>-2.193475</td>\n      <td>A</td>\n      <td>C</td>\n    </tr>\n    <tr>\n      <th>1913538</th>\n      <td>3</td>\n      <td>35</td>\n      <td>3550308</td>\n      <td>1</td>\n      <td>5</td>\n      <td>27565849</td>\n      <td>1</td>\n      <td>5.0</td>\n      <td>6.0</td>\n      <td>DAACDCDDDBD</td>\n      <td>ACADBCACDCC</td>\n      <td>ACBBDAADDAB</td>\n      <td>AAABADDABCC</td>\n      <td>-0.917897</td>\n      <td>-1.091293</td>\n      <td>B</td>\n      <td>NaN</td>\n    </tr>\n    <tr>\n      <th>2388453</th>\n      <td>4</td>\n      <td>43</td>\n      <td>4319000</td>\n      <td>2</td>\n      <td>5</td>\n      <td>26343641</td>\n      <td>0</td>\n      <td>7.0</td>\n      <td>1.0</td>\n      <td>...........</td>\n      <td>...........</td>\n      <td>...........</td>\n      <td>...........</td>\n      <td>NaN</td>\n      <td>NaN</td>\n      <td>NaN</td>\n      <td>NaN</td>\n    </tr>\n  </tbody>\n</table>\n</div>"
     },
     "metadata": {},
     "output_type": "execute_result",
     "execution_count": 16
    }
   ],
   "source": [
    "df_aluno_5EF.sample(10)"
   ]
  },
  {
   "cell_type": "code",
   "execution_count": 17,
   "outputs": [
    {
     "data": {
      "text/plain": "         ID_REGIAO  ID_UF  ID_MUNICIPIO  ID_AREA  ID_SERIE  ID_ALUNO  \\\n1516965          3     35       3521309        2         9  27996938   \n90132            1     13       1303403        2         9  21690264   \n2057162          4     43       4305959        2         9  26422929   \n235263           1     17       1706100        2         9  22235042   \n2288364          5     52       5215231        2         9  26865135   \n759424           2     28       6307218        2         9  23642398   \n2191239          5     51       5102702        2         9  26554911   \n2073148          4     43       4310009        2         9  26206580   \n1694503          3     35       3550308        1         9  27014553   \n1723535          3     35       3550308        1         9  27494705   \n\n         IN_PREENCHIMENTO_PROVA  ID_BLOCO_1  ID_BLOCO_2 TX_RESP_BLOCO_1_LP  \\\n1516965                       1         1.0         2.0      CDBBADDCCBCAD   \n90132                         1         6.0         1.0      BCDCDDBABCDCA   \n2057162                       1         6.0         2.0      BCACBCCDCDCBC   \n235263                        0         1.0         3.0      .............   \n2288364                       1         2.0         5.0      CACADABDBCAAD   \n759424                        0         5.0         1.0      .............   \n2191239                       0         6.0         7.0      .............   \n2073148                       1         3.0         5.0      CBDDCDCABADDD   \n1694503                       1         4.0         6.0      DBDDDBBAADBCD   \n1723535                       1         3.0         6.0      CCDAADAABBDCA   \n\n        TX_RESP_BLOCO_2_LP TX_RESP_BLOCO_1_MT TX_RESP_BLOCO_2_MT  \\\n1516965      CDABAABDBCDBA      CAACBDBBBABCB      CCCBAABBACCAB   \n90132        CADBBCDDBDCBA      DDBDBCCDDCCCB      CACCACBCCBCBC   \n2057162      CACADABDBCBAD      DBDCDBABBADCD      BDBCDABBACADD   \n235263       .............      .............      .............   \n2288364      BCDCCACDCDBAB      CBBCBACBCCDAA      CDBDDDDCBCBAB   \n759424       .............      .............      .............   \n2191239      .............      .............      .............   \n2073148      BADAAAADCBBAB      DBCCAABCACDCD      CDBDDDDBCBCAB   \n1694503      BCACACCDCDCBC      BDCBCAABCACAB      DBCCDAABDCCCB   \n1723535      AAABBDCACBBAA      CDBBCACCDDDAB      ADBAAACAADBAA   \n\n         PROFICIENCIA_LP  PROFICIENCIA_MT TX_RESP_Q001 TX_RESP_Q002  \n1516965        -0.325815        -0.333595          NaN            C  \n90132          -1.375817        -0.612362            B            C  \n2057162         1.600194         1.558495            B            C  \n235263               NaN              NaN          NaN          NaN  \n2288364         0.887801        -0.052538            A            A  \n759424               NaN              NaN          NaN          NaN  \n2191239              NaN              NaN          NaN          NaN  \n2073148         0.823279         1.240028            A            A  \n1694503         0.847383         0.424824            A            A  \n1723535        -0.843181        -1.909236            B            B  ",
      "text/html": "<div>\n<style scoped>\n    .dataframe tbody tr th:only-of-type {\n        vertical-align: middle;\n    }\n\n    .dataframe tbody tr th {\n        vertical-align: top;\n    }\n\n    .dataframe thead th {\n        text-align: right;\n    }\n</style>\n<table border=\"1\" class=\"dataframe\">\n  <thead>\n    <tr style=\"text-align: right;\">\n      <th></th>\n      <th>ID_REGIAO</th>\n      <th>ID_UF</th>\n      <th>ID_MUNICIPIO</th>\n      <th>ID_AREA</th>\n      <th>ID_SERIE</th>\n      <th>ID_ALUNO</th>\n      <th>IN_PREENCHIMENTO_PROVA</th>\n      <th>ID_BLOCO_1</th>\n      <th>ID_BLOCO_2</th>\n      <th>TX_RESP_BLOCO_1_LP</th>\n      <th>TX_RESP_BLOCO_2_LP</th>\n      <th>TX_RESP_BLOCO_1_MT</th>\n      <th>TX_RESP_BLOCO_2_MT</th>\n      <th>PROFICIENCIA_LP</th>\n      <th>PROFICIENCIA_MT</th>\n      <th>TX_RESP_Q001</th>\n      <th>TX_RESP_Q002</th>\n    </tr>\n  </thead>\n  <tbody>\n    <tr>\n      <th>1516965</th>\n      <td>3</td>\n      <td>35</td>\n      <td>3521309</td>\n      <td>2</td>\n      <td>9</td>\n      <td>27996938</td>\n      <td>1</td>\n      <td>1.0</td>\n      <td>2.0</td>\n      <td>CDBBADDCCBCAD</td>\n      <td>CDABAABDBCDBA</td>\n      <td>CAACBDBBBABCB</td>\n      <td>CCCBAABBACCAB</td>\n      <td>-0.325815</td>\n      <td>-0.333595</td>\n      <td>NaN</td>\n      <td>C</td>\n    </tr>\n    <tr>\n      <th>90132</th>\n      <td>1</td>\n      <td>13</td>\n      <td>1303403</td>\n      <td>2</td>\n      <td>9</td>\n      <td>21690264</td>\n      <td>1</td>\n      <td>6.0</td>\n      <td>1.0</td>\n      <td>BCDCDDBABCDCA</td>\n      <td>CADBBCDDBDCBA</td>\n      <td>DDBDBCCDDCCCB</td>\n      <td>CACCACBCCBCBC</td>\n      <td>-1.375817</td>\n      <td>-0.612362</td>\n      <td>B</td>\n      <td>C</td>\n    </tr>\n    <tr>\n      <th>2057162</th>\n      <td>4</td>\n      <td>43</td>\n      <td>4305959</td>\n      <td>2</td>\n      <td>9</td>\n      <td>26422929</td>\n      <td>1</td>\n      <td>6.0</td>\n      <td>2.0</td>\n      <td>BCACBCCDCDCBC</td>\n      <td>CACADABDBCBAD</td>\n      <td>DBDCDBABBADCD</td>\n      <td>BDBCDABBACADD</td>\n      <td>1.600194</td>\n      <td>1.558495</td>\n      <td>B</td>\n      <td>C</td>\n    </tr>\n    <tr>\n      <th>235263</th>\n      <td>1</td>\n      <td>17</td>\n      <td>1706100</td>\n      <td>2</td>\n      <td>9</td>\n      <td>22235042</td>\n      <td>0</td>\n      <td>1.0</td>\n      <td>3.0</td>\n      <td>.............</td>\n      <td>.............</td>\n      <td>.............</td>\n      <td>.............</td>\n      <td>NaN</td>\n      <td>NaN</td>\n      <td>NaN</td>\n      <td>NaN</td>\n    </tr>\n    <tr>\n      <th>2288364</th>\n      <td>5</td>\n      <td>52</td>\n      <td>5215231</td>\n      <td>2</td>\n      <td>9</td>\n      <td>26865135</td>\n      <td>1</td>\n      <td>2.0</td>\n      <td>5.0</td>\n      <td>CACADABDBCAAD</td>\n      <td>BCDCCACDCDBAB</td>\n      <td>CBBCBACBCCDAA</td>\n      <td>CDBDDDDCBCBAB</td>\n      <td>0.887801</td>\n      <td>-0.052538</td>\n      <td>A</td>\n      <td>A</td>\n    </tr>\n    <tr>\n      <th>759424</th>\n      <td>2</td>\n      <td>28</td>\n      <td>6307218</td>\n      <td>2</td>\n      <td>9</td>\n      <td>23642398</td>\n      <td>0</td>\n      <td>5.0</td>\n      <td>1.0</td>\n      <td>.............</td>\n      <td>.............</td>\n      <td>.............</td>\n      <td>.............</td>\n      <td>NaN</td>\n      <td>NaN</td>\n      <td>NaN</td>\n      <td>NaN</td>\n    </tr>\n    <tr>\n      <th>2191239</th>\n      <td>5</td>\n      <td>51</td>\n      <td>5102702</td>\n      <td>2</td>\n      <td>9</td>\n      <td>26554911</td>\n      <td>0</td>\n      <td>6.0</td>\n      <td>7.0</td>\n      <td>.............</td>\n      <td>.............</td>\n      <td>.............</td>\n      <td>.............</td>\n      <td>NaN</td>\n      <td>NaN</td>\n      <td>NaN</td>\n      <td>NaN</td>\n    </tr>\n    <tr>\n      <th>2073148</th>\n      <td>4</td>\n      <td>43</td>\n      <td>4310009</td>\n      <td>2</td>\n      <td>9</td>\n      <td>26206580</td>\n      <td>1</td>\n      <td>3.0</td>\n      <td>5.0</td>\n      <td>CBDDCDCABADDD</td>\n      <td>BADAAAADCBBAB</td>\n      <td>DBCCAABCACDCD</td>\n      <td>CDBDDDDBCBCAB</td>\n      <td>0.823279</td>\n      <td>1.240028</td>\n      <td>A</td>\n      <td>A</td>\n    </tr>\n    <tr>\n      <th>1694503</th>\n      <td>3</td>\n      <td>35</td>\n      <td>3550308</td>\n      <td>1</td>\n      <td>9</td>\n      <td>27014553</td>\n      <td>1</td>\n      <td>4.0</td>\n      <td>6.0</td>\n      <td>DBDDDBBAADBCD</td>\n      <td>BCACACCDCDCBC</td>\n      <td>BDCBCAABCACAB</td>\n      <td>DBCCDAABDCCCB</td>\n      <td>0.847383</td>\n      <td>0.424824</td>\n      <td>A</td>\n      <td>A</td>\n    </tr>\n    <tr>\n      <th>1723535</th>\n      <td>3</td>\n      <td>35</td>\n      <td>3550308</td>\n      <td>1</td>\n      <td>9</td>\n      <td>27494705</td>\n      <td>1</td>\n      <td>3.0</td>\n      <td>6.0</td>\n      <td>CCDAADAABBDCA</td>\n      <td>AAABBDCACBBAA</td>\n      <td>CDBBCACCDDDAB</td>\n      <td>ADBAAACAADBAA</td>\n      <td>-0.843181</td>\n      <td>-1.909236</td>\n      <td>B</td>\n      <td>B</td>\n    </tr>\n  </tbody>\n</table>\n</div>"
     },
     "metadata": {},
     "output_type": "execute_result",
     "execution_count": 17
    }
   ],
   "source": [
    "df_aluno_9EF.sample(10)"
   ],
   "metadata": {
    "collapsed": false,
    "pycharm": {
     "name": "#%%\n",
     "is_executing": false
    }
   }
  },
  {
   "cell_type": "code",
   "execution_count": 18,
   "outputs": [
    {
     "data": {
      "text/plain": "         ID_REGIAO  ID_UF  ID_MUNICIPIO  ID_AREA  ID_SERIE  ID_ALUNO  \\\n228359           2     22       2207702        2        12  21486611   \n822939           3     33       3304557        1        12  25325123   \n1163665          3     35       3551009        2        12  27205693   \n70607            1     15       1500800        2        12  21866294   \n416255           2     26       2610608        2        12  23443628   \n1059963          3     35       3548708        2        12  28397831   \n648024           3     31       3130200        2        12  24333451   \n756626           3     32       3205200        2        13  24984383   \n563383           2     29       2927408        1        12  23874387   \n759832           3     32       3205309        1        13  24992870   \n\n         IN_PREENCHIMENTO_PROVA  ID_BLOCO_1  ID_BLOCO_2 TX_RESP_BLOCO_1_LP  \\\n228359                        1           7           2      AAAAAAAAAAAAA   \n822939                        1           1           3      ABCDBCDBCBCDC   \n1163665                       1           3           5      ABCBCEDAAEAAD   \n70607                         1           7           2      DCAEABADCCDDE   \n416255                        1           7           3      DCBCCACDACCDD   \n1059963                       1           2           4      ACAAACBDDAEBC   \n648024                        1           4           5      EDBACAACCBABE   \n756626                        1           3           4      AEDBBEDDAEEAD   \n563383                        1           5           6      CADCCACDCEECE   \n759832                        1           4           5      BBBAACABCEEBA   \n\n        TX_RESP_BLOCO_2_LP TX_RESP_BLOCO_1_MT TX_RESP_BLOCO_2_MT  \\\n228359       AAABBBDDDCCCA      ABCDACCCAEAAA      EAAAAADADBAAA   \n822939       ABCDEABABCDCD      CCDACBDCCAEBD      CDAECDCBCDBCB   \n1163665      BBBDAADDAEEAC      EBACCBCCCBDAD      ACBEBEBCDDDCA   \n70607        BCDBEBDDDBABD      ACEDECCCCBDAD      DCBDBDDCDBBBA   \n416255       BDEEBCADDBBAD      CBBBECCBCAADA      CEDDABCACBCDD   \n1059963      AEBACBABCAAEA      DCEDADDCDACCC      CEBDAABDAEDEA   \n648024       BAEDEEDDAEAAE      CADDEBBDDDCBA      AECEDCDCCBADA   \n756626       AEBACABDCDAEE      ABBDDCCAADCAB      BEDDBEBBCEEBB   \n563383       DAADADCABEEAB      ACDEEDBCDDADE      BCAACBABBCAAC   \n759832       BBBBBCDDAECAB      CEBDAABBACEEA      ABBEDCDCCBECC   \n\n         PROFICIENCIA_LP  PROFICIENCIA_MT TX_RESP_Q001 TX_RESP_Q002  \n228359         -0.971244        -0.039534            A          NaN  \n822939         -1.499210        -0.102614            A            C  \n1163665         0.973936         1.255069            A            C  \n70607           0.174351        -0.190804            A            C  \n416255         -0.561430        -0.274598            A            A  \n1059963         0.049682         0.563248            B            C  \n648024          1.472613         1.099489            B            A  \n756626          0.724632        -0.163733            A            A  \n563383         -1.212696        -0.029736            B            A  \n759832          0.118684         1.324692            B            C  ",
      "text/html": "<div>\n<style scoped>\n    .dataframe tbody tr th:only-of-type {\n        vertical-align: middle;\n    }\n\n    .dataframe tbody tr th {\n        vertical-align: top;\n    }\n\n    .dataframe thead th {\n        text-align: right;\n    }\n</style>\n<table border=\"1\" class=\"dataframe\">\n  <thead>\n    <tr style=\"text-align: right;\">\n      <th></th>\n      <th>ID_REGIAO</th>\n      <th>ID_UF</th>\n      <th>ID_MUNICIPIO</th>\n      <th>ID_AREA</th>\n      <th>ID_SERIE</th>\n      <th>ID_ALUNO</th>\n      <th>IN_PREENCHIMENTO_PROVA</th>\n      <th>ID_BLOCO_1</th>\n      <th>ID_BLOCO_2</th>\n      <th>TX_RESP_BLOCO_1_LP</th>\n      <th>TX_RESP_BLOCO_2_LP</th>\n      <th>TX_RESP_BLOCO_1_MT</th>\n      <th>TX_RESP_BLOCO_2_MT</th>\n      <th>PROFICIENCIA_LP</th>\n      <th>PROFICIENCIA_MT</th>\n      <th>TX_RESP_Q001</th>\n      <th>TX_RESP_Q002</th>\n    </tr>\n  </thead>\n  <tbody>\n    <tr>\n      <th>228359</th>\n      <td>2</td>\n      <td>22</td>\n      <td>2207702</td>\n      <td>2</td>\n      <td>12</td>\n      <td>21486611</td>\n      <td>1</td>\n      <td>7</td>\n      <td>2</td>\n      <td>AAAAAAAAAAAAA</td>\n      <td>AAABBBDDDCCCA</td>\n      <td>ABCDACCCAEAAA</td>\n      <td>EAAAAADADBAAA</td>\n      <td>-0.971244</td>\n      <td>-0.039534</td>\n      <td>A</td>\n      <td>NaN</td>\n    </tr>\n    <tr>\n      <th>822939</th>\n      <td>3</td>\n      <td>33</td>\n      <td>3304557</td>\n      <td>1</td>\n      <td>12</td>\n      <td>25325123</td>\n      <td>1</td>\n      <td>1</td>\n      <td>3</td>\n      <td>ABCDBCDBCBCDC</td>\n      <td>ABCDEABABCDCD</td>\n      <td>CCDACBDCCAEBD</td>\n      <td>CDAECDCBCDBCB</td>\n      <td>-1.499210</td>\n      <td>-0.102614</td>\n      <td>A</td>\n      <td>C</td>\n    </tr>\n    <tr>\n      <th>1163665</th>\n      <td>3</td>\n      <td>35</td>\n      <td>3551009</td>\n      <td>2</td>\n      <td>12</td>\n      <td>27205693</td>\n      <td>1</td>\n      <td>3</td>\n      <td>5</td>\n      <td>ABCBCEDAAEAAD</td>\n      <td>BBBDAADDAEEAC</td>\n      <td>EBACCBCCCBDAD</td>\n      <td>ACBEBEBCDDDCA</td>\n      <td>0.973936</td>\n      <td>1.255069</td>\n      <td>A</td>\n      <td>C</td>\n    </tr>\n    <tr>\n      <th>70607</th>\n      <td>1</td>\n      <td>15</td>\n      <td>1500800</td>\n      <td>2</td>\n      <td>12</td>\n      <td>21866294</td>\n      <td>1</td>\n      <td>7</td>\n      <td>2</td>\n      <td>DCAEABADCCDDE</td>\n      <td>BCDBEBDDDBABD</td>\n      <td>ACEDECCCCBDAD</td>\n      <td>DCBDBDDCDBBBA</td>\n      <td>0.174351</td>\n      <td>-0.190804</td>\n      <td>A</td>\n      <td>C</td>\n    </tr>\n    <tr>\n      <th>416255</th>\n      <td>2</td>\n      <td>26</td>\n      <td>2610608</td>\n      <td>2</td>\n      <td>12</td>\n      <td>23443628</td>\n      <td>1</td>\n      <td>7</td>\n      <td>3</td>\n      <td>DCBCCACDACCDD</td>\n      <td>BDEEBCADDBBAD</td>\n      <td>CBBBECCBCAADA</td>\n      <td>CEDDABCACBCDD</td>\n      <td>-0.561430</td>\n      <td>-0.274598</td>\n      <td>A</td>\n      <td>A</td>\n    </tr>\n    <tr>\n      <th>1059963</th>\n      <td>3</td>\n      <td>35</td>\n      <td>3548708</td>\n      <td>2</td>\n      <td>12</td>\n      <td>28397831</td>\n      <td>1</td>\n      <td>2</td>\n      <td>4</td>\n      <td>ACAAACBDDAEBC</td>\n      <td>AEBACBABCAAEA</td>\n      <td>DCEDADDCDACCC</td>\n      <td>CEBDAABDAEDEA</td>\n      <td>0.049682</td>\n      <td>0.563248</td>\n      <td>B</td>\n      <td>C</td>\n    </tr>\n    <tr>\n      <th>648024</th>\n      <td>3</td>\n      <td>31</td>\n      <td>3130200</td>\n      <td>2</td>\n      <td>12</td>\n      <td>24333451</td>\n      <td>1</td>\n      <td>4</td>\n      <td>5</td>\n      <td>EDBACAACCBABE</td>\n      <td>BAEDEEDDAEAAE</td>\n      <td>CADDEBBDDDCBA</td>\n      <td>AECEDCDCCBADA</td>\n      <td>1.472613</td>\n      <td>1.099489</td>\n      <td>B</td>\n      <td>A</td>\n    </tr>\n    <tr>\n      <th>756626</th>\n      <td>3</td>\n      <td>32</td>\n      <td>3205200</td>\n      <td>2</td>\n      <td>13</td>\n      <td>24984383</td>\n      <td>1</td>\n      <td>3</td>\n      <td>4</td>\n      <td>AEDBBEDDAEEAD</td>\n      <td>AEBACABDCDAEE</td>\n      <td>ABBDDCCAADCAB</td>\n      <td>BEDDBEBBCEEBB</td>\n      <td>0.724632</td>\n      <td>-0.163733</td>\n      <td>A</td>\n      <td>A</td>\n    </tr>\n    <tr>\n      <th>563383</th>\n      <td>2</td>\n      <td>29</td>\n      <td>2927408</td>\n      <td>1</td>\n      <td>12</td>\n      <td>23874387</td>\n      <td>1</td>\n      <td>5</td>\n      <td>6</td>\n      <td>CADCCACDCEECE</td>\n      <td>DAADADCABEEAB</td>\n      <td>ACDEEDBCDDADE</td>\n      <td>BCAACBABBCAAC</td>\n      <td>-1.212696</td>\n      <td>-0.029736</td>\n      <td>B</td>\n      <td>A</td>\n    </tr>\n    <tr>\n      <th>759832</th>\n      <td>3</td>\n      <td>32</td>\n      <td>3205309</td>\n      <td>1</td>\n      <td>13</td>\n      <td>24992870</td>\n      <td>1</td>\n      <td>4</td>\n      <td>5</td>\n      <td>BBBAACABCEEBA</td>\n      <td>BBBBBCDDAECAB</td>\n      <td>CEBDAABBACEEA</td>\n      <td>ABBEDCDCCBECC</td>\n      <td>0.118684</td>\n      <td>1.324692</td>\n      <td>B</td>\n      <td>C</td>\n    </tr>\n  </tbody>\n</table>\n</div>"
     },
     "metadata": {},
     "output_type": "execute_result",
     "execution_count": 18
    }
   ],
   "source": [
    "df_aluno_3EM.sample(10)"
   ],
   "metadata": {
    "collapsed": false,
    "pycharm": {
     "name": "#%%\n",
     "is_executing": false
    }
   }
  },
  {
   "cell_type": "code",
   "execution_count": 19,
   "metadata": {
    "pycharm": {
     "is_executing": false
    }
   },
   "outputs": [],
   "source": [
    "### Série\n",
    "idx_serie_gab = colunas_resp.index(ID_SERIE)\n",
    "idx_serie_aluno = colunas_aluno.index(ID_SERIE)\n",
    "\n",
    "### R. Respostas\n",
    "idx_disciplina = colunas_resp.index(DISCIPLINA)\n",
    "idx_posicao_gabarito = colunas_resp.index(ID_POSICAO)\n",
    "idx_gabarito = colunas_resp.index(GABARITO)\n",
    "idx_preenchimento_prova = colunas_aluno.index(IN_PREENCHIMENTO_PROVA)\n",
    "# idx_presenca_prova = colunas_aluno.index(IN_PRESENCA_PROVA)\n",
    "# idx_preenchimento_questionario = colunas_aluno.index(IN_PREENCHIMENTO_QUESTIONARIO)\n",
    "\n",
    "### Blocos\n",
    "bloco_gab = colunas_resp.index(ID_BLOCO) \n",
    "bloco_resp_1 = colunas_aluno.index(ID_BLOCO_1)\n",
    "bloco_resp_2 = colunas_aluno.index(ID_BLOCO_2)\n",
    "aluno_resp_bloco_1_lp = colunas_aluno.index(TX_RESP_BLOCO_1_LP) \n",
    "aluno_resp_bloco_2_lp = colunas_aluno.index(TX_RESP_BLOCO_2_LP) \n",
    "aluno_resp_bloco_1_mt = colunas_aluno.index(TX_RESP_BLOCO_1_MT) \n",
    "aluno_resp_bloco_2_mt = colunas_aluno.index(TX_RESP_BLOCO_2_MT) \n",
    "\n",
    "### Região de Estudo/Aluno\n",
    "idx_uf = colunas_aluno.index(ID_UF )\n",
    "idx_municipio = colunas_aluno.index(ID_MUNICIPIO)\n",
    "idx_regiao = colunas_aluno.index(ID_REGIAO)\n",
    "idx_area = colunas_aluno.index(ID_AREA)\n",
    "idx_sexo = colunas_aluno.index(TX_RESP_Q001)\n",
    "idx_raca = colunas_aluno.index(TX_RESP_Q002)"
   ]
  },
  {
   "cell_type": "code",
   "execution_count": 20,
   "outputs": [],
   "source": [
    "filtro_de_colunas_resposta = ['ID Aluno', 'Série', 'Nota LP', 'Nota MT', 'UF', 'Município', 'Região', 'Área', 'Sexo', 'Raça']"
   ],
   "metadata": {
    "collapsed": false,
    "pycharm": {
     "name": "#%%\n",
     "is_executing": false
    }
   }
  },
  {
   "cell_type": "code",
   "execution_count": 32,
   "outputs": [],
   "source": [
    "def filtrar_dados(serie_dados, nao_realizado=0, colunas=filtro_de_colunas_resposta):\n",
    "    \"\"\"\n",
    "    \n",
    "    :param serie_dados:     Série de dados carregados (DataFrame)\n",
    "    :param nao_realizado:   Número de ocorrências do Não Preenchimento de Prova\n",
    "    :param colunas:  Filtro de Colunas à serem aplicadas ao resultado de serie_dados \n",
    "    :return: \n",
    "        Dados Filtrado (DataFrame)\n",
    "        Quantidade não realizada de provas\n",
    "    \"\"\"\n",
    "    resultado_filtrado = pd.DataFrame([], columns=colunas)\n",
    "    for r in serie_dados.to_numpy():\n",
    "        nota_mt = 0\n",
    "        nota_pt = 0\n",
    "        # Quem não fez a prova é ignorado\n",
    "        if not r[idx_preenchimento_prova]:\n",
    "            nao_realizado =+ 1\n",
    "            print(r[idx_preenchimento_prova], bool(r[idx_preenchimento_prova]))\n",
    "            continue\n",
    "        for gab in df_gabarito.to_numpy():\n",
    "            # if gab['ID_SERIE'] == r['ID_SERIE']:\n",
    "            if gab[idx_serie_gab] == r[idx_serie_aluno] and\\\n",
    "                    (r[bloco_resp_1] == gab[bloco_gab] or r[bloco_resp_2] == gab[bloco_gab]):\n",
    "                # 8 'TX_RESP_BLOCO_1_LP'8, 'TX_RESP_BLOCO_2_LP'9, 'TX_RESP_BLOCO_1_MT'10, 'TX_RESP_BLOCO_2_MT'11,\n",
    "                is_bloco_1 = r[bloco_resp_1] == gab[bloco_gab]\n",
    "                if is_bloco_1 and r[bloco_resp_2] == gab[bloco_gab]:\n",
    "                    print ('EDGE CASES!!')\n",
    "                if gab[idx_gabarito] not in RESPOSTAS_INVALIDAS:\n",
    "                    if gab[idx_disciplina] == 'LP':\n",
    "                        resp_aluno = str(r[aluno_resp_bloco_1_lp if is_bloco_1 else aluno_resp_bloco_2_lp])\n",
    "                        if gab[idx_posicao_gabarito] in (13, 12):\n",
    "                            print ('EDGE CASES!!')\n",
    "                        if resp_aluno[gab[idx_posicao_gabarito]-1] == gab[idx_gabarito]:\n",
    "                            nota_pt += 1\n",
    "                    elif gab[idx_disciplina] == 'MT':\n",
    "                        resp_aluno = str(r[aluno_resp_bloco_1_mt if is_bloco_1 else aluno_resp_bloco_2_mt])\n",
    "                        if resp_aluno[gab[idx_posicao_gabarito]-1] == gab[idx_gabarito]:\n",
    "                            nota_mt += 1\n",
    "        # if nota_pt > 22 or nota_mt > 22:\n",
    "        #     print ('EDGE CASES!')\n",
    "        if nota_pt or nota_mt:\n",
    "            print(nota_pt, nota_mt)\n",
    "            resultado_filtrado.append([\n",
    "                r[0],\n",
    "                r[idx_serie_aluno],\n",
    "                nota_pt,\n",
    "                nota_mt,\n",
    "                r[idx_uf],\n",
    "                r[idx_municipio],\n",
    "                r[idx_regiao],\n",
    "                r[idx_area],\n",
    "                r[idx_sexo],\n",
    "                r[idx_raca]\n",
    "            ]\n",
    "            ,\n",
    "                ignore_index=True\n",
    "            )\n",
    "    return resultado_filtrado, nao_realizado"
   ],
   "metadata": {
    "collapsed": false,
    "pycharm": {
     "name": "#%%\n",
     "is_executing": false
    }
   }
  },
  {
   "cell_type": "code",
   "execution_count": null,
   "outputs": [],
   "source": [
    "# O filtro aplicado demora cerca de 16 minutos cada arquivo \n",
    "# qtd_prova_nao_realizada_9SEM = 0\n",
    "# qtd_prova_nao_realizada_3EM = 0\n",
    "\n",
    "# dados_filtrados = pd.DataFrame([], columns=colunas_filtro)\n",
    "# dados_filtrados = list()\n",
    "\n",
    "dados_filtrados_5SEM, qtd_prova_nao_realizada_5SEM = filtrar_dados(df_aluno_5EF, 0)"
   ],
   "metadata": {
    "collapsed": false,
    "pycharm": {
     "name": "#%%\n",
     "is_executing": true
    }
   }
  },
  {
   "cell_type": "code",
   "execution_count": 23,
   "outputs": [],
   "source": [
    "# dados_filtrados_9SEM, qtd_prova_nao_realizada_9SEM = filtrar_dados(df_aluno_9EF, 0)"
   ],
   "metadata": {
    "collapsed": false,
    "pycharm": {
     "name": "#%%\n",
     "is_executing": false
    }
   }
  },
  {
   "cell_type": "code",
   "execution_count": 24,
   "outputs": [],
   "source": [
    "# dados_filtrados_3EM, qtd_prova_nao_realizada_3EM = filtrar_dados(df_aluno_3EM, 0)"
   ],
   "metadata": {
    "collapsed": false,
    "pycharm": {
     "name": "#%%\n",
     "is_executing": false
    }
   }
  },
  {
   "cell_type": "code",
   "execution_count": 25,
   "metadata": {
    "pycharm": {
     "is_executing": false
    }
   },
   "outputs": [
    {
     "name": "stdout",
     "text": [
      "1\nEmpty DataFrame\nColumns: [ID Aluno, Série, Nota LP, Nota MT, UF, Município, Região, Área, Sexo, Raça]\nIndex: []\n"
     ],
     "output_type": "stream"
    }
   ],
   "source": [
    "print(qtd_prova_nao_realizada_5SEM)\n",
    "print(dados_filtrados_5SEM[:5])"
   ]
  },
  {
   "cell_type": "code",
   "execution_count": 31,
   "outputs": [
    {
     "data": {
      "text/plain": "array([], shape=(0, 10), dtype=object)"
     },
     "metadata": {},
     "output_type": "execute_result",
     "execution_count": 31
    }
   ],
   "source": [
    "# dados_filtrados_5SEM.sample(5)\n",
    "dados_filtrados_5SEM.to_numpy()"
   ],
   "metadata": {
    "collapsed": false,
    "pycharm": {
     "name": "#%%\n",
     "is_executing": false
    }
   }
  },
  {
   "cell_type": "code",
   "execution_count": 27,
   "metadata": {
    "pycharm": {
     "is_executing": false
    }
   },
   "outputs": [
    {
     "data": {
      "text/plain": "Empty DataFrame\nColumns: [ID_SERIE, ID_BLOCO_1, ID_BLOCO_2, TX_RESP_BLOCO_1_LP, TX_RESP_BLOCO_2_LP, TX_RESP_BLOCO_1_MT, TX_RESP_BLOCO_2_MT]\nIndex: []",
      "text/html": "<div>\n<style scoped>\n    .dataframe tbody tr th:only-of-type {\n        vertical-align: middle;\n    }\n\n    .dataframe tbody tr th {\n        vertical-align: top;\n    }\n\n    .dataframe thead th {\n        text-align: right;\n    }\n</style>\n<table border=\"1\" class=\"dataframe\">\n  <thead>\n    <tr style=\"text-align: right;\">\n      <th></th>\n      <th>ID_SERIE</th>\n      <th>ID_BLOCO_1</th>\n      <th>ID_BLOCO_2</th>\n      <th>TX_RESP_BLOCO_1_LP</th>\n      <th>TX_RESP_BLOCO_2_LP</th>\n      <th>TX_RESP_BLOCO_1_MT</th>\n      <th>TX_RESP_BLOCO_2_MT</th>\n    </tr>\n  </thead>\n  <tbody>\n  </tbody>\n</table>\n</div>"
     },
     "metadata": {},
     "output_type": "execute_result",
     "execution_count": 27
    }
   ],
   "source": [
    "df_aluno_5EF.query('ID_SERIE == 9 & (ID_BLOCO_1 == 7 | ID_BLOCO_2 == 7)')[['ID_SERIE', 'ID_BLOCO_1', 'ID_BLOCO_2', 'TX_RESP_BLOCO_1_LP', 'TX_RESP_BLOCO_2_LP', 'TX_RESP_BLOCO_1_MT', 'TX_RESP_BLOCO_2_MT']].head(15)"
   ]
  },
  {
   "cell_type": "code",
   "execution_count": 28,
   "metadata": {
    "pycharm": {
     "is_executing": false
    }
   },
   "outputs": [
    {
     "data": {
      "text/plain": "    ID_SERIE     TIPO_PROVA DISCIPLINA  ID_SERIE_ITEM  ID_BLOCO  ID_POSICAO  \\\n84         3  Prova Regular         LP              9         7           7   \n85         3  Prova Regular         LP              9         7           8   \n86         3  Prova Regular         LP              9         7           9   \n\n   GABARITO  \n84        A  \n85        C  \n86        C  ",
      "text/html": "<div>\n<style scoped>\n    .dataframe tbody tr th:only-of-type {\n        vertical-align: middle;\n    }\n\n    .dataframe tbody tr th {\n        vertical-align: top;\n    }\n\n    .dataframe thead th {\n        text-align: right;\n    }\n</style>\n<table border=\"1\" class=\"dataframe\">\n  <thead>\n    <tr style=\"text-align: right;\">\n      <th></th>\n      <th>ID_SERIE</th>\n      <th>TIPO_PROVA</th>\n      <th>DISCIPLINA</th>\n      <th>ID_SERIE_ITEM</th>\n      <th>ID_BLOCO</th>\n      <th>ID_POSICAO</th>\n      <th>GABARITO</th>\n    </tr>\n  </thead>\n  <tbody>\n    <tr>\n      <th>84</th>\n      <td>3</td>\n      <td>Prova Regular</td>\n      <td>LP</td>\n      <td>9</td>\n      <td>7</td>\n      <td>7</td>\n      <td>A</td>\n    </tr>\n    <tr>\n      <th>85</th>\n      <td>3</td>\n      <td>Prova Regular</td>\n      <td>LP</td>\n      <td>9</td>\n      <td>7</td>\n      <td>8</td>\n      <td>C</td>\n    </tr>\n    <tr>\n      <th>86</th>\n      <td>3</td>\n      <td>Prova Regular</td>\n      <td>LP</td>\n      <td>9</td>\n      <td>7</td>\n      <td>9</td>\n      <td>C</td>\n    </tr>\n  </tbody>\n</table>\n</div>"
     },
     "metadata": {},
     "output_type": "execute_result",
     "execution_count": 28
    }
   ],
   "source": [
    "df_gabarito.query('ID_SERIE == 3 & DISCIPLINA == \"LP\" & ID_SERIE_ITEM == 9 & ID_BLOCO == 7').head(10)"
   ]
  },
  {
   "cell_type": "code",
   "execution_count": 28,
   "metadata": {
    "pycharm": {
     "is_executing": false
    }
   },
   "outputs": [],
   "source": []
  }
 ],
 "metadata": {
  "kernelspec": {
   "display_name": "Python 3",
   "language": "python",
   "name": "python3"
  },
  "language_info": {
   "codemirror_mode": {
    "name": "ipython",
    "version": 3
   },
   "file_extension": ".py",
   "mimetype": "text/x-python",
   "name": "python",
   "nbconvert_exporter": "python",
   "pygments_lexer": "ipython3",
   "version": "3.7.3"
  },
  "pycharm": {
   "stem_cell": {
    "cell_type": "raw",
    "source": [],
    "metadata": {
     "collapsed": false
    }
   }
  }
 },
 "nbformat": 4,
 "nbformat_minor": 2
}