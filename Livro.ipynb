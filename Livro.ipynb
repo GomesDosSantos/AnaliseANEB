{
 "cells": [
  {
   "cell_type": "code",
   "execution_count": 1,
   "metadata": {
    "pycharm": {
     "is_executing": false
    }
   },
   "outputs": [],
   "source": [
    "import pandas as pd"
   ]
  },
  {
   "cell_type": "code",
   "execution_count": 2,
   "metadata": {
    "pycharm": {
     "is_executing": false
    }
   },
   "outputs": [],
   "source": [
    "%matplotlib inline"
   ]
  },
  {
   "cell_type": "code",
   "execution_count": 3,
   "metadata": {
    "pycharm": {
     "is_executing": false
    }
   },
   "outputs": [],
   "source": [
    "pd.options.display.max_columns = 25"
   ]
  },
  {
   "cell_type": "code",
   "execution_count": 4,
   "metadata": {
    "pycharm": {
     "is_executing": false
    }
   },
   "outputs": [],
   "source": [
    "pd.options.display.max_rows = None"
   ]
  },
  {
   "cell_type": "markdown",
   "metadata": {},
   "source": [
    "Arquivos extraídos do Microdados INEP"
   ]
  },
  {
   "cell_type": "code",
   "execution_count": 5,
   "metadata": {
    "pycharm": {
     "is_executing": false
    }
   },
   "outputs": [],
   "source": [
    "file_resp = '../dados/TS_ITEM.csv'"
   ]
  },
  {
   "cell_type": "code",
   "execution_count": 6,
   "metadata": {
    "pycharm": {
     "is_executing": false
    }
   },
   "outputs": [],
   "source": [
    "file_alunos_3EM_ESC = '../dados/TS_ALUNO_3EM_ESC.csv'\n",
    "file_alunos_3EM_AG = '../dados/TS_ALUNO_3EM_AG.csv'\n",
    "file_alunos_5EF = '../dados/TS_ALUNO_5EF.csv'\n",
    "file_alunos_9EF = '../dados/TS_ALUNO_9EF.csv'"
   ]
  },
  {
   "cell_type": "markdown",
   "metadata": {},
   "source": [
    "Conjunto Definido de Colunas à Serem Utilizadas"
   ]
  },
  {
   "cell_type": "markdown",
   "source": [
    "Identificadores das Colunas"
   ],
   "metadata": {
    "collapsed": false,
    "pycharm": {
     "name": "#%% md\n"
    }
   }
  },
  {
   "cell_type": "code",
   "execution_count": null,
   "outputs": [],
   "source": [
    "\n",
    "RESPOSTAS_INVALIDAS = ['X', '.', '*', ' ', '']\n",
    "\n",
    "ID_SERIE = 'ID_SERIE'\n",
    "TIPO_PROVA = 'TIPO_PROVA'\n",
    "DISCIPLINA = 'DISCIPLINA'\n",
    "ID_SERIE_ITEM = 'ID_SERIE_ITEM'\n",
    "ID_BLOCO = 'ID_BLOCO'\n",
    "ID_POSICAO = 'ID_POSICAO'\n",
    "GABARITO = 'GABARITO'\n",
    "ID_PROVA_BRASIL = 'ID_PROVA_BRASIL' # Ano da Prova, pode ser ignorado, pois os arquivos são baixados por ano\n",
    "ID_UF = 'ID_UF'\n",
    "ID_MUNICIPIO = 'ID_MUNICIPIO'\n",
    "\n",
    "# Preenchimento Prova\n",
    "# ID_SERIE = 'ID_SERIE'\n",
    "ID_ALUNO = 'ID_ALUNO'\n",
    "IN_PREENCHIMENTO_PROVA = 'IN_PREENCHIMENTO_PROVA'\n",
    "IN_PRESENCA_PROVA = 'IN_PRESENCA_PROVA'\n",
    "ID_REGIAO = 'ID_REGIAO'\n",
    "ID_AREA = 'ID_AREA'\n",
    "# Respostas da Prova\n",
    "ID_BLOCO_1 = 'ID_BLOCO_1'\n",
    "ID_BLOCO_2 = 'ID_BLOCO_2'\n",
    "TX_RESP_BLOCO_1_LP = 'TX_RESP_BLOCO_1_LP'\n",
    "TX_RESP_BLOCO_2_LP = 'TX_RESP_BLOCO_2_LP'\n",
    "TX_RESP_BLOCO_1_MT = 'TX_RESP_BLOCO_1_MT'\n",
    "TX_RESP_BLOCO_2_MT = 'TX_RESP_BLOCO_2_MT'\n",
    "# Proeficiência do ALuno\n",
    "PESO_ALUNO_LP = 'PESO_ALUNO_LP'\n",
    "PESO_ALUNO_MT = 'PESO_ALUNO_MT'\n",
    "PROFICIENCIA_LP = 'PROFICIENCIA_LP'\n",
    "ERRO_PADRAO_LP = 'ERRO_PADRAO_LP'\n",
    "PROFICIENCIA_LP_SAEB = 'PROFICIENCIA_LP_SAEB'\n",
    "ERRO_PADRAO_LP_SAEB = 'ERRO_PADRAO_LP_SAEB'\n",
    "PROFICIENCIA_MT = 'PROFICIENCIA_MT'\n",
    "ERRO_PADRAO_MT = 'ERRO_PADRAO_MT'\n",
    "PROFICIENCIA_MT_SAEB = 'PROFICIENCIA_MT_SAEB'\n",
    "ERRO_PADRAO_MT_SAEB = 'ERRO_PADRAO_MT_SAEB'\n",
    "# Questionário Socioeconômico\n",
    "IN_PREENCHIMENTO_QUESTIONARIO = 'IN_PREENCHIMENTO_QUESTIONARIO'\n",
    "TX_RESP_Q001 = 'TX_RESP_Q001' # Sexo\n",
    "TX_RESP_Q002 = 'TX_RESP_Q002' # Cor/Raça"
   ],
   "metadata": {
    "collapsed": false,
    "pycharm": {
     "name": "#%%\n",
     "is_executing": true
    }
   }
  },
  {
   "cell_type": "code",
   "execution_count": 8,
   "metadata": {
    "pycharm": {
     "is_executing": false
    }
   },
   "outputs": [],
   "source": [
    "colunas_resp = [ID_SERIE, TIPO_PROVA, DISCIPLINA, ID_SERIE_ITEM, ID_BLOCO, ID_POSICAO, GABARITO]\n",
    "# DESCRITOR_HABILIDADE"
   ]
  },
  {
   "cell_type": "code",
   "execution_count": 36,
   "metadata": {
    "pycharm": {
     "is_executing": false
    }
   },
   "outputs": [],
   "source": [
    "colunas_aluno = [\n",
    "    ID_ALUNO,\n",
    "    ID_PROVA_BRASIL,\n",
    "    ID_UF, ID_MUNICIPIO, ID_REGIAO, ID_AREA,\n",
    "    ID_SERIE, IN_PREENCHIMENTO_PROVA, IN_PRESENCA_PROVA,\n",
    "    ID_BLOCO_1, ID_BLOCO_2,\n",
    "    TX_RESP_BLOCO_1_LP, TX_RESP_BLOCO_2_LP, TX_RESP_BLOCO_1_MT, TX_RESP_BLOCO_2_MT,\n",
    "    PESO_ALUNO_LP, PESO_ALUNO_MT,\n",
    "    PROFICIENCIA_LP, ERRO_PADRAO_LP, PROFICIENCIA_LP_SAEB, ERRO_PADRAO_LP_SAEB,\n",
    "    PROFICIENCIA_MT, ERRO_PADRAO_MT, PROFICIENCIA_MT_SAEB, ERRO_PADRAO_MT_SAEB,\n",
    "    IN_PREENCHIMENTO_QUESTIONARIO,\n",
    "    TX_RESP_Q001,\n",
    "    TX_RESP_Q002\n",
    "]"
   ]
  },
  {
   "cell_type": "code",
   "execution_count": 10,
   "metadata": {
    "pycharm": {
     "is_executing": false
    }
   },
   "outputs": [],
   "source": [
    "df_gabarito = pd.read_csv(\n",
    "    file_resp,\n",
    "    delimiter=';', encoding='iso-8859-1',\n",
    "    usecols=colunas_resp,\n",
    "    low_memory=True\n",
    "    #  # true_values=['1'],\n",
    "    # false_values=['0']\n",
    ")"
   ]
  },
  {
   "cell_type": "code",
   "execution_count": 11,
   "metadata": {
    "pycharm": {
     "is_executing": false
    }
   },
   "outputs": [
    {
     "data": {
      "text/plain": "     ID_SERIE         TIPO_PROVA DISCIPLINA  ID_SERIE_ITEM  ID_BLOCO  \\\n139         3      Prova Regular         MT              3         2   \n661         9  Macrotipo 18 e 24         MT              5         2   \n601         9      Prova Regular         MT              9         5   \n575         9      Prova Regular         MT              9         3   \n653         9  Macrotipo 18 e 24         MT              9         2   \n144         3      Prova Regular         MT              3         3   \n255         5      Prova Regular         LP              5         2   \n19          3      Prova Regular         LP              9         2   \n582         9      Prova Regular         MT              5         3   \n392         5      Prova Regular         MT              5         6   \n\n     ID_POSICAO GABARITO  \n139          10        D  \n661           9        B  \n601           1        C  \n575           1        D  \n653           1        D  \n144           2        B  \n255          11        C  \n19            7        D  \n582           8        C  \n392           5        D  ",
      "text/html": "<div>\n<style scoped>\n    .dataframe tbody tr th:only-of-type {\n        vertical-align: middle;\n    }\n\n    .dataframe tbody tr th {\n        vertical-align: top;\n    }\n\n    .dataframe thead th {\n        text-align: right;\n    }\n</style>\n<table border=\"1\" class=\"dataframe\">\n  <thead>\n    <tr style=\"text-align: right;\">\n      <th></th>\n      <th>ID_SERIE</th>\n      <th>TIPO_PROVA</th>\n      <th>DISCIPLINA</th>\n      <th>ID_SERIE_ITEM</th>\n      <th>ID_BLOCO</th>\n      <th>ID_POSICAO</th>\n      <th>GABARITO</th>\n    </tr>\n  </thead>\n  <tbody>\n    <tr>\n      <th>139</th>\n      <td>3</td>\n      <td>Prova Regular</td>\n      <td>MT</td>\n      <td>3</td>\n      <td>2</td>\n      <td>10</td>\n      <td>D</td>\n    </tr>\n    <tr>\n      <th>661</th>\n      <td>9</td>\n      <td>Macrotipo 18 e 24</td>\n      <td>MT</td>\n      <td>5</td>\n      <td>2</td>\n      <td>9</td>\n      <td>B</td>\n    </tr>\n    <tr>\n      <th>601</th>\n      <td>9</td>\n      <td>Prova Regular</td>\n      <td>MT</td>\n      <td>9</td>\n      <td>5</td>\n      <td>1</td>\n      <td>C</td>\n    </tr>\n    <tr>\n      <th>575</th>\n      <td>9</td>\n      <td>Prova Regular</td>\n      <td>MT</td>\n      <td>9</td>\n      <td>3</td>\n      <td>1</td>\n      <td>D</td>\n    </tr>\n    <tr>\n      <th>653</th>\n      <td>9</td>\n      <td>Macrotipo 18 e 24</td>\n      <td>MT</td>\n      <td>9</td>\n      <td>2</td>\n      <td>1</td>\n      <td>D</td>\n    </tr>\n    <tr>\n      <th>144</th>\n      <td>3</td>\n      <td>Prova Regular</td>\n      <td>MT</td>\n      <td>3</td>\n      <td>3</td>\n      <td>2</td>\n      <td>B</td>\n    </tr>\n    <tr>\n      <th>255</th>\n      <td>5</td>\n      <td>Prova Regular</td>\n      <td>LP</td>\n      <td>5</td>\n      <td>2</td>\n      <td>11</td>\n      <td>C</td>\n    </tr>\n    <tr>\n      <th>19</th>\n      <td>3</td>\n      <td>Prova Regular</td>\n      <td>LP</td>\n      <td>9</td>\n      <td>2</td>\n      <td>7</td>\n      <td>D</td>\n    </tr>\n    <tr>\n      <th>582</th>\n      <td>9</td>\n      <td>Prova Regular</td>\n      <td>MT</td>\n      <td>5</td>\n      <td>3</td>\n      <td>8</td>\n      <td>C</td>\n    </tr>\n    <tr>\n      <th>392</th>\n      <td>5</td>\n      <td>Prova Regular</td>\n      <td>MT</td>\n      <td>5</td>\n      <td>6</td>\n      <td>5</td>\n      <td>D</td>\n    </tr>\n  </tbody>\n</table>\n</div>"
     },
     "metadata": {},
     "output_type": "execute_result",
     "execution_count": 11
    }
   ],
   "source": [
    "df_gabarito.sample(10)"
   ]
  },
  {
   "cell_type": "code",
   "execution_count": 12,
   "metadata": {
    "pycharm": {
     "is_executing": false
    }
   },
   "outputs": [
    {
     "name": "stdout",
     "text": [
      "<class 'pandas.core.frame.DataFrame'>\nRangeIndex: 666 entries, 0 to 665\nData columns (total 7 columns):\nID_SERIE         666 non-null int64\nTIPO_PROVA       666 non-null object\nDISCIPLINA       666 non-null object\nID_SERIE_ITEM    666 non-null int64\nID_BLOCO         666 non-null int64\nID_POSICAO       666 non-null int64\nGABARITO         666 non-null object\ndtypes: int64(4), object(3)\nmemory usage: 36.5+ KB\n"
     ],
     "output_type": "stream"
    }
   ],
   "source": [
    "df_gabarito.info()"
   ]
  },
  {
   "cell_type": "code",
   "execution_count": 37,
   "metadata": {
    "pycharm": {
     "is_executing": false
    }
   },
   "outputs": [],
   "source": [
    "df_aluno = pd.read_csv(\n",
    "    file_alunos_5EF,\n",
    "    delimiter=',', encoding='iso-8859-1',\n",
    "    usecols=colunas_aluno,\n",
    "    low_memory=True,\n",
    "    nrows=50000\n",
    "    #  # true_values=['1'],\n",
    "    # false_values=['0']\n",
    ")"
   ]
  },
  {
   "cell_type": "code",
   "execution_count": 40,
   "metadata": {
    "scrolled": true,
    "pycharm": {
     "is_executing": false
    }
   },
   "outputs": [
    {
     "data": {
      "text/plain": "       ID_PROVA_BRASIL  ID_REGIAO  ID_UF  ID_MUNICIPIO  ID_AREA  ID_SERIE  \\\n430               2017          1     11       1100023        2         5   \n28735             2017          1     11       6305481        2         5   \n563               2017          1     11       1100023        2         5   \n17900             2017          1     11       1100205        1         5   \n28185             2017          1     11       6305476        1         5   \n8318              2017          1     11       1100122        2         5   \n48942             2017          1     13       1300631        2         5   \n44218             2017          1     13       1300029        2         5   \n41458             2017          1     12       1200450        2         5   \n28448             2017          1     11       6305476        1         5   \n\n       ID_ALUNO  IN_PREENCHIMENTO_PROVA  IN_PRESENCA_PROVA  ID_BLOCO_1  \\\n430    21506599                       1                  1           6   \n28735  21535721                       1                  1           4   \n563    21506712                       1                  1           7   \n17900  21548266                       0                  0           2   \n28185  21489231                       0                  0           1   \n8318   21514841                       0                  0           4   \n48942  21787824                       1                  1           4   \n44218  21612183                       1                  1           7   \n41458  21583076                       1                  1           7   \n28448  21489056                       1                  1           6   \n\n       ID_BLOCO_2 TX_RESP_BLOCO_1_LP  ... PESO_ALUNO_MT PROFICIENCIA_LP  \\\n430             2        ADABBBAACBC  ...      0.923077       -0.393195   \n28735           6        BCCBAADDDAC  ...      3.566540        1.275135   \n563             3        BBDCCDBABCB  ...      1.000000       -0.636982   \n17900           3        ...........  ...           NaN             NaN   \n28185           4        ...........  ...           NaN             NaN   \n8318            5        ...........  ...           NaN             NaN   \n48942           7        BDCACABDCAA  ...      1.750000       -1.395069   \n44218           3        BBDCBCBABAD  ...      1.000000        0.510556   \n41458           2        BBDCADBACAD  ...      1.031250        0.988657   \n28448           2        ADACBABCCBC  ...      1.850825       -0.557675   \n\n      ERRO_PADRAO_LP  PROFICIENCIA_LP_SAEB  ERRO_PADRAO_LP_SAEB  \\\n430         0.289408            228.322555            15.944460   \n28735       0.603217            320.236465            33.233253   \n563         0.273019            214.891510            15.041535   \n17900            NaN                   NaN                  NaN   \n28185            NaN                   NaN                  NaN   \n8318             NaN                   NaN                  NaN   \n48942       0.355631            173.125947            19.592908   \n44218       0.367662            278.113237            20.255736   \n41458       0.515927            304.453429            28.424153   \n28448       0.303542            219.260799            16.723150   \n\n       PROFICIENCIA_MT  ERRO_PADRAO_MT  PROFICIENCIA_MT_SAEB  \\\n430          -0.732416        0.324993            209.027946   \n28735         0.524633        0.304769            279.287341   \n563          -0.656250        0.338939            213.285041   \n17900              NaN             NaN                   NaN   \n28185              NaN             NaN                   NaN   \n8318               NaN             NaN                   NaN   \n48942        -1.480352        0.407491            167.224062   \n44218         0.850638        0.374596            297.508519   \n41458         0.853362        0.398850            297.660770   \n28448         0.481605        0.327238            276.882406   \n\n       ERRO_PADRAO_MT_SAEB  IN_PREENCHIMENTO_QUESTIONARIO  TX_RESP_Q001  \\\n430              18.164615                              1             B   \n28735            17.034249                              1             A   \n563              18.944090                              1             A   \n17900                  NaN                              0           NaN   \n28185                  NaN                              0           NaN   \n8318                   NaN                              0           NaN   \n48942            22.775621                              1             B   \n44218            20.937042                              1             A   \n41458            22.292655                              1             B   \n28448            18.290094                              1             B   \n\n       TX_RESP_Q002  \n430               C  \n28735             A  \n563               A  \n17900           NaN  \n28185           NaN  \n8318            NaN  \n48942             A  \n44218             A  \n41458             C  \n28448             C  \n\n[10 rows x 28 columns]",
      "text/html": "<div>\n<style scoped>\n    .dataframe tbody tr th:only-of-type {\n        vertical-align: middle;\n    }\n\n    .dataframe tbody tr th {\n        vertical-align: top;\n    }\n\n    .dataframe thead th {\n        text-align: right;\n    }\n</style>\n<table border=\"1\" class=\"dataframe\">\n  <thead>\n    <tr style=\"text-align: right;\">\n      <th></th>\n      <th>ID_PROVA_BRASIL</th>\n      <th>ID_REGIAO</th>\n      <th>ID_UF</th>\n      <th>ID_MUNICIPIO</th>\n      <th>ID_AREA</th>\n      <th>ID_SERIE</th>\n      <th>ID_ALUNO</th>\n      <th>IN_PREENCHIMENTO_PROVA</th>\n      <th>IN_PRESENCA_PROVA</th>\n      <th>ID_BLOCO_1</th>\n      <th>ID_BLOCO_2</th>\n      <th>TX_RESP_BLOCO_1_LP</th>\n      <th>...</th>\n      <th>PESO_ALUNO_MT</th>\n      <th>PROFICIENCIA_LP</th>\n      <th>ERRO_PADRAO_LP</th>\n      <th>PROFICIENCIA_LP_SAEB</th>\n      <th>ERRO_PADRAO_LP_SAEB</th>\n      <th>PROFICIENCIA_MT</th>\n      <th>ERRO_PADRAO_MT</th>\n      <th>PROFICIENCIA_MT_SAEB</th>\n      <th>ERRO_PADRAO_MT_SAEB</th>\n      <th>IN_PREENCHIMENTO_QUESTIONARIO</th>\n      <th>TX_RESP_Q001</th>\n      <th>TX_RESP_Q002</th>\n    </tr>\n  </thead>\n  <tbody>\n    <tr>\n      <th>430</th>\n      <td>2017</td>\n      <td>1</td>\n      <td>11</td>\n      <td>1100023</td>\n      <td>2</td>\n      <td>5</td>\n      <td>21506599</td>\n      <td>1</td>\n      <td>1</td>\n      <td>6</td>\n      <td>2</td>\n      <td>ADABBBAACBC</td>\n      <td>...</td>\n      <td>0.923077</td>\n      <td>-0.393195</td>\n      <td>0.289408</td>\n      <td>228.322555</td>\n      <td>15.944460</td>\n      <td>-0.732416</td>\n      <td>0.324993</td>\n      <td>209.027946</td>\n      <td>18.164615</td>\n      <td>1</td>\n      <td>B</td>\n      <td>C</td>\n    </tr>\n    <tr>\n      <th>28735</th>\n      <td>2017</td>\n      <td>1</td>\n      <td>11</td>\n      <td>6305481</td>\n      <td>2</td>\n      <td>5</td>\n      <td>21535721</td>\n      <td>1</td>\n      <td>1</td>\n      <td>4</td>\n      <td>6</td>\n      <td>BCCBAADDDAC</td>\n      <td>...</td>\n      <td>3.566540</td>\n      <td>1.275135</td>\n      <td>0.603217</td>\n      <td>320.236465</td>\n      <td>33.233253</td>\n      <td>0.524633</td>\n      <td>0.304769</td>\n      <td>279.287341</td>\n      <td>17.034249</td>\n      <td>1</td>\n      <td>A</td>\n      <td>A</td>\n    </tr>\n    <tr>\n      <th>563</th>\n      <td>2017</td>\n      <td>1</td>\n      <td>11</td>\n      <td>1100023</td>\n      <td>2</td>\n      <td>5</td>\n      <td>21506712</td>\n      <td>1</td>\n      <td>1</td>\n      <td>7</td>\n      <td>3</td>\n      <td>BBDCCDBABCB</td>\n      <td>...</td>\n      <td>1.000000</td>\n      <td>-0.636982</td>\n      <td>0.273019</td>\n      <td>214.891510</td>\n      <td>15.041535</td>\n      <td>-0.656250</td>\n      <td>0.338939</td>\n      <td>213.285041</td>\n      <td>18.944090</td>\n      <td>1</td>\n      <td>A</td>\n      <td>A</td>\n    </tr>\n    <tr>\n      <th>17900</th>\n      <td>2017</td>\n      <td>1</td>\n      <td>11</td>\n      <td>1100205</td>\n      <td>1</td>\n      <td>5</td>\n      <td>21548266</td>\n      <td>0</td>\n      <td>0</td>\n      <td>2</td>\n      <td>3</td>\n      <td>...........</td>\n      <td>...</td>\n      <td>NaN</td>\n      <td>NaN</td>\n      <td>NaN</td>\n      <td>NaN</td>\n      <td>NaN</td>\n      <td>NaN</td>\n      <td>NaN</td>\n      <td>NaN</td>\n      <td>NaN</td>\n      <td>0</td>\n      <td>NaN</td>\n      <td>NaN</td>\n    </tr>\n    <tr>\n      <th>28185</th>\n      <td>2017</td>\n      <td>1</td>\n      <td>11</td>\n      <td>6305476</td>\n      <td>1</td>\n      <td>5</td>\n      <td>21489231</td>\n      <td>0</td>\n      <td>0</td>\n      <td>1</td>\n      <td>4</td>\n      <td>...........</td>\n      <td>...</td>\n      <td>NaN</td>\n      <td>NaN</td>\n      <td>NaN</td>\n      <td>NaN</td>\n      <td>NaN</td>\n      <td>NaN</td>\n      <td>NaN</td>\n      <td>NaN</td>\n      <td>NaN</td>\n      <td>0</td>\n      <td>NaN</td>\n      <td>NaN</td>\n    </tr>\n    <tr>\n      <th>8318</th>\n      <td>2017</td>\n      <td>1</td>\n      <td>11</td>\n      <td>1100122</td>\n      <td>2</td>\n      <td>5</td>\n      <td>21514841</td>\n      <td>0</td>\n      <td>0</td>\n      <td>4</td>\n      <td>5</td>\n      <td>...........</td>\n      <td>...</td>\n      <td>NaN</td>\n      <td>NaN</td>\n      <td>NaN</td>\n      <td>NaN</td>\n      <td>NaN</td>\n      <td>NaN</td>\n      <td>NaN</td>\n      <td>NaN</td>\n      <td>NaN</td>\n      <td>0</td>\n      <td>NaN</td>\n      <td>NaN</td>\n    </tr>\n    <tr>\n      <th>48942</th>\n      <td>2017</td>\n      <td>1</td>\n      <td>13</td>\n      <td>1300631</td>\n      <td>2</td>\n      <td>5</td>\n      <td>21787824</td>\n      <td>1</td>\n      <td>1</td>\n      <td>4</td>\n      <td>7</td>\n      <td>BDCACABDCAA</td>\n      <td>...</td>\n      <td>1.750000</td>\n      <td>-1.395069</td>\n      <td>0.355631</td>\n      <td>173.125947</td>\n      <td>19.592908</td>\n      <td>-1.480352</td>\n      <td>0.407491</td>\n      <td>167.224062</td>\n      <td>22.775621</td>\n      <td>1</td>\n      <td>B</td>\n      <td>A</td>\n    </tr>\n    <tr>\n      <th>44218</th>\n      <td>2017</td>\n      <td>1</td>\n      <td>13</td>\n      <td>1300029</td>\n      <td>2</td>\n      <td>5</td>\n      <td>21612183</td>\n      <td>1</td>\n      <td>1</td>\n      <td>7</td>\n      <td>3</td>\n      <td>BBDCBCBABAD</td>\n      <td>...</td>\n      <td>1.000000</td>\n      <td>0.510556</td>\n      <td>0.367662</td>\n      <td>278.113237</td>\n      <td>20.255736</td>\n      <td>0.850638</td>\n      <td>0.374596</td>\n      <td>297.508519</td>\n      <td>20.937042</td>\n      <td>1</td>\n      <td>A</td>\n      <td>A</td>\n    </tr>\n    <tr>\n      <th>41458</th>\n      <td>2017</td>\n      <td>1</td>\n      <td>12</td>\n      <td>1200450</td>\n      <td>2</td>\n      <td>5</td>\n      <td>21583076</td>\n      <td>1</td>\n      <td>1</td>\n      <td>7</td>\n      <td>2</td>\n      <td>BBDCADBACAD</td>\n      <td>...</td>\n      <td>1.031250</td>\n      <td>0.988657</td>\n      <td>0.515927</td>\n      <td>304.453429</td>\n      <td>28.424153</td>\n      <td>0.853362</td>\n      <td>0.398850</td>\n      <td>297.660770</td>\n      <td>22.292655</td>\n      <td>1</td>\n      <td>B</td>\n      <td>C</td>\n    </tr>\n    <tr>\n      <th>28448</th>\n      <td>2017</td>\n      <td>1</td>\n      <td>11</td>\n      <td>6305476</td>\n      <td>1</td>\n      <td>5</td>\n      <td>21489056</td>\n      <td>1</td>\n      <td>1</td>\n      <td>6</td>\n      <td>2</td>\n      <td>ADACBABCCBC</td>\n      <td>...</td>\n      <td>1.850825</td>\n      <td>-0.557675</td>\n      <td>0.303542</td>\n      <td>219.260799</td>\n      <td>16.723150</td>\n      <td>0.481605</td>\n      <td>0.327238</td>\n      <td>276.882406</td>\n      <td>18.290094</td>\n      <td>1</td>\n      <td>B</td>\n      <td>C</td>\n    </tr>\n  </tbody>\n</table>\n<p>10 rows × 28 columns</p>\n</div>"
     },
     "metadata": {},
     "output_type": "execute_result",
     "execution_count": 40
    }
   ],
   "source": [
    "df_aluno.sample(10)"
   ]
  },
  {
   "cell_type": "code",
   "execution_count": 41,
   "metadata": {
    "pycharm": {
     "is_executing": false
    }
   },
   "outputs": [
    {
     "name": "stdout",
     "text": [
      "<class 'pandas.core.frame.DataFrame'>\nRangeIndex: 50000 entries, 0 to 49999\nData columns (total 28 columns):\nID_PROVA_BRASIL                  50000 non-null int64\nID_REGIAO                        50000 non-null int64\nID_UF                            50000 non-null int64\nID_MUNICIPIO                     50000 non-null int64\nID_AREA                          50000 non-null int64\nID_SERIE                         50000 non-null int64\nID_ALUNO                         50000 non-null int64\nIN_PREENCHIMENTO_PROVA           50000 non-null int64\nIN_PRESENCA_PROVA                50000 non-null int64\nID_BLOCO_1                       50000 non-null int64\nID_BLOCO_2                       50000 non-null int64\nTX_RESP_BLOCO_1_LP               50000 non-null object\nTX_RESP_BLOCO_2_LP               50000 non-null object\nTX_RESP_BLOCO_1_MT               50000 non-null object\nTX_RESP_BLOCO_2_MT               50000 non-null object\nPESO_ALUNO_LP                    42586 non-null float64\nPESO_ALUNO_MT                    42586 non-null float64\nPROFICIENCIA_LP                  42669 non-null float64\nERRO_PADRAO_LP                   42669 non-null float64\nPROFICIENCIA_LP_SAEB             42669 non-null float64\nERRO_PADRAO_LP_SAEB              42669 non-null float64\nPROFICIENCIA_MT                  42669 non-null float64\nERRO_PADRAO_MT                   42669 non-null float64\nPROFICIENCIA_MT_SAEB             42669 non-null float64\nERRO_PADRAO_MT_SAEB              42669 non-null float64\nIN_PREENCHIMENTO_QUESTIONARIO    50000 non-null int64\nTX_RESP_Q001                     40344 non-null object\nTX_RESP_Q002                     40260 non-null object\ndtypes: float64(10), int64(12), object(6)\nmemory usage: 10.7+ MB\n"
     ],
     "output_type": "stream"
    }
   ],
   "source": [
    "df_aluno.info()"
   ]
  },
  {
   "cell_type": "code",
   "execution_count": 27,
   "metadata": {},
   "outputs": [],
   "source": [
    "# https://mybinder.org/v2/gh/luizirber/2018-desertos/master?filepath=Usando%20Pandas%20para%20encontrar%20os%20desertos%20de%20not%C3%ADcias%20no%20Brasil.ipynb"
   ]
  },
  {
   "cell_type": "code",
   "execution_count": 28,
   "metadata": {},
   "outputs": [],
   "source": [
    "# aluno_resposta = df_aluno.join(df_gabarito, on=('ID_SERIE', ), lsuffix='_l', rsuffix='_r')"
   ]
  },
  {
   "cell_type": "code",
   "execution_count": 29,
   "metadata": {},
   "outputs": [],
   "source": [
    "# aluno_resposta.describe()"
   ]
  },
  {
   "cell_type": "code",
   "execution_count": 30,
   "metadata": {},
   "outputs": [],
   "source": [
    "# aluno_resposta.info()"
   ]
  },
  {
   "cell_type": "code",
   "execution_count": 31,
   "metadata": {},
   "outputs": [],
   "source": [
    "# aluno_resposta.sample(10)"
   ]
  },
  {
   "cell_type": "code",
   "execution_count": 32,
   "metadata": {},
   "outputs": [
    {
     "data": {
      "text/plain": [
       "array([[2017, 11, 1100015, ..., 3, 13, 'D'],\n",
       "       [2017, 11, 1100015, ..., 3, 13, 'D'],\n",
       "       [2017, 11, 1100015, ..., 3, 13, 'D'],\n",
       "       ...,\n",
       "       [2017, 11, 1100031, ..., 3, 13, 'D'],\n",
       "       [2017, 11, 1100031, ..., 3, 13, 'D'],\n",
       "       [2017, 11, 1100031, ..., 3, 13, 'D']], dtype=object)"
      ]
     },
     "execution_count": 32,
     "metadata": {},
     "output_type": "execute_result"
    }
   ],
   "source": [
    "# aluno_resposta.to_numpy() "
   ]
  },
  {
   "cell_type": "code",
   "execution_count": 33,
   "metadata": {},
   "outputs": [],
   "source": [
    "# To-do: Função que vê se uma resposta está certa"
   ]
  },
  {
   "cell_type": "code",
   "execution_count": 34,
   "metadata": {},
   "outputs": [],
   "source": [
    "# doing"
   ]
  },
  {
   "cell_type": "code",
   "execution_count": null,
   "metadata": {},
   "outputs": [],
   "source": [
    "# p = pd.DataFrame(data, columns=[])"
   ]
  },
  {
   "cell_type": "code",
   "execution_count": 16,
   "metadata": {
    "pycharm": {
     "is_executing": false
    }
   },
   "outputs": [],
   "source": [
    "dados = list()"
   ]
  },
  {
   "cell_type": "code",
   "execution_count": 42,
   "metadata": {
    "pycharm": {
     "is_executing": false
    }
   },
   "outputs": [],
   "source": [
    "### Série\n",
    "idx_serie_gab = colunas_resp.index(ID_SERIE)\n",
    "idx_serie_aluno = colunas_aluno.index(ID_SERIE)\n",
    "\n",
    "### R. Respostas\n",
    "idx_disciplina = colunas_resp.index(DISCIPLINA)\n",
    "idx_posicao_gabarito = colunas_resp.index(ID_POSICAO)\n",
    "idx_gabarito = colunas_resp.index(GABARITO)\n",
    "\n",
    "### Blocos\n",
    "bloco_gab = colunas_resp.index(ID_BLOCO) \n",
    "bloco_resp_1 = colunas_aluno.index(ID_BLOCO_1)\n",
    "bloco_resp_2 = colunas_aluno.index(ID_BLOCO_2)\n",
    "aluno_resp_bloco_1_lp = colunas_aluno.index(TX_RESP_BLOCO_1_LP) \n",
    "aluno_resp_bloco_2_lp = colunas_aluno.index(TX_RESP_BLOCO_2_LP) \n",
    "aluno_resp_bloco_1_mt = colunas_aluno.index(TX_RESP_BLOCO_1_MT) \n",
    "aluno_resp_bloco_2_mt = colunas_aluno.index(TX_RESP_BLOCO_2_MT) \n",
    "\n",
    "### Região de Estudo/Aluno\n",
    "idx_uf = colunas_aluno.index(ID_UF )\n",
    "idx_municipio = colunas_aluno.index(ID_MUNICIPIO)\n",
    "idx_regiao = colunas_aluno.index(ID_REGIAO)\n",
    "idx_area = colunas_aluno.index(ID_AREA)\n",
    "idx_sexo = colunas_aluno.index(TX_RESP_Q001)\n",
    "idx_raca = colunas_aluno.index(TX_RESP_Q002)"
   ]
  },
  {
   "cell_type": "code",
   "execution_count": 43,
   "outputs": [],
   "source": [
    "colunas_filtro = ['ID Aluno', 'Série', 'Nota LP', 'Nota MT', 'UF', 'Município', 'Região', 'Área', 'Sexo', 'Raça']\n",
    "dados_filtrados = []"
   ],
   "metadata": {
    "collapsed": false,
    "pycharm": {
     "name": "#%%\n",
     "is_executing": false
    }
   }
  },
  {
   "cell_type": "code",
   "execution_count": 44,
   "outputs": [],
   "source": [
    "for r in df_aluno.to_numpy():\n",
    "    nota_mt = 0\n",
    "    nota_pt = 0\n",
    "    for gab in df_gabarito.to_numpy():\n",
    "        # if gab['ID_SERIE'] == r['ID_SERIE']:\n",
    "        if gab[idx_serie_gab] == r[idx_serie_aluno] and\\\n",
    "                (r[bloco_resp_1] == gab[bloco_gab] or r[bloco_resp_2] == gab[bloco_gab]):\n",
    "            # 8 'TX_RESP_BLOCO_1_LP'8, 'TX_RESP_BLOCO_2_LP'9, 'TX_RESP_BLOCO_1_MT'10, 'TX_RESP_BLOCO_2_MT'11,\n",
    "            is_bloco_1 = r[bloco_resp_1] == gab[bloco_gab]\n",
    "            if is_bloco_1 and r[bloco_resp_2] == gab[bloco_gab]:\n",
    "                print ('EDGE CASES!!')\n",
    "            if gab[idx_gabarito] not in RESPOSTAS_INVALIDAS:\n",
    "                if gab[idx_disciplina] == 'LP':\n",
    "                    resp_aluno = str(r[aluno_resp_bloco_1_lp if is_bloco_1 else aluno_resp_bloco_2_lp])\n",
    "                    if gab[idx_posicao_gabarito] in (13, 12):\n",
    "                        print ('EDGE CASES!!')\n",
    "                    if resp_aluno[gab[idx_posicao_gabarito]-1] == gab[idx_gabarito]:\n",
    "                        nota_pt += 1\n",
    "                elif gab[idx_disciplina] == 'MT':\n",
    "                    resp_aluno = str(r[aluno_resp_bloco_1_mt if is_bloco_1 else aluno_resp_bloco_2_mt])\n",
    "                    if resp_aluno[gab[idx_posicao_gabarito]-1] == gab[idx_gabarito]:\n",
    "                        nota_mt += 1\n",
    "    # if nota_pt > 22 or nota_mt > 22:\n",
    "    #     print ('EDGE CASES!')\n",
    "    if nota_pt or nota_mt:\n",
    "        dados_filtrados.append([\n",
    "            r[0],\n",
    "            r[idx_serie_aluno],\n",
    "            nota_pt,\n",
    "            nota_mt,\n",
    "            r[idx_uf],\n",
    "            r[idx_municipio],\n",
    "            r[idx_regiao],\n",
    "            r[idx_area],\n",
    "            r[idx_sexo],\n",
    "            r[idx_raca]\n",
    "        ])\n",
    "#%\n",
    "dados_filtrados = pd.DataFrame(dados_filtrados, columns=colunas_filtro)"
   ],
   "metadata": {
    "collapsed": false,
    "pycharm": {
     "name": "#%%\n",
     "is_executing": false
    }
   }
  },
  {
   "cell_type": "code",
   "execution_count": 46,
   "metadata": {
    "pycharm": {
     "is_executing": false
    }
   },
   "outputs": [
    {
     "traceback": [
      "\u001b[1;31m---------------------------------------------------------------------------\u001b[0m",
      "\u001b[1;31mValueError\u001b[0m                                Traceback (most recent call last)",
      "\u001b[1;32m<ipython-input-46-2618846bb608>\u001b[0m in \u001b[0;36m<module>\u001b[1;34m\u001b[0m\n\u001b[1;32m----> 1\u001b[1;33m \u001b[0mdados_filtrados\u001b[0m\u001b[1;33m.\u001b[0m\u001b[0msample\u001b[0m\u001b[1;33m(\u001b[0m\u001b[1;36m5\u001b[0m\u001b[1;33m)\u001b[0m\u001b[1;33m\u001b[0m\u001b[1;33m\u001b[0m\u001b[0m\n\u001b[0m",
      "\u001b[1;32mc:\\users\\guilhermegomesdossan\\appdata\\local\\programs\\python\\python37\\lib\\site-packages\\pandas\\core\\generic.py\u001b[0m in \u001b[0;36msample\u001b[1;34m(self, n, frac, replace, weights, random_state, axis)\u001b[0m\n\u001b[0;32m   4863\u001b[0m                              \"provide positive value.\")\n\u001b[0;32m   4864\u001b[0m \u001b[1;33m\u001b[0m\u001b[0m\n\u001b[1;32m-> 4865\u001b[1;33m         \u001b[0mlocs\u001b[0m \u001b[1;33m=\u001b[0m \u001b[0mrs\u001b[0m\u001b[1;33m.\u001b[0m\u001b[0mchoice\u001b[0m\u001b[1;33m(\u001b[0m\u001b[0maxis_length\u001b[0m\u001b[1;33m,\u001b[0m \u001b[0msize\u001b[0m\u001b[1;33m=\u001b[0m\u001b[0mn\u001b[0m\u001b[1;33m,\u001b[0m \u001b[0mreplace\u001b[0m\u001b[1;33m=\u001b[0m\u001b[0mreplace\u001b[0m\u001b[1;33m,\u001b[0m \u001b[0mp\u001b[0m\u001b[1;33m=\u001b[0m\u001b[0mweights\u001b[0m\u001b[1;33m)\u001b[0m\u001b[1;33m\u001b[0m\u001b[1;33m\u001b[0m\u001b[0m\n\u001b[0m\u001b[0;32m   4866\u001b[0m         \u001b[1;32mreturn\u001b[0m \u001b[0mself\u001b[0m\u001b[1;33m.\u001b[0m\u001b[0mtake\u001b[0m\u001b[1;33m(\u001b[0m\u001b[0mlocs\u001b[0m\u001b[1;33m,\u001b[0m \u001b[0maxis\u001b[0m\u001b[1;33m=\u001b[0m\u001b[0maxis\u001b[0m\u001b[1;33m,\u001b[0m \u001b[0mis_copy\u001b[0m\u001b[1;33m=\u001b[0m\u001b[1;32mFalse\u001b[0m\u001b[1;33m)\u001b[0m\u001b[1;33m\u001b[0m\u001b[1;33m\u001b[0m\u001b[0m\n\u001b[0;32m   4867\u001b[0m \u001b[1;33m\u001b[0m\u001b[0m\n",
      "\u001b[1;32mmtrand.pyx\u001b[0m in \u001b[0;36mmtrand.RandomState.choice\u001b[1;34m()\u001b[0m\n",
      "\u001b[1;31mValueError\u001b[0m: 'a' must be greater than 0 unless no samples are taken"
     ],
     "ename": "ValueError",
     "evalue": "'a' must be greater than 0 unless no samples are taken",
     "output_type": "error"
    }
   ],
   "source": [
    "dados_filtrados.sample(5)"
   ]
  },
  {
   "cell_type": "code",
   "execution_count": null,
   "outputs": [],
   "source": [],
   "metadata": {
    "collapsed": false,
    "pycharm": {
     "name": "#%%\n"
    }
   }
  },
  {
   "cell_type": "code",
   "execution_count": null,
   "metadata": {
    "pycharm": {
     "is_executing": true
    }
   },
   "outputs": [],
   "source": [
    "df_aluno.query('ID_SERIE == 9 & (ID_BLOCO_1 == 7 | ID_BLOCO_2 == 7)')[['ID_SERIE', 'ID_BLOCO_1', 'ID_BLOCO_2', 'TX_RESP_BLOCO_1_LP', 'TX_RESP_BLOCO_2_LP', 'TX_RESP_BLOCO_1_MT', 'TX_RESP_BLOCO_2_MT']].head(15)"
   ]
  },
  {
   "cell_type": "code",
   "execution_count": 35,
   "metadata": {},
   "outputs": [
    {
     "data": {
      "text/html": [
       "<div>\n",
       "<style scoped>\n",
       "    .dataframe tbody tr th:only-of-type {\n",
       "        vertical-align: middle;\n",
       "    }\n",
       "\n",
       "    .dataframe tbody tr th {\n",
       "        vertical-align: top;\n",
       "    }\n",
       "\n",
       "    .dataframe thead th {\n",
       "        text-align: right;\n",
       "    }\n",
       "</style>\n",
       "<table border=\"1\" class=\"dataframe\">\n",
       "  <thead>\n",
       "    <tr style=\"text-align: right;\">\n",
       "      <th></th>\n",
       "      <th>ID_SERIE</th>\n",
       "      <th>TIPO_PROVA</th>\n",
       "      <th>DISCIPLINA</th>\n",
       "      <th>ID_SERIE_ITEM</th>\n",
       "      <th>ID_BLOCO</th>\n",
       "      <th>ID_POSICAO</th>\n",
       "      <th>GABARITO</th>\n",
       "    </tr>\n",
       "  </thead>\n",
       "  <tbody>\n",
       "    <tr>\n",
       "      <th>84</th>\n",
       "      <td>3</td>\n",
       "      <td>Prova Regular</td>\n",
       "      <td>LP</td>\n",
       "      <td>9</td>\n",
       "      <td>7</td>\n",
       "      <td>7</td>\n",
       "      <td>A</td>\n",
       "    </tr>\n",
       "    <tr>\n",
       "      <th>85</th>\n",
       "      <td>3</td>\n",
       "      <td>Prova Regular</td>\n",
       "      <td>LP</td>\n",
       "      <td>9</td>\n",
       "      <td>7</td>\n",
       "      <td>8</td>\n",
       "      <td>C</td>\n",
       "    </tr>\n",
       "    <tr>\n",
       "      <th>86</th>\n",
       "      <td>3</td>\n",
       "      <td>Prova Regular</td>\n",
       "      <td>LP</td>\n",
       "      <td>9</td>\n",
       "      <td>7</td>\n",
       "      <td>9</td>\n",
       "      <td>C</td>\n",
       "    </tr>\n",
       "  </tbody>\n",
       "</table>\n",
       "</div>"
      ],
      "text/plain": [
       "    ID_SERIE     TIPO_PROVA DISCIPLINA  ID_SERIE_ITEM  ID_BLOCO  ID_POSICAO  \\\n",
       "84         3  Prova Regular         LP              9         7           7   \n",
       "85         3  Prova Regular         LP              9         7           8   \n",
       "86         3  Prova Regular         LP              9         7           9   \n",
       "\n",
       "   GABARITO  \n",
       "84        A  \n",
       "85        C  \n",
       "86        C  "
      ]
     },
     "execution_count": 35,
     "metadata": {},
     "output_type": "execute_result"
    }
   ],
   "source": [
    "df_gabarito.query('ID_SERIE == 3 & DISCIPLINA == \"LP\" & ID_SERIE_ITEM == 9 & ID_BLOCO == 7').head(10)"
   ]
  },
  {
   "cell_type": "code",
   "execution_count": null,
   "metadata": {},
   "outputs": [],
   "source": []
  }
 ],
 "metadata": {
  "kernelspec": {
   "display_name": "Python 3",
   "language": "python",
   "name": "python3"
  },
  "language_info": {
   "codemirror_mode": {
    "name": "ipython",
    "version": 3
   },
   "file_extension": ".py",
   "mimetype": "text/x-python",
   "name": "python",
   "nbconvert_exporter": "python",
   "pygments_lexer": "ipython3",
   "version": "3.7.3"
  },
  "pycharm": {
   "stem_cell": {
    "cell_type": "raw",
    "source": [],
    "metadata": {
     "collapsed": false
    }
   }
  }
 },
 "nbformat": 4,
 "nbformat_minor": 2
}