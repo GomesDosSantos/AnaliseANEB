{
 "cells": [
  {
   "cell_type": "code",
   "execution_count": 1,
   "metadata": {
    "pycharm": {
     "is_executing": false
    }
   },
   "outputs": [],
   "source": [
    "import pandas as pd\n",
    "import matplotlib as mplot"
   ]
  },
  {
   "cell_type": "code",
   "execution_count": 2,
   "metadata": {
    "pycharm": {
     "is_executing": false
    }
   },
   "outputs": [],
   "source": [
    "%matplotlib inline"
   ]
  },
  {
   "cell_type": "code",
   "execution_count": 3,
   "metadata": {
    "pycharm": {
     "is_executing": false
    }
   },
   "outputs": [],
   "source": [
    "pd.options.display.max_columns = 25\n",
    "pd.options.display.max_rows = 10"
   ]
  },
  {
   "cell_type": "markdown",
   "metadata": {},
   "source": [
    "### Arquivos extraídos do Microdados INEP"
   ]
  },
  {
   "cell_type": "code",
   "execution_count": 4,
   "metadata": {
    "pycharm": {
     "is_executing": false
    }
   },
   "outputs": [],
   "source": [
    "file_resp = '../dados/TS_ITEM.csv'\n",
    "file_alunos_3EM_ESC = '../dados/TS_ALUNO_3EM_ESC.csv'\n",
    "# file_alunos_3EM_AG = '../dados/TS_ALUNO_3EM_AG.csv'\n",
    "file_alunos_9EF = '../dados/TS_ALUNO_9EF.csv'\n",
    "file_alunos_5EF = '../dados/TS_ALUNO_5EF.csv'"
   ]
  },
  {
   "cell_type": "markdown",
   "metadata": {},
   "source": [
    "### Conjunto Definido de Colunas à Serem Utilizadas"
   ]
  },
  {
   "cell_type": "code",
   "execution_count": 5,
   "metadata": {},
   "outputs": [],
   "source": [
    "RESPOSTAS_INVALIDAS = ['X', '.', '*', ' ', '']"
   ]
  },
  {
   "cell_type": "markdown",
   "metadata": {
    "pycharm": {
     "name": "#%% md\n"
    }
   },
   "source": [
    "##### Identificadores das Colunas"
   ]
  },
  {
   "cell_type": "code",
   "execution_count": 6,
   "metadata": {
    "pycharm": {
     "is_executing": false,
     "name": "#%%\n"
    }
   },
   "outputs": [],
   "source": [
    "ID_SERIE = 'ID_SERIE'\n",
    "TIPO_PROVA = 'TIPO_PROVA'\n",
    "DISCIPLINA = 'DISCIPLINA'\n",
    "ID_SERIE_ITEM = 'ID_SERIE_ITEM'\n",
    "ID_BLOCO = 'ID_BLOCO'\n",
    "ID_POSICAO = 'ID_POSICAO'\n",
    "GABARITO = 'GABARITO'\n",
    "ID_PROVA_BRASIL = 'ID_PROVA_BRASIL' # Ano da Prova, pode ser ignorado, pois os arquivos são baixados por ano\n",
    "ID_UF = 'ID_UF'\n",
    "ID_MUNICIPIO = 'ID_MUNICIPIO'"
   ]
  },
  {
   "cell_type": "markdown",
   "metadata": {},
   "source": [
    "##### Preenchimento Prova"
   ]
  },
  {
   "cell_type": "code",
   "execution_count": 7,
   "metadata": {},
   "outputs": [],
   "source": [
    "ID_ALUNO = 'ID_ALUNO'\n",
    "IN_PREENCHIMENTO_PROVA = 'IN_PREENCHIMENTO_PROVA'\n",
    "IN_PRESENCA_PROVA = 'IN_PRESENCA_PROVA'\n",
    "ID_REGIAO = 'ID_REGIAO'\n",
    "ID_AREA = 'ID_AREA'"
   ]
  },
  {
   "cell_type": "markdown",
   "metadata": {},
   "source": [
    "##### Respostas da Prova"
   ]
  },
  {
   "cell_type": "code",
   "execution_count": 8,
   "metadata": {},
   "outputs": [],
   "source": [
    "ID_BLOCO_1 = 'ID_BLOCO_1'\n",
    "ID_BLOCO_2 = 'ID_BLOCO_2'\n",
    "TX_RESP_BLOCO_1_LP = 'TX_RESP_BLOCO_1_LP'\n",
    "TX_RESP_BLOCO_2_LP = 'TX_RESP_BLOCO_2_LP'\n",
    "TX_RESP_BLOCO_1_MT = 'TX_RESP_BLOCO_1_MT'\n",
    "TX_RESP_BLOCO_2_MT = 'TX_RESP_BLOCO_2_MT'"
   ]
  },
  {
   "cell_type": "markdown",
   "metadata": {},
   "source": [
    "##### Proeficiência do ALuno"
   ]
  },
  {
   "cell_type": "code",
   "execution_count": 9,
   "metadata": {},
   "outputs": [],
   "source": [
    "PESO_ALUNO_LP = 'PESO_ALUNO_LP'\n",
    "PESO_ALUNO_MT = 'PESO_ALUNO_MT'\n",
    "PROFICIENCIA_LP = 'PROFICIENCIA_LP'\n",
    "ERRO_PADRAO_LP = 'ERRO_PADRAO_LP'\n",
    "PROFICIENCIA_LP_SAEB = 'PROFICIENCIA_LP_SAEB'\n",
    "ERRO_PADRAO_LP_SAEB = 'ERRO_PADRAO_LP_SAEB'\n",
    "PROFICIENCIA_MT = 'PROFICIENCIA_MT'\n",
    "ERRO_PADRAO_MT = 'ERRO_PADRAO_MT'\n",
    "PROFICIENCIA_MT_SAEB = 'PROFICIENCIA_MT_SAEB'\n",
    "ERRO_PADRAO_MT_SAEB = 'ERRO_PADRAO_MT_SAEB'"
   ]
  },
  {
   "cell_type": "markdown",
   "metadata": {},
   "source": [
    "##### Questionário Socioeconômico"
   ]
  },
  {
   "cell_type": "code",
   "execution_count": 10,
   "metadata": {},
   "outputs": [],
   "source": [
    "IN_PREENCHIMENTO_QUESTIONARIO = 'IN_PREENCHIMENTO_QUESTIONARIO'\n",
    "TX_RESP_Q001 = 'TX_RESP_Q001' # Sexo\n",
    "TX_RESP_Q002 = 'TX_RESP_Q002' # Cor/Raça"
   ]
  },
  {
   "cell_type": "code",
   "execution_count": 11,
   "metadata": {
    "pycharm": {
     "is_executing": false
    }
   },
   "outputs": [],
   "source": [
    "colunas_resp = [\n",
    "    ID_SERIE, TIPO_PROVA, DISCIPLINA,\n",
    "    ID_SERIE_ITEM, ID_BLOCO, ID_POSICAO,\n",
    "    GABARITO\n",
    "]"
   ]
  },
  {
   "cell_type": "code",
   "execution_count": 12,
   "metadata": {
    "pycharm": {
     "is_executing": false
    }
   },
   "outputs": [],
   "source": [
    "colunas_aluno = [\n",
    "    ID_UF, ID_MUNICIPIO, ID_REGIAO, ID_AREA,\n",
    "    ID_SERIE, IN_PREENCHIMENTO_PROVA,\n",
    "    ID_BLOCO_1, ID_BLOCO_2,\n",
    "    TX_RESP_BLOCO_1_LP, TX_RESP_BLOCO_2_LP,\n",
    "    TX_RESP_BLOCO_1_MT, TX_RESP_BLOCO_2_MT,\n",
    "    PROFICIENCIA_LP,\n",
    "    PROFICIENCIA_MT,\n",
    "    TX_RESP_Q001,\n",
    "    TX_RESP_Q002\n",
    "]"
   ]
  },
  {
   "cell_type": "markdown",
   "metadata": {},
   "source": [
    "### Arquivos"
   ]
  },
  {
   "cell_type": "markdown",
   "metadata": {},
   "source": [
    "#### Gabarito, 666 itens corrigidos (+36KB)\n",
    "\n",
    "#### 5SEM,     2.624.019 provas (+360MB)\n",
    "#### 9SEM,     2.341.459 provas (+321MB)\n",
    "#### 3SEMAG,   1.966.507 provas (+270MB)\n",
    "###### 3SEMESC,  1.456.325 provas (+200MB)"
   ]
  },
  {
   "cell_type": "code",
   "execution_count": 13,
   "metadata": {
    "pycharm": {
     "is_executing": false
    }
   },
   "outputs": [],
   "source": [
    "df_gabarito = pd.read_csv(\n",
    "    file_resp,\n",
    "    delimiter=';', encoding='iso-8859-1',\n",
    "    usecols=colunas_resp,\n",
    "    # low_memory=True\n",
    ")"
   ]
  },
  {
   "cell_type": "code",
   "execution_count": 14,
   "metadata": {
    "pycharm": {
     "is_executing": false
    }
   },
   "outputs": [
    {
     "data": {
      "text/html": [
       "<div>\n",
       "<style scoped>\n",
       "    .dataframe tbody tr th:only-of-type {\n",
       "        vertical-align: middle;\n",
       "    }\n",
       "\n",
       "    .dataframe tbody tr th {\n",
       "        vertical-align: top;\n",
       "    }\n",
       "\n",
       "    .dataframe thead th {\n",
       "        text-align: right;\n",
       "    }\n",
       "</style>\n",
       "<table border=\"1\" class=\"dataframe\">\n",
       "  <thead>\n",
       "    <tr style=\"text-align: right;\">\n",
       "      <th></th>\n",
       "      <th>ID_SERIE</th>\n",
       "      <th>TIPO_PROVA</th>\n",
       "      <th>DISCIPLINA</th>\n",
       "      <th>ID_SERIE_ITEM</th>\n",
       "      <th>ID_BLOCO</th>\n",
       "      <th>ID_POSICAO</th>\n",
       "      <th>GABARITO</th>\n",
       "    </tr>\n",
       "  </thead>\n",
       "  <tbody>\n",
       "    <tr>\n",
       "      <th>345</th>\n",
       "      <td>5</td>\n",
       "      <td>Prova Regular</td>\n",
       "      <td>MT</td>\n",
       "      <td>5</td>\n",
       "      <td>2</td>\n",
       "      <td>2</td>\n",
       "      <td>B</td>\n",
       "    </tr>\n",
       "    <tr>\n",
       "      <th>148</th>\n",
       "      <td>3</td>\n",
       "      <td>Prova Regular</td>\n",
       "      <td>MT</td>\n",
       "      <td>3</td>\n",
       "      <td>3</td>\n",
       "      <td>6</td>\n",
       "      <td>D</td>\n",
       "    </tr>\n",
       "    <tr>\n",
       "      <th>85</th>\n",
       "      <td>3</td>\n",
       "      <td>Prova Regular</td>\n",
       "      <td>LP</td>\n",
       "      <td>9</td>\n",
       "      <td>7</td>\n",
       "      <td>8</td>\n",
       "      <td>C</td>\n",
       "    </tr>\n",
       "    <tr>\n",
       "      <th>155</th>\n",
       "      <td>3</td>\n",
       "      <td>Prova Regular</td>\n",
       "      <td>MT</td>\n",
       "      <td>3</td>\n",
       "      <td>3</td>\n",
       "      <td>13</td>\n",
       "      <td>D</td>\n",
       "    </tr>\n",
       "    <tr>\n",
       "      <th>72</th>\n",
       "      <td>3</td>\n",
       "      <td>Prova Regular</td>\n",
       "      <td>LP</td>\n",
       "      <td>9</td>\n",
       "      <td>6</td>\n",
       "      <td>8</td>\n",
       "      <td>C</td>\n",
       "    </tr>\n",
       "    <tr>\n",
       "      <th>207</th>\n",
       "      <td>3</td>\n",
       "      <td>Prova Regular</td>\n",
       "      <td>MT</td>\n",
       "      <td>3</td>\n",
       "      <td>7</td>\n",
       "      <td>13</td>\n",
       "      <td>D</td>\n",
       "    </tr>\n",
       "    <tr>\n",
       "      <th>113</th>\n",
       "      <td>3</td>\n",
       "      <td>Macrotipo 18 e 24</td>\n",
       "      <td>LP</td>\n",
       "      <td>3</td>\n",
       "      <td>2</td>\n",
       "      <td>10</td>\n",
       "      <td>C</td>\n",
       "    </tr>\n",
       "    <tr>\n",
       "      <th>629</th>\n",
       "      <td>9</td>\n",
       "      <td>Prova Regular</td>\n",
       "      <td>MT</td>\n",
       "      <td>9</td>\n",
       "      <td>7</td>\n",
       "      <td>3</td>\n",
       "      <td>B</td>\n",
       "    </tr>\n",
       "    <tr>\n",
       "      <th>197</th>\n",
       "      <td>3</td>\n",
       "      <td>Prova Regular</td>\n",
       "      <td>MT</td>\n",
       "      <td>3</td>\n",
       "      <td>7</td>\n",
       "      <td>3</td>\n",
       "      <td>A</td>\n",
       "    </tr>\n",
       "    <tr>\n",
       "      <th>616</th>\n",
       "      <td>9</td>\n",
       "      <td>Prova Regular</td>\n",
       "      <td>MT</td>\n",
       "      <td>9</td>\n",
       "      <td>6</td>\n",
       "      <td>3</td>\n",
       "      <td>D</td>\n",
       "    </tr>\n",
       "  </tbody>\n",
       "</table>\n",
       "</div>"
      ],
      "text/plain": [
       "     ID_SERIE         TIPO_PROVA DISCIPLINA  ID_SERIE_ITEM  ID_BLOCO  \\\n",
       "345         5      Prova Regular         MT              5         2   \n",
       "148         3      Prova Regular         MT              3         3   \n",
       "85          3      Prova Regular         LP              9         7   \n",
       "155         3      Prova Regular         MT              3         3   \n",
       "72          3      Prova Regular         LP              9         6   \n",
       "207         3      Prova Regular         MT              3         7   \n",
       "113         3  Macrotipo 18 e 24         LP              3         2   \n",
       "629         9      Prova Regular         MT              9         7   \n",
       "197         3      Prova Regular         MT              3         7   \n",
       "616         9      Prova Regular         MT              9         6   \n",
       "\n",
       "     ID_POSICAO GABARITO  \n",
       "345           2        B  \n",
       "148           6        D  \n",
       "85            8        C  \n",
       "155          13        D  \n",
       "72            8        C  \n",
       "207          13        D  \n",
       "113          10        C  \n",
       "629           3        B  \n",
       "197           3        A  \n",
       "616           3        D  "
      ]
     },
     "execution_count": 14,
     "metadata": {},
     "output_type": "execute_result"
    }
   ],
   "source": [
    "df_gabarito.sample(10)"
   ]
  },
  {
   "cell_type": "code",
   "execution_count": 15,
   "metadata": {
    "pycharm": {
     "is_executing": false
    }
   },
   "outputs": [
    {
     "name": "stdout",
     "output_type": "stream",
     "text": [
      "<class 'pandas.core.frame.DataFrame'>\n",
      "RangeIndex: 666 entries, 0 to 665\n",
      "Data columns (total 7 columns):\n",
      "ID_SERIE         666 non-null int64\n",
      "TIPO_PROVA       666 non-null object\n",
      "DISCIPLINA       666 non-null object\n",
      "ID_SERIE_ITEM    666 non-null int64\n",
      "ID_BLOCO         666 non-null int64\n",
      "ID_POSICAO       666 non-null int64\n",
      "GABARITO         666 non-null object\n",
      "dtypes: int64(4), object(3)\n",
      "memory usage: 36.5+ KB\n"
     ]
    }
   ],
   "source": [
    "df_gabarito.info()"
   ]
  },
  {
   "cell_type": "markdown",
   "metadata": {},
   "source": [
    "Geralmente 15 segundos para carregar o conjunto de dados selecionado"
   ]
  },
  {
   "cell_type": "code",
   "execution_count": 16,
   "metadata": {
    "pycharm": {
     "is_executing": false
    }
   },
   "outputs": [],
   "source": [
    "df_aluno_5EF = pd.read_csv(\n",
    "    file_alunos_5EF,\n",
    "    delimiter=',', encoding='iso-8859-1',\n",
    "    usecols=colunas_aluno,\n",
    "    low_memory=True, \n",
    "    nrows=20000  # Para fazer testes com os dados\n",
    ")"
   ]
  },
  {
   "cell_type": "code",
   "execution_count": 17,
   "metadata": {
    "pycharm": {
     "is_executing": false,
     "name": "#%%\n"
    }
   },
   "outputs": [],
   "source": [
    "df_aluno_9EF = pd.read_csv(\n",
    "    file_alunos_9EF,\n",
    "    delimiter=',', encoding='iso-8859-1',\n",
    "    usecols=colunas_aluno,\n",
    "    low_memory=True,\n",
    "    nrows=20000  # Para fazer testes com os dados\n",
    ")"
   ]
  },
  {
   "cell_type": "code",
   "execution_count": 18,
   "metadata": {
    "pycharm": {
     "is_executing": false,
     "name": "#%%\n"
    }
   },
   "outputs": [],
   "source": [
    "# df_aluno_3EM_AG = pd.read_csv(\n",
    "#     file_alunos_3EM_AG,\n",
    "#     delimiter=',', encoding='iso-8859-1',\n",
    "#     usecols=colunas_aluno,\n",
    "#     low_memory=True, \n",
    "# )"
   ]
  },
  {
   "cell_type": "code",
   "execution_count": 19,
   "metadata": {
    "pycharm": {
     "is_executing": false,
     "name": "#%%\n"
    }
   },
   "outputs": [],
   "source": [
    "df_aluno_3EM = pd.read_csv(\n",
    "    file_alunos_3EM_ESC,\n",
    "    delimiter=',', encoding='iso-8859-1',\n",
    "    usecols=colunas_aluno,\n",
    "    low_memory=True,\n",
    "    nrows=20000  # Para fazer testes com os dados\n",
    ")"
   ]
  },
  {
   "cell_type": "code",
   "execution_count": 20,
   "metadata": {
    "pycharm": {
     "is_executing": false
    },
    "scrolled": true
   },
   "outputs": [
    {
     "data": {
      "text/html": [
       "<div>\n",
       "<style scoped>\n",
       "    .dataframe tbody tr th:only-of-type {\n",
       "        vertical-align: middle;\n",
       "    }\n",
       "\n",
       "    .dataframe tbody tr th {\n",
       "        vertical-align: top;\n",
       "    }\n",
       "\n",
       "    .dataframe thead th {\n",
       "        text-align: right;\n",
       "    }\n",
       "</style>\n",
       "<table border=\"1\" class=\"dataframe\">\n",
       "  <thead>\n",
       "    <tr style=\"text-align: right;\">\n",
       "      <th></th>\n",
       "      <th>ID_REGIAO</th>\n",
       "      <th>ID_UF</th>\n",
       "      <th>ID_MUNICIPIO</th>\n",
       "      <th>ID_AREA</th>\n",
       "      <th>ID_SERIE</th>\n",
       "      <th>IN_PREENCHIMENTO_PROVA</th>\n",
       "      <th>ID_BLOCO_1</th>\n",
       "      <th>ID_BLOCO_2</th>\n",
       "      <th>TX_RESP_BLOCO_1_LP</th>\n",
       "      <th>TX_RESP_BLOCO_2_LP</th>\n",
       "      <th>TX_RESP_BLOCO_1_MT</th>\n",
       "      <th>TX_RESP_BLOCO_2_MT</th>\n",
       "      <th>PROFICIENCIA_LP</th>\n",
       "      <th>PROFICIENCIA_MT</th>\n",
       "      <th>TX_RESP_Q001</th>\n",
       "      <th>TX_RESP_Q002</th>\n",
       "    </tr>\n",
       "  </thead>\n",
       "  <tbody>\n",
       "    <tr>\n",
       "      <th>12559</th>\n",
       "      <td>1</td>\n",
       "      <td>11</td>\n",
       "      <td>1100205</td>\n",
       "      <td>1</td>\n",
       "      <td>5</td>\n",
       "      <td>0</td>\n",
       "      <td>3</td>\n",
       "      <td>6</td>\n",
       "      <td>...........</td>\n",
       "      <td>...........</td>\n",
       "      <td>...........</td>\n",
       "      <td>...........</td>\n",
       "      <td>NaN</td>\n",
       "      <td>NaN</td>\n",
       "      <td>NaN</td>\n",
       "      <td>NaN</td>\n",
       "    </tr>\n",
       "    <tr>\n",
       "      <th>10421</th>\n",
       "      <td>1</td>\n",
       "      <td>11</td>\n",
       "      <td>1100189</td>\n",
       "      <td>2</td>\n",
       "      <td>5</td>\n",
       "      <td>1</td>\n",
       "      <td>2</td>\n",
       "      <td>3</td>\n",
       "      <td>DAADBCDBBCB</td>\n",
       "      <td>DAADBCBCACA</td>\n",
       "      <td>BBAACBDCBDC</td>\n",
       "      <td>CAACABBDBCB</td>\n",
       "      <td>-0.058900</td>\n",
       "      <td>0.255119</td>\n",
       "      <td>A</td>\n",
       "      <td>A</td>\n",
       "    </tr>\n",
       "    <tr>\n",
       "      <th>4187</th>\n",
       "      <td>1</td>\n",
       "      <td>11</td>\n",
       "      <td>1100080</td>\n",
       "      <td>2</td>\n",
       "      <td>5</td>\n",
       "      <td>1</td>\n",
       "      <td>7</td>\n",
       "      <td>3</td>\n",
       "      <td>BBDCDDBABAD</td>\n",
       "      <td>DDADBCBBABA</td>\n",
       "      <td>CCBCBCBDCCD</td>\n",
       "      <td>CAACABBCBCA</td>\n",
       "      <td>-0.041321</td>\n",
       "      <td>0.354895</td>\n",
       "      <td>A</td>\n",
       "      <td>C</td>\n",
       "    </tr>\n",
       "    <tr>\n",
       "      <th>6469</th>\n",
       "      <td>1</td>\n",
       "      <td>11</td>\n",
       "      <td>1100122</td>\n",
       "      <td>2</td>\n",
       "      <td>5</td>\n",
       "      <td>1</td>\n",
       "      <td>6</td>\n",
       "      <td>1</td>\n",
       "      <td>DDADBAACCBC</td>\n",
       "      <td>ACBDABCBBBC</td>\n",
       "      <td>CCCBABDDBBD</td>\n",
       "      <td>DCADBCABDCD</td>\n",
       "      <td>-1.052873</td>\n",
       "      <td>-0.176933</td>\n",
       "      <td>A</td>\n",
       "      <td>C</td>\n",
       "    </tr>\n",
       "    <tr>\n",
       "      <th>12433</th>\n",
       "      <td>1</td>\n",
       "      <td>11</td>\n",
       "      <td>1100205</td>\n",
       "      <td>1</td>\n",
       "      <td>5</td>\n",
       "      <td>1</td>\n",
       "      <td>1</td>\n",
       "      <td>3</td>\n",
       "      <td>CABBBCACDDD</td>\n",
       "      <td>ACDCACCDAAA</td>\n",
       "      <td>ADBDCAABADC</td>\n",
       "      <td>CACCABBCBAD</td>\n",
       "      <td>-1.921349</td>\n",
       "      <td>-0.590805</td>\n",
       "      <td>A</td>\n",
       "      <td>C</td>\n",
       "    </tr>\n",
       "    <tr>\n",
       "      <th>10208</th>\n",
       "      <td>1</td>\n",
       "      <td>11</td>\n",
       "      <td>1100189</td>\n",
       "      <td>2</td>\n",
       "      <td>5</td>\n",
       "      <td>0</td>\n",
       "      <td>1</td>\n",
       "      <td>4</td>\n",
       "      <td>...........</td>\n",
       "      <td>...........</td>\n",
       "      <td>...........</td>\n",
       "      <td>...........</td>\n",
       "      <td>NaN</td>\n",
       "      <td>NaN</td>\n",
       "      <td>NaN</td>\n",
       "      <td>NaN</td>\n",
       "    </tr>\n",
       "    <tr>\n",
       "      <th>12903</th>\n",
       "      <td>1</td>\n",
       "      <td>11</td>\n",
       "      <td>1100205</td>\n",
       "      <td>1</td>\n",
       "      <td>5</td>\n",
       "      <td>1</td>\n",
       "      <td>1</td>\n",
       "      <td>4</td>\n",
       "      <td>BCADDADADDC</td>\n",
       "      <td>ACCBCDBDACA</td>\n",
       "      <td>DCADCBAAADD</td>\n",
       "      <td>BDACAA*D.DC</td>\n",
       "      <td>-1.684763</td>\n",
       "      <td>-0.218756</td>\n",
       "      <td>A</td>\n",
       "      <td>B</td>\n",
       "    </tr>\n",
       "    <tr>\n",
       "      <th>12972</th>\n",
       "      <td>1</td>\n",
       "      <td>11</td>\n",
       "      <td>1100205</td>\n",
       "      <td>1</td>\n",
       "      <td>5</td>\n",
       "      <td>1</td>\n",
       "      <td>5</td>\n",
       "      <td>6</td>\n",
       "      <td>CBDBBDACDDD</td>\n",
       "      <td>DDBAABACCAB</td>\n",
       "      <td>DCBBDCDCCDB</td>\n",
       "      <td>DACBDDAACBC</td>\n",
       "      <td>-1.531625</td>\n",
       "      <td>-1.318413</td>\n",
       "      <td>NaN</td>\n",
       "      <td>C</td>\n",
       "    </tr>\n",
       "    <tr>\n",
       "      <th>18455</th>\n",
       "      <td>1</td>\n",
       "      <td>11</td>\n",
       "      <td>1100254</td>\n",
       "      <td>2</td>\n",
       "      <td>5</td>\n",
       "      <td>1</td>\n",
       "      <td>7</td>\n",
       "      <td>3</td>\n",
       "      <td>CACAABBABAB</td>\n",
       "      <td>AAADBAACADA</td>\n",
       "      <td>CBDABCDBDAD</td>\n",
       "      <td>CDBDBDCCABD</td>\n",
       "      <td>-0.959422</td>\n",
       "      <td>-1.673785</td>\n",
       "      <td>B</td>\n",
       "      <td>F</td>\n",
       "    </tr>\n",
       "    <tr>\n",
       "      <th>16698</th>\n",
       "      <td>1</td>\n",
       "      <td>11</td>\n",
       "      <td>1100205</td>\n",
       "      <td>1</td>\n",
       "      <td>5</td>\n",
       "      <td>1</td>\n",
       "      <td>7</td>\n",
       "      <td>2</td>\n",
       "      <td>CCABBCAADBD</td>\n",
       "      <td>AAACBABDDBD</td>\n",
       "      <td>CDDACDBADCC</td>\n",
       "      <td>BDDAADADADB</td>\n",
       "      <td>-2.174310</td>\n",
       "      <td>-1.299240</td>\n",
       "      <td>A</td>\n",
       "      <td>A</td>\n",
       "    </tr>\n",
       "  </tbody>\n",
       "</table>\n",
       "</div>"
      ],
      "text/plain": [
       "       ID_REGIAO  ID_UF  ID_MUNICIPIO  ID_AREA  ID_SERIE  \\\n",
       "12559          1     11       1100205        1         5   \n",
       "10421          1     11       1100189        2         5   \n",
       "4187           1     11       1100080        2         5   \n",
       "6469           1     11       1100122        2         5   \n",
       "12433          1     11       1100205        1         5   \n",
       "10208          1     11       1100189        2         5   \n",
       "12903          1     11       1100205        1         5   \n",
       "12972          1     11       1100205        1         5   \n",
       "18455          1     11       1100254        2         5   \n",
       "16698          1     11       1100205        1         5   \n",
       "\n",
       "       IN_PREENCHIMENTO_PROVA  ID_BLOCO_1  ID_BLOCO_2 TX_RESP_BLOCO_1_LP  \\\n",
       "12559                       0           3           6        ...........   \n",
       "10421                       1           2           3        DAADBCDBBCB   \n",
       "4187                        1           7           3        BBDCDDBABAD   \n",
       "6469                        1           6           1        DDADBAACCBC   \n",
       "12433                       1           1           3        CABBBCACDDD   \n",
       "10208                       0           1           4        ...........   \n",
       "12903                       1           1           4        BCADDADADDC   \n",
       "12972                       1           5           6        CBDBBDACDDD   \n",
       "18455                       1           7           3        CACAABBABAB   \n",
       "16698                       1           7           2        CCABBCAADBD   \n",
       "\n",
       "      TX_RESP_BLOCO_2_LP TX_RESP_BLOCO_1_MT TX_RESP_BLOCO_2_MT  \\\n",
       "12559        ...........        ...........        ...........   \n",
       "10421        DAADBCBCACA        BBAACBDCBDC        CAACABBDBCB   \n",
       "4187         DDADBCBBABA        CCBCBCBDCCD        CAACABBCBCA   \n",
       "6469         ACBDABCBBBC        CCCBABDDBBD        DCADBCABDCD   \n",
       "12433        ACDCACCDAAA        ADBDCAABADC        CACCABBCBAD   \n",
       "10208        ...........        ...........        ...........   \n",
       "12903        ACCBCDBDACA        DCADCBAAADD        BDACAA*D.DC   \n",
       "12972        DDBAABACCAB        DCBBDCDCCDB        DACBDDAACBC   \n",
       "18455        AAADBAACADA        CBDABCDBDAD        CDBDBDCCABD   \n",
       "16698        AAACBABDDBD        CDDACDBADCC        BDDAADADADB   \n",
       "\n",
       "       PROFICIENCIA_LP  PROFICIENCIA_MT TX_RESP_Q001 TX_RESP_Q002  \n",
       "12559              NaN              NaN          NaN          NaN  \n",
       "10421        -0.058900         0.255119            A            A  \n",
       "4187         -0.041321         0.354895            A            C  \n",
       "6469         -1.052873        -0.176933            A            C  \n",
       "12433        -1.921349        -0.590805            A            C  \n",
       "10208              NaN              NaN          NaN          NaN  \n",
       "12903        -1.684763        -0.218756            A            B  \n",
       "12972        -1.531625        -1.318413          NaN            C  \n",
       "18455        -0.959422        -1.673785            B            F  \n",
       "16698        -2.174310        -1.299240            A            A  "
      ]
     },
     "execution_count": 20,
     "metadata": {},
     "output_type": "execute_result"
    }
   ],
   "source": [
    "df_aluno_5EF.sample(10)"
   ]
  },
  {
   "cell_type": "code",
   "execution_count": 21,
   "metadata": {
    "pycharm": {
     "is_executing": false,
     "name": "#%%\n"
    }
   },
   "outputs": [
    {
     "data": {
      "text/html": [
       "<div>\n",
       "<style scoped>\n",
       "    .dataframe tbody tr th:only-of-type {\n",
       "        vertical-align: middle;\n",
       "    }\n",
       "\n",
       "    .dataframe tbody tr th {\n",
       "        vertical-align: top;\n",
       "    }\n",
       "\n",
       "    .dataframe thead th {\n",
       "        text-align: right;\n",
       "    }\n",
       "</style>\n",
       "<table border=\"1\" class=\"dataframe\">\n",
       "  <thead>\n",
       "    <tr style=\"text-align: right;\">\n",
       "      <th></th>\n",
       "      <th>ID_REGIAO</th>\n",
       "      <th>ID_UF</th>\n",
       "      <th>ID_MUNICIPIO</th>\n",
       "      <th>ID_AREA</th>\n",
       "      <th>ID_SERIE</th>\n",
       "      <th>IN_PREENCHIMENTO_PROVA</th>\n",
       "      <th>ID_BLOCO_1</th>\n",
       "      <th>ID_BLOCO_2</th>\n",
       "      <th>TX_RESP_BLOCO_1_LP</th>\n",
       "      <th>TX_RESP_BLOCO_2_LP</th>\n",
       "      <th>TX_RESP_BLOCO_1_MT</th>\n",
       "      <th>TX_RESP_BLOCO_2_MT</th>\n",
       "      <th>PROFICIENCIA_LP</th>\n",
       "      <th>PROFICIENCIA_MT</th>\n",
       "      <th>TX_RESP_Q001</th>\n",
       "      <th>TX_RESP_Q002</th>\n",
       "    </tr>\n",
       "  </thead>\n",
       "  <tbody>\n",
       "    <tr>\n",
       "      <th>9900</th>\n",
       "      <td>1</td>\n",
       "      <td>11</td>\n",
       "      <td>1100205</td>\n",
       "      <td>1</td>\n",
       "      <td>9</td>\n",
       "      <td>1</td>\n",
       "      <td>7</td>\n",
       "      <td>1</td>\n",
       "      <td>ADCBBBCABACCB</td>\n",
       "      <td>ADADAABADCDDC</td>\n",
       "      <td>BDBAAABBDABCD</td>\n",
       "      <td>CDBDDCBCCBADD</td>\n",
       "      <td>0.349856</td>\n",
       "      <td>0.044128</td>\n",
       "      <td>B</td>\n",
       "      <td>C</td>\n",
       "    </tr>\n",
       "    <tr>\n",
       "      <th>6051</th>\n",
       "      <td>1</td>\n",
       "      <td>11</td>\n",
       "      <td>1100122</td>\n",
       "      <td>2</td>\n",
       "      <td>9</td>\n",
       "      <td>1</td>\n",
       "      <td>2</td>\n",
       "      <td>4</td>\n",
       "      <td>CDCADABDBCAAB</td>\n",
       "      <td>DBCDCBBAADBCB</td>\n",
       "      <td>CDACCABBADCDD</td>\n",
       "      <td>BABAACCBCCACA</td>\n",
       "      <td>1.024022</td>\n",
       "      <td>0.798070</td>\n",
       "      <td>B</td>\n",
       "      <td>C</td>\n",
       "    </tr>\n",
       "    <tr>\n",
       "      <th>19833</th>\n",
       "      <td>1</td>\n",
       "      <td>11</td>\n",
       "      <td>1100700</td>\n",
       "      <td>2</td>\n",
       "      <td>9</td>\n",
       "      <td>1</td>\n",
       "      <td>2</td>\n",
       "      <td>4</td>\n",
       "      <td>CDBADABDBCACD</td>\n",
       "      <td>ABBDBBBADDBCB</td>\n",
       "      <td>CAACCABBCCCDC</td>\n",
       "      <td>BBDBBACBCCACB</td>\n",
       "      <td>0.826970</td>\n",
       "      <td>0.774597</td>\n",
       "      <td>B</td>\n",
       "      <td>NaN</td>\n",
       "    </tr>\n",
       "    <tr>\n",
       "      <th>12575</th>\n",
       "      <td>1</td>\n",
       "      <td>11</td>\n",
       "      <td>1100205</td>\n",
       "      <td>1</td>\n",
       "      <td>9</td>\n",
       "      <td>1</td>\n",
       "      <td>1</td>\n",
       "      <td>4</td>\n",
       "      <td>CCABAADADCABB</td>\n",
       "      <td>DACDBBBADDADB</td>\n",
       "      <td>CACBBDCDBDCDA</td>\n",
       "      <td>.............</td>\n",
       "      <td>0.411102</td>\n",
       "      <td>-1.649126</td>\n",
       "      <td>NaN</td>\n",
       "      <td>NaN</td>\n",
       "    </tr>\n",
       "    <tr>\n",
       "      <th>18929</th>\n",
       "      <td>1</td>\n",
       "      <td>11</td>\n",
       "      <td>1100403</td>\n",
       "      <td>2</td>\n",
       "      <td>9</td>\n",
       "      <td>1</td>\n",
       "      <td>6</td>\n",
       "      <td>1</td>\n",
       "      <td>ACDCDDCDBDABA</td>\n",
       "      <td>DBAACCCABAADD</td>\n",
       "      <td>DCADDAAADCABA</td>\n",
       "      <td>DDDBBCBABDBCA</td>\n",
       "      <td>-1.194358</td>\n",
       "      <td>-0.831214</td>\n",
       "      <td>B</td>\n",
       "      <td>F</td>\n",
       "    </tr>\n",
       "    <tr>\n",
       "      <th>8431</th>\n",
       "      <td>1</td>\n",
       "      <td>11</td>\n",
       "      <td>1100155</td>\n",
       "      <td>2</td>\n",
       "      <td>9</td>\n",
       "      <td>0</td>\n",
       "      <td>4</td>\n",
       "      <td>6</td>\n",
       "      <td>.............</td>\n",
       "      <td>.............</td>\n",
       "      <td>.............</td>\n",
       "      <td>.............</td>\n",
       "      <td>NaN</td>\n",
       "      <td>NaN</td>\n",
       "      <td>NaN</td>\n",
       "      <td>NaN</td>\n",
       "    </tr>\n",
       "    <tr>\n",
       "      <th>541</th>\n",
       "      <td>1</td>\n",
       "      <td>11</td>\n",
       "      <td>1100023</td>\n",
       "      <td>2</td>\n",
       "      <td>9</td>\n",
       "      <td>0</td>\n",
       "      <td>5</td>\n",
       "      <td>6</td>\n",
       "      <td>.............</td>\n",
       "      <td>.............</td>\n",
       "      <td>.............</td>\n",
       "      <td>.............</td>\n",
       "      <td>NaN</td>\n",
       "      <td>NaN</td>\n",
       "      <td>NaN</td>\n",
       "      <td>NaN</td>\n",
       "    </tr>\n",
       "    <tr>\n",
       "      <th>19184</th>\n",
       "      <td>1</td>\n",
       "      <td>11</td>\n",
       "      <td>1100452</td>\n",
       "      <td>2</td>\n",
       "      <td>9</td>\n",
       "      <td>1</td>\n",
       "      <td>4</td>\n",
       "      <td>7</td>\n",
       "      <td>ABCCCBBADDBDD</td>\n",
       "      <td>ADDADBBABAACD</td>\n",
       "      <td>BAABCBCBCCCCA</td>\n",
       "      <td>BABCDCDBDADBD</td>\n",
       "      <td>0.396821</td>\n",
       "      <td>1.144180</td>\n",
       "      <td>B</td>\n",
       "      <td>A</td>\n",
       "    </tr>\n",
       "    <tr>\n",
       "      <th>840</th>\n",
       "      <td>1</td>\n",
       "      <td>11</td>\n",
       "      <td>1100023</td>\n",
       "      <td>2</td>\n",
       "      <td>9</td>\n",
       "      <td>1</td>\n",
       "      <td>7</td>\n",
       "      <td>3</td>\n",
       "      <td>ABBBABCABDACA</td>\n",
       "      <td>CDDCAACCBCCDD</td>\n",
       "      <td>BABCADDBDAAAA</td>\n",
       "      <td>DBDCCDBDAAACB</td>\n",
       "      <td>-0.170429</td>\n",
       "      <td>0.797852</td>\n",
       "      <td>B</td>\n",
       "      <td>C</td>\n",
       "    </tr>\n",
       "    <tr>\n",
       "      <th>5569</th>\n",
       "      <td>1</td>\n",
       "      <td>11</td>\n",
       "      <td>1100122</td>\n",
       "      <td>2</td>\n",
       "      <td>9</td>\n",
       "      <td>1</td>\n",
       "      <td>1</td>\n",
       "      <td>4</td>\n",
       "      <td>CBBDAADADCCCC</td>\n",
       "      <td>DBADCBBADDBCB</td>\n",
       "      <td>CBBDDBBCABBCC</td>\n",
       "      <td>BAADCDCBCCDCB</td>\n",
       "      <td>1.200819</td>\n",
       "      <td>1.042429</td>\n",
       "      <td>B</td>\n",
       "      <td>C</td>\n",
       "    </tr>\n",
       "  </tbody>\n",
       "</table>\n",
       "</div>"
      ],
      "text/plain": [
       "       ID_REGIAO  ID_UF  ID_MUNICIPIO  ID_AREA  ID_SERIE  \\\n",
       "9900           1     11       1100205        1         9   \n",
       "6051           1     11       1100122        2         9   \n",
       "19833          1     11       1100700        2         9   \n",
       "12575          1     11       1100205        1         9   \n",
       "18929          1     11       1100403        2         9   \n",
       "8431           1     11       1100155        2         9   \n",
       "541            1     11       1100023        2         9   \n",
       "19184          1     11       1100452        2         9   \n",
       "840            1     11       1100023        2         9   \n",
       "5569           1     11       1100122        2         9   \n",
       "\n",
       "       IN_PREENCHIMENTO_PROVA  ID_BLOCO_1  ID_BLOCO_2 TX_RESP_BLOCO_1_LP  \\\n",
       "9900                        1           7           1      ADCBBBCABACCB   \n",
       "6051                        1           2           4      CDCADABDBCAAB   \n",
       "19833                       1           2           4      CDBADABDBCACD   \n",
       "12575                       1           1           4      CCABAADADCABB   \n",
       "18929                       1           6           1      ACDCDDCDBDABA   \n",
       "8431                        0           4           6      .............   \n",
       "541                         0           5           6      .............   \n",
       "19184                       1           4           7      ABCCCBBADDBDD   \n",
       "840                         1           7           3      ABBBABCABDACA   \n",
       "5569                        1           1           4      CBBDAADADCCCC   \n",
       "\n",
       "      TX_RESP_BLOCO_2_LP TX_RESP_BLOCO_1_MT TX_RESP_BLOCO_2_MT  \\\n",
       "9900       ADADAABADCDDC      BDBAAABBDABCD      CDBDDCBCCBADD   \n",
       "6051       DBCDCBBAADBCB      CDACCABBADCDD      BABAACCBCCACA   \n",
       "19833      ABBDBBBADDBCB      CAACCABBCCCDC      BBDBBACBCCACB   \n",
       "12575      DACDBBBADDADB      CACBBDCDBDCDA      .............   \n",
       "18929      DBAACCCABAADD      DCADDAAADCABA      DDDBBCBABDBCA   \n",
       "8431       .............      .............      .............   \n",
       "541        .............      .............      .............   \n",
       "19184      ADDADBBABAACD      BAABCBCBCCCCA      BABCDCDBDADBD   \n",
       "840        CDDCAACCBCCDD      BABCADDBDAAAA      DBDCCDBDAAACB   \n",
       "5569       DBADCBBADDBCB      CBBDDBBCABBCC      BAADCDCBCCDCB   \n",
       "\n",
       "       PROFICIENCIA_LP  PROFICIENCIA_MT TX_RESP_Q001 TX_RESP_Q002  \n",
       "9900          0.349856         0.044128            B            C  \n",
       "6051          1.024022         0.798070            B            C  \n",
       "19833         0.826970         0.774597            B          NaN  \n",
       "12575         0.411102        -1.649126          NaN          NaN  \n",
       "18929        -1.194358        -0.831214            B            F  \n",
       "8431               NaN              NaN          NaN          NaN  \n",
       "541                NaN              NaN          NaN          NaN  \n",
       "19184         0.396821         1.144180            B            A  \n",
       "840          -0.170429         0.797852            B            C  \n",
       "5569          1.200819         1.042429            B            C  "
      ]
     },
     "execution_count": 21,
     "metadata": {},
     "output_type": "execute_result"
    }
   ],
   "source": [
    "df_aluno_9EF.sample(10)"
   ]
  },
  {
   "cell_type": "code",
   "execution_count": 22,
   "metadata": {
    "pycharm": {
     "is_executing": false,
     "name": "#%%\n"
    }
   },
   "outputs": [
    {
     "data": {
      "text/html": [
       "<div>\n",
       "<style scoped>\n",
       "    .dataframe tbody tr th:only-of-type {\n",
       "        vertical-align: middle;\n",
       "    }\n",
       "\n",
       "    .dataframe tbody tr th {\n",
       "        vertical-align: top;\n",
       "    }\n",
       "\n",
       "    .dataframe thead th {\n",
       "        text-align: right;\n",
       "    }\n",
       "</style>\n",
       "<table border=\"1\" class=\"dataframe\">\n",
       "  <thead>\n",
       "    <tr style=\"text-align: right;\">\n",
       "      <th></th>\n",
       "      <th>ID_REGIAO</th>\n",
       "      <th>ID_UF</th>\n",
       "      <th>ID_MUNICIPIO</th>\n",
       "      <th>ID_AREA</th>\n",
       "      <th>ID_SERIE</th>\n",
       "      <th>IN_PREENCHIMENTO_PROVA</th>\n",
       "      <th>ID_BLOCO_1</th>\n",
       "      <th>ID_BLOCO_2</th>\n",
       "      <th>TX_RESP_BLOCO_1_LP</th>\n",
       "      <th>TX_RESP_BLOCO_2_LP</th>\n",
       "      <th>TX_RESP_BLOCO_1_MT</th>\n",
       "      <th>TX_RESP_BLOCO_2_MT</th>\n",
       "      <th>PROFICIENCIA_LP</th>\n",
       "      <th>PROFICIENCIA_MT</th>\n",
       "      <th>TX_RESP_Q001</th>\n",
       "      <th>TX_RESP_Q002</th>\n",
       "    </tr>\n",
       "  </thead>\n",
       "  <tbody>\n",
       "    <tr>\n",
       "      <th>17603</th>\n",
       "      <td>1</td>\n",
       "      <td>12</td>\n",
       "      <td>1200500</td>\n",
       "      <td>2</td>\n",
       "      <td>12</td>\n",
       "      <td>1</td>\n",
       "      <td>1</td>\n",
       "      <td>3</td>\n",
       "      <td>AEEEEEDAAAACD</td>\n",
       "      <td>AEEAEEDDACEAB</td>\n",
       "      <td>CBBABEDDBCDBC</td>\n",
       "      <td>BAABCACBABAAB</td>\n",
       "      <td>0.297434</td>\n",
       "      <td>-0.143815</td>\n",
       "      <td>A</td>\n",
       "      <td>C</td>\n",
       "    </tr>\n",
       "    <tr>\n",
       "      <th>7224</th>\n",
       "      <td>1</td>\n",
       "      <td>11</td>\n",
       "      <td>1100288</td>\n",
       "      <td>2</td>\n",
       "      <td>12</td>\n",
       "      <td>1</td>\n",
       "      <td>1</td>\n",
       "      <td>4</td>\n",
       "      <td>BCABAEBBDEEBE</td>\n",
       "      <td>BBBDCEABCEABA</td>\n",
       "      <td>CDDDBEADCACCD</td>\n",
       "      <td>CDBDBABADCAEB</td>\n",
       "      <td>0.112073</td>\n",
       "      <td>0.794037</td>\n",
       "      <td>B</td>\n",
       "      <td>C</td>\n",
       "    </tr>\n",
       "    <tr>\n",
       "      <th>7470</th>\n",
       "      <td>1</td>\n",
       "      <td>11</td>\n",
       "      <td>1100288</td>\n",
       "      <td>2</td>\n",
       "      <td>12</td>\n",
       "      <td>1</td>\n",
       "      <td>3</td>\n",
       "      <td>5</td>\n",
       "      <td>DCBCDABDAEEAC</td>\n",
       "      <td>ABBDBBDDAEEEA</td>\n",
       "      <td>EEDDBBCCBDDCD</td>\n",
       "      <td>AEBCCABCABEAE</td>\n",
       "      <td>0.176348</td>\n",
       "      <td>0.616499</td>\n",
       "      <td>A</td>\n",
       "      <td>C</td>\n",
       "    </tr>\n",
       "    <tr>\n",
       "      <th>10214</th>\n",
       "      <td>1</td>\n",
       "      <td>11</td>\n",
       "      <td>1101500</td>\n",
       "      <td>2</td>\n",
       "      <td>12</td>\n",
       "      <td>1</td>\n",
       "      <td>5</td>\n",
       "      <td>7</td>\n",
       "      <td>EBBECACDCBAEA</td>\n",
       "      <td>ABBCCAABBEBAD</td>\n",
       "      <td>ADADEEACDABAC</td>\n",
       "      <td>ABEDAACCAABCA</td>\n",
       "      <td>-1.524842</td>\n",
       "      <td>0.009285</td>\n",
       "      <td>B</td>\n",
       "      <td>F</td>\n",
       "    </tr>\n",
       "    <tr>\n",
       "      <th>3525</th>\n",
       "      <td>1</td>\n",
       "      <td>11</td>\n",
       "      <td>1100122</td>\n",
       "      <td>2</td>\n",
       "      <td>12</td>\n",
       "      <td>1</td>\n",
       "      <td>1</td>\n",
       "      <td>3</td>\n",
       "      <td>BBDCBECCCDBBE</td>\n",
       "      <td>CDECDBBDCCAAA</td>\n",
       "      <td>CDEDBDDADDDBD</td>\n",
       "      <td>BBADDCACDCBBD</td>\n",
       "      <td>-0.711846</td>\n",
       "      <td>0.644069</td>\n",
       "      <td>A</td>\n",
       "      <td>C</td>\n",
       "    </tr>\n",
       "    <tr>\n",
       "      <th>14205</th>\n",
       "      <td>1</td>\n",
       "      <td>12</td>\n",
       "      <td>1200401</td>\n",
       "      <td>1</td>\n",
       "      <td>12</td>\n",
       "      <td>1</td>\n",
       "      <td>6</td>\n",
       "      <td>2</td>\n",
       "      <td>DCEDCBBBDACAE</td>\n",
       "      <td>EDAEECDDBBCBC</td>\n",
       "      <td>ACBADEADBCCCA</td>\n",
       "      <td>DECECADDCEBBD</td>\n",
       "      <td>-0.258139</td>\n",
       "      <td>0.246598</td>\n",
       "      <td>NaN</td>\n",
       "      <td>NaN</td>\n",
       "    </tr>\n",
       "    <tr>\n",
       "      <th>8994</th>\n",
       "      <td>1</td>\n",
       "      <td>11</td>\n",
       "      <td>1100452</td>\n",
       "      <td>2</td>\n",
       "      <td>12</td>\n",
       "      <td>1</td>\n",
       "      <td>2</td>\n",
       "      <td>3</td>\n",
       "      <td>DECECCDDACDEE</td>\n",
       "      <td>DDDDAEDCDEDBD</td>\n",
       "      <td>DACBADDBCEACC</td>\n",
       "      <td>CDEEABCBADEDD</td>\n",
       "      <td>-0.915971</td>\n",
       "      <td>-0.189102</td>\n",
       "      <td>B</td>\n",
       "      <td>A</td>\n",
       "    </tr>\n",
       "    <tr>\n",
       "      <th>10677</th>\n",
       "      <td>1</td>\n",
       "      <td>11</td>\n",
       "      <td>6305463</td>\n",
       "      <td>2</td>\n",
       "      <td>12</td>\n",
       "      <td>1</td>\n",
       "      <td>1</td>\n",
       "      <td>2</td>\n",
       "      <td>BACBCDAABEBED</td>\n",
       "      <td>BAAAECDCDBACE</td>\n",
       "      <td>CDDAAADDCEDCD</td>\n",
       "      <td>DCAACADACECBC</td>\n",
       "      <td>0.443901</td>\n",
       "      <td>0.239787</td>\n",
       "      <td>B</td>\n",
       "      <td>C</td>\n",
       "    </tr>\n",
       "    <tr>\n",
       "      <th>14473</th>\n",
       "      <td>1</td>\n",
       "      <td>12</td>\n",
       "      <td>1200401</td>\n",
       "      <td>1</td>\n",
       "      <td>12</td>\n",
       "      <td>1</td>\n",
       "      <td>1</td>\n",
       "      <td>3</td>\n",
       "      <td>ABCEACCCADBBA</td>\n",
       "      <td>CAEBCABDCAEAA</td>\n",
       "      <td>CDDADCADDACBC</td>\n",
       "      <td>BACDBDCBAECAE</td>\n",
       "      <td>-0.595991</td>\n",
       "      <td>-0.348612</td>\n",
       "      <td>B</td>\n",
       "      <td>C</td>\n",
       "    </tr>\n",
       "    <tr>\n",
       "      <th>19380</th>\n",
       "      <td>1</td>\n",
       "      <td>13</td>\n",
       "      <td>1300086</td>\n",
       "      <td>2</td>\n",
       "      <td>12</td>\n",
       "      <td>1</td>\n",
       "      <td>1</td>\n",
       "      <td>2</td>\n",
       "      <td>ACBCDDABBBEAD</td>\n",
       "      <td>ECEEEDDDDEEAD</td>\n",
       "      <td>CDEABAABBEDED</td>\n",
       "      <td>DADDDCBCCABDA</td>\n",
       "      <td>0.096254</td>\n",
       "      <td>-0.633539</td>\n",
       "      <td>B</td>\n",
       "      <td>C</td>\n",
       "    </tr>\n",
       "  </tbody>\n",
       "</table>\n",
       "</div>"
      ],
      "text/plain": [
       "       ID_REGIAO  ID_UF  ID_MUNICIPIO  ID_AREA  ID_SERIE  \\\n",
       "17603          1     12       1200500        2        12   \n",
       "7224           1     11       1100288        2        12   \n",
       "7470           1     11       1100288        2        12   \n",
       "10214          1     11       1101500        2        12   \n",
       "3525           1     11       1100122        2        12   \n",
       "14205          1     12       1200401        1        12   \n",
       "8994           1     11       1100452        2        12   \n",
       "10677          1     11       6305463        2        12   \n",
       "14473          1     12       1200401        1        12   \n",
       "19380          1     13       1300086        2        12   \n",
       "\n",
       "       IN_PREENCHIMENTO_PROVA  ID_BLOCO_1  ID_BLOCO_2 TX_RESP_BLOCO_1_LP  \\\n",
       "17603                       1           1           3      AEEEEEDAAAACD   \n",
       "7224                        1           1           4      BCABAEBBDEEBE   \n",
       "7470                        1           3           5      DCBCDABDAEEAC   \n",
       "10214                       1           5           7      EBBECACDCBAEA   \n",
       "3525                        1           1           3      BBDCBECCCDBBE   \n",
       "14205                       1           6           2      DCEDCBBBDACAE   \n",
       "8994                        1           2           3      DECECCDDACDEE   \n",
       "10677                       1           1           2      BACBCDAABEBED   \n",
       "14473                       1           1           3      ABCEACCCADBBA   \n",
       "19380                       1           1           2      ACBCDDABBBEAD   \n",
       "\n",
       "      TX_RESP_BLOCO_2_LP TX_RESP_BLOCO_1_MT TX_RESP_BLOCO_2_MT  \\\n",
       "17603      AEEAEEDDACEAB      CBBABEDDBCDBC      BAABCACBABAAB   \n",
       "7224       BBBDCEABCEABA      CDDDBEADCACCD      CDBDBABADCAEB   \n",
       "7470       ABBDBBDDAEEEA      EEDDBBCCBDDCD      AEBCCABCABEAE   \n",
       "10214      ABBCCAABBEBAD      ADADEEACDABAC      ABEDAACCAABCA   \n",
       "3525       CDECDBBDCCAAA      CDEDBDDADDDBD      BBADDCACDCBBD   \n",
       "14205      EDAEECDDBBCBC      ACBADEADBCCCA      DECECADDCEBBD   \n",
       "8994       DDDDAEDCDEDBD      DACBADDBCEACC      CDEEABCBADEDD   \n",
       "10677      BAAAECDCDBACE      CDDAAADDCEDCD      DCAACADACECBC   \n",
       "14473      CAEBCABDCAEAA      CDDADCADDACBC      BACDBDCBAECAE   \n",
       "19380      ECEEEDDDDEEAD      CDEABAABBEDED      DADDDCBCCABDA   \n",
       "\n",
       "       PROFICIENCIA_LP  PROFICIENCIA_MT TX_RESP_Q001 TX_RESP_Q002  \n",
       "17603         0.297434        -0.143815            A            C  \n",
       "7224          0.112073         0.794037            B            C  \n",
       "7470          0.176348         0.616499            A            C  \n",
       "10214        -1.524842         0.009285            B            F  \n",
       "3525         -0.711846         0.644069            A            C  \n",
       "14205        -0.258139         0.246598          NaN          NaN  \n",
       "8994         -0.915971        -0.189102            B            A  \n",
       "10677         0.443901         0.239787            B            C  \n",
       "14473        -0.595991        -0.348612            B            C  \n",
       "19380         0.096254        -0.633539            B            C  "
      ]
     },
     "execution_count": 22,
     "metadata": {},
     "output_type": "execute_result"
    }
   ],
   "source": [
    "df_aluno_3EM.sample(10)"
   ]
  },
  {
   "cell_type": "markdown",
   "metadata": {
    "pycharm": {
     "is_executing": false
    }
   },
   "source": [
    "### Após o carregamento, o DataFrame tem suas colunas reorganizadas, logo:"
   ]
  },
  {
   "cell_type": "code",
   "execution_count": 23,
   "metadata": {},
   "outputs": [],
   "source": [
    "colunas_aluno = list(df_aluno_5EF.columns.values)"
   ]
  },
  {
   "cell_type": "markdown",
   "metadata": {},
   "source": [
    "### Série"
   ]
  },
  {
   "cell_type": "code",
   "execution_count": 24,
   "metadata": {},
   "outputs": [],
   "source": [
    "idx_serie_gab = colunas_resp.index(ID_SERIE)\n",
    "idx_serie_aluno = colunas_aluno.index(ID_SERIE)"
   ]
  },
  {
   "cell_type": "markdown",
   "metadata": {},
   "source": [
    "### Respostas"
   ]
  },
  {
   "cell_type": "code",
   "execution_count": 25,
   "metadata": {},
   "outputs": [],
   "source": [
    "idx_disciplina = colunas_resp.index(DISCIPLINA)\n",
    "idx_posicao_gabarito = colunas_resp.index(ID_POSICAO)\n",
    "idx_gabarito = colunas_resp.index(GABARITO)\n",
    "idx_preenchimento_prova = colunas_aluno.index(IN_PREENCHIMENTO_PROVA)"
   ]
  },
  {
   "cell_type": "markdown",
   "metadata": {},
   "source": [
    "### Blocos"
   ]
  },
  {
   "cell_type": "code",
   "execution_count": 26,
   "metadata": {},
   "outputs": [],
   "source": [
    "bloco_gab = colunas_resp.index(ID_BLOCO) \n",
    "bloco_resp_1 = colunas_aluno.index(ID_BLOCO_1)\n",
    "bloco_resp_2 = colunas_aluno.index(ID_BLOCO_2)\n",
    "aluno_resp_bloco_1_lp = colunas_aluno.index(TX_RESP_BLOCO_1_LP) \n",
    "aluno_resp_bloco_2_lp = colunas_aluno.index(TX_RESP_BLOCO_2_LP) \n",
    "aluno_resp_bloco_1_mt = colunas_aluno.index(TX_RESP_BLOCO_1_MT) \n",
    "aluno_resp_bloco_2_mt = colunas_aluno.index(TX_RESP_BLOCO_2_MT) "
   ]
  },
  {
   "cell_type": "markdown",
   "metadata": {},
   "source": [
    "### Região de Estudo/Aluno"
   ]
  },
  {
   "cell_type": "code",
   "execution_count": 27,
   "metadata": {},
   "outputs": [],
   "source": [
    "idx_uf = colunas_aluno.index(ID_UF)\n",
    "idx_municipio = colunas_aluno.index(ID_MUNICIPIO)\n",
    "idx_regiao = colunas_aluno.index(ID_REGIAO)\n",
    "idx_area = colunas_aluno.index(ID_AREA)\n",
    "idx_sexo = colunas_aluno.index(TX_RESP_Q001)\n",
    "idx_raca = colunas_aluno.index(TX_RESP_Q002)"
   ]
  },
  {
   "cell_type": "markdown",
   "metadata": {},
   "source": [
    "## Cálculo de Acertos"
   ]
  },
  {
   "cell_type": "code",
   "execution_count": 28,
   "metadata": {},
   "outputs": [],
   "source": [
    "num_estados = {\n",
    "    11: 'RO',\n",
    "    12: 'AC',\n",
    "    13: 'AM',\n",
    "    14: 'RR',\n",
    "    15: 'PA',\n",
    "    16: 'AP',\n",
    "    17: 'TO',\n",
    "    21: 'MA',\n",
    "    22: 'PI',\n",
    "    23: 'CE',\n",
    "    24: 'RN',\n",
    "    25: 'PB',\n",
    "    26: 'PE',\n",
    "    27: 'AL',\n",
    "    28: 'SE',\n",
    "    29: 'BA',\n",
    "    31: 'MG',\n",
    "    32: 'ES',\n",
    "    33: 'RJ',\n",
    "    35: 'SP',\n",
    "    41: 'PR',\n",
    "    42: 'SC',\n",
    "    43: 'RS',\n",
    "    50: 'MS',\n",
    "    51: 'MT',\n",
    "    52: 'GO',\n",
    "    53: 'DF'\n",
    "}"
   ]
  },
  {
   "cell_type": "code",
   "execution_count": 29,
   "metadata": {
    "pycharm": {
     "is_executing": false,
     "name": "#%%\n"
    }
   },
   "outputs": [],
   "source": [
    "filtro_de_colunas_resposta = ['serie', 'nota_lp', 'nota_mt', 'uf', 'municipio', 'regiao', 'area', 'sexo', 'raca']"
   ]
  },
  {
   "cell_type": "code",
   "execution_count": 30,
   "metadata": {
    "pycharm": {
     "is_executing": false,
     "name": "#%%\n"
    }
   },
   "outputs": [],
   "source": [
    "def filtrar_dados(serie_dados, nao_realizado=0, colunas=filtro_de_colunas_resposta):\n",
    "    \"\"\"\n",
    "    \n",
    "    :param serie_dados:     Série de dados carregados (DataFrame)\n",
    "    :param nao_realizado:   Número de ocorrências do Não Preenchimento de Prova\n",
    "    :param colunas:         Filtro de Colunas à serem aplicadas ao resultado de serie_dados\n",
    "    :param resposta_dados:  DataFrame de resposta, caso não seja vazio, os dados serão adicionados a ele \n",
    "    :return: \n",
    "        Dados Filtrado (DataFrame)\n",
    "        Quantidade não realizada de provas\n",
    "    \"\"\"\n",
    "    resposta_dados = []\n",
    "    i = 0\n",
    "    for r in serie_dados.to_numpy():  # [len(serie_dados.to_numpy())//2:]:\n",
    "        i = i + 1\n",
    "        not_lim = 1000\n",
    "        if 0 == i % not_lim:\n",
    "            print(f'iter {not_lim}, resp: {len(resposta_dados)}, {nao_realizado} => {len(resposta_dados) + nao_realizado}')\n",
    "        \n",
    "        nota_mt = 0\n",
    "        nota_pt = 0\n",
    "        \n",
    "        respostas_lp = [\n",
    "            [False for x in range(len(r[aluno_resp_bloco_1_lp]))],\n",
    "            [False for x in range(len(r[aluno_resp_bloco_2_lp]))]\n",
    "        ]\n",
    "        respostas_mt = [\n",
    "            [False for x in range(len(r[aluno_resp_bloco_1_mt]))],\n",
    "            [False for x in range(len(r[aluno_resp_bloco_2_mt]))]\n",
    "        ]\n",
    "        \n",
    "        # Quem não fez a prova é ignorado\n",
    "        if not bool(int(r[idx_preenchimento_prova])):\n",
    "            nao_realizado = nao_realizado + 1\n",
    "            continue\n",
    "        serie_aluno = r[idx_serie_aluno]\n",
    "        if serie_aluno in (12, 13):\n",
    "            # 12 - 3ª ou 4ª Série do Ensino Médio\n",
    "            # 13 - 3ª ou 4ª Série do Ensino Médio Integrado\n",
    "            serie_aluno = 3\n",
    "        for gab in df_gabarito.to_numpy():\n",
    "            # if gab['ID_SERIE'] == r['ID_SERIE']:\n",
    "            if gab[idx_gabarito] not in RESPOSTAS_INVALIDAS:\n",
    "                if gab[idx_serie_gab] == serie_aluno and\\\n",
    "                        (r[bloco_resp_1] == gab[bloco_gab] or r[bloco_resp_2] == gab[bloco_gab]):\n",
    "                    # 8 'TX_RESP_BLOCO_1_LP'8, 'TX_RESP_BLOCO_2_LP'9, 'TX_RESP_BLOCO_1_MT'10, 'TX_RESP_BLOCO_2_MT'11,\n",
    "                    is_bloco_1 = r[bloco_resp_1] == gab[bloco_gab]\n",
    "                    if is_bloco_1 and r[bloco_resp_2] == gab[bloco_gab]:\n",
    "                        print ('bloco EDGE CASES!!')\n",
    "                    idx_r = 0 if is_bloco_1 else 1\n",
    "                    if gab[idx_disciplina] == 'LP':\n",
    "                        resp_aluno = str(r[aluno_resp_bloco_1_lp if is_bloco_1 else aluno_resp_bloco_2_lp])\n",
    "                        if (respostas_lp[idx_r])[gab[idx_posicao_gabarito]-1]:\n",
    "                            continue\n",
    "                        if resp_aluno[gab[idx_posicao_gabarito]-1] == gab[idx_gabarito]:\n",
    "                            nota_pt += 1\n",
    "                            (respostas_lp[idx_r])[gab[idx_posicao_gabarito]-1] = True\n",
    "                    elif gab[idx_disciplina] == 'MT':\n",
    "                        resp_aluno = str(r[aluno_resp_bloco_1_mt if is_bloco_1 else aluno_resp_bloco_2_mt])\n",
    "                        if (respostas_mt[idx_r])[gab[idx_posicao_gabarito]-1]:\n",
    "                            continue\n",
    "                        if resp_aluno[gab[idx_posicao_gabarito]-1] == gab[idx_gabarito]:\n",
    "                            nota_mt += 1\n",
    "                            (respostas_mt[idx_r])[gab[idx_posicao_gabarito]-1] = True\n",
    "        if nota_pt or nota_mt:\n",
    "            resposta_dados.append({\n",
    "                colunas[0]: serie_aluno,\n",
    "                colunas[1]: nota_pt,\n",
    "                colunas[2]: nota_mt,\n",
    "                colunas[3]: num_estados.get(r[idx_uf], r[idx_uf]),\n",
    "                colunas[4]: r[idx_municipio],\n",
    "                colunas[5]: r[idx_regiao],\n",
    "                colunas[6]: r[idx_area],\n",
    "                colunas[7]: r[idx_sexo],\n",
    "                colunas[8]: r[idx_raca]\n",
    "            })\n",
    "            # ,\n",
    "            #     ignore_index=True\n",
    "            # )\n",
    "    return resposta_dados, nao_realizado"
   ]
  },
  {
   "cell_type": "markdown",
   "metadata": {
    "pycharm": {
     "is_executing": true,
     "name": "#%% md\n"
    }
   },
   "source": [
    "#### O filtro aplicado demora cerca de 25 minutos cada arquivo \n"
   ]
  },
  {
   "cell_type": "code",
   "execution_count": 31,
   "metadata": {
    "pycharm": {
     "is_executing": false
    }
   },
   "outputs": [],
   "source": [
    "dados_filtrados = pd.DataFrame(columns=filtro_de_colunas_resposta)"
   ]
  },
  {
   "cell_type": "code",
   "execution_count": 32,
   "metadata": {
    "pycharm": {
     "is_executing": false,
     "name": "#%%\n"
    }
   },
   "outputs": [
    {
     "name": "stdout",
     "output_type": "stream",
     "text": [
      "iter 1000, resp: 884, 115 => 999\n",
      "iter 1000, resp: 1741, 258 => 1999\n",
      "iter 1000, resp: 2606, 393 => 2999\n",
      "iter 1000, resp: 3485, 514 => 3999\n",
      "iter 1000, resp: 4365, 633 => 4998\n",
      "iter 1000, resp: 5251, 746 => 5997\n",
      "iter 1000, resp: 6126, 871 => 6997\n",
      "iter 1000, resp: 6998, 999 => 7997\n",
      "iter 1000, resp: 7822, 1174 => 8996\n",
      "iter 1000, resp: 8689, 1307 => 9996\n",
      "iter 1000, resp: 9569, 1427 => 10996\n",
      "iter 1000, resp: 10413, 1583 => 11996\n",
      "iter 1000, resp: 11309, 1687 => 12996\n",
      "iter 1000, resp: 12173, 1823 => 13996\n",
      "iter 1000, resp: 13052, 1943 => 14995\n",
      "iter 1000, resp: 13928, 2067 => 15995\n",
      "iter 1000, resp: 14792, 2201 => 16993\n",
      "iter 1000, resp: 15583, 2410 => 17993\n",
      "iter 1000, resp: 16426, 2567 => 18993\n",
      "iter 1000, resp: 17325, 2668 => 19993\n"
     ]
    }
   ],
   "source": [
    "r_filtro, qtd_prova_nao_realizada_5SEM = filtrar_dados(\n",
    "    df_aluno_5EF, 0,\n",
    ")"
   ]
  },
  {
   "cell_type": "code",
   "execution_count": 33,
   "metadata": {
    "pycharm": {
     "is_executing": false,
     "name": "#%%\n"
    }
   },
   "outputs": [],
   "source": [
    "dados_filtrados = dados_filtrados.append(r_filtro, ignore_index=True)"
   ]
  },
  {
   "cell_type": "code",
   "execution_count": 34,
   "metadata": {
    "pycharm": {
     "is_executing": false,
     "name": "#%%\n"
    }
   },
   "outputs": [
    {
     "name": "stdout",
     "output_type": "stream",
     "text": [
      "iter 1000, resp: 781, 218 => 999\n",
      "iter 1000, resp: 1575, 424 => 1999\n",
      "iter 1000, resp: 2396, 603 => 2999\n",
      "iter 1000, resp: 3211, 788 => 3999\n",
      "iter 1000, resp: 4068, 931 => 4999\n",
      "iter 1000, resp: 4905, 1094 => 5999\n",
      "iter 1000, resp: 5746, 1253 => 6999\n",
      "iter 1000, resp: 6483, 1516 => 7999\n",
      "iter 1000, resp: 7208, 1791 => 8999\n",
      "iter 1000, resp: 8032, 1967 => 9999\n",
      "iter 1000, resp: 8868, 2131 => 10999\n",
      "iter 1000, resp: 9693, 2306 => 11999\n",
      "iter 1000, resp: 10534, 2465 => 12999\n",
      "iter 1000, resp: 11368, 2631 => 13999\n",
      "iter 1000, resp: 12033, 2966 => 14999\n",
      "iter 1000, resp: 12854, 3145 => 15999\n",
      "iter 1000, resp: 13608, 3391 => 16999\n",
      "iter 1000, resp: 14436, 3563 => 17999\n",
      "iter 1000, resp: 15213, 3786 => 18999\n",
      "iter 1000, resp: 16000, 3999 => 19999\n"
     ]
    }
   ],
   "source": [
    "r_filtro, qtd_prova_nao_realizada_9SEM = filtrar_dados(\n",
    "    df_aluno_9EF, 0,\n",
    ")"
   ]
  },
  {
   "cell_type": "code",
   "execution_count": 35,
   "metadata": {
    "pycharm": {
     "is_executing": false,
     "name": "#%%\n"
    }
   },
   "outputs": [],
   "source": [
    "dados_filtrados = dados_filtrados.append(r_filtro, ignore_index=True)"
   ]
  },
  {
   "cell_type": "code",
   "execution_count": 36,
   "metadata": {
    "pycharm": {
     "is_executing": false,
     "name": "#%%\n"
    }
   },
   "outputs": [
    {
     "name": "stdout",
     "output_type": "stream",
     "text": [
      "iter 1000, resp: 999, 0 => 999\n",
      "iter 1000, resp: 1999, 0 => 1999\n",
      "iter 1000, resp: 2999, 0 => 2999\n",
      "iter 1000, resp: 3999, 0 => 3999\n",
      "iter 1000, resp: 4999, 0 => 4999\n",
      "iter 1000, resp: 5999, 0 => 5999\n",
      "iter 1000, resp: 6999, 0 => 6999\n",
      "iter 1000, resp: 7999, 0 => 7999\n",
      "iter 1000, resp: 8999, 0 => 8999\n",
      "iter 1000, resp: 9999, 0 => 9999\n",
      "iter 1000, resp: 10999, 0 => 10999\n",
      "iter 1000, resp: 11999, 0 => 11999\n",
      "iter 1000, resp: 12999, 0 => 12999\n",
      "iter 1000, resp: 13999, 0 => 13999\n",
      "iter 1000, resp: 14999, 0 => 14999\n",
      "iter 1000, resp: 15999, 0 => 15999\n",
      "iter 1000, resp: 16999, 0 => 16999\n",
      "iter 1000, resp: 17999, 0 => 17999\n",
      "iter 1000, resp: 18999, 0 => 18999\n",
      "iter 1000, resp: 19999, 0 => 19999\n"
     ]
    }
   ],
   "source": [
    "r_filtro, qtd_prova_nao_realizada_3EM = filtrar_dados(\n",
    "    df_aluno_3EM, 0,\n",
    ")"
   ]
  },
  {
   "cell_type": "code",
   "execution_count": 37,
   "metadata": {
    "pycharm": {
     "is_executing": false,
     "name": "#%%\n"
    }
   },
   "outputs": [],
   "source": [
    "dados_filtrados = dados_filtrados.append(r_filtro, ignore_index=True)"
   ]
  },
  {
   "cell_type": "markdown",
   "metadata": {
    "pycharm": {
     "is_executing": false
    }
   },
   "source": [
    "## Estudo Proposto"
   ]
  },
  {
   "cell_type": "markdown",
   "metadata": {
    "pycharm": {
     "name": "#%% md\n"
    }
   },
   "source": [
    "#### Contagem de provas por estado"
   ]
  },
  {
   "cell_type": "code",
   "execution_count": 38,
   "metadata": {},
   "outputs": [
    {
     "data": {
      "text/plain": [
       "<matplotlib.axes._subplots.AxesSubplot at 0x213558b3550>"
      ]
     },
     "execution_count": 38,
     "metadata": {},
     "output_type": "execute_result"
    },
    {
     "data": {
      "image/png": "[encoded data removed]",
      "text/plain": [
       "<Figure size 432x288 with 1 Axes>"
      ]
     },
     "metadata": {
      "needs_background": "light"
     },
     "output_type": "display_data"
    }
   ],
   "source": [
    "dados_filtrados.groupby('uf').size().sort_values().plot.barh(\n",
    "    figsize=(6, 4)\n",
    ")"
   ]
  },
  {
   "cell_type": "code",
   "execution_count": 39,
   "metadata": {
    "pycharm": {
     "is_executing": false,
     "name": "#%%\n"
    }
   },
   "outputs": [
    {
     "data": {
      "text/plain": [
       "municipio\n",
       "1100015     865\n",
       "1100023    2933\n",
       "1100031     169\n",
       "1100049    2407\n",
       "1100056     528\n",
       "           ... \n",
       "6305498      27\n",
       "6305512      23\n",
       "6305517      19\n",
       "6305526     432\n",
       "6305532       9\n",
       "Length: 96, dtype: int64"
      ]
     },
     "execution_count": 39,
     "metadata": {},
     "output_type": "execute_result"
    }
   ],
   "source": [
    "# dados_filtrados.groupby('municipio').size()"
   ]
  },
  {
   "cell_type": "code",
   "execution_count": 40,
   "metadata": {
    "pycharm": {
     "is_executing": false,
     "name": "#%%\n"
    }
   },
   "outputs": [
    {
     "data": {
      "text/plain": [
       "regiao\n",
       "1    53327\n",
       "dtype: int64"
      ]
     },
     "execution_count": 40,
     "metadata": {},
     "output_type": "execute_result"
    }
   ],
   "source": [
    "# dados_filtrados.groupby('regiao').size()"
   ]
  },
  {
   "cell_type": "code",
   "execution_count": 66,
   "metadata": {
    "pycharm": {
     "is_executing": false,
     "name": "#%%\n"
    }
   },
   "outputs": [
    {
     "data": {
      "text/plain": [
       "(53327, 2668, 3999, 0)"
      ]
     },
     "execution_count": 66,
     "metadata": {},
     "output_type": "execute_result"
    }
   ],
   "source": [
    "len(dados_filtrados), qtd_prova_nao_realizada_5SEM,\\\n",
    "qtd_prova_nao_realizada_9SEM, qtd_prova_nao_realizada_3EM"
   ]
  },
  {
   "cell_type": "code",
   "execution_count": 42,
   "metadata": {
    "pycharm": {
     "is_executing": false,
     "name": "#%%\n"
    }
   },
   "outputs": [
    {
     "data": {
      "text/plain": [
       "<matplotlib.axes._subplots.AxesSubplot at 0x213558b34a8>"
      ]
     },
     "execution_count": 42,
     "metadata": {},
     "output_type": "execute_result"
    },
    {
     "data": {
      "image/png": "[encoded data removed]",
      "text/plain": [
       "<Figure size 432x288 with 1 Axes>"
      ]
     },
     "metadata": {
      "needs_background": "light"
     },
     "output_type": "display_data"
    }
   ],
   "source": [
    "dados_filtrados.query('serie == 9').groupby('uf').size().sort_values().plot.barh(figsize=(6, 4),)"
   ]
  },
  {
   "cell_type": "code",
   "execution_count": 43,
   "metadata": {
    "pycharm": {
     "is_executing": false,
     "name": "#%%\n"
    }
   },
   "outputs": [
    {
     "data": {
      "text/plain": [
       "<matplotlib.axes._subplots.AxesSubplot at 0x21355929e10>"
      ]
     },
     "execution_count": 43,
     "metadata": {},
     "output_type": "execute_result"
    },
    {
     "data": {
      "image/png": "[encoded data removed]",
      "text/plain": [
       "<Figure size 432x288 with 1 Axes>"
      ]
     },
     "metadata": {
      "needs_background": "light"
     },
     "output_type": "display_data"
    }
   ],
   "source": [
    "dados_filtrados.query('serie == 3').groupby('uf').size().sort_values().plot.barh(figsize=(6, 4),)"
   ]
  },
  {
   "cell_type": "code",
   "execution_count": 63,
   "metadata": {
    "pycharm": {
     "is_executing": false,
     "name": "#%%\n"
    }
   },
   "outputs": [
    {
     "data": {
      "text/plain": [
       "<matplotlib.axes._subplots.AxesSubplot at 0x21357e106d8>"
      ]
     },
     "execution_count": 63,
     "metadata": {},
     "output_type": "execute_result"
    },
    {
     "data": {
      "image/png": "[encoded data removed]",
      "text/plain": [
       "<Figure size 432x288 with 1 Axes>"
      ]
     },
     "metadata": {
      "needs_background": "light"
     },
     "output_type": "display_data"
    }
   ],
   "source": [
    "dados_filtrados[['nota_lp', 'nota_mt']].mean().plot(kind='bar')"
   ]
  },
  {
   "cell_type": "markdown",
   "metadata": {},
   "source": [
    "### Médias Com Dois Índices"
   ]
  },
  {
   "cell_type": "code",
   "execution_count": 45,
   "metadata": {
    "pycharm": {
     "is_executing": true,
     "name": "#%%\n"
    }
   },
   "outputs": [],
   "source": [
    "def conta_tamanho_grupo(grupo, grupo_buscado):\n",
    "    print(f'grupo {grupo}, grupo_buscado {grupo_buscado} type {type(grupo_buscado)}')\n",
    "    if not grupo_buscado:\n",
    "        return 1\n",
    "    gd = dados_filtrados.groupby(grupo).size()\n",
    "    i = False\n",
    "    p = False\n",
    "    if isinstance(grupo, (list, tuple)):\n",
    "        # gd = gd.unstack()\n",
    "        cv = list(gd.unstack().columns.values)\n",
    "        for g in grupo_buscado:\n",
    "            if g in cv:\n",
    "                i = cv.index(g)\n",
    "                p = True\n",
    "        # print(f'cv {cv}, i: {i}')\n",
    "    else:\n",
    "        i = gd.index.contains(grupo_buscado)\n",
    "    # print(gd)\n",
    "    # print(gd[11][i])\n",
    "    if p:\n",
    "        print(gd[i])\n",
    "        return gd[i]\n",
    "    if i:\n",
    "        return gd[grupo_buscado]\n",
    "    print(f'nao encontrado {grupo_buscado} em {i}')\n",
    "    return 1"
   ]
  },
  {
   "cell_type": "markdown",
   "metadata": {},
   "source": [
    "### Média de Nota Disposta sobre os Estados"
   ]
  },
  {
   "cell_type": "markdown",
   "metadata": {},
   "source": [
    "#### Escopo Geral"
   ]
  },
  {
   "cell_type": "code",
   "execution_count": 46,
   "metadata": {
    "pycharm": {
     "is_executing": false,
     "name": "#%%\n"
    }
   },
   "outputs": [
    {
     "data": {
      "text/plain": [
       "array([<matplotlib.axes._subplots.AxesSubplot object at 0x00000213559C29E8>,\n",
       "       <matplotlib.axes._subplots.AxesSubplot object at 0x0000021355B4F160>],\n",
       "      dtype=object)"
      ]
     },
     "execution_count": 46,
     "metadata": {},
     "output_type": "execute_result"
    },
    {
     "data": {
      "image/png": "[encoded data removed]",
      "text/plain": [
       "<Figure size 432x288 with 2 Axes>"
      ]
     },
     "metadata": {},
     "output_type": "display_data"
    }
   ],
   "source": [
    "dados_filtrados.groupby('uf').sum()[['nota_lp', 'nota_mt']].apply(\n",
    "    lambda x: x / len(dados_filtrados)\n",
    ").plot.pie(subplots=True, figsize=(6, 4), title=['Língua Portuguesa', 'Matemática'])"
   ]
  },
  {
   "cell_type": "markdown",
   "metadata": {},
   "source": [
    "#### Escopo de Média Por Estado"
   ]
  },
  {
   "cell_type": "code",
   "execution_count": 47,
   "metadata": {
    "pycharm": {
     "is_executing": false,
     "name": "#%%\n"
    }
   },
   "outputs": [
    {
     "name": "stdout",
     "output_type": "stream",
     "text": [
      "grupo uf, grupo_buscado AC type <class 'str'>\n",
      "grupo uf, grupo_buscado AC type <class 'str'>\n",
      "grupo uf, grupo_buscado AM type <class 'str'>\n",
      "grupo uf, grupo_buscado RO type <class 'str'>\n"
     ]
    },
    {
     "data": {
      "text/plain": [
       "array([<matplotlib.axes._subplots.AxesSubplot object at 0x00000213567C4940>,\n",
       "       <matplotlib.axes._subplots.AxesSubplot object at 0x00000213567FE518>],\n",
       "      dtype=object)"
      ]
     },
     "execution_count": 47,
     "metadata": {},
     "output_type": "execute_result"
    },
    {
     "data": {
      "image/png": "[encoded data removed]",
      "text/plain": [
       "<Figure size 432x288 with 2 Axes>"
      ]
     },
     "metadata": {},
     "output_type": "display_data"
    }
   ],
   "source": [
    "dados_filtrados.groupby('uf').sum()[['nota_lp', 'nota_mt']].apply(\n",
    "    lambda x: x / conta_tamanho_grupo('uf', x.name), axis=1\n",
    ").plot.pie(subplots=True, figsize=(6, 4), legend=False, title=['Língua Portuguesa', 'Matemática'])"
   ]
  },
  {
   "cell_type": "markdown",
   "metadata": {},
   "source": [
    "### Disparidades Entre Aprendizagem"
   ]
  },
  {
   "cell_type": "markdown",
   "metadata": {},
   "source": [
    "##### A=> Masculino\n",
    "##### B=> Feminino"
   ]
  },
  {
   "cell_type": "markdown",
   "metadata": {},
   "source": [
    "#### Média Geral de Aprendizado"
   ]
  },
  {
   "cell_type": "code",
   "execution_count": 67,
   "metadata": {},
   "outputs": [
    {
     "data": {
      "text/plain": [
       "nota_lp    14.912052\n",
       "nota_mt    11.493296\n",
       "dtype: float64"
      ]
     },
     "execution_count": 67,
     "metadata": {},
     "output_type": "execute_result"
    }
   ],
   "source": [
    "dados_filtrados[['nota_lp', 'nota_mt']].mean()"
   ]
  },
  {
   "cell_type": "markdown",
   "metadata": {},
   "source": [
    "### Por Gênero"
   ]
  },
  {
   "cell_type": "code",
   "execution_count": 68,
   "metadata": {},
   "outputs": [
    {
     "name": "stdout",
     "output_type": "stream",
     "text": [
      "grupo sexo, grupo_buscado A type <class 'str'>\n",
      "grupo sexo, grupo_buscado A type <class 'str'>\n",
      "grupo sexo, grupo_buscado B type <class 'str'>\n"
     ]
    },
    {
     "data": {
      "text/html": [
       "<div>\n",
       "<style scoped>\n",
       "    .dataframe tbody tr th:only-of-type {\n",
       "        vertical-align: middle;\n",
       "    }\n",
       "\n",
       "    .dataframe tbody tr th {\n",
       "        vertical-align: top;\n",
       "    }\n",
       "\n",
       "    .dataframe thead th {\n",
       "        text-align: right;\n",
       "    }\n",
       "</style>\n",
       "<table border=\"1\" class=\"dataframe\">\n",
       "  <thead>\n",
       "    <tr style=\"text-align: right;\">\n",
       "      <th></th>\n",
       "      <th>nota_lp</th>\n",
       "      <th>nota_mt</th>\n",
       "    </tr>\n",
       "    <tr>\n",
       "      <th>sexo</th>\n",
       "      <th></th>\n",
       "      <th></th>\n",
       "    </tr>\n",
       "  </thead>\n",
       "  <tbody>\n",
       "    <tr>\n",
       "      <th>A</th>\n",
       "      <td>14.383306</td>\n",
       "      <td>12.000824</td>\n",
       "    </tr>\n",
       "    <tr>\n",
       "      <th>B</th>\n",
       "      <td>15.507351</td>\n",
       "      <td>11.134921</td>\n",
       "    </tr>\n",
       "  </tbody>\n",
       "</table>\n",
       "</div>"
      ],
      "text/plain": [
       "        nota_lp    nota_mt\n",
       "sexo                      \n",
       "A     14.383306  12.000824\n",
       "B     15.507351  11.134921"
      ]
     },
     "execution_count": 68,
     "metadata": {},
     "output_type": "execute_result"
    }
   ],
   "source": [
    "dados_filtrados.groupby('sexo').sum()\\\n",
    "[['nota_lp', 'nota_mt']].apply(\n",
    "    lambda x: x / conta_tamanho_grupo('sexo', x.name), axis=1\n",
    ")"
   ]
  },
  {
   "cell_type": "markdown",
   "metadata": {
    "pycharm": {
     "is_executing": true,
     "name": "#%%\n"
    }
   },
   "source": [
    "### Por Gênero e Estado"
   ]
  },
  {
   "cell_type": "code",
   "execution_count": 69,
   "metadata": {
    "pycharm": {
     "is_executing": false,
     "name": "#%%\n"
    }
   },
   "outputs": [
    {
     "name": "stdout",
     "output_type": "stream",
     "text": [
      "grupo ['uf', 'sexo'], grupo_buscado A type <class 'str'>\n",
      "3252\n",
      "grupo ['uf', 'sexo'], grupo_buscado B type <class 'str'>\n",
      "3939\n",
      "grupo ['uf', 'sexo'], grupo_buscado A type <class 'str'>\n",
      "3252\n",
      "grupo ['uf', 'sexo'], grupo_buscado B type <class 'str'>\n",
      "3939\n"
     ]
    },
    {
     "data": {
      "text/html": [
       "<div>\n",
       "<style scoped>\n",
       "    .dataframe tbody tr th:only-of-type {\n",
       "        vertical-align: middle;\n",
       "    }\n",
       "\n",
       "    .dataframe tbody tr th {\n",
       "        vertical-align: top;\n",
       "    }\n",
       "\n",
       "    .dataframe thead tr th {\n",
       "        text-align: left;\n",
       "    }\n",
       "\n",
       "    .dataframe thead tr:last-of-type th {\n",
       "        text-align: right;\n",
       "    }\n",
       "</style>\n",
       "<table border=\"1\" class=\"dataframe\">\n",
       "  <thead>\n",
       "    <tr>\n",
       "      <th></th>\n",
       "      <th colspan=\"2\" halign=\"left\">nota_lp</th>\n",
       "      <th colspan=\"2\" halign=\"left\">nota_mt</th>\n",
       "    </tr>\n",
       "    <tr>\n",
       "      <th>sexo</th>\n",
       "      <th>A</th>\n",
       "      <th>B</th>\n",
       "      <th>A</th>\n",
       "      <th>B</th>\n",
       "    </tr>\n",
       "    <tr>\n",
       "      <th>uf</th>\n",
       "      <th></th>\n",
       "      <th></th>\n",
       "      <th></th>\n",
       "      <th></th>\n",
       "    </tr>\n",
       "  </thead>\n",
       "  <tbody>\n",
       "    <tr>\n",
       "      <th>AC</th>\n",
       "      <td>13.332718</td>\n",
       "      <td>14.427520</td>\n",
       "      <td>9.974477</td>\n",
       "      <td>8.981214</td>\n",
       "    </tr>\n",
       "    <tr>\n",
       "      <th>AM</th>\n",
       "      <td>1.464637</td>\n",
       "      <td>1.501650</td>\n",
       "      <td>1.085793</td>\n",
       "      <td>0.953542</td>\n",
       "    </tr>\n",
       "    <tr>\n",
       "      <th>RO</th>\n",
       "      <td>92.502460</td>\n",
       "      <td>91.712871</td>\n",
       "      <td>78.466175</td>\n",
       "      <td>67.356690</td>\n",
       "    </tr>\n",
       "  </tbody>\n",
       "</table>\n",
       "</div>"
      ],
      "text/plain": [
       "        nota_lp               nota_mt           \n",
       "sexo          A          B          A          B\n",
       "uf                                              \n",
       "AC    13.332718  14.427520   9.974477   8.981214\n",
       "AM     1.464637   1.501650   1.085793   0.953542\n",
       "RO    92.502460  91.712871  78.466175  67.356690"
      ]
     },
     "execution_count": 69,
     "metadata": {},
     "output_type": "execute_result"
    }
   ],
   "source": [
    "dados_filtrados.groupby(['uf', 'sexo'])[['nota_lp', 'nota_mt']].sum().unstack()\\\n",
    ".apply(\n",
    "    lambda x: x / conta_tamanho_grupo(['uf', 'sexo'], x.name[1])\n",
    ")"
   ]
  },
  {
   "cell_type": "code",
   "execution_count": 70,
   "metadata": {
    "pycharm": {
     "is_executing": false,
     "name": "#%%\n"
    }
   },
   "outputs": [
    {
     "name": "stdout",
     "output_type": "stream",
     "text": [
      "grupo sexo, grupo_buscado A type <class 'str'>\n",
      "grupo sexo, grupo_buscado A type <class 'str'>\n",
      "grupo sexo, grupo_buscado B type <class 'str'>\n"
     ]
    },
    {
     "data": {
      "text/html": [
       "<div>\n",
       "<style scoped>\n",
       "    .dataframe tbody tr th:only-of-type {\n",
       "        vertical-align: middle;\n",
       "    }\n",
       "\n",
       "    .dataframe tbody tr th {\n",
       "        vertical-align: top;\n",
       "    }\n",
       "\n",
       "    .dataframe thead th {\n",
       "        text-align: right;\n",
       "    }\n",
       "</style>\n",
       "<table border=\"1\" class=\"dataframe\">\n",
       "  <thead>\n",
       "    <tr style=\"text-align: right;\">\n",
       "      <th></th>\n",
       "      <th>nota_lp</th>\n",
       "      <th>nota_mt</th>\n",
       "    </tr>\n",
       "    <tr>\n",
       "      <th>sexo</th>\n",
       "      <th></th>\n",
       "      <th></th>\n",
       "    </tr>\n",
       "  </thead>\n",
       "  <tbody>\n",
       "    <tr>\n",
       "      <th>A</th>\n",
       "      <td>14.383306</td>\n",
       "      <td>12.000824</td>\n",
       "    </tr>\n",
       "    <tr>\n",
       "      <th>B</th>\n",
       "      <td>15.507351</td>\n",
       "      <td>11.134921</td>\n",
       "    </tr>\n",
       "  </tbody>\n",
       "</table>\n",
       "</div>"
      ],
      "text/plain": [
       "        nota_lp    nota_mt\n",
       "sexo                      \n",
       "A     14.383306  12.000824\n",
       "B     15.507351  11.134921"
      ]
     },
     "execution_count": 70,
     "metadata": {},
     "output_type": "execute_result"
    }
   ],
   "source": [
    "dados_filtrados.groupby('sexo').sum()\\\n",
    "[['nota_lp', 'nota_mt']].apply(\n",
    "    lambda x: x / conta_tamanho_grupo('sexo', x.name), axis=1\n",
    ")"
   ]
  },
  {
   "cell_type": "code",
   "execution_count": null,
   "metadata": {
    "pycharm": {
     "is_executing": false,
     "name": "#%%\n"
    }
   },
   "outputs": [],
   "source": []
  },
  {
   "cell_type": "code",
   "execution_count": null,
   "metadata": {
    "pycharm": {
     "is_executing": false,
     "name": "#%%\n"
    }
   },
   "outputs": [],
   "source": []
  },
  {
   "cell_type": "code",
   "execution_count": null,
   "metadata": {},
   "outputs": [],
   "source": []
  },
  {
   "cell_type": "code",
   "execution_count": null,
   "metadata": {},
   "outputs": [],
   "source": []
  },
  {
   "cell_type": "code",
   "execution_count": null,
   "metadata": {},
   "outputs": [],
   "source": []
  }
 ],
 "metadata": {
  "kernelspec": {
   "display_name": "Python 3",
   "language": "python",
   "name": "python3"
  },
  "language_info": {
   "codemirror_mode": {
    "name": "ipython",
    "version": 3
   },
   "file_extension": ".py",
   "mimetype": "text/x-python",
   "name": "python",
   "nbconvert_exporter": "python",
   "pygments_lexer": "ipython3",
   "version": "3.7.3"
  },
  "pycharm": {
   "stem_cell": {
    "cell_type": "raw",
    "metadata": {
     "collapsed": false
    },
    "source": []
   }
  }
 },
 "nbformat": 4,
 "nbformat_minor": 2
}
