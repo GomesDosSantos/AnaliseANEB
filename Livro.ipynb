{
 "cells": [
  {
   "cell_type": "code",
   "execution_count": 1,
   "metadata": {
    "pycharm": {
     "is_executing": false
    }
   },
   "outputs": [],
   "source": [
    "import pandas as pd"
   ]
  },
  {
   "cell_type": "code",
   "execution_count": 2,
   "metadata": {
    "pycharm": {
     "is_executing": false
    }
   },
   "outputs": [],
   "source": [
    "%matplotlib inline"
   ]
  },
  {
   "cell_type": "code",
   "execution_count": 3,
   "metadata": {
    "pycharm": {
     "is_executing": false
    }
   },
   "outputs": [],
   "source": [
    "pd.options.display.max_columns = 25"
   ]
  },
  {
   "cell_type": "code",
   "execution_count": 4,
   "metadata": {
    "pycharm": {
     "is_executing": false
    }
   },
   "outputs": [],
   "source": [
    "pd.options.display.max_rows = None"
   ]
  },
  {
   "cell_type": "markdown",
   "metadata": {},
   "source": [
    "Arquivos extraídos do Microdados INEP"
   ]
  },
  {
   "cell_type": "code",
   "execution_count": 5,
   "metadata": {
    "pycharm": {
     "is_executing": false
    }
   },
   "outputs": [],
   "source": [
    "file_resp = '../dados/TS_ITEM.csv'"
   ]
  },
  {
   "cell_type": "code",
   "execution_count": 6,
   "metadata": {
    "pycharm": {
     "is_executing": false
    }
   },
   "outputs": [],
   "source": [
    "file_alunos_3EM_ESC = '../dados/TS_ALUNO_3EM_ESC.csv'\n",
    "file_alunos_3EM_AG = '../dados/TS_ALUNO_3EM_AG.csv'\n",
    "file_alunos_5EF = '../dados/TS_ALUNO_5EF.csv'\n",
    "file_alunos_9EF = '../dados/TS_ALUNO_9EF.csv'"
   ]
  },
  {
   "cell_type": "markdown",
   "metadata": {},
   "source": [
    "Conjunto Definido de Colunas à Serem Utilizadas"
   ]
  },
  {
   "cell_type": "markdown",
   "source": [
    "Identificadores das Colunas"
   ],
   "metadata": {
    "collapsed": false,
    "pycharm": {
     "name": "#%% md\n"
    }
   }
  },
  {
   "cell_type": "code",
   "execution_count": 7,
   "outputs": [],
   "source": [
    "\n",
    "RESPOSTAS_INVALIDAS = ['X', '.', '*', ' ', '']\n",
    "\n",
    "ID_SERIE = 'ID_SERIE'\n",
    "TIPO_PROVA = 'TIPO_PROVA'\n",
    "DISCIPLINA = 'DISCIPLINA'\n",
    "ID_SERIE_ITEM = 'ID_SERIE_ITEM'\n",
    "ID_BLOCO = 'ID_BLOCO'\n",
    "ID_POSICAO = 'ID_POSICAO'\n",
    "GABARITO = 'GABARITO'\n",
    "ID_PROVA_BRASIL = 'ID_PROVA_BRASIL' # Ano da Prova, pode ser ignorado, pois os arquivos são baixados por ano\n",
    "ID_UF = 'ID_UF'\n",
    "ID_MUNICIPIO = 'ID_MUNICIPIO'\n",
    "\n",
    "# Preenchimento Prova\n",
    "# ID_SERIE = 'ID_SERIE'\n",
    "IN_PREENCHIMENTO_PROVA = 'IN_PREENCHIMENTO_PROVA'\n",
    "IN_PRESENCA_PROVA = 'IN_PRESENCA_PROVA'\n",
    "ID_REGIAO = 'ID_REGIAO'\n",
    "ID_AREA = 'ID_AREA'\n",
    "# Respostas da Prova\n",
    "ID_BLOCO_1 = 'ID_BLOCO_1'\n",
    "ID_BLOCO_2 = 'ID_BLOCO_2'\n",
    "TX_RESP_BLOCO_1_LP = 'TX_RESP_BLOCO_1_LP'\n",
    "TX_RESP_BLOCO_2_LP = 'TX_RESP_BLOCO_2_LP'\n",
    "TX_RESP_BLOCO_1_MT = 'TX_RESP_BLOCO_1_MT'\n",
    "TX_RESP_BLOCO_2_MT = 'TX_RESP_BLOCO_2_MT'\n",
    "# Proeficiência do ALuno\n",
    "PESO_ALUNO_LP = 'PESO_ALUNO_LP'\n",
    "PESO_ALUNO_MT = 'PESO_ALUNO_MT'\n",
    "PROFICIENCIA_LP = 'PROFICIENCIA_LP'\n",
    "ERRO_PADRAO_LP = 'ERRO_PADRAO_LP'\n",
    "PROFICIENCIA_LP_SAEB = 'PROFICIENCIA_LP_SAEB'\n",
    "ERRO_PADRAO_LP_SAEB = 'ERRO_PADRAO_LP_SAEB'\n",
    "PROFICIENCIA_MT = 'PROFICIENCIA_MT'\n",
    "ERRO_PADRAO_MT = 'ERRO_PADRAO_MT'\n",
    "PROFICIENCIA_MT_SAEB = 'PROFICIENCIA_MT_SAEB'\n",
    "ERRO_PADRAO_MT_SAEB = 'ERRO_PADRAO_MT_SAEB'\n",
    "# Questionário Socioeconômico\n",
    "IN_PREENCHIMENTO_QUESTIONARIO = 'IN_PREENCHIMENTO_QUESTIONARIO'\n",
    "TX_RESP_Q001 = 'TX_RESP_Q001' # Sexo\n",
    "TX_RESP_Q002 = 'TX_RESP_Q002' # Cor/Raça"
   ],
   "metadata": {
    "collapsed": false,
    "pycharm": {
     "name": "#%%\n",
     "is_executing": false
    }
   }
  },
  {
   "cell_type": "code",
   "execution_count": 8,
   "metadata": {
    "pycharm": {
     "is_executing": false
    }
   },
   "outputs": [],
   "source": [
    "colunas_resp = [ID_SERIE, TIPO_PROVA, DISCIPLINA, ID_SERIE_ITEM, ID_BLOCO, ID_POSICAO, GABARITO]\n",
    "# DESCRITOR_HABILIDADE"
   ]
  },
  {
   "cell_type": "code",
   "execution_count": 9,
   "metadata": {
    "pycharm": {
     "is_executing": false
    }
   },
   "outputs": [],
   "source": [
    "colunas_aluno = [\n",
    "    ID_PROVA_BRASIL,\n",
    "    ID_UF, ID_MUNICIPIO, ID_REGIAO, ID_AREA,\n",
    "    ID_SERIE, IN_PREENCHIMENTO_PROVA, IN_PRESENCA_PROVA,\n",
    "    ID_BLOCO_1, ID_BLOCO_2,\n",
    "    TX_RESP_BLOCO_1_LP, TX_RESP_BLOCO_2_LP, TX_RESP_BLOCO_1_MT, TX_RESP_BLOCO_2_MT,\n",
    "    PESO_ALUNO_LP, PESO_ALUNO_MT,\n",
    "    PROFICIENCIA_LP, ERRO_PADRAO_LP, PROFICIENCIA_LP_SAEB, ERRO_PADRAO_LP_SAEB,\n",
    "    PROFICIENCIA_MT, ERRO_PADRAO_MT, PROFICIENCIA_MT_SAEB, ERRO_PADRAO_MT_SAEB,\n",
    "    IN_PREENCHIMENTO_QUESTIONARIO,\n",
    "    TX_RESP_Q001,\n",
    "    TX_RESP_Q002\n",
    "]"
   ]
  },
  {
   "cell_type": "code",
   "execution_count": 10,
   "metadata": {
    "pycharm": {
     "is_executing": false
    }
   },
   "outputs": [],
   "source": [
    "df_gabarito = pd.read_csv(\n",
    "    file_resp,\n",
    "    delimiter=';', encoding='iso-8859-1',\n",
    "    usecols=colunas_resp,\n",
    "    low_memory=True\n",
    "    #  # true_values=['1'],\n",
    "    # false_values=['0']\n",
    ")"
   ]
  },
  {
   "cell_type": "code",
   "execution_count": 12,
   "metadata": {
    "pycharm": {
     "is_executing": false
    }
   },
   "outputs": [
    {
     "data": {
      "text/plain": "     ID_SERIE         TIPO_PROVA DISCIPLINA  ID_SERIE_ITEM  ID_BLOCO  \\\n221         3  Macrotipo 18 e 24         MT              3         2   \n624         9      Prova Regular         MT              9         6   \n324         5  Macrotipo 18 e 24         LP              5         2   \n131         3      Prova Regular         MT              3         2   \n300         5      Prova Regular         LP              5         7   \n206         3      Prova Regular         MT              3         7   \n407         5      Prova Regular         MT              5         7   \n182         3      Prova Regular         MT              3         6   \n555         9      Prova Regular         MT              5         1   \n526         9  Macrotipo 18 e 24         LP              9         1   \n\n     ID_POSICAO GABARITO  \n221           1        A  \n624          11        D  \n324           5        B  \n131           2        B  \n300           1        B  \n206          12        B  \n407           9        C  \n182           1        B  \n555           7        B  \n526           4        D  ",
      "text/html": "<div>\n<style scoped>\n    .dataframe tbody tr th:only-of-type {\n        vertical-align: middle;\n    }\n\n    .dataframe tbody tr th {\n        vertical-align: top;\n    }\n\n    .dataframe thead th {\n        text-align: right;\n    }\n</style>\n<table border=\"1\" class=\"dataframe\">\n  <thead>\n    <tr style=\"text-align: right;\">\n      <th></th>\n      <th>ID_SERIE</th>\n      <th>TIPO_PROVA</th>\n      <th>DISCIPLINA</th>\n      <th>ID_SERIE_ITEM</th>\n      <th>ID_BLOCO</th>\n      <th>ID_POSICAO</th>\n      <th>GABARITO</th>\n    </tr>\n  </thead>\n  <tbody>\n    <tr>\n      <th>221</th>\n      <td>3</td>\n      <td>Macrotipo 18 e 24</td>\n      <td>MT</td>\n      <td>3</td>\n      <td>2</td>\n      <td>1</td>\n      <td>A</td>\n    </tr>\n    <tr>\n      <th>624</th>\n      <td>9</td>\n      <td>Prova Regular</td>\n      <td>MT</td>\n      <td>9</td>\n      <td>6</td>\n      <td>11</td>\n      <td>D</td>\n    </tr>\n    <tr>\n      <th>324</th>\n      <td>5</td>\n      <td>Macrotipo 18 e 24</td>\n      <td>LP</td>\n      <td>5</td>\n      <td>2</td>\n      <td>5</td>\n      <td>B</td>\n    </tr>\n    <tr>\n      <th>131</th>\n      <td>3</td>\n      <td>Prova Regular</td>\n      <td>MT</td>\n      <td>3</td>\n      <td>2</td>\n      <td>2</td>\n      <td>B</td>\n    </tr>\n    <tr>\n      <th>300</th>\n      <td>5</td>\n      <td>Prova Regular</td>\n      <td>LP</td>\n      <td>5</td>\n      <td>7</td>\n      <td>1</td>\n      <td>B</td>\n    </tr>\n    <tr>\n      <th>206</th>\n      <td>3</td>\n      <td>Prova Regular</td>\n      <td>MT</td>\n      <td>3</td>\n      <td>7</td>\n      <td>12</td>\n      <td>B</td>\n    </tr>\n    <tr>\n      <th>407</th>\n      <td>5</td>\n      <td>Prova Regular</td>\n      <td>MT</td>\n      <td>5</td>\n      <td>7</td>\n      <td>9</td>\n      <td>C</td>\n    </tr>\n    <tr>\n      <th>182</th>\n      <td>3</td>\n      <td>Prova Regular</td>\n      <td>MT</td>\n      <td>3</td>\n      <td>6</td>\n      <td>1</td>\n      <td>B</td>\n    </tr>\n    <tr>\n      <th>555</th>\n      <td>9</td>\n      <td>Prova Regular</td>\n      <td>MT</td>\n      <td>5</td>\n      <td>1</td>\n      <td>7</td>\n      <td>B</td>\n    </tr>\n    <tr>\n      <th>526</th>\n      <td>9</td>\n      <td>Macrotipo 18 e 24</td>\n      <td>LP</td>\n      <td>9</td>\n      <td>1</td>\n      <td>4</td>\n      <td>D</td>\n    </tr>\n  </tbody>\n</table>\n</div>"
     },
     "metadata": {},
     "output_type": "execute_result",
     "execution_count": 12
    }
   ],
   "source": [
    "df_gabarito.sample(10)"
   ]
  },
  {
   "cell_type": "code",
   "execution_count": 13,
   "metadata": {
    "pycharm": {
     "is_executing": false
    }
   },
   "outputs": [
    {
     "name": "stdout",
     "text": [
      "<class 'pandas.core.frame.DataFrame'>\nRangeIndex: 666 entries, 0 to 665\nData columns (total 7 columns):\nID_SERIE         666 non-null int64\nTIPO_PROVA       666 non-null object\nDISCIPLINA       666 non-null object\nID_SERIE_ITEM    666 non-null int64\nID_BLOCO         666 non-null int64\nID_POSICAO       666 non-null int64\nGABARITO         666 non-null object\ndtypes: int64(4), object(3)\nmemory usage: 36.5+ KB\n"
     ],
     "output_type": "stream"
    }
   ],
   "source": [
    "df_gabarito.info()"
   ]
  },
  {
   "cell_type": "code",
   "execution_count": 14,
   "metadata": {
    "pycharm": {
     "is_executing": false
    }
   },
   "outputs": [],
   "source": [
    "df_aluno = pd.read_csv(\n",
    "    file_alunos_5EF,\n",
    "    delimiter=',', encoding='iso-8859-1',\n",
    "    usecols=colunas_aluno,\n",
    "    low_memory=True,\n",
    "    nrows=50000\n",
    "    #  # true_values=['1'],\n",
    "    # false_values=['0']\n",
    ")"
   ]
  },
  {
   "cell_type": "code",
   "execution_count": 15,
   "metadata": {
    "scrolled": true,
    "pycharm": {
     "is_executing": false
    }
   },
   "outputs": [
    {
     "data": {
      "text/plain": "       ID_PROVA_BRASIL  ID_REGIAO  ID_UF  ID_MUNICIPIO  ID_AREA  ID_SERIE  \\\n39434             2017          1     12       1200401        1         5   \n19482             2017          1     11       1100296        2         5   \n8370              2017          1     11       1100130        2         5   \n2654              2017          1     11       1100049        2         5   \n16851             2017          1     11       1100205        1         5   \n11643             2017          1     11       1100205        1         5   \n11994             2017          1     11       1100205        1         5   \n46649             2017          1     13       1300300        2         5   \n36565             2017          1     12       1200401        1         5   \n26699             2017          1     11       1101492        2         5   \n\n       IN_PREENCHIMENTO_PROVA  IN_PRESENCA_PROVA  ID_BLOCO_1  ID_BLOCO_2  \\\n39434                       1                  1           7           3   \n19482                       1                  1           4           5   \n8370                        1                  1           5           1   \n2654                        1                  1           7           1   \n16851                       1                  1           2           4   \n11643                       1                  1           7           1   \n11994                       1                  1           6           2   \n46649                       1                  1           7           1   \n36565                       1                  1           6           2   \n26699                       1                  1           1           2   \n\n      TX_RESP_BLOCO_1_LP TX_RESP_BLOCO_2_LP  ... PESO_ALUNO_MT  \\\n39434        BABCACCABCB        DCDAACDBADD  ...      1.107143   \n19482        BCCBAAABDAC        DDDCDACDDBD  ...      0.900000   \n8370         ACAAAAAAAAA        AAAA.AAAAAA  ...      0.960000   \n2654         DBDCDDBABAD        BCCDBCBABBB  ...      0.909091   \n16851        DAACDBABBCD        BCCBAADDDBC  ...      0.947368   \n11643        BBDADAB....        BCCDBCBABBB  ...      1.115385   \n11994        BDCCABAACBC        DAABACDBBCA  ...      1.050000   \n46649        ABCDCADDBAC        BBCDCCBACDC  ...      1.571429   \n36565        BDCCBBAACDC        DBADDDDBBCC  ...      1.117647   \n26699        BCBABAABBBB        DAADAADBAAD  ...      1.142857   \n\n      PROFICIENCIA_LP  ERRO_PADRAO_LP  PROFICIENCIA_LP_SAEB  \\\n39434       -1.554020        0.317196            164.368802   \n19482        0.189766        0.349852            260.439837   \n8370        -2.691318        0.466823            101.711231   \n2654         0.179449        0.355444            259.871439   \n16851       -0.169990        0.326579            240.619669   \n11643       -0.102183        0.362982            244.355385   \n11994       -0.287834        0.306209            234.127247   \n46649       -1.767959        0.379155            152.582183   \n36565       -0.100555        0.321948            244.445077   \n26699       -1.024450        0.273270            193.544594   \n\n       ERRO_PADRAO_LP_SAEB  PROFICIENCIA_MT  ERRO_PADRAO_MT  \\\n39434            17.475394        -1.018768        0.446688   \n19482            19.274523         0.338414        0.326072   \n8370             25.718849        -2.207789        0.544075   \n2654             19.582605        -0.353010        0.340182   \n16851            17.992335         0.661478        0.333932   \n11643            19.997899         1.463811        0.460329   \n11994            16.870084        -0.981400        0.326674   \n46649            20.888924        -1.742507        0.512472   \n36565            17.737198        -0.444334        0.294303   \n26699            15.055363        -0.889145        0.442447   \n\n       PROFICIENCIA_MT_SAEB  ERRO_PADRAO_MT_SAEB  \\\n39434            193.023066            24.966432   \n19482            268.879127            18.224923   \n8370             126.565914            30.409618   \n2654             230.233830            19.013564   \n16851            286.935926            18.664237   \n11643            331.780185            25.728859   \n11994            195.111650            18.258570   \n46649            152.571608            28.643253   \n36565            225.129519            16.449280   \n26699            200.267997            24.729393   \n\n       IN_PREENCHIMENTO_QUESTIONARIO  TX_RESP_Q001  TX_RESP_Q002  \n39434                              1             B             D  \n19482                              1             A             C  \n8370                               1             A             A  \n2654                               1             A             A  \n16851                              1           NaN           NaN  \n11643                              1             B             C  \n11994                              1             B             C  \n46649                              1             A             C  \n36565                              1             B             C  \n26699                              1             A             F  \n\n[10 rows x 27 columns]",
      "text/html": "<div>\n<style scoped>\n    .dataframe tbody tr th:only-of-type {\n        vertical-align: middle;\n    }\n\n    .dataframe tbody tr th {\n        vertical-align: top;\n    }\n\n    .dataframe thead th {\n        text-align: right;\n    }\n</style>\n<table border=\"1\" class=\"dataframe\">\n  <thead>\n    <tr style=\"text-align: right;\">\n      <th></th>\n      <th>ID_PROVA_BRASIL</th>\n      <th>ID_REGIAO</th>\n      <th>ID_UF</th>\n      <th>ID_MUNICIPIO</th>\n      <th>ID_AREA</th>\n      <th>ID_SERIE</th>\n      <th>IN_PREENCHIMENTO_PROVA</th>\n      <th>IN_PRESENCA_PROVA</th>\n      <th>ID_BLOCO_1</th>\n      <th>ID_BLOCO_2</th>\n      <th>TX_RESP_BLOCO_1_LP</th>\n      <th>TX_RESP_BLOCO_2_LP</th>\n      <th>...</th>\n      <th>PESO_ALUNO_MT</th>\n      <th>PROFICIENCIA_LP</th>\n      <th>ERRO_PADRAO_LP</th>\n      <th>PROFICIENCIA_LP_SAEB</th>\n      <th>ERRO_PADRAO_LP_SAEB</th>\n      <th>PROFICIENCIA_MT</th>\n      <th>ERRO_PADRAO_MT</th>\n      <th>PROFICIENCIA_MT_SAEB</th>\n      <th>ERRO_PADRAO_MT_SAEB</th>\n      <th>IN_PREENCHIMENTO_QUESTIONARIO</th>\n      <th>TX_RESP_Q001</th>\n      <th>TX_RESP_Q002</th>\n    </tr>\n  </thead>\n  <tbody>\n    <tr>\n      <th>39434</th>\n      <td>2017</td>\n      <td>1</td>\n      <td>12</td>\n      <td>1200401</td>\n      <td>1</td>\n      <td>5</td>\n      <td>1</td>\n      <td>1</td>\n      <td>7</td>\n      <td>3</td>\n      <td>BABCACCABCB</td>\n      <td>DCDAACDBADD</td>\n      <td>...</td>\n      <td>1.107143</td>\n      <td>-1.554020</td>\n      <td>0.317196</td>\n      <td>164.368802</td>\n      <td>17.475394</td>\n      <td>-1.018768</td>\n      <td>0.446688</td>\n      <td>193.023066</td>\n      <td>24.966432</td>\n      <td>1</td>\n      <td>B</td>\n      <td>D</td>\n    </tr>\n    <tr>\n      <th>19482</th>\n      <td>2017</td>\n      <td>1</td>\n      <td>11</td>\n      <td>1100296</td>\n      <td>2</td>\n      <td>5</td>\n      <td>1</td>\n      <td>1</td>\n      <td>4</td>\n      <td>5</td>\n      <td>BCCBAAABDAC</td>\n      <td>DDDCDACDDBD</td>\n      <td>...</td>\n      <td>0.900000</td>\n      <td>0.189766</td>\n      <td>0.349852</td>\n      <td>260.439837</td>\n      <td>19.274523</td>\n      <td>0.338414</td>\n      <td>0.326072</td>\n      <td>268.879127</td>\n      <td>18.224923</td>\n      <td>1</td>\n      <td>A</td>\n      <td>C</td>\n    </tr>\n    <tr>\n      <th>8370</th>\n      <td>2017</td>\n      <td>1</td>\n      <td>11</td>\n      <td>1100130</td>\n      <td>2</td>\n      <td>5</td>\n      <td>1</td>\n      <td>1</td>\n      <td>5</td>\n      <td>1</td>\n      <td>ACAAAAAAAAA</td>\n      <td>AAAA.AAAAAA</td>\n      <td>...</td>\n      <td>0.960000</td>\n      <td>-2.691318</td>\n      <td>0.466823</td>\n      <td>101.711231</td>\n      <td>25.718849</td>\n      <td>-2.207789</td>\n      <td>0.544075</td>\n      <td>126.565914</td>\n      <td>30.409618</td>\n      <td>1</td>\n      <td>A</td>\n      <td>A</td>\n    </tr>\n    <tr>\n      <th>2654</th>\n      <td>2017</td>\n      <td>1</td>\n      <td>11</td>\n      <td>1100049</td>\n      <td>2</td>\n      <td>5</td>\n      <td>1</td>\n      <td>1</td>\n      <td>7</td>\n      <td>1</td>\n      <td>DBDCDDBABAD</td>\n      <td>BCCDBCBABBB</td>\n      <td>...</td>\n      <td>0.909091</td>\n      <td>0.179449</td>\n      <td>0.355444</td>\n      <td>259.871439</td>\n      <td>19.582605</td>\n      <td>-0.353010</td>\n      <td>0.340182</td>\n      <td>230.233830</td>\n      <td>19.013564</td>\n      <td>1</td>\n      <td>A</td>\n      <td>A</td>\n    </tr>\n    <tr>\n      <th>16851</th>\n      <td>2017</td>\n      <td>1</td>\n      <td>11</td>\n      <td>1100205</td>\n      <td>1</td>\n      <td>5</td>\n      <td>1</td>\n      <td>1</td>\n      <td>2</td>\n      <td>4</td>\n      <td>DAACDBABBCD</td>\n      <td>BCCBAADDDBC</td>\n      <td>...</td>\n      <td>0.947368</td>\n      <td>-0.169990</td>\n      <td>0.326579</td>\n      <td>240.619669</td>\n      <td>17.992335</td>\n      <td>0.661478</td>\n      <td>0.333932</td>\n      <td>286.935926</td>\n      <td>18.664237</td>\n      <td>1</td>\n      <td>NaN</td>\n      <td>NaN</td>\n    </tr>\n    <tr>\n      <th>11643</th>\n      <td>2017</td>\n      <td>1</td>\n      <td>11</td>\n      <td>1100205</td>\n      <td>1</td>\n      <td>5</td>\n      <td>1</td>\n      <td>1</td>\n      <td>7</td>\n      <td>1</td>\n      <td>BBDADAB....</td>\n      <td>BCCDBCBABBB</td>\n      <td>...</td>\n      <td>1.115385</td>\n      <td>-0.102183</td>\n      <td>0.362982</td>\n      <td>244.355385</td>\n      <td>19.997899</td>\n      <td>1.463811</td>\n      <td>0.460329</td>\n      <td>331.780185</td>\n      <td>25.728859</td>\n      <td>1</td>\n      <td>B</td>\n      <td>C</td>\n    </tr>\n    <tr>\n      <th>11994</th>\n      <td>2017</td>\n      <td>1</td>\n      <td>11</td>\n      <td>1100205</td>\n      <td>1</td>\n      <td>5</td>\n      <td>1</td>\n      <td>1</td>\n      <td>6</td>\n      <td>2</td>\n      <td>BDCCABAACBC</td>\n      <td>DAABACDBBCA</td>\n      <td>...</td>\n      <td>1.050000</td>\n      <td>-0.287834</td>\n      <td>0.306209</td>\n      <td>234.127247</td>\n      <td>16.870084</td>\n      <td>-0.981400</td>\n      <td>0.326674</td>\n      <td>195.111650</td>\n      <td>18.258570</td>\n      <td>1</td>\n      <td>B</td>\n      <td>C</td>\n    </tr>\n    <tr>\n      <th>46649</th>\n      <td>2017</td>\n      <td>1</td>\n      <td>13</td>\n      <td>1300300</td>\n      <td>2</td>\n      <td>5</td>\n      <td>1</td>\n      <td>1</td>\n      <td>7</td>\n      <td>1</td>\n      <td>ABCDCADDBAC</td>\n      <td>BBCDCCBACDC</td>\n      <td>...</td>\n      <td>1.571429</td>\n      <td>-1.767959</td>\n      <td>0.379155</td>\n      <td>152.582183</td>\n      <td>20.888924</td>\n      <td>-1.742507</td>\n      <td>0.512472</td>\n      <td>152.571608</td>\n      <td>28.643253</td>\n      <td>1</td>\n      <td>A</td>\n      <td>C</td>\n    </tr>\n    <tr>\n      <th>36565</th>\n      <td>2017</td>\n      <td>1</td>\n      <td>12</td>\n      <td>1200401</td>\n      <td>1</td>\n      <td>5</td>\n      <td>1</td>\n      <td>1</td>\n      <td>6</td>\n      <td>2</td>\n      <td>BDCCBBAACDC</td>\n      <td>DBADDDDBBCC</td>\n      <td>...</td>\n      <td>1.117647</td>\n      <td>-0.100555</td>\n      <td>0.321948</td>\n      <td>244.445077</td>\n      <td>17.737198</td>\n      <td>-0.444334</td>\n      <td>0.294303</td>\n      <td>225.129519</td>\n      <td>16.449280</td>\n      <td>1</td>\n      <td>B</td>\n      <td>C</td>\n    </tr>\n    <tr>\n      <th>26699</th>\n      <td>2017</td>\n      <td>1</td>\n      <td>11</td>\n      <td>1101492</td>\n      <td>2</td>\n      <td>5</td>\n      <td>1</td>\n      <td>1</td>\n      <td>1</td>\n      <td>2</td>\n      <td>BCBABAABBBB</td>\n      <td>DAADAADBAAD</td>\n      <td>...</td>\n      <td>1.142857</td>\n      <td>-1.024450</td>\n      <td>0.273270</td>\n      <td>193.544594</td>\n      <td>15.055363</td>\n      <td>-0.889145</td>\n      <td>0.442447</td>\n      <td>200.267997</td>\n      <td>24.729393</td>\n      <td>1</td>\n      <td>A</td>\n      <td>F</td>\n    </tr>\n  </tbody>\n</table>\n<p>10 rows × 27 columns</p>\n</div>"
     },
     "metadata": {},
     "output_type": "execute_result",
     "execution_count": 15
    }
   ],
   "source": [
    "df_aluno.sample(10)"
   ]
  },
  {
   "cell_type": "code",
   "execution_count": 16,
   "metadata": {
    "pycharm": {
     "is_executing": false
    }
   },
   "outputs": [
    {
     "name": "stdout",
     "text": [
      "<class 'pandas.core.frame.DataFrame'>\nRangeIndex: 50000 entries, 0 to 49999\nData columns (total 27 columns):\nID_PROVA_BRASIL                  50000 non-null int64\nID_REGIAO                        50000 non-null int64\nID_UF                            50000 non-null int64\nID_MUNICIPIO                     50000 non-null int64\nID_AREA                          50000 non-null int64\nID_SERIE                         50000 non-null int64\nIN_PREENCHIMENTO_PROVA           50000 non-null int64\nIN_PRESENCA_PROVA                50000 non-null int64\nID_BLOCO_1                       50000 non-null int64\nID_BLOCO_2                       50000 non-null int64\nTX_RESP_BLOCO_1_LP               50000 non-null object\nTX_RESP_BLOCO_2_LP               50000 non-null object\nTX_RESP_BLOCO_1_MT               50000 non-null object\nTX_RESP_BLOCO_2_MT               50000 non-null object\nPESO_ALUNO_LP                    42586 non-null float64\nPESO_ALUNO_MT                    42586 non-null float64\nPROFICIENCIA_LP                  42669 non-null float64\nERRO_PADRAO_LP                   42669 non-null float64\nPROFICIENCIA_LP_SAEB             42669 non-null float64\nERRO_PADRAO_LP_SAEB              42669 non-null float64\nPROFICIENCIA_MT                  42669 non-null float64\nERRO_PADRAO_MT                   42669 non-null float64\nPROFICIENCIA_MT_SAEB             42669 non-null float64\nERRO_PADRAO_MT_SAEB              42669 non-null float64\nIN_PREENCHIMENTO_QUESTIONARIO    50000 non-null int64\nTX_RESP_Q001                     40344 non-null object\nTX_RESP_Q002                     40260 non-null object\ndtypes: float64(10), int64(11), object(6)\nmemory usage: 10.3+ MB\n"
     ],
     "output_type": "stream"
    }
   ],
   "source": [
    "df_aluno.info()"
   ]
  },
  {
   "cell_type": "code",
   "execution_count": 27,
   "metadata": {},
   "outputs": [],
   "source": [
    "# https://mybinder.org/v2/gh/luizirber/2018-desertos/master?filepath=Usando%20Pandas%20para%20encontrar%20os%20desertos%20de%20not%C3%ADcias%20no%20Brasil.ipynb"
   ]
  },
  {
   "cell_type": "code",
   "execution_count": 28,
   "metadata": {},
   "outputs": [],
   "source": [
    "# aluno_resposta = df_aluno.join(df_gabarito, on=('ID_SERIE', ), lsuffix='_l', rsuffix='_r')"
   ]
  },
  {
   "cell_type": "code",
   "execution_count": 29,
   "metadata": {},
   "outputs": [],
   "source": [
    "# aluno_resposta.describe()"
   ]
  },
  {
   "cell_type": "code",
   "execution_count": 30,
   "metadata": {},
   "outputs": [],
   "source": [
    "# aluno_resposta.info()"
   ]
  },
  {
   "cell_type": "code",
   "execution_count": 31,
   "metadata": {},
   "outputs": [],
   "source": [
    "# aluno_resposta.sample(10)"
   ]
  },
  {
   "cell_type": "code",
   "execution_count": 32,
   "metadata": {},
   "outputs": [
    {
     "data": {
      "text/plain": [
       "array([[2017, 11, 1100015, ..., 3, 13, 'D'],\n",
       "       [2017, 11, 1100015, ..., 3, 13, 'D'],\n",
       "       [2017, 11, 1100015, ..., 3, 13, 'D'],\n",
       "       ...,\n",
       "       [2017, 11, 1100031, ..., 3, 13, 'D'],\n",
       "       [2017, 11, 1100031, ..., 3, 13, 'D'],\n",
       "       [2017, 11, 1100031, ..., 3, 13, 'D']], dtype=object)"
      ]
     },
     "execution_count": 32,
     "metadata": {},
     "output_type": "execute_result"
    }
   ],
   "source": [
    "# aluno_resposta.to_numpy() "
   ]
  },
  {
   "cell_type": "code",
   "execution_count": 33,
   "metadata": {},
   "outputs": [],
   "source": [
    "# To-do: Função que vê se uma resposta está certa"
   ]
  },
  {
   "cell_type": "code",
   "execution_count": 34,
   "metadata": {},
   "outputs": [],
   "source": [
    "# doing"
   ]
  },
  {
   "cell_type": "code",
   "execution_count": null,
   "metadata": {},
   "outputs": [],
   "source": [
    "# p = pd.DataFrame(data, columns=[])"
   ]
  },
  {
   "cell_type": "code",
   "execution_count": 17,
   "metadata": {
    "pycharm": {
     "is_executing": false
    }
   },
   "outputs": [],
   "source": [
    "dados = list()"
   ]
  },
  {
   "cell_type": "code",
   "execution_count": 20,
   "metadata": {
    "pycharm": {
     "is_executing": false
    }
   },
   "outputs": [],
   "source": [
    "### Série\n",
    "idx_serie_gab = colunas_resp.index(ID_SERIE)\n",
    "idx_serie_aluno = colunas_aluno.index(ID_SERIE)\n",
    "\n",
    "### R. Respostas\n",
    "idx_disciplina = colunas_resp.index(DISCIPLINA)\n",
    "idx_posicao_gabarito = colunas_resp.index(ID_POSICAO)\n",
    "idx_gabarito = colunas_resp.index(GABARITO)\n",
    "\n",
    "### Blocos\n",
    "bloco_gab = colunas_resp.index(ID_BLOCO) \n",
    "bloco_resp_1 = colunas_aluno.index(ID_BLOCO_1)\n",
    "bloco_resp_2 = colunas_aluno.index(ID_BLOCO_2)\n",
    "aluno_resp_bloco_1_lp = colunas_aluno.index(TX_RESP_BLOCO_1_LP) \n",
    "aluno_resp_bloco_2_lp = colunas_aluno.index(TX_RESP_BLOCO_2_LP) \n",
    "aluno_resp_bloco_1_mt = colunas_aluno.index(TX_RESP_BLOCO_1_MT) \n",
    "aluno_resp_bloco_2_mt = colunas_aluno.index(TX_RESP_BLOCO_2_MT) \n",
    "\n",
    "### Região de Estudo/Aluno\n",
    "idx_uf = colunas_aluno.index(ID_UF )\n",
    "idx_municipio = colunas_aluno.index(ID_MUNICIPIO)\n",
    "idx_regiao = colunas_aluno.index(ID_REGIAO)\n",
    "idx_area = colunas_aluno.index(ID_AREA)\n",
    "idx_sexo = colunas_aluno.index(TX_RESP_Q001)\n",
    "idx_raca = colunas_aluno.index(TX_RESP_Q002)"
   ]
  },
  {
   "cell_type": "code",
   "execution_count": 21,
   "outputs": [],
   "source": [
    "colunas_filtro = ['Série', 'Nota LP', 'Nota MT', 'UF', 'Município', 'Região', 'Área', 'Sexo', 'Raça']\n",
    "dados_filtrados = []"
   ],
   "metadata": {
    "collapsed": false,
    "pycharm": {
     "name": "#%%\n",
     "is_executing": false
    }
   }
  },
  {
   "cell_type": "code",
   "execution_count": 1,
   "outputs": [
    {
     "traceback": [
      "\u001b[1;31m---------------------------------------------------------------------------\u001b[0m",
      "\u001b[1;31mNameError\u001b[0m                                 Traceback (most recent call last)",
      "\u001b[1;32m<ipython-input-1-1ba58b949437>\u001b[0m in \u001b[0;36m<module>\u001b[1;34m\u001b[0m\n\u001b[1;32m----> 1\u001b[1;33m \u001b[1;32mfor\u001b[0m \u001b[0mr\u001b[0m \u001b[1;32min\u001b[0m \u001b[0mdf_aluno\u001b[0m\u001b[1;33m.\u001b[0m\u001b[0mto_numpy\u001b[0m\u001b[1;33m(\u001b[0m\u001b[1;33m)\u001b[0m\u001b[1;33m:\u001b[0m\u001b[1;33m\u001b[0m\u001b[1;33m\u001b[0m\u001b[0m\n\u001b[0m\u001b[0;32m      2\u001b[0m     \u001b[0mnota_mt\u001b[0m \u001b[1;33m=\u001b[0m \u001b[1;36m0\u001b[0m\u001b[1;33m\u001b[0m\u001b[1;33m\u001b[0m\u001b[0m\n\u001b[0;32m      3\u001b[0m     \u001b[0mnota_pt\u001b[0m \u001b[1;33m=\u001b[0m \u001b[1;36m0\u001b[0m\u001b[1;33m\u001b[0m\u001b[1;33m\u001b[0m\u001b[0m\n\u001b[0;32m      4\u001b[0m     \u001b[1;32mfor\u001b[0m \u001b[0mgab\u001b[0m \u001b[1;32min\u001b[0m \u001b[0mdf_gabarito\u001b[0m\u001b[1;33m.\u001b[0m\u001b[0mto_numpy\u001b[0m\u001b[1;33m(\u001b[0m\u001b[1;33m)\u001b[0m\u001b[1;33m:\u001b[0m\u001b[1;33m\u001b[0m\u001b[1;33m\u001b[0m\u001b[0m\n\u001b[0;32m      5\u001b[0m         \u001b[1;31m# if gab['ID_SERIE'] == r['ID_SERIE']:\u001b[0m\u001b[1;33m\u001b[0m\u001b[1;33m\u001b[0m\u001b[1;33m\u001b[0m\u001b[0m\n",
      "\u001b[1;31mNameError\u001b[0m: name 'df_aluno' is not defined"
     ],
     "ename": "NameError",
     "evalue": "name 'df_aluno' is not defined",
     "output_type": "error"
    }
   ],
   "source": [
    "for r in df_aluno.to_numpy():\n",
    "    nota_mt = 0\n",
    "    nota_pt = 0\n",
    "    for gab in df_gabarito.to_numpy():\n",
    "        # if gab['ID_SERIE'] == r['ID_SERIE']:\n",
    "        if gab[idx_serie_gab] == r[idx_serie_aluno] and\\\n",
    "                (r[bloco_resp_1] == gab[bloco_gab] or r[bloco_resp_2] == gab[bloco_gab]):\n",
    "            # 8 'TX_RESP_BLOCO_1_LP'8, 'TX_RESP_BLOCO_2_LP'9, 'TX_RESP_BLOCO_1_MT'10, 'TX_RESP_BLOCO_2_MT'11,\n",
    "            is_bloco_1 = r[bloco_resp_1] == gab[bloco_gab]\n",
    "            if is_bloco_1 and r[bloco_resp_2] == gab[bloco_gab]:\n",
    "                print ('EDGE CASES!!')\n",
    "            if gab[idx_gabarito] not in RESPOSTAS_INVALIDAS:\n",
    "                if gab[idx_disciplina] == 'LP':\n",
    "                    resp_aluno = str(r[aluno_resp_bloco_1_lp if is_bloco_1 else aluno_resp_bloco_2_lp])\n",
    "                    if resp_aluno[gab[idx_posicao_gabarito]] == gab[idx_gabarito]:\n",
    "                        nota_pt += 1\n",
    "                elif gab[idx_disciplina] == 'MT':\n",
    "                    resp_aluno = str(r[aluno_resp_bloco_1_mt if is_bloco_1 else aluno_resp_bloco_2_mt])\n",
    "                    if [gab[4]-1] == gab[5]:\n",
    "                        nota_mt += 1\n",
    "    if nota_pt or nota_mt:\n",
    "        dados_filtrados.append([\n",
    "            r[idx_serie_aluno],\n",
    "            nota_pt,\n",
    "            nota_mt,\n",
    "            r[idx_uf],\n",
    "            r[idx_municipio],\n",
    "            r[idx_regiao],\n",
    "            r[idx_area],\n",
    "            r[idx_sexo],\n",
    "            r[idx_raca]\n",
    "        ])\n",
    "#%\n",
    "dados_filtrados = pd.DataFrame(dados_filtrados, columns=colunas_filtro)"
   ],
   "metadata": {
    "collapsed": false,
    "pycharm": {
     "name": "#%%\n",
     "is_executing": false
    }
   }
  },
  {
   "cell_type": "code",
   "execution_count": null,
   "metadata": {},
   "outputs": [],
   "source": [
    "dados_filtrados.sample(5)"
   ]
  },
  {
   "cell_type": "code",
   "execution_count": 40,
   "metadata": {},
   "outputs": [
    {
     "data": {
      "text/html": [
       "<div>\n",
       "<style scoped>\n",
       "    .dataframe tbody tr th:only-of-type {\n",
       "        vertical-align: middle;\n",
       "    }\n",
       "\n",
       "    .dataframe tbody tr th {\n",
       "        vertical-align: top;\n",
       "    }\n",
       "\n",
       "    .dataframe thead th {\n",
       "        text-align: right;\n",
       "    }\n",
       "</style>\n",
       "<table border=\"1\" class=\"dataframe\">\n",
       "  <thead>\n",
       "    <tr style=\"text-align: right;\">\n",
       "      <th></th>\n",
       "      <th>ID_SERIE</th>\n",
       "      <th>ID_BLOCO_1</th>\n",
       "      <th>ID_BLOCO_2</th>\n",
       "      <th>TX_RESP_BLOCO_1_LP</th>\n",
       "      <th>TX_RESP_BLOCO_2_LP</th>\n",
       "      <th>TX_RESP_BLOCO_1_MT</th>\n",
       "      <th>TX_RESP_BLOCO_2_MT</th>\n",
       "    </tr>\n",
       "  </thead>\n",
       "  <tbody>\n",
       "    <tr>\n",
       "      <th>4</th>\n",
       "      <td>9</td>\n",
       "      <td>7</td>\n",
       "      <td>2</td>\n",
       "      <td>ADCBBBCABAACD</td>\n",
       "      <td>CDBADABCBBBBD</td>\n",
       "      <td>AABCDADBCACBD</td>\n",
       "      <td>CBDCAABCCDCDA</td>\n",
       "    </tr>\n",
       "    <tr>\n",
       "      <th>5</th>\n",
       "      <td>9</td>\n",
       "      <td>7</td>\n",
       "      <td>1</td>\n",
       "      <td>ACDAAACABBACD</td>\n",
       "      <td>CDDCADDA*DBBC</td>\n",
       "      <td>BBDCDDDAABCBC</td>\n",
       "      <td>BABCADBCABBCA</td>\n",
       "    </tr>\n",
       "    <tr>\n",
       "      <th>7</th>\n",
       "      <td>9</td>\n",
       "      <td>4</td>\n",
       "      <td>7</td>\n",
       "      <td>DDDDDBBADABCB</td>\n",
       "      <td>CDDBBBCABCABD</td>\n",
       "      <td>BACBBACBCCDCA</td>\n",
       "      <td>BABAACCBAAABB</td>\n",
       "    </tr>\n",
       "    <tr>\n",
       "      <th>9</th>\n",
       "      <td>9</td>\n",
       "      <td>7</td>\n",
       "      <td>3</td>\n",
       "      <td>ACDBCDCABADCD</td>\n",
       "      <td>CBDDCACABADDD</td>\n",
       "      <td>BABCADDBDBCCA</td>\n",
       "      <td>DBBDDDBCACDBA</td>\n",
       "    </tr>\n",
       "    <tr>\n",
       "      <th>18</th>\n",
       "      <td>9</td>\n",
       "      <td>6</td>\n",
       "      <td>7</td>\n",
       "      <td>ACDCADCDCDCCB</td>\n",
       "      <td>ABCADABBBACCD</td>\n",
       "      <td>DDABBAABBBADC</td>\n",
       "      <td>DABCAADBCACDC</td>\n",
       "    </tr>\n",
       "    <tr>\n",
       "      <th>22</th>\n",
       "      <td>9</td>\n",
       "      <td>7</td>\n",
       "      <td>3</td>\n",
       "      <td>ABDCCABDCAACD</td>\n",
       "      <td>DBAACBAABBDDD</td>\n",
       "      <td>BABCDADBCADCD</td>\n",
       "      <td>DBABCDBDAAABD</td>\n",
       "    </tr>\n",
       "    <tr>\n",
       "      <th>23</th>\n",
       "      <td>9</td>\n",
       "      <td>7</td>\n",
       "      <td>1</td>\n",
       "      <td>ADDBDBCABAACD</td>\n",
       "      <td>CDBDADDADCAAD</td>\n",
       "      <td>BABCAADBAABDD</td>\n",
       "      <td>CCBDBDBAADCBB</td>\n",
       "    </tr>\n",
       "    <tr>\n",
       "      <th>24</th>\n",
       "      <td>9</td>\n",
       "      <td>6</td>\n",
       "      <td>7</td>\n",
       "      <td>DCDCCDCDCBDDC</td>\n",
       "      <td>DABACCCBBCCAB</td>\n",
       "      <td>DCDADDACCBADD</td>\n",
       "      <td>BAACBDDBCAABB</td>\n",
       "    </tr>\n",
       "    <tr>\n",
       "      <th>27</th>\n",
       "      <td>9</td>\n",
       "      <td>4</td>\n",
       "      <td>7</td>\n",
       "      <td>ABCDDBBCDDBCB</td>\n",
       "      <td>ADDBBACDBAACD</td>\n",
       "      <td>BABBCDCBDCCCB</td>\n",
       "      <td>BABDDBDBDADAC</td>\n",
       "    </tr>\n",
       "    <tr>\n",
       "      <th>37</th>\n",
       "      <td>9</td>\n",
       "      <td>5</td>\n",
       "      <td>7</td>\n",
       "      <td>.............</td>\n",
       "      <td>.............</td>\n",
       "      <td>.............</td>\n",
       "      <td>.............</td>\n",
       "    </tr>\n",
       "    <tr>\n",
       "      <th>42</th>\n",
       "      <td>9</td>\n",
       "      <td>5</td>\n",
       "      <td>7</td>\n",
       "      <td>BCDCACBDCADAB</td>\n",
       "      <td>ABCDCBABCDCBA</td>\n",
       "      <td>CDBDABDCDCBDA</td>\n",
       "      <td>BABDDBDDACABC</td>\n",
       "    </tr>\n",
       "    <tr>\n",
       "      <th>48</th>\n",
       "      <td>9</td>\n",
       "      <td>4</td>\n",
       "      <td>7</td>\n",
       "      <td>DBDCCABDDACCB</td>\n",
       "      <td>ABCBCBCDDCBCA</td>\n",
       "      <td>BDABCCCBCACCB</td>\n",
       "      <td>BCBAADDBBCCCC</td>\n",
       "    </tr>\n",
       "    <tr>\n",
       "      <th>54</th>\n",
       "      <td>9</td>\n",
       "      <td>5</td>\n",
       "      <td>7</td>\n",
       "      <td>BCACBAADCDDAA</td>\n",
       "      <td>ACDAABCABAACD</td>\n",
       "      <td>CABDDBDBCBCAB</td>\n",
       "      <td>BABAAADBCADBD</td>\n",
       "    </tr>\n",
       "    <tr>\n",
       "      <th>55</th>\n",
       "      <td>9</td>\n",
       "      <td>7</td>\n",
       "      <td>3</td>\n",
       "      <td>ABDBDBCABAACD</td>\n",
       "      <td>CBDDCACCBADBD</td>\n",
       "      <td>BABDBADBADCAB</td>\n",
       "      <td>DBCCBABDCBBBB</td>\n",
       "    </tr>\n",
       "    <tr>\n",
       "      <th>58</th>\n",
       "      <td>9</td>\n",
       "      <td>7</td>\n",
       "      <td>2</td>\n",
       "      <td>ACDBCBCABAACD</td>\n",
       "      <td>CDCADABDACCCC</td>\n",
       "      <td>BABCBAABBBADB</td>\n",
       "      <td>CACCBDBBCCDDB</td>\n",
       "    </tr>\n",
       "  </tbody>\n",
       "</table>\n",
       "</div>"
      ],
      "text/plain": [
       "    ID_SERIE  ID_BLOCO_1  ID_BLOCO_2 TX_RESP_BLOCO_1_LP TX_RESP_BLOCO_2_LP  \\\n",
       "4          9           7           2      ADCBBBCABAACD      CDBADABCBBBBD   \n",
       "5          9           7           1      ACDAAACABBACD      CDDCADDA*DBBC   \n",
       "7          9           4           7      DDDDDBBADABCB      CDDBBBCABCABD   \n",
       "9          9           7           3      ACDBCDCABADCD      CBDDCACABADDD   \n",
       "18         9           6           7      ACDCADCDCDCCB      ABCADABBBACCD   \n",
       "22         9           7           3      ABDCCABDCAACD      DBAACBAABBDDD   \n",
       "23         9           7           1      ADDBDBCABAACD      CDBDADDADCAAD   \n",
       "24         9           6           7      DCDCCDCDCBDDC      DABACCCBBCCAB   \n",
       "27         9           4           7      ABCDDBBCDDBCB      ADDBBACDBAACD   \n",
       "37         9           5           7      .............      .............   \n",
       "42         9           5           7      BCDCACBDCADAB      ABCDCBABCDCBA   \n",
       "48         9           4           7      DBDCCABDDACCB      ABCBCBCDDCBCA   \n",
       "54         9           5           7      BCACBAADCDDAA      ACDAABCABAACD   \n",
       "55         9           7           3      ABDBDBCABAACD      CBDDCACCBADBD   \n",
       "58         9           7           2      ACDBCBCABAACD      CDCADABDACCCC   \n",
       "\n",
       "   TX_RESP_BLOCO_1_MT TX_RESP_BLOCO_2_MT  \n",
       "4       AABCDADBCACBD      CBDCAABCCDCDA  \n",
       "5       BBDCDDDAABCBC      BABCADBCABBCA  \n",
       "7       BACBBACBCCDCA      BABAACCBAAABB  \n",
       "9       BABCADDBDBCCA      DBBDDDBCACDBA  \n",
       "18      DDABBAABBBADC      DABCAADBCACDC  \n",
       "22      BABCDADBCADCD      DBABCDBDAAABD  \n",
       "23      BABCAADBAABDD      CCBDBDBAADCBB  \n",
       "24      DCDADDACCBADD      BAACBDDBCAABB  \n",
       "27      BABBCDCBDCCCB      BABDDBDBDADAC  \n",
       "37      .............      .............  \n",
       "42      CDBDABDCDCBDA      BABDDBDDACABC  \n",
       "48      BDABCCCBCACCB      BCBAADDBBCCCC  \n",
       "54      CABDDBDBCBCAB      BABAAADBCADBD  \n",
       "55      BABDBADBADCAB      DBCCBABDCBBBB  \n",
       "58      BABCBAABBBADB      CACCBDBBCCDDB  "
      ]
     },
     "execution_count": 40,
     "metadata": {},
     "output_type": "execute_result"
    }
   ],
   "source": [
    "df_aluno.query('ID_SERIE == 9 & (ID_BLOCO_1 == 7 | ID_BLOCO_2 == 7)')[['ID_SERIE', 'ID_BLOCO_1', 'ID_BLOCO_2', 'TX_RESP_BLOCO_1_LP', 'TX_RESP_BLOCO_2_LP', 'TX_RESP_BLOCO_1_MT', 'TX_RESP_BLOCO_2_MT']].head(15)"
   ]
  },
  {
   "cell_type": "code",
   "execution_count": 35,
   "metadata": {},
   "outputs": [
    {
     "data": {
      "text/html": [
       "<div>\n",
       "<style scoped>\n",
       "    .dataframe tbody tr th:only-of-type {\n",
       "        vertical-align: middle;\n",
       "    }\n",
       "\n",
       "    .dataframe tbody tr th {\n",
       "        vertical-align: top;\n",
       "    }\n",
       "\n",
       "    .dataframe thead th {\n",
       "        text-align: right;\n",
       "    }\n",
       "</style>\n",
       "<table border=\"1\" class=\"dataframe\">\n",
       "  <thead>\n",
       "    <tr style=\"text-align: right;\">\n",
       "      <th></th>\n",
       "      <th>ID_SERIE</th>\n",
       "      <th>TIPO_PROVA</th>\n",
       "      <th>DISCIPLINA</th>\n",
       "      <th>ID_SERIE_ITEM</th>\n",
       "      <th>ID_BLOCO</th>\n",
       "      <th>ID_POSICAO</th>\n",
       "      <th>GABARITO</th>\n",
       "    </tr>\n",
       "  </thead>\n",
       "  <tbody>\n",
       "    <tr>\n",
       "      <th>84</th>\n",
       "      <td>3</td>\n",
       "      <td>Prova Regular</td>\n",
       "      <td>LP</td>\n",
       "      <td>9</td>\n",
       "      <td>7</td>\n",
       "      <td>7</td>\n",
       "      <td>A</td>\n",
       "    </tr>\n",
       "    <tr>\n",
       "      <th>85</th>\n",
       "      <td>3</td>\n",
       "      <td>Prova Regular</td>\n",
       "      <td>LP</td>\n",
       "      <td>9</td>\n",
       "      <td>7</td>\n",
       "      <td>8</td>\n",
       "      <td>C</td>\n",
       "    </tr>\n",
       "    <tr>\n",
       "      <th>86</th>\n",
       "      <td>3</td>\n",
       "      <td>Prova Regular</td>\n",
       "      <td>LP</td>\n",
       "      <td>9</td>\n",
       "      <td>7</td>\n",
       "      <td>9</td>\n",
       "      <td>C</td>\n",
       "    </tr>\n",
       "  </tbody>\n",
       "</table>\n",
       "</div>"
      ],
      "text/plain": [
       "    ID_SERIE     TIPO_PROVA DISCIPLINA  ID_SERIE_ITEM  ID_BLOCO  ID_POSICAO  \\\n",
       "84         3  Prova Regular         LP              9         7           7   \n",
       "85         3  Prova Regular         LP              9         7           8   \n",
       "86         3  Prova Regular         LP              9         7           9   \n",
       "\n",
       "   GABARITO  \n",
       "84        A  \n",
       "85        C  \n",
       "86        C  "
      ]
     },
     "execution_count": 35,
     "metadata": {},
     "output_type": "execute_result"
    }
   ],
   "source": [
    "df_gabarito.query('ID_SERIE == 3 & DISCIPLINA == \"LP\" & ID_SERIE_ITEM == 9 & ID_BLOCO == 7').head(10)"
   ]
  },
  {
   "cell_type": "code",
   "execution_count": null,
   "metadata": {},
   "outputs": [],
   "source": []
  }
 ],
 "metadata": {
  "kernelspec": {
   "display_name": "Python 3",
   "language": "python",
   "name": "python3"
  },
  "language_info": {
   "codemirror_mode": {
    "name": "ipython",
    "version": 3
   },
   "file_extension": ".py",
   "mimetype": "text/x-python",
   "name": "python",
   "nbconvert_exporter": "python",
   "pygments_lexer": "ipython3",
   "version": "3.7.3"
  },
  "pycharm": {
   "stem_cell": {
    "cell_type": "raw",
    "source": [],
    "metadata": {
     "collapsed": false
    }
   }
  }
 },
 "nbformat": 4,
 "nbformat_minor": 2
}